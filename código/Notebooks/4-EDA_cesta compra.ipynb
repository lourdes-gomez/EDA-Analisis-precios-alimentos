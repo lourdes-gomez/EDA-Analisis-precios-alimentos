{
 "cells": [
  {
   "cell_type": "code",
   "execution_count": 9,
   "metadata": {},
   "outputs": [],
   "source": [
    "import pandas as pd\n",
    "import plotly.graph_objects as go\n",
    "import numpy as np"
   ]
  },
  {
   "cell_type": "code",
   "execution_count": 33,
   "metadata": {},
   "outputs": [],
   "source": [
    "cesta = {'mercadona': {'pollo 1kg': 3.10,\n",
    "                        'balacao 375gr': 5.50 ,\n",
    "                        'naranjas 1kg': 2.30 ,\n",
    "                        'tomates 1kg': 2.19 ,\n",
    "                        'patatas 1kg': 1.79,\n",
    "                        'aceite 1L': 9.25 ,\n",
    "                        'huevos 6': 1.20 ,\n",
    "                        'leche 6L': 5.22 ,\n",
    "                        'pan 1': 0.48 ,\n",
    "                        'papel 12': 4.50 ,\n",
    "                        'pasta 1kg': 1.24 ,} ,\n",
    "\n",
    "        'dia':          {'pollo 1kg': 3.30 ,\n",
    "                        'balacao 375gr': 7.79 ,\n",
    "                        'naranjas 1kg': 2.49 ,\n",
    "                        'tomates 1kg': 2.99 ,\n",
    "                        'patatas 1kg': 1.79 ,\n",
    "                        'aceite 1L': 9.25 ,\n",
    "                        'huevos 6': 1.69 ,\n",
    "                        'leche 6L': 5.22,\n",
    "                        'pan 1': 0.48 ,\n",
    "                        'papel 12': 4.79 ,\n",
    "                        'pasta 1kg': 1.24 ,} ,    \n",
    "        \n",
    "        'carrefour':    {'pollo 1kg': 4.69,\n",
    "                        'balacao 375gr': 8.15 ,\n",
    "                        'naranjas 1kg': 3.39,\n",
    "                        'tomates 1kg': 2.15 ,\n",
    "                        'patatas 1kg': 1.79,\n",
    "                        'aceite 1L': 9.25 ,\n",
    "                        'huevos 6': 1.19 ,\n",
    "                        'leche 6L': 5.22 ,\n",
    "                        'pan 1': 0.47 ,\n",
    "                        'papel 12': 4.49 ,\n",
    "                        'pasta 1kg': 1.24 ,} }     \n",
    "                                  \n",
    "        "
   ]
  },
  {
   "cell_type": "code",
   "execution_count": 34,
   "metadata": {},
   "outputs": [
    {
     "data": {
      "text/html": [
       "<div>\n",
       "<style scoped>\n",
       "    .dataframe tbody tr th:only-of-type {\n",
       "        vertical-align: middle;\n",
       "    }\n",
       "\n",
       "    .dataframe tbody tr th {\n",
       "        vertical-align: top;\n",
       "    }\n",
       "\n",
       "    .dataframe thead th {\n",
       "        text-align: right;\n",
       "    }\n",
       "</style>\n",
       "<table border=\"1\" class=\"dataframe\">\n",
       "  <thead>\n",
       "    <tr style=\"text-align: right;\">\n",
       "      <th></th>\n",
       "      <th>mercadona</th>\n",
       "      <th>dia</th>\n",
       "      <th>carrefour</th>\n",
       "    </tr>\n",
       "  </thead>\n",
       "  <tbody>\n",
       "    <tr>\n",
       "      <th>pollo 1kg</th>\n",
       "      <td>3.10</td>\n",
       "      <td>3.30</td>\n",
       "      <td>4.69</td>\n",
       "    </tr>\n",
       "    <tr>\n",
       "      <th>balacao 375gr</th>\n",
       "      <td>5.50</td>\n",
       "      <td>7.79</td>\n",
       "      <td>8.15</td>\n",
       "    </tr>\n",
       "    <tr>\n",
       "      <th>naranjas 1kg</th>\n",
       "      <td>2.30</td>\n",
       "      <td>2.49</td>\n",
       "      <td>3.39</td>\n",
       "    </tr>\n",
       "    <tr>\n",
       "      <th>tomates 1kg</th>\n",
       "      <td>2.19</td>\n",
       "      <td>2.99</td>\n",
       "      <td>2.15</td>\n",
       "    </tr>\n",
       "    <tr>\n",
       "      <th>patatas 1kg</th>\n",
       "      <td>1.79</td>\n",
       "      <td>1.79</td>\n",
       "      <td>1.79</td>\n",
       "    </tr>\n",
       "    <tr>\n",
       "      <th>aceite 1L</th>\n",
       "      <td>9.25</td>\n",
       "      <td>9.25</td>\n",
       "      <td>9.25</td>\n",
       "    </tr>\n",
       "    <tr>\n",
       "      <th>huevos 6</th>\n",
       "      <td>1.20</td>\n",
       "      <td>1.69</td>\n",
       "      <td>1.19</td>\n",
       "    </tr>\n",
       "    <tr>\n",
       "      <th>leche 6L</th>\n",
       "      <td>5.22</td>\n",
       "      <td>5.22</td>\n",
       "      <td>5.22</td>\n",
       "    </tr>\n",
       "    <tr>\n",
       "      <th>pan 1</th>\n",
       "      <td>0.48</td>\n",
       "      <td>0.48</td>\n",
       "      <td>0.47</td>\n",
       "    </tr>\n",
       "    <tr>\n",
       "      <th>papel 12</th>\n",
       "      <td>4.50</td>\n",
       "      <td>4.79</td>\n",
       "      <td>4.49</td>\n",
       "    </tr>\n",
       "    <tr>\n",
       "      <th>pasta 1kg</th>\n",
       "      <td>1.24</td>\n",
       "      <td>1.24</td>\n",
       "      <td>1.24</td>\n",
       "    </tr>\n",
       "  </tbody>\n",
       "</table>\n",
       "</div>"
      ],
      "text/plain": [
       "               mercadona   dia  carrefour\n",
       "pollo 1kg           3.10  3.30       4.69\n",
       "balacao 375gr       5.50  7.79       8.15\n",
       "naranjas 1kg        2.30  2.49       3.39\n",
       "tomates 1kg         2.19  2.99       2.15\n",
       "patatas 1kg         1.79  1.79       1.79\n",
       "aceite 1L           9.25  9.25       9.25\n",
       "huevos 6            1.20  1.69       1.19\n",
       "leche 6L            5.22  5.22       5.22\n",
       "pan 1               0.48  0.48       0.47\n",
       "papel 12            4.50  4.79       4.49\n",
       "pasta 1kg           1.24  1.24       1.24"
      ]
     },
     "execution_count": 34,
     "metadata": {},
     "output_type": "execute_result"
    }
   ],
   "source": [
    "carrito = pd.DataFrame(cesta)\n",
    "carrito"
   ]
  },
  {
   "cell_type": "code",
   "execution_count": 35,
   "metadata": {},
   "outputs": [
    {
     "data": {
      "text/plain": [
       "36.77"
      ]
     },
     "execution_count": 35,
     "metadata": {},
     "output_type": "execute_result"
    }
   ],
   "source": [
    "carrito.loc[:,'mercadona'].sum()"
   ]
  },
  {
   "cell_type": "code",
   "execution_count": 36,
   "metadata": {},
   "outputs": [
    {
     "data": {
      "text/plain": [
       "41.029999999999994"
      ]
     },
     "execution_count": 36,
     "metadata": {},
     "output_type": "execute_result"
    }
   ],
   "source": [
    "carrito.loc[:,'dia'].sum()"
   ]
  },
  {
   "cell_type": "code",
   "execution_count": 37,
   "metadata": {},
   "outputs": [
    {
     "data": {
      "text/plain": [
       "42.03"
      ]
     },
     "execution_count": 37,
     "metadata": {},
     "output_type": "execute_result"
    }
   ],
   "source": [
    "carrito.loc[:,'carrefour'].sum()"
   ]
  },
  {
   "cell_type": "code",
   "execution_count": 38,
   "metadata": {},
   "outputs": [],
   "source": [
    "pd.options.display.max_rows = 20"
   ]
  },
  {
   "cell_type": "code",
   "execution_count": 39,
   "metadata": {},
   "outputs": [
    {
     "name": "stdout",
     "output_type": "stream",
     "text": [
      "mercadona    3.1\n",
      "Name: pollo 1kg, dtype: float64\n",
      "  \n",
      "mercadona    5.5\n",
      "Name: balacao 375gr, dtype: float64\n",
      "  \n",
      "mercadona    2.3\n",
      "Name: naranjas 1kg, dtype: float64\n",
      "  \n",
      "carrefour    2.15\n",
      "Name: tomates 1kg, dtype: float64\n",
      "  \n",
      "mercadona    1.79\n",
      "dia          1.79\n",
      "carrefour    1.79\n",
      "Name: patatas 1kg, dtype: float64\n",
      "  \n",
      "mercadona    9.25\n",
      "dia          9.25\n",
      "carrefour    9.25\n",
      "Name: aceite 1L, dtype: float64\n",
      "  \n",
      "carrefour    1.19\n",
      "Name: huevos 6, dtype: float64\n",
      "  \n",
      "mercadona    5.22\n",
      "dia          5.22\n",
      "carrefour    5.22\n",
      "Name: leche 6L, dtype: float64\n",
      "  \n",
      "carrefour    0.47\n",
      "Name: pan 1, dtype: float64\n",
      "  \n",
      "carrefour    4.49\n",
      "Name: papel 12, dtype: float64\n",
      "  \n"
     ]
    }
   ],
   "source": [
    "for i in range(10):\n",
    "    print(carrito.iloc[i,:][carrito.iloc[i,:] == carrito.iloc[i,:].min() ])\n",
    "    print('  ')"
   ]
  },
  {
   "cell_type": "code",
   "execution_count": 40,
   "metadata": {},
   "outputs": [
    {
     "data": {
      "text/plain": [
       "pollo 1kg        4.69\n",
       "balacao 375gr    8.15\n",
       "naranjas 1kg     3.39\n",
       "tomates 1kg      2.15\n",
       "patatas 1kg      1.79\n",
       "aceite 1L        9.25\n",
       "huevos 6         1.19\n",
       "leche 6L         5.22\n",
       "pan 1            0.47\n",
       "papel 12         4.49\n",
       "pasta 1kg        1.24\n",
       "Name: carrefour, dtype: float64"
      ]
     },
     "execution_count": 40,
     "metadata": {},
     "output_type": "execute_result"
    }
   ],
   "source": [
    "carrito.carrefour\n",
    "\n"
   ]
  }
 ],
 "metadata": {
  "kernelspec": {
   "display_name": "eda_env",
   "language": "python",
   "name": "python3"
  },
  "language_info": {
   "codemirror_mode": {
    "name": "ipython",
    "version": 3
   },
   "file_extension": ".py",
   "mimetype": "text/x-python",
   "name": "python",
   "nbconvert_exporter": "python",
   "pygments_lexer": "ipython3",
   "version": "3.9.18"
  }
 },
 "nbformat": 4,
 "nbformat_minor": 2
}
