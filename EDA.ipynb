{
 "cells": [
  {
   "cell_type": "markdown",
   "metadata": {},
   "source": [
    "<H1> Memoria del análisis "
   ]
  },
  {
   "cell_type": "markdown",
   "metadata": {},
   "source": [
    "Se parte de 2 datasets con precios de los 3 supermercados. Uno contiene precios de 2020 y otro de 2023."
   ]
  },
  {
   "cell_type": "markdown",
   "metadata": {},
   "source": [
    "Comenzando por 2020"
   ]
  },
  {
   "cell_type": "code",
   "execution_count": 3,
   "metadata": {},
   "outputs": [],
   "source": [
    "import pandas as pd"
   ]
  },
  {
   "cell_type": "code",
   "execution_count": 4,
   "metadata": {},
   "outputs": [
    {
     "data": {
      "text/html": [
       "<div>\n",
       "<style scoped>\n",
       "    .dataframe tbody tr th:only-of-type {\n",
       "        vertical-align: middle;\n",
       "    }\n",
       "\n",
       "    .dataframe tbody tr th {\n",
       "        vertical-align: top;\n",
       "    }\n",
       "\n",
       "    .dataframe thead th {\n",
       "        text-align: right;\n",
       "    }\n",
       "</style>\n",
       "<table border=\"1\" class=\"dataframe\">\n",
       "  <thead>\n",
       "    <tr style=\"text-align: right;\">\n",
       "      <th></th>\n",
       "      <th>supermarket</th>\n",
       "      <th>category</th>\n",
       "      <th>name</th>\n",
       "      <th>description</th>\n",
       "      <th>price</th>\n",
       "      <th>reference_price</th>\n",
       "      <th>reference_unit</th>\n",
       "      <th>insert_date</th>\n",
       "    </tr>\n",
       "  </thead>\n",
       "  <tbody>\n",
       "    <tr>\n",
       "      <th>0</th>\n",
       "      <td>mercadona-es</td>\n",
       "      <td>postres_y_yogures_yogures_liquidos</td>\n",
       "      <td>Bebida láctea sin lactosa de fresa Hacendado</td>\n",
       "      <td>Pack-4</td>\n",
       "      <td>1.40</td>\n",
       "      <td>2.19</td>\n",
       "      <td>kg</td>\n",
       "      <td>2020-12-23 00:00:00</td>\n",
       "    </tr>\n",
       "    <tr>\n",
       "      <th>1</th>\n",
       "      <td>mercadona-es</td>\n",
       "      <td>bodega_licores</td>\n",
       "      <td>Ginebra 15 botanicals Blumara</td>\n",
       "      <td>Botella</td>\n",
       "      <td>10.75</td>\n",
       "      <td>15.36</td>\n",
       "      <td>L</td>\n",
       "      <td>2020-11-06 12:00:00</td>\n",
       "    </tr>\n",
       "    <tr>\n",
       "      <th>2</th>\n",
       "      <td>mercadona-es</td>\n",
       "      <td>charcuteria_y_quesos_queso_untable_y_fresco</td>\n",
       "      <td>Queso fresco batido desnatado Hacendado 0% mat...</td>\n",
       "      <td>Tarrina</td>\n",
       "      <td>1.09</td>\n",
       "      <td>2.18</td>\n",
       "      <td>kg</td>\n",
       "      <td>2020-09-23 16:06:00</td>\n",
       "    </tr>\n",
       "    <tr>\n",
       "      <th>3</th>\n",
       "      <td>carrefour-es</td>\n",
       "      <td>la_despensa_yogures_y_postres_yogures_desnatados</td>\n",
       "      <td>Yogur bífidus desnatado con lima y limón Danon...</td>\n",
       "      <td>Pack 4x120 G.</td>\n",
       "      <td>2.08</td>\n",
       "      <td>4.33</td>\n",
       "      <td>kg</td>\n",
       "      <td>2020-10-10 00:00:00</td>\n",
       "    </tr>\n",
       "    <tr>\n",
       "      <th>4</th>\n",
       "      <td>carrefour-es</td>\n",
       "      <td>la_despensa_helados_bombon</td>\n",
       "      <td>Helado After Dinner Magnum sin gluten 10 ud.</td>\n",
       "      <td>10 Ud.</td>\n",
       "      <td>4.60</td>\n",
       "      <td>0.46</td>\n",
       "      <td>ud</td>\n",
       "      <td>2020-10-15 00:00:00</td>\n",
       "    </tr>\n",
       "    <tr>\n",
       "      <th>5</th>\n",
       "      <td>carrefour-es</td>\n",
       "      <td>limpieza_y_hogar_cuidado_de_la_ropa_detergentes</td>\n",
       "      <td>Detergente líquido Actilift Ariel 50 lavados.</td>\n",
       "      <td>NaN</td>\n",
       "      <td>13.95</td>\n",
       "      <td>0.28</td>\n",
       "      <td>lavado</td>\n",
       "      <td>2021-01-24 00:00:00</td>\n",
       "    </tr>\n",
       "    <tr>\n",
       "      <th>6</th>\n",
       "      <td>mercadona-es</td>\n",
       "      <td>carne_conejo_y_cordero</td>\n",
       "      <td>Chuletas de cordero paletilla</td>\n",
       "      <td>Bandeja</td>\n",
       "      <td>7.02</td>\n",
       "      <td>11.90</td>\n",
       "      <td>kg</td>\n",
       "      <td>2021-01-08 12:00:00</td>\n",
       "    </tr>\n",
       "    <tr>\n",
       "      <th>7</th>\n",
       "      <td>dia-es</td>\n",
       "      <td>perfumeria_e_higiene_higiene_intima_aseo_intimo</td>\n",
       "      <td>PHARMALINE gel de ducha atopic bote 750 ml</td>\n",
       "      <td>NaN</td>\n",
       "      <td>5.25</td>\n",
       "      <td>7.00</td>\n",
       "      <td>€/l.</td>\n",
       "      <td>2021-01-05 00:00:00</td>\n",
       "    </tr>\n",
       "    <tr>\n",
       "      <th>8</th>\n",
       "      <td>mercadona-es</td>\n",
       "      <td>postres_y_yogures_bifidus</td>\n",
       "      <td>Bífidus con frutas Hacendado</td>\n",
       "      <td>Pack-8</td>\n",
       "      <td>1.90</td>\n",
       "      <td>1.90</td>\n",
       "      <td>kg</td>\n",
       "      <td>2020-08-31 04:00:00</td>\n",
       "    </tr>\n",
       "    <tr>\n",
       "      <th>9</th>\n",
       "      <td>dia-es</td>\n",
       "      <td>perfumeria_e_higiene_higiene_bucal_dentifricos</td>\n",
       "      <td>ORAL B pasta dentífrica repair blanqueante tub...</td>\n",
       "      <td>NaN</td>\n",
       "      <td>3.99</td>\n",
       "      <td>53.20</td>\n",
       "      <td>€/l.</td>\n",
       "      <td>2020-12-11 12:00:00</td>\n",
       "    </tr>\n",
       "  </tbody>\n",
       "</table>\n",
       "</div>"
      ],
      "text/plain": [
       "    supermarket                                          category  \\\n",
       "0  mercadona-es                postres_y_yogures_yogures_liquidos   \n",
       "1  mercadona-es                                    bodega_licores   \n",
       "2  mercadona-es       charcuteria_y_quesos_queso_untable_y_fresco   \n",
       "3  carrefour-es  la_despensa_yogures_y_postres_yogures_desnatados   \n",
       "4  carrefour-es                        la_despensa_helados_bombon   \n",
       "5  carrefour-es   limpieza_y_hogar_cuidado_de_la_ropa_detergentes   \n",
       "6  mercadona-es                            carne_conejo_y_cordero   \n",
       "7        dia-es   perfumeria_e_higiene_higiene_intima_aseo_intimo   \n",
       "8  mercadona-es                         postres_y_yogures_bifidus   \n",
       "9        dia-es    perfumeria_e_higiene_higiene_bucal_dentifricos   \n",
       "\n",
       "                                                name    description  price  \\\n",
       "0       Bebida láctea sin lactosa de fresa Hacendado         Pack-4   1.40   \n",
       "1                      Ginebra 15 botanicals Blumara        Botella  10.75   \n",
       "2  Queso fresco batido desnatado Hacendado 0% mat...        Tarrina   1.09   \n",
       "3  Yogur bífidus desnatado con lima y limón Danon...  Pack 4x120 G.   2.08   \n",
       "4       Helado After Dinner Magnum sin gluten 10 ud.         10 Ud.   4.60   \n",
       "5      Detergente líquido Actilift Ariel 50 lavados.            NaN  13.95   \n",
       "6                      Chuletas de cordero paletilla        Bandeja   7.02   \n",
       "7         PHARMALINE gel de ducha atopic bote 750 ml            NaN   5.25   \n",
       "8                       Bífidus con frutas Hacendado         Pack-8   1.90   \n",
       "9  ORAL B pasta dentífrica repair blanqueante tub...            NaN   3.99   \n",
       "\n",
       "   reference_price reference_unit          insert_date  \n",
       "0             2.19             kg  2020-12-23 00:00:00  \n",
       "1            15.36              L  2020-11-06 12:00:00  \n",
       "2             2.18             kg  2020-09-23 16:06:00  \n",
       "3             4.33             kg  2020-10-10 00:00:00  \n",
       "4             0.46             ud  2020-10-15 00:00:00  \n",
       "5             0.28         lavado  2021-01-24 00:00:00  \n",
       "6            11.90             kg  2021-01-08 12:00:00  \n",
       "7             7.00           €/l.  2021-01-05 00:00:00  \n",
       "8             1.90             kg  2020-08-31 04:00:00  \n",
       "9            53.20           €/l.  2020-12-11 12:00:00  "
      ]
     },
     "execution_count": 4,
     "metadata": {},
     "output_type": "execute_result"
    }
   ],
   "source": [
    "a= pd.read_csv(r'C:\\Users\\lour2\\Desktop\\EDA_Lourdes_Gomez\\código\\Data\\productos-de-supermercado-sample2.csv')\n",
    "a.head(10)"
   ]
  },
  {
   "cell_type": "code",
   "execution_count": 6,
   "metadata": {},
   "outputs": [
    {
     "data": {
      "text/plain": [
       "0                        postres_y_yogures_yogures_liquidos\n",
       "1                                            bodega_licores\n",
       "2               charcuteria_y_quesos_queso_untable_y_fresco\n",
       "3          la_despensa_yogures_y_postres_yogures_desnatados\n",
       "4                                la_despensa_helados_bombon\n",
       "                                ...                        \n",
       "149995                                       bodega_cerveza\n",
       "149996                                        mascotas_gato\n",
       "149997                     mascotas_gatos_pienso_para_gatos\n",
       "149998                            bebidas_refrescos_naranja\n",
       "149999    congelados_y_helados_helados_galletas_y_cucuru...\n",
       "Name: category, Length: 150000, dtype: object"
      ]
     },
     "execution_count": 6,
     "metadata": {},
     "output_type": "execute_result"
    }
   ],
   "source": [
    "categorias = a.category\n",
    "categorias"
   ]
  },
  {
   "cell_type": "markdown",
   "metadata": {},
   "source": [
    "<h1> Aceites"
   ]
  },
  {
   "cell_type": "markdown",
   "metadata": {},
   "source": [
    "<h4>Primero voy a echar un vistazo dentro de las categorias para ver qué hay y qué me quiero quedar y cómo lo limpio"
   ]
  },
  {
   "cell_type": "code",
   "execution_count": 8,
   "metadata": {},
   "outputs": [
    {
     "data": {
      "text/plain": [
       "['aceite_especias_y_salsas_otras_salsas',\n",
       " 'aceite_especias_y_salsas_mayonesa_ketchup_y_mostaza',\n",
       " 'la_despensa_alimentacion_aceites_y_vinagres',\n",
       " 'la_despensa_alimentacion_aceites_y_vinagres',\n",
       " 'la_despensa_alimentacion_aceites_y_vinagres',\n",
       " 'la_despensa_alimentacion_aceites_y_vinagres',\n",
       " 'alimentacion_aceite_aceite_de_girasol',\n",
       " 'la_despensa_alimentacion_aceites_y_vinagres',\n",
       " 'aceite_especias_y_salsas_aceite_vinagre_y_sal',\n",
       " 'aceite_especias_y_salsas_aceite_vinagre_y_sal',\n",
       " 'la_despensa_alimentacion_aceites_y_vinagres',\n",
       " 'la_despensa_alimentacion_aceites_y_vinagres',\n",
       " 'alimentacion_aceite_aceite_de_oliva_virgen_y_virgen_extra',\n",
       " 'la_despensa_alimentacion_aceites_y_vinagres',\n",
       " 'aceite_especias_y_salsas_aceite_vinagre_y_sal',\n",
       " 'la_despensa_alimentacion_aceites_y_vinagres',\n",
       " 'la_despensa_alimentacion_aceites_y_vinagres',\n",
       " 'la_despensa_alimentacion_aceites_y_vinagres',\n",
       " 'la_despensa_alimentacion_aceites_y_vinagres',\n",
       " 'la_despensa_alimentacion_aceites_y_vinagres',\n",
       " 'la_despensa_alimentacion_aceites_y_vinagres',\n",
       " 'la_despensa_alimentacion_aceites_y_vinagres',\n",
       " 'la_despensa_alimentacion_aceites_y_vinagres',\n",
       " 'aceite_especias_y_salsas_mayonesa_ketchup_y_mostaza',\n",
       " 'aceite_especias_y_salsas_aceite_vinagre_y_sal',\n",
       " 'aceite_especias_y_salsas_otras_salsas',\n",
       " 'aceite_especias_y_salsas_mayonesa_ketchup_y_mostaza',\n",
       " 'aceite_especias_y_salsas_especias',\n",
       " 'aceite_especias_y_salsas_aceite_vinagre_y_sal',\n",
       " 'aceite_especias_y_salsas_otras_salsas',\n",
       " 'aceite_especias_y_salsas_otras_salsas',\n",
       " 'la_despensa_alimentacion_aceites_y_vinagres',\n",
       " 'aceite_especias_y_salsas_especias',\n",
       " 'aceite_especias_y_salsas_aceite_vinagre_y_sal',\n",
       " 'aceite_especias_y_salsas_otras_salsas',\n",
       " 'aceite_especias_y_salsas_aceite_vinagre_y_sal',\n",
       " 'aceite_especias_y_salsas_otras_salsas',\n",
       " 'aceite_especias_y_salsas_especias',\n",
       " 'la_despensa_alimentacion_aceites_y_vinagres',\n",
       " 'aceite_especias_y_salsas_aceite_vinagre_y_sal',\n",
       " 'aceite_especias_y_salsas_aceite_vinagre_y_sal',\n",
       " 'aceite_especias_y_salsas_otras_salsas',\n",
       " 'la_despensa_alimentacion_aceites_y_vinagres',\n",
       " 'la_despensa_alimentacion_aceites_y_vinagres',\n",
       " 'la_despensa_alimentacion_aceites_y_vinagres',\n",
       " 'la_despensa_alimentacion_aceites_y_vinagres',\n",
       " 'aceite_especias_y_salsas_otras_salsas',\n",
       " 'la_despensa_alimentacion_aceites_y_vinagres',\n",
       " 'aceite_especias_y_salsas_especias',\n",
       " 'aceite_especias_y_salsas_otras_salsas',\n",
       " 'aceite_especias_y_salsas_especias',\n",
       " 'la_despensa_alimentacion_aceites_y_vinagres',\n",
       " 'alimentacion_aceite_aceite_de_oliva_intenso_06o1o',\n",
       " 'aceite_especias_y_salsas_especias',\n",
       " 'la_despensa_alimentacion_aceites_y_vinagres',\n",
       " 'aceite_especias_y_salsas_otras_salsas',\n",
       " 'alimentacion_aceite_aceite_de_oliva_suave_05o',\n",
       " 'aceite_especias_y_salsas_especias',\n",
       " 'la_despensa_alimentacion_aceites_y_vinagres',\n",
       " 'alimentacion_aceite_aceite_de_oliva_virgen_y_virgen_extra',\n",
       " 'aceite_especias_y_salsas_aceite_vinagre_y_sal',\n",
       " 'alimentacion_aceite_aceite_de_oliva_suave_05o',\n",
       " 'aceite_especias_y_salsas_otras_salsas',\n",
       " 'aceite_especias_y_salsas_aceite_vinagre_y_sal',\n",
       " 'la_despensa_alimentacion_aceites_y_vinagres',\n",
       " 'la_despensa_alimentacion_aceites_y_vinagres',\n",
       " 'la_despensa_alimentacion_aceites_y_vinagres',\n",
       " 'la_despensa_alimentacion_aceites_y_vinagres',\n",
       " 'aceite_especias_y_salsas_especias',\n",
       " 'la_despensa_alimentacion_aceites_y_vinagres',\n",
       " 'la_despensa_alimentacion_aceites_y_vinagres',\n",
       " 'aceite_especias_y_salsas_otras_salsas',\n",
       " 'aceite_especias_y_salsas_otras_salsas',\n",
       " 'aceite_especias_y_salsas_aceite_vinagre_y_sal',\n",
       " 'aceite_especias_y_salsas_otras_salsas',\n",
       " 'aceite_especias_y_salsas_especias',\n",
       " 'aceite_especias_y_salsas_otras_salsas',\n",
       " 'aceite_especias_y_salsas_otras_salsas',\n",
       " 'aceite_especias_y_salsas_aceite_vinagre_y_sal',\n",
       " 'aceite_especias_y_salsas_aceite_vinagre_y_sal',\n",
       " 'la_despensa_alimentacion_aceites_y_vinagres',\n",
       " 'la_despensa_alimentacion_aceites_y_vinagres',\n",
       " 'la_despensa_alimentacion_aceites_y_vinagres',\n",
       " 'aceite_especias_y_salsas_especias',\n",
       " 'perfumeria_e_higiene_cuidado_corporal_aceite',\n",
       " 'aceite_especias_y_salsas_especias',\n",
       " 'la_despensa_alimentacion_aceites_y_vinagres',\n",
       " 'la_despensa_alimentacion_aceites_y_vinagres',\n",
       " 'aceite_especias_y_salsas_mayonesa_ketchup_y_mostaza',\n",
       " 'perfumeria_e_higiene_cuidado_corporal_aceite',\n",
       " 'aceite_especias_y_salsas_aceite_vinagre_y_sal',\n",
       " 'la_despensa_alimentacion_aceites_y_vinagres',\n",
       " 'la_despensa_alimentacion_aceites_y_vinagres',\n",
       " 'aceite_especias_y_salsas_especias',\n",
       " 'aceite_especias_y_salsas_otras_salsas',\n",
       " 'bebe_perfumeria_e_higiene_aceite_corporal',\n",
       " 'la_despensa_alimentacion_aceites_y_vinagres',\n",
       " 'la_despensa_alimentacion_aceites_y_vinagres',\n",
       " 'la_despensa_alimentacion_aceites_y_vinagres',\n",
       " 'la_despensa_alimentacion_aceites_y_vinagres',\n",
       " 'aceite_especias_y_salsas_especias',\n",
       " 'la_despensa_alimentacion_aceites_y_vinagres',\n",
       " 'aceite_especias_y_salsas_especias',\n",
       " 'la_despensa_alimentacion_aceites_y_vinagres',\n",
       " 'la_despensa_alimentacion_aceites_y_vinagres',\n",
       " 'la_despensa_alimentacion_aceites_y_vinagres',\n",
       " 'aceite_especias_y_salsas_especias',\n",
       " 'la_despensa_alimentacion_aceites_y_vinagres',\n",
       " 'aceite_especias_y_salsas_otras_salsas',\n",
       " 'la_despensa_alimentacion_aceites_y_vinagres',\n",
       " 'aceite_especias_y_salsas_especias',\n",
       " 'la_despensa_alimentacion_aceites_y_vinagres',\n",
       " 'alimentacion_aceite_aceite_de_oliva_suave_05o',\n",
       " 'la_despensa_alimentacion_aceites_y_vinagres',\n",
       " 'aceite_especias_y_salsas_aceite_vinagre_y_sal',\n",
       " 'aceite_especias_y_salsas_mayonesa_ketchup_y_mostaza',\n",
       " 'la_despensa_alimentacion_aceites_y_vinagres',\n",
       " 'aceite_especias_y_salsas_mayonesa_ketchup_y_mostaza',\n",
       " 'aceite_especias_y_salsas_especias',\n",
       " 'la_despensa_alimentacion_aceites_y_vinagres',\n",
       " 'alimentacion_aceite_aceite_de_girasol',\n",
       " 'la_despensa_alimentacion_aceites_y_vinagres',\n",
       " 'la_despensa_alimentacion_aceites_y_vinagres',\n",
       " 'aceite_especias_y_salsas_especias',\n",
       " 'aceite_especias_y_salsas_mayonesa_ketchup_y_mostaza',\n",
       " 'alimentacion_aceite_aceite_de_oliva_virgen_y_virgen_extra',\n",
       " 'la_despensa_alimentacion_aceites_y_vinagres',\n",
       " 'parafarmacia_bebe_hidratantes_y_aceites_corporales',\n",
       " 'alimentacion_aceite_aceite_de_oliva_virgen_y_virgen_extra',\n",
       " 'la_despensa_alimentacion_aceites_y_vinagres',\n",
       " 'la_despensa_alimentacion_aceites_y_vinagres',\n",
       " 'aceite_especias_y_salsas_especias',\n",
       " 'aceite_especias_y_salsas_especias',\n",
       " 'aceite_especias_y_salsas_aceite_vinagre_y_sal',\n",
       " 'aceite_especias_y_salsas_especias',\n",
       " 'perfumeria_e_higiene_cuidado_corporal_aceite',\n",
       " 'la_despensa_alimentacion_aceites_y_vinagres',\n",
       " 'aceite_especias_y_salsas_aceite_vinagre_y_sal',\n",
       " 'la_despensa_alimentacion_aceites_y_vinagres',\n",
       " 'aceite_especias_y_salsas_especias',\n",
       " 'alimentacion_aceite_aceite_de_oliva_virgen_y_virgen_extra',\n",
       " 'la_despensa_alimentacion_aceites_y_vinagres',\n",
       " 'la_despensa_alimentacion_aceites_y_vinagres',\n",
       " 'la_despensa_alimentacion_aceites_y_vinagres',\n",
       " 'aceite_especias_y_salsas_aceite_vinagre_y_sal',\n",
       " 'la_despensa_alimentacion_aceites_y_vinagres',\n",
       " 'bebe_embarazo_y_lactancia_cremas_y_aceites',\n",
       " 'aceite_especias_y_salsas_especias',\n",
       " 'la_despensa_alimentacion_aceites_y_vinagres',\n",
       " 'la_despensa_alimentacion_aceites_y_vinagres',\n",
       " 'la_despensa_alimentacion_aceites_y_vinagres',\n",
       " 'aceite_especias_y_salsas_otras_salsas',\n",
       " 'alimentacion_aceite_otros_aceites',\n",
       " 'la_despensa_alimentacion_aceites_y_vinagres',\n",
       " 'la_despensa_alimentacion_aceites_y_vinagres',\n",
       " 'aceite_especias_y_salsas_mayonesa_ketchup_y_mostaza',\n",
       " 'la_despensa_alimentacion_aceites_y_vinagres',\n",
       " 'la_despensa_alimentacion_aceites_y_vinagres',\n",
       " 'la_despensa_alimentacion_aceites_y_vinagres',\n",
       " 'la_despensa_alimentacion_aceites_y_vinagres',\n",
       " 'la_despensa_alimentacion_aceites_y_vinagres',\n",
       " 'la_despensa_alimentacion_aceites_y_vinagres',\n",
       " 'la_despensa_alimentacion_aceites_y_vinagres',\n",
       " 'aceite_especias_y_salsas_especias',\n",
       " 'la_despensa_alimentacion_aceites_y_vinagres',\n",
       " 'la_despensa_alimentacion_aceites_y_vinagres',\n",
       " 'la_despensa_alimentacion_aceites_y_vinagres',\n",
       " 'aceite_especias_y_salsas_aceite_vinagre_y_sal',\n",
       " 'la_despensa_alimentacion_aceites_y_vinagres',\n",
       " 'la_despensa_alimentacion_aceites_y_vinagres',\n",
       " 'aceite_especias_y_salsas_especias',\n",
       " 'la_despensa_alimentacion_aceites_y_vinagres',\n",
       " 'la_despensa_alimentacion_aceites_y_vinagres',\n",
       " 'parafarmacia_bebe_hidratantes_y_aceites_corporales',\n",
       " 'la_despensa_alimentacion_aceites_y_vinagres',\n",
       " 'bebe_perfumeria_e_higiene_aceite_corporal',\n",
       " 'la_despensa_alimentacion_aceites_y_vinagres',\n",
       " 'aceite_especias_y_salsas_aceite_vinagre_y_sal',\n",
       " 'aceite_especias_y_salsas_aceite_vinagre_y_sal',\n",
       " 'la_despensa_alimentacion_aceites_y_vinagres',\n",
       " 'aceite_especias_y_salsas_mayonesa_ketchup_y_mostaza',\n",
       " 'la_despensa_alimentacion_aceites_y_vinagres',\n",
       " 'la_despensa_alimentacion_aceites_y_vinagres',\n",
       " 'la_despensa_alimentacion_aceites_y_vinagres',\n",
       " 'la_despensa_alimentacion_aceites_y_vinagres',\n",
       " 'la_despensa_alimentacion_aceites_y_vinagres',\n",
       " 'aceite_especias_y_salsas_mayonesa_ketchup_y_mostaza',\n",
       " 'la_despensa_alimentacion_aceites_y_vinagres',\n",
       " 'la_despensa_alimentacion_aceites_y_vinagres',\n",
       " 'la_despensa_alimentacion_aceites_y_vinagres',\n",
       " 'aceite_especias_y_salsas_aceite_vinagre_y_sal',\n",
       " 'la_despensa_alimentacion_aceites_y_vinagres',\n",
       " 'la_despensa_alimentacion_aceites_y_vinagres',\n",
       " 'aceite_especias_y_salsas_otras_salsas',\n",
       " 'aceite_especias_y_salsas_especias',\n",
       " 'aceite_especias_y_salsas_mayonesa_ketchup_y_mostaza',\n",
       " 'la_despensa_alimentacion_aceites_y_vinagres',\n",
       " 'la_despensa_alimentacion_aceites_y_vinagres',\n",
       " 'perfumeria_e_higiene_cuidado_corporal_aceite',\n",
       " 'la_despensa_alimentacion_aceites_y_vinagres',\n",
       " 'la_despensa_alimentacion_aceites_y_vinagres',\n",
       " 'perfumeria_e_higiene_cuidado_corporal_aceite',\n",
       " 'aceite_especias_y_salsas_especias',\n",
       " 'la_despensa_alimentacion_aceites_y_vinagres',\n",
       " 'bebe_embarazo_y_lactancia_cremas_y_aceites',\n",
       " 'aceite_especias_y_salsas_otras_salsas',\n",
       " 'la_despensa_alimentacion_aceites_y_vinagres',\n",
       " 'la_despensa_alimentacion_aceites_y_vinagres',\n",
       " 'perfumeria_e_higiene_cuidado_corporal_aceite',\n",
       " 'aceite_especias_y_salsas_aceite_vinagre_y_sal',\n",
       " 'aceite_especias_y_salsas_otras_salsas',\n",
       " 'alimentacion_aceite_aceite_de_oliva_virgen_y_virgen_extra',\n",
       " 'aceite_especias_y_salsas_otras_salsas',\n",
       " 'la_despensa_alimentacion_aceites_y_vinagres',\n",
       " 'aceite_especias_y_salsas_aceite_vinagre_y_sal',\n",
       " 'la_despensa_alimentacion_aceites_y_vinagres',\n",
       " 'aceite_especias_y_salsas_otras_salsas',\n",
       " 'la_despensa_alimentacion_aceites_y_vinagres',\n",
       " 'la_despensa_alimentacion_aceites_y_vinagres',\n",
       " 'la_despensa_alimentacion_aceites_y_vinagres',\n",
       " 'la_despensa_alimentacion_aceites_y_vinagres',\n",
       " 'la_despensa_alimentacion_aceites_y_vinagres',\n",
       " 'aceite_especias_y_salsas_mayonesa_ketchup_y_mostaza',\n",
       " 'aceite_especias_y_salsas_aceite_vinagre_y_sal',\n",
       " 'aceite_especias_y_salsas_aceite_vinagre_y_sal',\n",
       " 'aceite_especias_y_salsas_especias',\n",
       " 'la_despensa_alimentacion_aceites_y_vinagres',\n",
       " 'la_despensa_alimentacion_aceites_y_vinagres',\n",
       " 'aceite_especias_y_salsas_especias',\n",
       " 'la_despensa_alimentacion_aceites_y_vinagres',\n",
       " 'aceite_especias_y_salsas_especias',\n",
       " 'aceite_especias_y_salsas_otras_salsas',\n",
       " 'la_despensa_alimentacion_aceites_y_vinagres',\n",
       " 'aceite_especias_y_salsas_otras_salsas',\n",
       " 'la_despensa_alimentacion_aceites_y_vinagres',\n",
       " 'alimentacion_aceite_otros_aceites',\n",
       " 'alimentacion_aceite_aceite_de_oliva_virgen_y_virgen_extra',\n",
       " 'la_despensa_alimentacion_aceites_y_vinagres',\n",
       " 'aceite_especias_y_salsas_otras_salsas',\n",
       " 'bebe_embarazo_y_lactancia_cremas_y_aceites',\n",
       " 'la_despensa_alimentacion_aceites_y_vinagres',\n",
       " 'aceite_especias_y_salsas_especias',\n",
       " 'la_despensa_alimentacion_aceites_y_vinagres',\n",
       " 'la_despensa_alimentacion_aceites_y_vinagres',\n",
       " 'la_despensa_alimentacion_aceites_y_vinagres',\n",
       " 'aceite_especias_y_salsas_otras_salsas',\n",
       " 'alimentacion_aceite_aceite_de_oliva_suave_05o',\n",
       " 'la_despensa_alimentacion_aceites_y_vinagres',\n",
       " 'la_despensa_alimentacion_aceites_y_vinagres',\n",
       " 'aceite_especias_y_salsas_especias',\n",
       " 'aceite_especias_y_salsas_aceite_vinagre_y_sal',\n",
       " 'perfumeria_e_higiene_cuidado_corporal_aceite',\n",
       " 'la_despensa_alimentacion_aceites_y_vinagres',\n",
       " 'aceite_especias_y_salsas_otras_salsas',\n",
       " 'aceite_especias_y_salsas_otras_salsas',\n",
       " 'aceite_especias_y_salsas_aceite_vinagre_y_sal',\n",
       " 'parafarmacia_bebe_hidratantes_y_aceites_corporales',\n",
       " 'aceite_especias_y_salsas_otras_salsas',\n",
       " 'la_despensa_alimentacion_aceites_y_vinagres',\n",
       " 'aceite_especias_y_salsas_otras_salsas',\n",
       " 'la_despensa_alimentacion_aceites_y_vinagres',\n",
       " 'aceite_especias_y_salsas_otras_salsas',\n",
       " 'aceite_especias_y_salsas_aceite_vinagre_y_sal',\n",
       " 'aceite_especias_y_salsas_mayonesa_ketchup_y_mostaza',\n",
       " 'bebe_perfumeria_e_higiene_aceite_corporal',\n",
       " 'aceite_especias_y_salsas_mayonesa_ketchup_y_mostaza',\n",
       " 'aceite_especias_y_salsas_otras_salsas',\n",
       " 'aceite_especias_y_salsas_especias',\n",
       " 'aceite_especias_y_salsas_especias',\n",
       " 'la_despensa_alimentacion_aceites_y_vinagres',\n",
       " 'aceite_especias_y_salsas_otras_salsas',\n",
       " 'la_despensa_alimentacion_aceites_y_vinagres',\n",
       " 'la_despensa_alimentacion_aceites_y_vinagres',\n",
       " 'la_despensa_alimentacion_aceites_y_vinagres',\n",
       " 'la_despensa_alimentacion_aceites_y_vinagres',\n",
       " 'aceite_especias_y_salsas_otras_salsas',\n",
       " 'la_despensa_alimentacion_aceites_y_vinagres',\n",
       " 'aceite_especias_y_salsas_aceite_vinagre_y_sal',\n",
       " 'la_despensa_alimentacion_aceites_y_vinagres',\n",
       " 'la_despensa_alimentacion_aceites_y_vinagres',\n",
       " 'la_despensa_alimentacion_aceites_y_vinagres',\n",
       " 'aceite_especias_y_salsas_especias',\n",
       " 'la_despensa_alimentacion_aceites_y_vinagres',\n",
       " 'aceite_especias_y_salsas_otras_salsas',\n",
       " 'la_despensa_alimentacion_aceites_y_vinagres',\n",
       " 'aceite_especias_y_salsas_aceite_vinagre_y_sal',\n",
       " 'la_despensa_alimentacion_aceites_y_vinagres',\n",
       " 'bebe_perfumeria_e_higiene_aceite_corporal',\n",
       " 'la_despensa_alimentacion_aceites_y_vinagres',\n",
       " 'la_despensa_alimentacion_aceites_y_vinagres',\n",
       " 'aceite_especias_y_salsas_especias',\n",
       " 'alimentacion_aceite_aceite_de_oliva_suave_05o',\n",
       " 'la_despensa_alimentacion_aceites_y_vinagres',\n",
       " 'bebe_perfumeria_e_higiene_aceite_corporal',\n",
       " 'alimentacion_aceite_aceite_de_oliva_intenso_06o1o',\n",
       " 'aceite_especias_y_salsas_otras_salsas',\n",
       " 'la_despensa_alimentacion_aceites_y_vinagres',\n",
       " 'aceite_especias_y_salsas_mayonesa_ketchup_y_mostaza',\n",
       " 'aceite_especias_y_salsas_otras_salsas',\n",
       " 'la_despensa_alimentacion_aceites_y_vinagres',\n",
       " 'la_despensa_alimentacion_aceites_y_vinagres',\n",
       " 'la_despensa_alimentacion_aceites_y_vinagres',\n",
       " 'aceite_especias_y_salsas_otras_salsas',\n",
       " 'la_despensa_alimentacion_aceites_y_vinagres',\n",
       " 'la_despensa_alimentacion_aceites_y_vinagres',\n",
       " 'la_despensa_alimentacion_aceites_y_vinagres',\n",
       " 'la_despensa_alimentacion_aceites_y_vinagres',\n",
       " 'la_despensa_alimentacion_aceites_y_vinagres',\n",
       " 'la_despensa_alimentacion_aceites_y_vinagres',\n",
       " 'la_despensa_alimentacion_aceites_y_vinagres',\n",
       " 'aceite_especias_y_salsas_especias',\n",
       " 'la_despensa_alimentacion_aceites_y_vinagres',\n",
       " 'aceite_especias_y_salsas_especias',\n",
       " 'parafarmacia_bebe_hidratantes_y_aceites_corporales',\n",
       " 'aceite_especias_y_salsas_otras_salsas',\n",
       " 'la_despensa_alimentacion_aceites_y_vinagres',\n",
       " 'aceite_especias_y_salsas_mayonesa_ketchup_y_mostaza',\n",
       " 'la_despensa_alimentacion_aceites_y_vinagres',\n",
       " 'aceite_especias_y_salsas_otras_salsas',\n",
       " 'alimentacion_aceite_aceite_de_oliva_suave_05o',\n",
       " 'aceite_especias_y_salsas_aceite_vinagre_y_sal',\n",
       " 'la_despensa_alimentacion_aceites_y_vinagres',\n",
       " 'aceite_especias_y_salsas_especias',\n",
       " 'la_despensa_alimentacion_aceites_y_vinagres',\n",
       " 'la_despensa_alimentacion_aceites_y_vinagres',\n",
       " 'la_despensa_alimentacion_aceites_y_vinagres',\n",
       " 'la_despensa_alimentacion_aceites_y_vinagres',\n",
       " 'aceite_especias_y_salsas_especias',\n",
       " 'aceite_especias_y_salsas_especias',\n",
       " 'alimentacion_aceite_aceite_de_oliva_virgen_y_virgen_extra',\n",
       " 'la_despensa_alimentacion_aceites_y_vinagres',\n",
       " 'perfumeria_e_higiene_cuidado_corporal_aceite',\n",
       " 'aceite_especias_y_salsas_mayonesa_ketchup_y_mostaza',\n",
       " 'aceite_especias_y_salsas_otras_salsas',\n",
       " 'la_despensa_alimentacion_aceites_y_vinagres',\n",
       " 'alimentacion_aceite_aceite_de_girasol',\n",
       " 'la_despensa_alimentacion_aceites_y_vinagres',\n",
       " 'aceite_especias_y_salsas_mayonesa_ketchup_y_mostaza',\n",
       " 'aceite_especias_y_salsas_otras_salsas',\n",
       " 'la_despensa_alimentacion_aceites_y_vinagres',\n",
       " 'la_despensa_alimentacion_aceites_y_vinagres',\n",
       " 'la_despensa_alimentacion_aceites_y_vinagres',\n",
       " 'aceite_especias_y_salsas_especias',\n",
       " 'la_despensa_alimentacion_aceites_y_vinagres',\n",
       " 'la_despensa_alimentacion_aceites_y_vinagres',\n",
       " 'aceite_especias_y_salsas_especias',\n",
       " 'aceite_especias_y_salsas_especias',\n",
       " 'la_despensa_alimentacion_aceites_y_vinagres',\n",
       " 'alimentacion_aceite_aceite_de_oliva_suave_05o',\n",
       " 'la_despensa_alimentacion_aceites_y_vinagres',\n",
       " 'la_despensa_alimentacion_aceites_y_vinagres',\n",
       " 'bebe_perfumeria_e_higiene_aceite_corporal',\n",
       " 'la_despensa_alimentacion_aceites_y_vinagres',\n",
       " 'la_despensa_alimentacion_aceites_y_vinagres',\n",
       " 'la_despensa_alimentacion_aceites_y_vinagres',\n",
       " 'aceite_especias_y_salsas_especias',\n",
       " 'la_despensa_alimentacion_aceites_y_vinagres',\n",
       " 'la_despensa_alimentacion_aceites_y_vinagres',\n",
       " 'aceite_especias_y_salsas_otras_salsas',\n",
       " 'perfumeria_e_higiene_cuidado_corporal_aceite',\n",
       " 'aceite_especias_y_salsas_otras_salsas',\n",
       " 'aceite_especias_y_salsas_otras_salsas',\n",
       " 'aceite_especias_y_salsas_aceite_vinagre_y_sal',\n",
       " 'la_despensa_alimentacion_aceites_y_vinagres',\n",
       " 'la_despensa_alimentacion_aceites_y_vinagres',\n",
       " 'la_despensa_alimentacion_aceites_y_vinagres',\n",
       " 'aceite_especias_y_salsas_mayonesa_ketchup_y_mostaza',\n",
       " 'aceite_especias_y_salsas_especias',\n",
       " 'la_despensa_alimentacion_aceites_y_vinagres',\n",
       " 'la_despensa_alimentacion_aceites_y_vinagres',\n",
       " 'la_despensa_alimentacion_aceites_y_vinagres',\n",
       " 'aceite_especias_y_salsas_aceite_vinagre_y_sal',\n",
       " 'la_despensa_alimentacion_aceites_y_vinagres',\n",
       " 'aceite_especias_y_salsas_otras_salsas',\n",
       " 'aceite_especias_y_salsas_mayonesa_ketchup_y_mostaza',\n",
       " 'la_despensa_alimentacion_aceites_y_vinagres',\n",
       " 'aceite_especias_y_salsas_mayonesa_ketchup_y_mostaza',\n",
       " 'aceite_especias_y_salsas_otras_salsas',\n",
       " 'la_despensa_alimentacion_aceites_y_vinagres',\n",
       " 'la_despensa_alimentacion_aceites_y_vinagres',\n",
       " 'la_despensa_alimentacion_aceites_y_vinagres',\n",
       " 'la_despensa_alimentacion_aceites_y_vinagres',\n",
       " 'aceite_especias_y_salsas_otras_salsas',\n",
       " 'la_despensa_alimentacion_aceites_y_vinagres',\n",
       " 'aceite_especias_y_salsas_otras_salsas',\n",
       " 'aceite_especias_y_salsas_especias',\n",
       " 'aceite_especias_y_salsas_otras_salsas',\n",
       " 'aceite_especias_y_salsas_especias',\n",
       " 'aceite_especias_y_salsas_mayonesa_ketchup_y_mostaza',\n",
       " 'aceite_especias_y_salsas_otras_salsas',\n",
       " 'aceite_especias_y_salsas_otras_salsas',\n",
       " 'la_despensa_alimentacion_aceites_y_vinagres',\n",
       " 'la_despensa_alimentacion_aceites_y_vinagres',\n",
       " 'la_despensa_alimentacion_aceites_y_vinagres',\n",
       " 'aceite_especias_y_salsas_otras_salsas',\n",
       " 'aceite_especias_y_salsas_especias',\n",
       " 'la_despensa_alimentacion_aceites_y_vinagres',\n",
       " 'aceite_especias_y_salsas_otras_salsas',\n",
       " 'aceite_especias_y_salsas_aceite_vinagre_y_sal',\n",
       " 'alimentacion_aceite_aceite_de_oliva_virgen_y_virgen_extra',\n",
       " 'aceite_especias_y_salsas_aceite_vinagre_y_sal',\n",
       " 'aceite_especias_y_salsas_especias',\n",
       " 'aceite_especias_y_salsas_especias',\n",
       " 'aceite_especias_y_salsas_otras_salsas',\n",
       " 'la_despensa_alimentacion_aceites_y_vinagres',\n",
       " 'alimentacion_aceite_aceite_de_oliva_virgen_y_virgen_extra',\n",
       " 'aceite_especias_y_salsas_aceite_vinagre_y_sal',\n",
       " 'la_despensa_alimentacion_aceites_y_vinagres',\n",
       " 'aceite_especias_y_salsas_aceite_vinagre_y_sal',\n",
       " 'aceite_especias_y_salsas_otras_salsas',\n",
       " 'la_despensa_alimentacion_aceites_y_vinagres',\n",
       " 'la_despensa_alimentacion_aceites_y_vinagres',\n",
       " 'la_despensa_alimentacion_aceites_y_vinagres',\n",
       " 'la_despensa_alimentacion_aceites_y_vinagres',\n",
       " 'aceite_especias_y_salsas_especias',\n",
       " 'aceite_especias_y_salsas_especias',\n",
       " 'aceite_especias_y_salsas_mayonesa_ketchup_y_mostaza',\n",
       " 'la_despensa_alimentacion_aceites_y_vinagres',\n",
       " 'aceite_especias_y_salsas_especias',\n",
       " 'la_despensa_alimentacion_aceites_y_vinagres',\n",
       " 'aceite_especias_y_salsas_otras_salsas',\n",
       " 'la_despensa_alimentacion_aceites_y_vinagres',\n",
       " 'la_despensa_alimentacion_aceites_y_vinagres',\n",
       " 'la_despensa_alimentacion_aceites_y_vinagres',\n",
       " 'la_despensa_alimentacion_aceites_y_vinagres',\n",
       " 'perfumeria_e_higiene_cuidado_corporal_aceite',\n",
       " 'aceite_especias_y_salsas_especias',\n",
       " 'aceite_especias_y_salsas_especias',\n",
       " 'la_despensa_alimentacion_aceites_y_vinagres',\n",
       " 'la_despensa_alimentacion_aceites_y_vinagres',\n",
       " 'la_despensa_alimentacion_aceites_y_vinagres',\n",
       " 'alimentacion_aceite_aceite_de_oliva_virgen_y_virgen_extra',\n",
       " 'la_despensa_alimentacion_aceites_y_vinagres',\n",
       " 'alimentacion_aceite_aceite_de_oliva_intenso_06o1o',\n",
       " 'aceite_especias_y_salsas_aceite_vinagre_y_sal',\n",
       " 'aceite_especias_y_salsas_otras_salsas',\n",
       " 'aceite_especias_y_salsas_especias',\n",
       " 'la_despensa_alimentacion_aceites_y_vinagres',\n",
       " 'la_despensa_alimentacion_aceites_y_vinagres',\n",
       " 'aceite_especias_y_salsas_otras_salsas',\n",
       " 'la_despensa_alimentacion_aceites_y_vinagres',\n",
       " 'aceite_especias_y_salsas_mayonesa_ketchup_y_mostaza',\n",
       " 'aceite_especias_y_salsas_mayonesa_ketchup_y_mostaza',\n",
       " 'la_despensa_alimentacion_aceites_y_vinagres',\n",
       " 'la_despensa_alimentacion_aceites_y_vinagres',\n",
       " 'aceite_especias_y_salsas_aceite_vinagre_y_sal',\n",
       " 'aceite_especias_y_salsas_aceite_vinagre_y_sal',\n",
       " 'aceite_especias_y_salsas_otras_salsas',\n",
       " 'perfumeria_e_higiene_cuidado_corporal_aceite',\n",
       " 'la_despensa_alimentacion_aceites_y_vinagres',\n",
       " 'aceite_especias_y_salsas_otras_salsas',\n",
       " 'aceite_especias_y_salsas_especias',\n",
       " 'perfumeria_e_higiene_cuidado_corporal_aceite',\n",
       " 'aceite_especias_y_salsas_aceite_vinagre_y_sal',\n",
       " 'aceite_especias_y_salsas_otras_salsas',\n",
       " 'bebe_embarazo_y_lactancia_cremas_y_aceites',\n",
       " 'la_despensa_alimentacion_aceites_y_vinagres',\n",
       " 'aceite_especias_y_salsas_especias',\n",
       " 'perfumeria_e_higiene_cuidado_corporal_aceite',\n",
       " 'la_despensa_alimentacion_aceites_y_vinagres',\n",
       " 'aceite_especias_y_salsas_especias',\n",
       " 'la_despensa_alimentacion_aceites_y_vinagres',\n",
       " 'aceite_especias_y_salsas_especias',\n",
       " 'aceite_especias_y_salsas_aceite_vinagre_y_sal',\n",
       " 'parafarmacia_bebe_hidratantes_y_aceites_corporales',\n",
       " 'aceite_especias_y_salsas_aceite_vinagre_y_sal',\n",
       " 'aceite_especias_y_salsas_aceite_vinagre_y_sal',\n",
       " 'la_despensa_alimentacion_aceites_y_vinagres',\n",
       " 'aceite_especias_y_salsas_especias',\n",
       " 'aceite_especias_y_salsas_aceite_vinagre_y_sal',\n",
       " 'aceite_especias_y_salsas_mayonesa_ketchup_y_mostaza',\n",
       " 'aceite_especias_y_salsas_especias',\n",
       " 'aceite_especias_y_salsas_especias',\n",
       " 'aceite_especias_y_salsas_especias',\n",
       " 'la_despensa_alimentacion_aceites_y_vinagres',\n",
       " 'la_despensa_alimentacion_aceites_y_vinagres',\n",
       " 'aceite_especias_y_salsas_especias',\n",
       " 'aceite_especias_y_salsas_especias',\n",
       " 'la_despensa_alimentacion_aceites_y_vinagres',\n",
       " 'parafarmacia_bebe_hidratantes_y_aceites_corporales',\n",
       " 'la_despensa_alimentacion_aceites_y_vinagres',\n",
       " 'parafarmacia_bebe_hidratantes_y_aceites_corporales',\n",
       " 'aceite_especias_y_salsas_especias',\n",
       " 'aceite_especias_y_salsas_especias',\n",
       " 'aceite_especias_y_salsas_mayonesa_ketchup_y_mostaza',\n",
       " 'la_despensa_alimentacion_aceites_y_vinagres',\n",
       " 'aceite_especias_y_salsas_otras_salsas',\n",
       " 'parafarmacia_bebe_hidratantes_y_aceites_corporales',\n",
       " 'alimentacion_aceite_aceite_de_girasol',\n",
       " 'aceite_especias_y_salsas_aceite_vinagre_y_sal',\n",
       " 'perfumeria_e_higiene_cuidado_corporal_aceite',\n",
       " 'la_despensa_alimentacion_aceites_y_vinagres',\n",
       " 'la_despensa_alimentacion_aceites_y_vinagres',\n",
       " 'perfumeria_e_higiene_cuidado_corporal_aceite',\n",
       " 'aceite_especias_y_salsas_aceite_vinagre_y_sal',\n",
       " 'aceite_especias_y_salsas_aceite_vinagre_y_sal',\n",
       " 'alimentacion_aceite_aceite_de_oliva_virgen_y_virgen_extra',\n",
       " 'la_despensa_alimentacion_aceites_y_vinagres',\n",
       " 'aceite_especias_y_salsas_otras_salsas',\n",
       " 'la_despensa_alimentacion_aceites_y_vinagres',\n",
       " 'parafarmacia_bebe_hidratantes_y_aceites_corporales',\n",
       " 'la_despensa_alimentacion_aceites_y_vinagres',\n",
       " 'la_despensa_alimentacion_aceites_y_vinagres',\n",
       " 'alimentacion_aceite_aceite_de_oliva_virgen_y_virgen_extra',\n",
       " 'aceite_especias_y_salsas_aceite_vinagre_y_sal',\n",
       " 'aceite_especias_y_salsas_especias',\n",
       " 'aceite_especias_y_salsas_otras_salsas',\n",
       " 'la_despensa_alimentacion_aceites_y_vinagres',\n",
       " 'aceite_especias_y_salsas_aceite_vinagre_y_sal',\n",
       " 'aceite_especias_y_salsas_especias',\n",
       " 'aceite_especias_y_salsas_especias',\n",
       " 'la_despensa_alimentacion_aceites_y_vinagres',\n",
       " 'aceite_especias_y_salsas_especias',\n",
       " 'la_despensa_alimentacion_aceites_y_vinagres',\n",
       " 'la_despensa_alimentacion_aceites_y_vinagres',\n",
       " 'la_despensa_alimentacion_aceites_y_vinagres',\n",
       " 'aceite_especias_y_salsas_aceite_vinagre_y_sal',\n",
       " 'aceite_especias_y_salsas_otras_salsas',\n",
       " 'la_despensa_alimentacion_aceites_y_vinagres',\n",
       " 'aceite_especias_y_salsas_especias',\n",
       " 'aceite_especias_y_salsas_otras_salsas',\n",
       " 'aceite_especias_y_salsas_otras_salsas',\n",
       " 'aceite_especias_y_salsas_otras_salsas',\n",
       " 'aceite_especias_y_salsas_aceite_vinagre_y_sal',\n",
       " 'aceite_especias_y_salsas_especias',\n",
       " 'bebe_embarazo_y_lactancia_cremas_y_aceites',\n",
       " 'la_despensa_alimentacion_aceites_y_vinagres',\n",
       " 'alimentacion_aceite_aceite_de_oliva_suave_05o',\n",
       " 'bebe_perfumeria_e_higiene_aceite_corporal',\n",
       " 'alimentacion_aceite_aceite_de_oliva_virgen_y_virgen_extra',\n",
       " 'la_despensa_alimentacion_aceites_y_vinagres',\n",
       " 'la_despensa_alimentacion_aceites_y_vinagres',\n",
       " 'la_despensa_alimentacion_aceites_y_vinagres',\n",
       " 'la_despensa_alimentacion_aceites_y_vinagres',\n",
       " 'aceite_especias_y_salsas_aceite_vinagre_y_sal',\n",
       " 'aceite_especias_y_salsas_aceite_vinagre_y_sal',\n",
       " 'aceite_especias_y_salsas_especias',\n",
       " 'aceite_especias_y_salsas_aceite_vinagre_y_sal',\n",
       " 'la_despensa_alimentacion_aceites_y_vinagres',\n",
       " 'la_despensa_alimentacion_aceites_y_vinagres',\n",
       " 'aceite_especias_y_salsas_aceite_vinagre_y_sal',\n",
       " 'aceite_especias_y_salsas_mayonesa_ketchup_y_mostaza',\n",
       " 'la_despensa_alimentacion_aceites_y_vinagres',\n",
       " 'aceite_especias_y_salsas_especias',\n",
       " 'aceite_especias_y_salsas_aceite_vinagre_y_sal',\n",
       " 'aceite_especias_y_salsas_otras_salsas',\n",
       " 'aceite_especias_y_salsas_aceite_vinagre_y_sal',\n",
       " 'la_despensa_alimentacion_aceites_y_vinagres',\n",
       " 'la_despensa_alimentacion_aceites_y_vinagres',\n",
       " 'aceite_especias_y_salsas_otras_salsas',\n",
       " 'la_despensa_alimentacion_aceites_y_vinagres',\n",
       " 'la_despensa_alimentacion_aceites_y_vinagres',\n",
       " 'aceite_especias_y_salsas_aceite_vinagre_y_sal',\n",
       " 'aceite_especias_y_salsas_especias',\n",
       " 'aceite_especias_y_salsas_otras_salsas',\n",
       " 'la_despensa_alimentacion_aceites_y_vinagres',\n",
       " 'aceite_especias_y_salsas_aceite_vinagre_y_sal',\n",
       " 'aceite_especias_y_salsas_aceite_vinagre_y_sal',\n",
       " 'aceite_especias_y_salsas_aceite_vinagre_y_sal',\n",
       " 'la_despensa_alimentacion_aceites_y_vinagres',\n",
       " 'la_despensa_alimentacion_aceites_y_vinagres',\n",
       " 'aceite_especias_y_salsas_otras_salsas',\n",
       " 'aceite_especias_y_salsas_mayonesa_ketchup_y_mostaza',\n",
       " 'la_despensa_alimentacion_aceites_y_vinagres',\n",
       " 'bebe_embarazo_y_lactancia_cremas_y_aceites',\n",
       " 'aceite_especias_y_salsas_otras_salsas',\n",
       " 'la_despensa_alimentacion_aceites_y_vinagres',\n",
       " 'alimentacion_aceite_aceite_de_oliva_virgen_y_virgen_extra',\n",
       " 'alimentacion_aceite_aceite_de_oliva_intenso_06o1o',\n",
       " 'aceite_especias_y_salsas_especias',\n",
       " 'aceite_especias_y_salsas_aceite_vinagre_y_sal',\n",
       " 'aceite_especias_y_salsas_especias',\n",
       " 'bebe_embarazo_y_lactancia_cremas_y_aceites',\n",
       " 'aceite_especias_y_salsas_aceite_vinagre_y_sal',\n",
       " 'la_despensa_alimentacion_aceites_y_vinagres',\n",
       " 'aceite_especias_y_salsas_mayonesa_ketchup_y_mostaza',\n",
       " 'aceite_especias_y_salsas_otras_salsas',\n",
       " 'aceite_especias_y_salsas_especias',\n",
       " 'la_despensa_alimentacion_aceites_y_vinagres',\n",
       " 'aceite_especias_y_salsas_aceite_vinagre_y_sal',\n",
       " 'aceite_especias_y_salsas_mayonesa_ketchup_y_mostaza',\n",
       " 'aceite_especias_y_salsas_mayonesa_ketchup_y_mostaza',\n",
       " 'la_despensa_alimentacion_aceites_y_vinagres',\n",
       " 'aceite_especias_y_salsas_aceite_vinagre_y_sal',\n",
       " 'la_despensa_alimentacion_aceites_y_vinagres',\n",
       " 'aceite_especias_y_salsas_especias',\n",
       " 'la_despensa_alimentacion_aceites_y_vinagres',\n",
       " 'la_despensa_alimentacion_aceites_y_vinagres',\n",
       " 'aceite_especias_y_salsas_especias',\n",
       " 'la_despensa_alimentacion_aceites_y_vinagres',\n",
       " 'la_despensa_alimentacion_aceites_y_vinagres',\n",
       " 'la_despensa_alimentacion_aceites_y_vinagres',\n",
       " 'aceite_especias_y_salsas_especias',\n",
       " 'aceite_especias_y_salsas_mayonesa_ketchup_y_mostaza',\n",
       " 'la_despensa_alimentacion_aceites_y_vinagres',\n",
       " 'alimentacion_aceite_aceite_de_oliva_suave_05o',\n",
       " 'aceite_especias_y_salsas_aceite_vinagre_y_sal',\n",
       " 'aceite_especias_y_salsas_especias',\n",
       " 'la_despensa_alimentacion_aceites_y_vinagres',\n",
       " 'aceite_especias_y_salsas_mayonesa_ketchup_y_mostaza',\n",
       " 'la_despensa_alimentacion_aceites_y_vinagres',\n",
       " 'aceite_especias_y_salsas_mayonesa_ketchup_y_mostaza',\n",
       " 'la_despensa_alimentacion_aceites_y_vinagres',\n",
       " 'aceite_especias_y_salsas_otras_salsas',\n",
       " 'aceite_especias_y_salsas_mayonesa_ketchup_y_mostaza',\n",
       " 'aceite_especias_y_salsas_mayonesa_ketchup_y_mostaza',\n",
       " 'aceite_especias_y_salsas_otras_salsas',\n",
       " 'la_despensa_alimentacion_aceites_y_vinagres',\n",
       " 'aceite_especias_y_salsas_especias',\n",
       " 'aceite_especias_y_salsas_aceite_vinagre_y_sal',\n",
       " 'aceite_especias_y_salsas_otras_salsas',\n",
       " 'aceite_especias_y_salsas_especias',\n",
       " 'alimentacion_aceite_aceite_de_oliva_virgen_y_virgen_extra',\n",
       " 'la_despensa_alimentacion_aceites_y_vinagres',\n",
       " 'la_despensa_alimentacion_aceites_y_vinagres',\n",
       " 'la_despensa_alimentacion_aceites_y_vinagres',\n",
       " 'aceite_especias_y_salsas_especias',\n",
       " 'la_despensa_alimentacion_aceites_y_vinagres',\n",
       " 'la_despensa_alimentacion_aceites_y_vinagres',\n",
       " 'aceite_especias_y_salsas_mayonesa_ketchup_y_mostaza',\n",
       " 'aceite_especias_y_salsas_aceite_vinagre_y_sal',\n",
       " 'alimentacion_aceite_aceite_de_oliva_virgen_y_virgen_extra',\n",
       " 'aceite_especias_y_salsas_otras_salsas',\n",
       " 'aceite_especias_y_salsas_especias',\n",
       " 'aceite_especias_y_salsas_especias',\n",
       " 'la_despensa_alimentacion_aceites_y_vinagres',\n",
       " 'aceite_especias_y_salsas_aceite_vinagre_y_sal',\n",
       " 'la_despensa_alimentacion_aceites_y_vinagres',\n",
       " 'aceite_especias_y_salsas_otras_salsas',\n",
       " 'la_despensa_alimentacion_aceites_y_vinagres',\n",
       " 'la_despensa_alimentacion_aceites_y_vinagres',\n",
       " 'la_despensa_alimentacion_aceites_y_vinagres',\n",
       " 'aceite_especias_y_salsas_especias',\n",
       " 'la_despensa_alimentacion_aceites_y_vinagres',\n",
       " 'aceite_especias_y_salsas_otras_salsas',\n",
       " 'la_despensa_alimentacion_aceites_y_vinagres',\n",
       " 'la_despensa_alimentacion_aceites_y_vinagres',\n",
       " 'la_despensa_alimentacion_aceites_y_vinagres',\n",
       " 'bebe_perfumeria_e_higiene_aceite_corporal',\n",
       " 'aceite_especias_y_salsas_especias',\n",
       " 'aceite_especias_y_salsas_aceite_vinagre_y_sal',\n",
       " 'aceite_especias_y_salsas_otras_salsas',\n",
       " 'aceite_especias_y_salsas_especias',\n",
       " 'aceite_especias_y_salsas_aceite_vinagre_y_sal',\n",
       " 'bebe_perfumeria_e_higiene_aceite_corporal',\n",
       " 'la_despensa_alimentacion_aceites_y_vinagres',\n",
       " 'la_despensa_alimentacion_aceites_y_vinagres',\n",
       " 'aceite_especias_y_salsas_otras_salsas',\n",
       " 'aceite_especias_y_salsas_mayonesa_ketchup_y_mostaza',\n",
       " 'perfumeria_e_higiene_cuidado_corporal_aceite',\n",
       " 'la_despensa_alimentacion_aceites_y_vinagres',\n",
       " 'aceite_especias_y_salsas_aceite_vinagre_y_sal',\n",
       " 'perfumeria_e_higiene_cuidado_corporal_aceite',\n",
       " 'la_despensa_alimentacion_aceites_y_vinagres',\n",
       " 'parafarmacia_bebe_hidratantes_y_aceites_corporales',\n",
       " 'la_despensa_alimentacion_aceites_y_vinagres',\n",
       " 'la_despensa_alimentacion_aceites_y_vinagres',\n",
       " 'aceite_especias_y_salsas_aceite_vinagre_y_sal',\n",
       " 'la_despensa_alimentacion_aceites_y_vinagres',\n",
       " 'aceite_especias_y_salsas_otras_salsas',\n",
       " 'la_despensa_alimentacion_aceites_y_vinagres',\n",
       " 'la_despensa_alimentacion_aceites_y_vinagres',\n",
       " 'la_despensa_alimentacion_aceites_y_vinagres',\n",
       " 'aceite_especias_y_salsas_especias',\n",
       " 'aceite_especias_y_salsas_otras_salsas',\n",
       " 'la_despensa_alimentacion_aceites_y_vinagres',\n",
       " 'la_despensa_alimentacion_aceites_y_vinagres',\n",
       " 'aceite_especias_y_salsas_especias',\n",
       " 'aceite_especias_y_salsas_aceite_vinagre_y_sal',\n",
       " 'aceite_especias_y_salsas_aceite_vinagre_y_sal',\n",
       " 'aceite_especias_y_salsas_especias',\n",
       " 'la_despensa_alimentacion_aceites_y_vinagres',\n",
       " 'aceite_especias_y_salsas_especias',\n",
       " 'la_despensa_alimentacion_aceites_y_vinagres',\n",
       " 'la_despensa_alimentacion_aceites_y_vinagres',\n",
       " 'la_despensa_alimentacion_aceites_y_vinagres',\n",
       " 'aceite_especias_y_salsas_otras_salsas',\n",
       " 'la_despensa_alimentacion_aceites_y_vinagres',\n",
       " 'la_despensa_alimentacion_aceites_y_vinagres',\n",
       " 'aceite_especias_y_salsas_aceite_vinagre_y_sal',\n",
       " 'la_despensa_alimentacion_aceites_y_vinagres',\n",
       " 'la_despensa_alimentacion_aceites_y_vinagres',\n",
       " 'la_despensa_alimentacion_aceites_y_vinagres',\n",
       " 'aceite_especias_y_salsas_otras_salsas',\n",
       " 'perfumeria_e_higiene_cuidado_corporal_aceite',\n",
       " 'aceite_especias_y_salsas_especias',\n",
       " 'la_despensa_alimentacion_aceites_y_vinagres',\n",
       " 'aceite_especias_y_salsas_otras_salsas',\n",
       " 'aceite_especias_y_salsas_otras_salsas',\n",
       " 'la_despensa_alimentacion_aceites_y_vinagres',\n",
       " 'la_despensa_alimentacion_aceites_y_vinagres',\n",
       " 'la_despensa_alimentacion_aceites_y_vinagres',\n",
       " 'aceite_especias_y_salsas_especias',\n",
       " 'aceite_especias_y_salsas_especias',\n",
       " 'aceite_especias_y_salsas_otras_salsas',\n",
       " 'la_despensa_alimentacion_aceites_y_vinagres',\n",
       " 'aceite_especias_y_salsas_especias',\n",
       " 'alimentacion_aceite_aceite_de_oliva_suave_05o',\n",
       " 'aceite_especias_y_salsas_especias',\n",
       " 'aceite_especias_y_salsas_especias',\n",
       " 'la_despensa_alimentacion_aceites_y_vinagres',\n",
       " 'la_despensa_alimentacion_aceites_y_vinagres',\n",
       " 'la_despensa_alimentacion_aceites_y_vinagres',\n",
       " 'bebe_perfumeria_e_higiene_aceite_corporal',\n",
       " 'aceite_especias_y_salsas_aceite_vinagre_y_sal',\n",
       " 'la_despensa_alimentacion_aceites_y_vinagres',\n",
       " 'alimentacion_aceite_aceite_de_oliva_virgen_y_virgen_extra',\n",
       " 'aceite_especias_y_salsas_otras_salsas',\n",
       " 'la_despensa_alimentacion_aceites_y_vinagres',\n",
       " 'alimentacion_aceite_aceite_de_oliva_suave_05o',\n",
       " 'aceite_especias_y_salsas_otras_salsas',\n",
       " 'alimentacion_aceite_aceite_de_oliva_virgen_y_virgen_extra',\n",
       " 'la_despensa_alimentacion_aceites_y_vinagres',\n",
       " 'la_despensa_alimentacion_aceites_y_vinagres',\n",
       " 'aceite_especias_y_salsas_otras_salsas',\n",
       " 'aceite_especias_y_salsas_mayonesa_ketchup_y_mostaza',\n",
       " 'alimentacion_aceite_otros_aceites',\n",
       " 'la_despensa_alimentacion_aceites_y_vinagres',\n",
       " 'aceite_especias_y_salsas_mayonesa_ketchup_y_mostaza',\n",
       " 'aceite_especias_y_salsas_especias',\n",
       " 'alimentacion_aceite_otros_aceites',\n",
       " 'la_despensa_alimentacion_aceites_y_vinagres',\n",
       " 'la_despensa_alimentacion_aceites_y_vinagres',\n",
       " 'la_despensa_alimentacion_aceites_y_vinagres',\n",
       " 'la_despensa_alimentacion_aceites_y_vinagres',\n",
       " 'aceite_especias_y_salsas_otras_salsas',\n",
       " 'aceite_especias_y_salsas_otras_salsas',\n",
       " 'la_despensa_alimentacion_aceites_y_vinagres',\n",
       " 'alimentacion_aceite_aceite_de_oliva_virgen_y_virgen_extra',\n",
       " 'aceite_especias_y_salsas_otras_salsas',\n",
       " 'alimentacion_aceite_aceite_de_girasol',\n",
       " 'la_despensa_alimentacion_aceites_y_vinagres',\n",
       " 'aceite_especias_y_salsas_aceite_vinagre_y_sal',\n",
       " 'aceite_especias_y_salsas_especias',\n",
       " 'aceite_especias_y_salsas_otras_salsas',\n",
       " 'aceite_especias_y_salsas_aceite_vinagre_y_sal',\n",
       " 'aceite_especias_y_salsas_especias',\n",
       " 'aceite_especias_y_salsas_otras_salsas',\n",
       " 'alimentacion_aceite_aceite_de_oliva_virgen_y_virgen_extra',\n",
       " 'aceite_especias_y_salsas_aceite_vinagre_y_sal',\n",
       " 'aceite_especias_y_salsas_especias',\n",
       " 'la_despensa_alimentacion_aceites_y_vinagres',\n",
       " 'la_despensa_alimentacion_aceites_y_vinagres',\n",
       " 'aceite_especias_y_salsas_otras_salsas',\n",
       " 'la_despensa_alimentacion_aceites_y_vinagres',\n",
       " 'la_despensa_alimentacion_aceites_y_vinagres',\n",
       " 'aceite_especias_y_salsas_aceite_vinagre_y_sal',\n",
       " 'la_despensa_alimentacion_aceites_y_vinagres',\n",
       " 'la_despensa_alimentacion_aceites_y_vinagres',\n",
       " 'alimentacion_aceite_aceite_de_girasol',\n",
       " 'la_despensa_alimentacion_aceites_y_vinagres',\n",
       " 'aceite_especias_y_salsas_especias',\n",
       " 'bebe_perfumeria_e_higiene_aceite_corporal',\n",
       " 'aceite_especias_y_salsas_aceite_vinagre_y_sal',\n",
       " 'alimentacion_aceite_aceite_de_girasol',\n",
       " 'aceite_especias_y_salsas_otras_salsas',\n",
       " 'aceite_especias_y_salsas_otras_salsas',\n",
       " 'aceite_especias_y_salsas_especias',\n",
       " 'aceite_especias_y_salsas_otras_salsas',\n",
       " 'aceite_especias_y_salsas_otras_salsas',\n",
       " 'aceite_especias_y_salsas_especias',\n",
       " 'aceite_especias_y_salsas_aceite_vinagre_y_sal',\n",
       " 'aceite_especias_y_salsas_mayonesa_ketchup_y_mostaza',\n",
       " 'aceite_especias_y_salsas_otras_salsas',\n",
       " 'aceite_especias_y_salsas_especias',\n",
       " 'la_despensa_alimentacion_aceites_y_vinagres',\n",
       " 'perfumeria_e_higiene_cuidado_corporal_aceite',\n",
       " 'la_despensa_alimentacion_aceites_y_vinagres',\n",
       " 'aceite_especias_y_salsas_especias',\n",
       " 'aceite_especias_y_salsas_aceite_vinagre_y_sal',\n",
       " 'la_despensa_alimentacion_aceites_y_vinagres',\n",
       " 'aceite_especias_y_salsas_otras_salsas',\n",
       " 'la_despensa_alimentacion_aceites_y_vinagres',\n",
       " 'aceite_especias_y_salsas_aceite_vinagre_y_sal',\n",
       " 'la_despensa_alimentacion_aceites_y_vinagres',\n",
       " 'la_despensa_alimentacion_aceites_y_vinagres',\n",
       " 'bebe_embarazo_y_lactancia_cremas_y_aceites',\n",
       " 'aceite_especias_y_salsas_especias',\n",
       " 'aceite_especias_y_salsas_especias',\n",
       " 'parafarmacia_bebe_hidratantes_y_aceites_corporales',\n",
       " 'la_despensa_alimentacion_aceites_y_vinagres',\n",
       " 'la_despensa_alimentacion_aceites_y_vinagres',\n",
       " 'aceite_especias_y_salsas_especias',\n",
       " 'parafarmacia_bebe_hidratantes_y_aceites_corporales',\n",
       " 'la_despensa_alimentacion_aceites_y_vinagres',\n",
       " 'alimentacion_aceite_aceite_de_girasol',\n",
       " 'la_despensa_alimentacion_aceites_y_vinagres',\n",
       " 'aceite_especias_y_salsas_otras_salsas',\n",
       " 'perfumeria_e_higiene_cuidado_corporal_aceite',\n",
       " 'la_despensa_alimentacion_aceites_y_vinagres',\n",
       " 'alimentacion_aceite_aceite_de_girasol',\n",
       " 'la_despensa_alimentacion_aceites_y_vinagres',\n",
       " 'la_despensa_alimentacion_aceites_y_vinagres',\n",
       " 'aceite_especias_y_salsas_aceite_vinagre_y_sal',\n",
       " 'la_despensa_alimentacion_aceites_y_vinagres',\n",
       " 'la_despensa_alimentacion_aceites_y_vinagres',\n",
       " 'la_despensa_alimentacion_aceites_y_vinagres',\n",
       " 'aceite_especias_y_salsas_otras_salsas',\n",
       " 'aceite_especias_y_salsas_otras_salsas',\n",
       " 'la_despensa_alimentacion_aceites_y_vinagres',\n",
       " 'aceite_especias_y_salsas_otras_salsas',\n",
       " 'la_despensa_alimentacion_aceites_y_vinagres',\n",
       " 'la_despensa_alimentacion_aceites_y_vinagres',\n",
       " 'aceite_especias_y_salsas_aceite_vinagre_y_sal',\n",
       " 'la_despensa_alimentacion_aceites_y_vinagres',\n",
       " 'la_despensa_alimentacion_aceites_y_vinagres',\n",
       " 'aceite_especias_y_salsas_mayonesa_ketchup_y_mostaza',\n",
       " 'aceite_especias_y_salsas_aceite_vinagre_y_sal',\n",
       " 'aceite_especias_y_salsas_especias',\n",
       " 'aceite_especias_y_salsas_aceite_vinagre_y_sal',\n",
       " 'aceite_especias_y_salsas_especias',\n",
       " 'aceite_especias_y_salsas_mayonesa_ketchup_y_mostaza',\n",
       " 'la_despensa_alimentacion_aceites_y_vinagres',\n",
       " 'la_despensa_alimentacion_aceites_y_vinagres',\n",
       " 'aceite_especias_y_salsas_otras_salsas',\n",
       " 'aceite_especias_y_salsas_otras_salsas',\n",
       " 'aceite_especias_y_salsas_mayonesa_ketchup_y_mostaza',\n",
       " 'aceite_especias_y_salsas_especias',\n",
       " 'la_despensa_alimentacion_aceites_y_vinagres',\n",
       " 'aceite_especias_y_salsas_especias',\n",
       " 'aceite_especias_y_salsas_especias',\n",
       " 'aceite_especias_y_salsas_otras_salsas',\n",
       " 'aceite_especias_y_salsas_especias',\n",
       " 'la_despensa_alimentacion_aceites_y_vinagres',\n",
       " 'la_despensa_alimentacion_aceites_y_vinagres',\n",
       " 'la_despensa_alimentacion_aceites_y_vinagres',\n",
       " 'aceite_especias_y_salsas_especias',\n",
       " 'aceite_especias_y_salsas_otras_salsas',\n",
       " 'aceite_especias_y_salsas_especias',\n",
       " 'aceite_especias_y_salsas_especias',\n",
       " 'la_despensa_alimentacion_aceites_y_vinagres',\n",
       " 'aceite_especias_y_salsas_otras_salsas',\n",
       " 'aceite_especias_y_salsas_aceite_vinagre_y_sal',\n",
       " 'aceite_especias_y_salsas_especias',\n",
       " 'la_despensa_alimentacion_aceites_y_vinagres',\n",
       " 'la_despensa_alimentacion_aceites_y_vinagres',\n",
       " 'aceite_especias_y_salsas_otras_salsas',\n",
       " 'la_despensa_alimentacion_aceites_y_vinagres',\n",
       " 'la_despensa_alimentacion_aceites_y_vinagres',\n",
       " 'aceite_especias_y_salsas_especias',\n",
       " 'perfumeria_e_higiene_cuidado_corporal_aceite',\n",
       " 'la_despensa_alimentacion_aceites_y_vinagres',\n",
       " 'aceite_especias_y_salsas_aceite_vinagre_y_sal',\n",
       " 'alimentacion_aceite_aceite_de_girasol',\n",
       " 'la_despensa_alimentacion_aceites_y_vinagres',\n",
       " 'la_despensa_alimentacion_aceites_y_vinagres',\n",
       " 'la_despensa_alimentacion_aceites_y_vinagres',\n",
       " 'aceite_especias_y_salsas_especias',\n",
       " 'perfumeria_e_higiene_cuidado_corporal_aceite',\n",
       " 'la_despensa_alimentacion_aceites_y_vinagres',\n",
       " 'aceite_especias_y_salsas_aceite_vinagre_y_sal',\n",
       " 'la_despensa_alimentacion_aceites_y_vinagres',\n",
       " 'aceite_especias_y_salsas_aceite_vinagre_y_sal',\n",
       " 'alimentacion_aceite_aceite_de_oliva_virgen_y_virgen_extra',\n",
       " 'la_despensa_alimentacion_aceites_y_vinagres',\n",
       " 'aceite_especias_y_salsas_otras_salsas',\n",
       " 'aceite_especias_y_salsas_especias',\n",
       " 'la_despensa_alimentacion_aceites_y_vinagres',\n",
       " 'la_despensa_alimentacion_aceites_y_vinagres',\n",
       " 'la_despensa_alimentacion_aceites_y_vinagres',\n",
       " 'la_despensa_alimentacion_aceites_y_vinagres',\n",
       " 'alimentacion_aceite_aceite_de_oliva_virgen_y_virgen_extra',\n",
       " 'alimentacion_aceite_aceite_de_girasol',\n",
       " 'perfumeria_e_higiene_cuidado_corporal_aceite',\n",
       " 'alimentacion_aceite_aceite_de_oliva_intenso_06o1o',\n",
       " 'la_despensa_alimentacion_aceites_y_vinagres',\n",
       " 'la_despensa_alimentacion_aceites_y_vinagres',\n",
       " 'alimentacion_aceite_aceite_de_oliva_virgen_y_virgen_extra',\n",
       " 'aceite_especias_y_salsas_otras_salsas',\n",
       " 'alimentacion_aceite_aceite_de_oliva_virgen_y_virgen_extra',\n",
       " 'la_despensa_alimentacion_aceites_y_vinagres',\n",
       " 'la_despensa_alimentacion_aceites_y_vinagres',\n",
       " 'aceite_especias_y_salsas_especias',\n",
       " 'aceite_especias_y_salsas_otras_salsas',\n",
       " 'alimentacion_aceite_aceite_de_oliva_virgen_y_virgen_extra',\n",
       " 'aceite_especias_y_salsas_especias',\n",
       " 'la_despensa_alimentacion_aceites_y_vinagres',\n",
       " 'aceite_especias_y_salsas_aceite_vinagre_y_sal',\n",
       " 'la_despensa_alimentacion_aceites_y_vinagres',\n",
       " 'la_despensa_alimentacion_aceites_y_vinagres',\n",
       " 'aceite_especias_y_salsas_otras_salsas',\n",
       " 'parafarmacia_bebe_hidratantes_y_aceites_corporales',\n",
       " 'aceite_especias_y_salsas_aceite_vinagre_y_sal',\n",
       " 'parafarmacia_bebe_hidratantes_y_aceites_corporales',\n",
       " 'aceite_especias_y_salsas_otras_salsas',\n",
       " 'aceite_especias_y_salsas_otras_salsas',\n",
       " 'aceite_especias_y_salsas_aceite_vinagre_y_sal',\n",
       " 'bebe_embarazo_y_lactancia_cremas_y_aceites',\n",
       " 'aceite_especias_y_salsas_especias',\n",
       " 'la_despensa_alimentacion_aceites_y_vinagres',\n",
       " 'bebe_embarazo_y_lactancia_cremas_y_aceites',\n",
       " 'la_despensa_alimentacion_aceites_y_vinagres',\n",
       " 'alimentacion_aceite_aceite_de_oliva_suave_05o',\n",
       " 'perfumeria_e_higiene_cuidado_corporal_aceite',\n",
       " 'la_despensa_alimentacion_aceites_y_vinagres',\n",
       " 'la_despensa_alimentacion_aceites_y_vinagres',\n",
       " 'la_despensa_alimentacion_aceites_y_vinagres',\n",
       " 'la_despensa_alimentacion_aceites_y_vinagres',\n",
       " 'aceite_especias_y_salsas_especias',\n",
       " 'la_despensa_alimentacion_aceites_y_vinagres',\n",
       " 'aceite_especias_y_salsas_aceite_vinagre_y_sal',\n",
       " 'aceite_especias_y_salsas_mayonesa_ketchup_y_mostaza',\n",
       " 'la_despensa_alimentacion_aceites_y_vinagres',\n",
       " 'aceite_especias_y_salsas_otras_salsas',\n",
       " 'aceite_especias_y_salsas_aceite_vinagre_y_sal',\n",
       " 'aceite_especias_y_salsas_especias',\n",
       " 'la_despensa_alimentacion_aceites_y_vinagres',\n",
       " 'aceite_especias_y_salsas_especias',\n",
       " 'aceite_especias_y_salsas_especias',\n",
       " 'aceite_especias_y_salsas_especias',\n",
       " 'aceite_especias_y_salsas_especias',\n",
       " 'la_despensa_alimentacion_aceites_y_vinagres',\n",
       " 'aceite_especias_y_salsas_mayonesa_ketchup_y_mostaza',\n",
       " 'la_despensa_alimentacion_aceites_y_vinagres',\n",
       " 'la_despensa_alimentacion_aceites_y_vinagres',\n",
       " 'aceite_especias_y_salsas_especias',\n",
       " 'la_despensa_alimentacion_aceites_y_vinagres',\n",
       " 'aceite_especias_y_salsas_mayonesa_ketchup_y_mostaza',\n",
       " 'la_despensa_alimentacion_aceites_y_vinagres',\n",
       " 'aceite_especias_y_salsas_otras_salsas',\n",
       " 'aceite_especias_y_salsas_especias',\n",
       " 'aceite_especias_y_salsas_otras_salsas',\n",
       " 'aceite_especias_y_salsas_mayonesa_ketchup_y_mostaza',\n",
       " 'aceite_especias_y_salsas_especias',\n",
       " 'la_despensa_alimentacion_aceites_y_vinagres',\n",
       " 'la_despensa_alimentacion_aceites_y_vinagres',\n",
       " 'aceite_especias_y_salsas_aceite_vinagre_y_sal',\n",
       " 'la_despensa_alimentacion_aceites_y_vinagres',\n",
       " 'alimentacion_aceite_aceite_de_oliva_suave_05o',\n",
       " 'la_despensa_alimentacion_aceites_y_vinagres',\n",
       " 'aceite_especias_y_salsas_especias',\n",
       " 'aceite_especias_y_salsas_especias',\n",
       " 'alimentacion_aceite_aceite_de_oliva_virgen_y_virgen_extra',\n",
       " 'la_despensa_alimentacion_aceites_y_vinagres',\n",
       " 'la_despensa_alimentacion_aceites_y_vinagres',\n",
       " 'aceite_especias_y_salsas_especias',\n",
       " 'la_despensa_alimentacion_aceites_y_vinagres',\n",
       " 'aceite_especias_y_salsas_mayonesa_ketchup_y_mostaza',\n",
       " 'aceite_especias_y_salsas_aceite_vinagre_y_sal',\n",
       " 'parafarmacia_bebe_hidratantes_y_aceites_corporales',\n",
       " 'la_despensa_alimentacion_aceites_y_vinagres',\n",
       " 'perfumeria_e_higiene_cuidado_corporal_aceite',\n",
       " 'bebe_embarazo_y_lactancia_cremas_y_aceites',\n",
       " 'aceite_especias_y_salsas_mayonesa_ketchup_y_mostaza',\n",
       " 'la_despensa_alimentacion_aceites_y_vinagres',\n",
       " 'la_despensa_alimentacion_aceites_y_vinagres',\n",
       " 'aceite_especias_y_salsas_otras_salsas',\n",
       " 'la_despensa_alimentacion_aceites_y_vinagres',\n",
       " 'la_despensa_alimentacion_aceites_y_vinagres',\n",
       " 'la_despensa_alimentacion_aceites_y_vinagres',\n",
       " 'parafarmacia_bebe_hidratantes_y_aceites_corporales',\n",
       " 'perfumeria_e_higiene_cuidado_corporal_aceite',\n",
       " 'aceite_especias_y_salsas_especias',\n",
       " 'la_despensa_alimentacion_aceites_y_vinagres',\n",
       " 'aceite_especias_y_salsas_aceite_vinagre_y_sal',\n",
       " 'aceite_especias_y_salsas_otras_salsas',\n",
       " 'aceite_especias_y_salsas_especias',\n",
       " 'la_despensa_alimentacion_aceites_y_vinagres',\n",
       " 'aceite_especias_y_salsas_especias',\n",
       " 'bebe_embarazo_y_lactancia_cremas_y_aceites',\n",
       " 'aceite_especias_y_salsas_aceite_vinagre_y_sal',\n",
       " 'la_despensa_alimentacion_aceites_y_vinagres',\n",
       " 'aceite_especias_y_salsas_otras_salsas',\n",
       " 'aceite_especias_y_salsas_otras_salsas',\n",
       " 'la_despensa_alimentacion_aceites_y_vinagres',\n",
       " 'aceite_especias_y_salsas_especias',\n",
       " 'aceite_especias_y_salsas_otras_salsas',\n",
       " 'perfumeria_e_higiene_cuidado_corporal_aceite',\n",
       " 'aceite_especias_y_salsas_especias',\n",
       " 'alimentacion_aceite_aceite_de_oliva_virgen_y_virgen_extra',\n",
       " 'la_despensa_alimentacion_aceites_y_vinagres',\n",
       " 'la_despensa_alimentacion_aceites_y_vinagres',\n",
       " 'aceite_especias_y_salsas_especias',\n",
       " 'perfumeria_e_higiene_cuidado_corporal_aceite',\n",
       " 'la_despensa_alimentacion_aceites_y_vinagres',\n",
       " 'aceite_especias_y_salsas_especias',\n",
       " 'alimentacion_aceite_aceite_de_oliva_virgen_y_virgen_extra',\n",
       " 'aceite_especias_y_salsas_mayonesa_ketchup_y_mostaza',\n",
       " 'la_despensa_alimentacion_aceites_y_vinagres',\n",
       " 'la_despensa_alimentacion_aceites_y_vinagres',\n",
       " 'la_despensa_alimentacion_aceites_y_vinagres',\n",
       " 'aceite_especias_y_salsas_otras_salsas',\n",
       " 'la_despensa_alimentacion_aceites_y_vinagres',\n",
       " 'la_despensa_alimentacion_aceites_y_vinagres',\n",
       " 'la_despensa_alimentacion_aceites_y_vinagres',\n",
       " 'la_despensa_alimentacion_aceites_y_vinagres',\n",
       " 'aceite_especias_y_salsas_aceite_vinagre_y_sal',\n",
       " 'parafarmacia_bebe_hidratantes_y_aceites_corporales',\n",
       " 'la_despensa_alimentacion_aceites_y_vinagres',\n",
       " 'la_despensa_alimentacion_aceites_y_vinagres',\n",
       " 'aceite_especias_y_salsas_mayonesa_ketchup_y_mostaza',\n",
       " 'aceite_especias_y_salsas_especias',\n",
       " 'la_despensa_alimentacion_aceites_y_vinagres',\n",
       " 'aceite_especias_y_salsas_especias',\n",
       " 'la_despensa_alimentacion_aceites_y_vinagres',\n",
       " 'alimentacion_aceite_aceite_de_oliva_suave_05o',\n",
       " 'bebe_perfumeria_e_higiene_aceite_corporal',\n",
       " 'aceite_especias_y_salsas_especias',\n",
       " 'la_despensa_alimentacion_aceites_y_vinagres',\n",
       " 'aceite_especias_y_salsas_aceite_vinagre_y_sal',\n",
       " ...]"
      ]
     },
     "execution_count": 8,
     "metadata": {},
     "output_type": "execute_result"
    }
   ],
   "source": [
    "aceite = []\n",
    "for i in categorias:\n",
    "    if 'aceite' in i:\n",
    "        aceite.append(i)\n",
    "aceite"
   ]
  },
  {
   "cell_type": "markdown",
   "metadata": {},
   "source": [
    "<h1> Carnes"
   ]
  },
  {
   "cell_type": "code",
   "execution_count": null,
   "metadata": {},
   "outputs": [
    {
     "data": {
      "text/plain": [
       "['carne_conejo_y_cordero',\n",
       " 'carne_aves_y_pollo',\n",
       " 'carne_aves_y_pollo',\n",
       " 'carne_empanados_y_elaborados',\n",
       " 'carne_aves_y_pollo',\n",
       " 'carne_arreglos',\n",
       " 'carne_cerdo',\n",
       " 'carne_embutido',\n",
       " 'carne_cerdo',\n",
       " 'carne_cerdo',\n",
       " 'carne_empanados_y_elaborados',\n",
       " 'carne_aves_y_pollo',\n",
       " 'carne_hamburguesas_y_picadas',\n",
       " 'carne_cerdo',\n",
       " 'carne_hamburguesas_y_picadas',\n",
       " 'carne_vacuno',\n",
       " 'carne_carne_congelada',\n",
       " 'carne_embutido',\n",
       " 'carne_arreglos',\n",
       " 'carne_empanados_y_elaborados',\n",
       " 'carne_vacuno',\n",
       " 'carne_vacuno',\n",
       " 'carne_aves_y_pollo',\n",
       " 'carne_vacuno',\n",
       " 'carne_arreglos',\n",
       " 'carne_hamburguesas_y_picadas',\n",
       " 'carne_aves_y_pollo',\n",
       " 'carne_cerdo',\n",
       " 'carne_empanados_y_elaborados',\n",
       " 'carne_empanados_y_elaborados',\n",
       " 'carne_hamburguesas_y_picadas',\n",
       " 'carne_cerdo',\n",
       " 'carne_cerdo',\n",
       " 'carne_empanados_y_elaborados',\n",
       " 'carne_arreglos',\n",
       " 'carne_empanados_y_elaborados',\n",
       " 'carne_aves_y_pollo',\n",
       " 'carne_empanados_y_elaborados',\n",
       " 'carne_hamburguesas_y_picadas',\n",
       " 'carne_aves_y_pollo',\n",
       " 'carne_cerdo',\n",
       " 'carne_empanados_y_elaborados',\n",
       " 'carne_cerdo',\n",
       " 'carne_aves_y_pollo',\n",
       " 'carne_cerdo',\n",
       " 'carne_empanados_y_elaborados',\n",
       " 'carne_carne_congelada',\n",
       " 'carne_hamburguesas_y_picadas',\n",
       " 'carne_vacuno',\n",
       " 'carne_aves_y_pollo',\n",
       " 'carne_cerdo',\n",
       " 'carne_cerdo',\n",
       " 'carne_aves_y_pollo',\n",
       " 'carne_cerdo',\n",
       " 'carne_embutido',\n",
       " 'carne_cerdo',\n",
       " 'carne_hamburguesas_y_picadas',\n",
       " 'carne_hamburguesas_y_picadas',\n",
       " 'carne_arreglos',\n",
       " 'carne_cerdo',\n",
       " 'carne_carne_congelada',\n",
       " 'carne_empanados_y_elaborados',\n",
       " 'carne_vacuno',\n",
       " 'carne_arreglos',\n",
       " 'carne_cerdo',\n",
       " 'carne_arreglos',\n",
       " 'carne_hamburguesas_y_picadas',\n",
       " 'carne_embutido',\n",
       " 'carne_aves_y_pollo',\n",
       " 'carne_cerdo',\n",
       " 'carne_aves_y_pollo',\n",
       " 'carne_conejo_y_cordero',\n",
       " 'carne_cerdo',\n",
       " 'carne_hamburguesas_y_picadas',\n",
       " 'carne_hamburguesas_y_picadas',\n",
       " 'carne_aves_y_pollo',\n",
       " 'carne_aves_y_pollo',\n",
       " 'carne_empanados_y_elaborados',\n",
       " 'carne_carne_congelada',\n",
       " 'carne_arreglos',\n",
       " 'carne_cerdo',\n",
       " 'carne_conejo_y_cordero',\n",
       " 'carne_vacuno',\n",
       " 'carne_aves_y_pollo',\n",
       " 'carne_aves_y_pollo',\n",
       " 'carne_empanados_y_elaborados',\n",
       " 'carne_aves_y_pollo',\n",
       " 'carne_cerdo',\n",
       " 'carne_empanados_y_elaborados',\n",
       " 'carne_hamburguesas_y_picadas',\n",
       " 'carne_vacuno',\n",
       " 'carne_vacuno',\n",
       " 'carne_arreglos',\n",
       " 'carne_embutido',\n",
       " 'carne_hamburguesas_y_picadas',\n",
       " 'carne_cerdo',\n",
       " 'carne_empanados_y_elaborados',\n",
       " 'carne_aves_y_pollo',\n",
       " 'carne_cerdo',\n",
       " 'carne_conejo_y_cordero',\n",
       " 'carne_aves_y_pollo',\n",
       " 'carne_carne_congelada',\n",
       " 'carne_hamburguesas_y_picadas',\n",
       " 'carne_empanados_y_elaborados',\n",
       " 'carne_cerdo',\n",
       " 'carne_aves_y_pollo',\n",
       " 'carne_cerdo',\n",
       " 'carne_aves_y_pollo',\n",
       " 'carne_hamburguesas_y_picadas',\n",
       " 'carne_aves_y_pollo',\n",
       " 'carne_aves_y_pollo',\n",
       " 'carne_empanados_y_elaborados',\n",
       " 'carne_conejo_y_cordero',\n",
       " 'carne_empanados_y_elaborados',\n",
       " 'carne_conejo_y_cordero',\n",
       " 'carne_cerdo',\n",
       " 'carne_aves_y_pollo',\n",
       " 'carne_cerdo',\n",
       " 'carne_hamburguesas_y_picadas',\n",
       " 'carne_hamburguesas_y_picadas',\n",
       " 'carne_conejo_y_cordero',\n",
       " 'carne_vacuno',\n",
       " 'carne_cerdo',\n",
       " 'carne_vacuno',\n",
       " 'carne_cerdo',\n",
       " 'carne_hamburguesas_y_picadas',\n",
       " 'carne_conejo_y_cordero',\n",
       " 'carne_empanados_y_elaborados',\n",
       " 'carne_embutido',\n",
       " 'carne_cerdo',\n",
       " 'carne_hamburguesas_y_picadas',\n",
       " 'carne_arreglos',\n",
       " 'carne_embutido',\n",
       " 'carne_carne_congelada',\n",
       " 'carne_cerdo',\n",
       " 'carne_arreglos',\n",
       " 'carne_aves_y_pollo',\n",
       " 'carne_cerdo',\n",
       " 'carne_aves_y_pollo',\n",
       " 'carne_aves_y_pollo',\n",
       " 'carne_cerdo',\n",
       " 'carne_empanados_y_elaborados',\n",
       " 'carne_aves_y_pollo',\n",
       " 'carne_aves_y_pollo',\n",
       " 'carne_cerdo',\n",
       " 'carne_empanados_y_elaborados',\n",
       " 'carne_cerdo',\n",
       " 'carne_hamburguesas_y_picadas',\n",
       " 'carne_cerdo',\n",
       " 'carne_embutido',\n",
       " 'carne_carne_congelada',\n",
       " 'carne_hamburguesas_y_picadas',\n",
       " 'carne_aves_y_pollo',\n",
       " 'carne_cerdo',\n",
       " 'carne_embutido',\n",
       " 'carne_aves_y_pollo',\n",
       " 'carne_carne_congelada',\n",
       " 'carne_aves_y_pollo',\n",
       " 'carne_hamburguesas_y_picadas',\n",
       " 'carne_cerdo',\n",
       " 'carne_aves_y_pollo',\n",
       " 'carne_arreglos',\n",
       " 'carne_cerdo',\n",
       " 'carne_cerdo',\n",
       " 'carne_empanados_y_elaborados',\n",
       " 'carne_aves_y_pollo',\n",
       " 'carne_empanados_y_elaborados',\n",
       " 'carne_carne_congelada',\n",
       " 'carne_hamburguesas_y_picadas',\n",
       " 'carne_embutido',\n",
       " 'carne_hamburguesas_y_picadas',\n",
       " 'carne_carne_congelada',\n",
       " 'carne_aves_y_pollo',\n",
       " 'carne_empanados_y_elaborados',\n",
       " 'carne_conejo_y_cordero',\n",
       " 'carne_vacuno',\n",
       " 'carne_empanados_y_elaborados',\n",
       " 'carne_vacuno',\n",
       " 'carne_embutido',\n",
       " 'carne_cerdo',\n",
       " 'carne_aves_y_pollo',\n",
       " 'carne_hamburguesas_y_picadas',\n",
       " 'carne_carne_congelada',\n",
       " 'carne_vacuno',\n",
       " 'carne_vacuno',\n",
       " 'carne_carne_congelada',\n",
       " 'carne_aves_y_pollo',\n",
       " 'carne_aves_y_pollo',\n",
       " 'carne_hamburguesas_y_picadas',\n",
       " 'carne_aves_y_pollo',\n",
       " 'carne_arreglos',\n",
       " 'carne_cerdo',\n",
       " 'carne_conejo_y_cordero',\n",
       " 'carne_arreglos',\n",
       " 'carne_embutido',\n",
       " 'carne_aves_y_pollo',\n",
       " 'carne_cerdo',\n",
       " 'carne_carne_congelada',\n",
       " 'carne_aves_y_pollo',\n",
       " 'carne_cerdo',\n",
       " 'carne_aves_y_pollo',\n",
       " 'carne_empanados_y_elaborados',\n",
       " 'carne_empanados_y_elaborados',\n",
       " 'carne_carne_congelada',\n",
       " 'carne_arreglos',\n",
       " 'carne_arreglos',\n",
       " 'carne_conejo_y_cordero',\n",
       " 'carne_aves_y_pollo',\n",
       " 'carne_conejo_y_cordero',\n",
       " 'carne_carne_congelada',\n",
       " 'carne_aves_y_pollo',\n",
       " 'carne_empanados_y_elaborados',\n",
       " 'carne_aves_y_pollo',\n",
       " 'carne_empanados_y_elaborados',\n",
       " 'carne_cerdo',\n",
       " 'carne_vacuno',\n",
       " 'carne_vacuno',\n",
       " 'carne_empanados_y_elaborados',\n",
       " 'carne_empanados_y_elaborados',\n",
       " 'carne_cerdo',\n",
       " 'carne_cerdo',\n",
       " 'carne_empanados_y_elaborados',\n",
       " 'carne_hamburguesas_y_picadas',\n",
       " 'carne_empanados_y_elaborados',\n",
       " 'carne_carne_congelada',\n",
       " 'carne_aves_y_pollo',\n",
       " 'carne_cerdo',\n",
       " 'carne_hamburguesas_y_picadas',\n",
       " 'carne_cerdo',\n",
       " 'carne_empanados_y_elaborados',\n",
       " 'carne_embutido',\n",
       " 'carne_aves_y_pollo',\n",
       " 'carne_vacuno',\n",
       " 'carne_conejo_y_cordero',\n",
       " 'carne_hamburguesas_y_picadas',\n",
       " 'carne_vacuno',\n",
       " 'carne_aves_y_pollo',\n",
       " 'carne_hamburguesas_y_picadas',\n",
       " 'carne_carne_congelada',\n",
       " 'carne_empanados_y_elaborados',\n",
       " 'carne_empanados_y_elaborados',\n",
       " 'carne_empanados_y_elaborados',\n",
       " 'carne_aves_y_pollo',\n",
       " 'carne_empanados_y_elaborados',\n",
       " 'carne_empanados_y_elaborados',\n",
       " 'carne_cerdo',\n",
       " 'carne_carne_congelada',\n",
       " 'carne_cerdo',\n",
       " 'carne_carne_congelada',\n",
       " 'carne_aves_y_pollo',\n",
       " 'carne_aves_y_pollo',\n",
       " 'carne_empanados_y_elaborados',\n",
       " 'carne_aves_y_pollo',\n",
       " 'carne_vacuno',\n",
       " 'carne_hamburguesas_y_picadas',\n",
       " 'carne_vacuno',\n",
       " 'carne_vacuno',\n",
       " 'carne_aves_y_pollo',\n",
       " 'carne_aves_y_pollo',\n",
       " 'carne_cerdo',\n",
       " 'carne_aves_y_pollo',\n",
       " 'carne_hamburguesas_y_picadas',\n",
       " 'carne_empanados_y_elaborados',\n",
       " 'carne_carne_congelada',\n",
       " 'carne_empanados_y_elaborados',\n",
       " 'carne_vacuno',\n",
       " 'carne_empanados_y_elaborados',\n",
       " 'carne_vacuno',\n",
       " 'carne_hamburguesas_y_picadas',\n",
       " 'carne_conejo_y_cordero',\n",
       " 'carne_cerdo',\n",
       " 'carne_empanados_y_elaborados',\n",
       " 'carne_aves_y_pollo',\n",
       " 'carne_empanados_y_elaborados',\n",
       " 'carne_embutido',\n",
       " 'carne_hamburguesas_y_picadas',\n",
       " 'carne_aves_y_pollo',\n",
       " 'carne_aves_y_pollo',\n",
       " 'carne_aves_y_pollo',\n",
       " 'carne_hamburguesas_y_picadas',\n",
       " 'carne_empanados_y_elaborados',\n",
       " 'carne_conejo_y_cordero',\n",
       " 'carne_carne_congelada',\n",
       " 'carne_arreglos',\n",
       " 'carne_arreglos',\n",
       " 'carne_vacuno',\n",
       " 'carne_cerdo',\n",
       " 'carne_cerdo',\n",
       " 'carne_arreglos',\n",
       " 'carne_hamburguesas_y_picadas',\n",
       " 'carne_hamburguesas_y_picadas',\n",
       " 'carne_arreglos',\n",
       " 'carne_empanados_y_elaborados',\n",
       " 'carne_empanados_y_elaborados',\n",
       " 'carne_cerdo',\n",
       " 'carne_aves_y_pollo',\n",
       " 'carne_conejo_y_cordero',\n",
       " 'carne_conejo_y_cordero',\n",
       " 'carne_aves_y_pollo',\n",
       " 'carne_arreglos',\n",
       " 'carne_cerdo',\n",
       " 'carne_arreglos',\n",
       " 'carne_vacuno',\n",
       " 'carne_arreglos',\n",
       " 'carne_arreglos',\n",
       " 'carne_empanados_y_elaborados',\n",
       " 'carne_aves_y_pollo',\n",
       " 'carne_vacuno',\n",
       " 'carne_hamburguesas_y_picadas',\n",
       " 'carne_aves_y_pollo',\n",
       " 'carne_aves_y_pollo',\n",
       " 'carne_vacuno',\n",
       " 'carne_cerdo',\n",
       " 'carne_cerdo',\n",
       " 'carne_cerdo',\n",
       " 'carne_aves_y_pollo',\n",
       " 'carne_conejo_y_cordero',\n",
       " 'carne_empanados_y_elaborados',\n",
       " 'carne_cerdo',\n",
       " 'carne_vacuno',\n",
       " 'carne_aves_y_pollo',\n",
       " 'carne_aves_y_pollo',\n",
       " 'carne_cerdo',\n",
       " 'carne_aves_y_pollo',\n",
       " 'carne_aves_y_pollo',\n",
       " 'carne_hamburguesas_y_picadas',\n",
       " 'carne_cerdo',\n",
       " 'carne_vacuno',\n",
       " 'carne_empanados_y_elaborados',\n",
       " 'carne_cerdo',\n",
       " 'carne_cerdo',\n",
       " 'carne_arreglos',\n",
       " 'carne_aves_y_pollo',\n",
       " 'carne_embutido',\n",
       " 'carne_aves_y_pollo',\n",
       " 'carne_vacuno',\n",
       " 'carne_cerdo',\n",
       " 'carne_empanados_y_elaborados',\n",
       " 'carne_aves_y_pollo',\n",
       " 'carne_vacuno',\n",
       " 'carne_empanados_y_elaborados',\n",
       " 'carne_aves_y_pollo',\n",
       " 'carne_cerdo',\n",
       " 'carne_empanados_y_elaborados',\n",
       " 'carne_empanados_y_elaborados',\n",
       " 'carne_aves_y_pollo',\n",
       " 'carne_hamburguesas_y_picadas',\n",
       " 'carne_cerdo',\n",
       " 'carne_aves_y_pollo',\n",
       " 'carne_hamburguesas_y_picadas',\n",
       " 'carne_hamburguesas_y_picadas',\n",
       " 'carne_empanados_y_elaborados',\n",
       " 'carne_aves_y_pollo',\n",
       " 'carne_aves_y_pollo',\n",
       " 'carne_empanados_y_elaborados',\n",
       " 'carne_aves_y_pollo',\n",
       " 'carne_empanados_y_elaborados',\n",
       " 'carne_arreglos',\n",
       " 'carne_cerdo',\n",
       " 'carne_cerdo',\n",
       " 'carne_cerdo',\n",
       " 'carne_aves_y_pollo',\n",
       " 'carne_empanados_y_elaborados',\n",
       " 'carne_aves_y_pollo',\n",
       " 'carne_cerdo',\n",
       " 'carne_embutido',\n",
       " 'carne_arreglos',\n",
       " 'carne_cerdo',\n",
       " 'carne_carne_congelada',\n",
       " 'carne_empanados_y_elaborados',\n",
       " 'carne_cerdo',\n",
       " 'carne_aves_y_pollo',\n",
       " 'carne_hamburguesas_y_picadas',\n",
       " 'carne_hamburguesas_y_picadas',\n",
       " 'carne_vacuno',\n",
       " 'carne_empanados_y_elaborados',\n",
       " 'carne_aves_y_pollo',\n",
       " 'carne_aves_y_pollo',\n",
       " 'carne_aves_y_pollo',\n",
       " 'carne_aves_y_pollo',\n",
       " 'carne_cerdo',\n",
       " 'carne_cerdo',\n",
       " 'carne_hamburguesas_y_picadas',\n",
       " 'carne_aves_y_pollo',\n",
       " 'carne_vacuno',\n",
       " 'carne_aves_y_pollo',\n",
       " 'carne_aves_y_pollo',\n",
       " 'carne_aves_y_pollo',\n",
       " 'carne_aves_y_pollo',\n",
       " 'carne_empanados_y_elaborados',\n",
       " 'carne_hamburguesas_y_picadas',\n",
       " 'carne_vacuno',\n",
       " 'carne_empanados_y_elaborados',\n",
       " 'carne_cerdo',\n",
       " 'carne_cerdo',\n",
       " 'carne_arreglos',\n",
       " 'carne_cerdo',\n",
       " 'carne_empanados_y_elaborados',\n",
       " 'carne_cerdo',\n",
       " 'carne_hamburguesas_y_picadas',\n",
       " 'carne_cerdo',\n",
       " 'carne_carne_congelada',\n",
       " 'carne_cerdo',\n",
       " 'carne_empanados_y_elaborados',\n",
       " 'carne_aves_y_pollo',\n",
       " 'carne_hamburguesas_y_picadas',\n",
       " 'carne_vacuno',\n",
       " 'carne_cerdo',\n",
       " 'carne_aves_y_pollo',\n",
       " 'carne_embutido',\n",
       " 'carne_carne_congelada',\n",
       " 'carne_aves_y_pollo',\n",
       " 'carne_aves_y_pollo',\n",
       " 'carne_conejo_y_cordero',\n",
       " 'carne_vacuno',\n",
       " 'carne_hamburguesas_y_picadas',\n",
       " 'carne_cerdo',\n",
       " 'carne_empanados_y_elaborados',\n",
       " 'carne_aves_y_pollo',\n",
       " 'carne_aves_y_pollo',\n",
       " 'carne_aves_y_pollo',\n",
       " 'carne_aves_y_pollo',\n",
       " 'carne_conejo_y_cordero',\n",
       " 'carne_embutido',\n",
       " 'carne_vacuno',\n",
       " 'carne_conejo_y_cordero',\n",
       " 'carne_conejo_y_cordero',\n",
       " 'carne_cerdo',\n",
       " 'carne_carne_congelada',\n",
       " 'carne_aves_y_pollo',\n",
       " 'carne_empanados_y_elaborados',\n",
       " 'carne_hamburguesas_y_picadas',\n",
       " 'carne_empanados_y_elaborados',\n",
       " 'carne_hamburguesas_y_picadas',\n",
       " 'carne_empanados_y_elaborados',\n",
       " 'carne_cerdo',\n",
       " 'carne_aves_y_pollo',\n",
       " 'carne_aves_y_pollo',\n",
       " 'carne_aves_y_pollo',\n",
       " 'carne_carne_congelada',\n",
       " 'carne_aves_y_pollo',\n",
       " 'carne_aves_y_pollo',\n",
       " 'carne_vacuno',\n",
       " 'carne_cerdo',\n",
       " 'carne_empanados_y_elaborados',\n",
       " 'carne_hamburguesas_y_picadas',\n",
       " 'carne_hamburguesas_y_picadas',\n",
       " 'carne_arreglos',\n",
       " 'carne_cerdo',\n",
       " 'carne_hamburguesas_y_picadas',\n",
       " 'carne_aves_y_pollo',\n",
       " 'carne_aves_y_pollo',\n",
       " 'carne_arreglos',\n",
       " 'carne_aves_y_pollo',\n",
       " 'carne_aves_y_pollo',\n",
       " 'carne_empanados_y_elaborados',\n",
       " 'carne_empanados_y_elaborados',\n",
       " 'carne_aves_y_pollo',\n",
       " 'carne_aves_y_pollo',\n",
       " 'carne_carne_congelada',\n",
       " 'carne_empanados_y_elaborados',\n",
       " 'carne_conejo_y_cordero',\n",
       " 'carne_aves_y_pollo',\n",
       " 'carne_empanados_y_elaborados',\n",
       " 'carne_embutido',\n",
       " 'carne_aves_y_pollo',\n",
       " 'carne_vacuno',\n",
       " 'carne_hamburguesas_y_picadas',\n",
       " 'carne_vacuno',\n",
       " 'carne_empanados_y_elaborados',\n",
       " 'carne_cerdo',\n",
       " 'carne_hamburguesas_y_picadas',\n",
       " 'carne_embutido',\n",
       " 'carne_cerdo',\n",
       " 'carne_empanados_y_elaborados',\n",
       " 'carne_arreglos',\n",
       " 'carne_aves_y_pollo',\n",
       " 'carne_hamburguesas_y_picadas',\n",
       " 'carne_cerdo',\n",
       " 'carne_aves_y_pollo',\n",
       " 'carne_vacuno',\n",
       " 'carne_cerdo',\n",
       " 'carne_aves_y_pollo',\n",
       " 'carne_hamburguesas_y_picadas',\n",
       " 'carne_vacuno',\n",
       " 'carne_aves_y_pollo',\n",
       " 'carne_conejo_y_cordero',\n",
       " 'carne_empanados_y_elaborados',\n",
       " 'carne_hamburguesas_y_picadas',\n",
       " 'carne_embutido',\n",
       " 'carne_arreglos',\n",
       " 'carne_aves_y_pollo',\n",
       " 'carne_arreglos',\n",
       " 'carne_vacuno',\n",
       " 'carne_empanados_y_elaborados',\n",
       " 'carne_embutido',\n",
       " 'carne_cerdo',\n",
       " 'carne_arreglos',\n",
       " 'carne_aves_y_pollo',\n",
       " 'carne_vacuno',\n",
       " 'carne_carne_congelada',\n",
       " 'carne_hamburguesas_y_picadas',\n",
       " 'carne_empanados_y_elaborados',\n",
       " 'carne_cerdo',\n",
       " 'carne_cerdo',\n",
       " 'carne_aves_y_pollo',\n",
       " 'carne_arreglos',\n",
       " 'carne_empanados_y_elaborados',\n",
       " 'carne_carne_congelada',\n",
       " 'carne_hamburguesas_y_picadas',\n",
       " 'carne_aves_y_pollo',\n",
       " 'carne_arreglos',\n",
       " 'carne_conejo_y_cordero',\n",
       " 'carne_embutido',\n",
       " 'carne_cerdo',\n",
       " 'carne_embutido',\n",
       " 'carne_empanados_y_elaborados',\n",
       " 'carne_aves_y_pollo',\n",
       " 'carne_hamburguesas_y_picadas',\n",
       " 'carne_cerdo',\n",
       " 'carne_hamburguesas_y_picadas',\n",
       " 'carne_cerdo',\n",
       " 'carne_conejo_y_cordero',\n",
       " 'carne_cerdo',\n",
       " 'carne_cerdo',\n",
       " 'carne_embutido',\n",
       " 'carne_aves_y_pollo',\n",
       " 'carne_empanados_y_elaborados',\n",
       " 'carne_arreglos',\n",
       " 'carne_cerdo',\n",
       " 'carne_aves_y_pollo',\n",
       " 'carne_empanados_y_elaborados',\n",
       " 'carne_cerdo',\n",
       " 'carne_arreglos',\n",
       " 'carne_empanados_y_elaborados',\n",
       " 'carne_arreglos',\n",
       " 'carne_vacuno',\n",
       " 'carne_empanados_y_elaborados',\n",
       " 'carne_hamburguesas_y_picadas',\n",
       " 'carne_aves_y_pollo',\n",
       " 'carne_cerdo',\n",
       " 'carne_vacuno',\n",
       " 'carne_hamburguesas_y_picadas',\n",
       " 'carne_cerdo',\n",
       " 'carne_embutido',\n",
       " 'carne_cerdo',\n",
       " 'carne_cerdo',\n",
       " 'carne_aves_y_pollo',\n",
       " 'carne_embutido',\n",
       " 'carne_empanados_y_elaborados',\n",
       " 'carne_cerdo',\n",
       " 'carne_aves_y_pollo',\n",
       " 'carne_empanados_y_elaborados',\n",
       " 'carne_carne_congelada',\n",
       " 'carne_hamburguesas_y_picadas',\n",
       " 'carne_conejo_y_cordero',\n",
       " 'carne_empanados_y_elaborados',\n",
       " 'carne_empanados_y_elaborados',\n",
       " 'carne_aves_y_pollo',\n",
       " 'carne_embutido',\n",
       " 'carne_carne_congelada',\n",
       " 'carne_empanados_y_elaborados',\n",
       " 'carne_empanados_y_elaborados',\n",
       " 'carne_empanados_y_elaborados',\n",
       " 'carne_hamburguesas_y_picadas',\n",
       " 'carne_hamburguesas_y_picadas',\n",
       " 'carne_aves_y_pollo',\n",
       " 'carne_cerdo',\n",
       " 'carne_empanados_y_elaborados',\n",
       " 'carne_hamburguesas_y_picadas',\n",
       " 'carne_vacuno',\n",
       " 'carne_empanados_y_elaborados',\n",
       " 'carne_cerdo',\n",
       " 'carne_hamburguesas_y_picadas',\n",
       " 'carne_cerdo',\n",
       " 'carne_conejo_y_cordero',\n",
       " 'carne_empanados_y_elaborados',\n",
       " 'carne_empanados_y_elaborados',\n",
       " 'carne_cerdo',\n",
       " 'carne_embutido',\n",
       " 'carne_carne_congelada',\n",
       " 'carne_embutido',\n",
       " 'carne_aves_y_pollo',\n",
       " 'carne_aves_y_pollo',\n",
       " 'carne_empanados_y_elaborados',\n",
       " 'carne_embutido',\n",
       " 'carne_carne_congelada',\n",
       " 'carne_aves_y_pollo',\n",
       " 'carne_embutido',\n",
       " 'carne_aves_y_pollo',\n",
       " 'carne_empanados_y_elaborados',\n",
       " 'carne_cerdo',\n",
       " 'carne_embutido',\n",
       " 'carne_conejo_y_cordero',\n",
       " 'carne_hamburguesas_y_picadas',\n",
       " 'carne_aves_y_pollo',\n",
       " 'carne_aves_y_pollo',\n",
       " 'carne_hamburguesas_y_picadas',\n",
       " 'carne_conejo_y_cordero',\n",
       " 'carne_vacuno',\n",
       " 'carne_arreglos',\n",
       " 'carne_aves_y_pollo',\n",
       " 'carne_cerdo',\n",
       " 'carne_vacuno',\n",
       " 'carne_aves_y_pollo',\n",
       " 'carne_cerdo',\n",
       " 'carne_empanados_y_elaborados',\n",
       " 'carne_carne_congelada',\n",
       " 'carne_cerdo',\n",
       " 'carne_aves_y_pollo',\n",
       " 'carne_vacuno',\n",
       " 'carne_cerdo',\n",
       " 'carne_aves_y_pollo',\n",
       " 'carne_hamburguesas_y_picadas',\n",
       " 'carne_arreglos',\n",
       " 'carne_aves_y_pollo',\n",
       " 'carne_cerdo',\n",
       " 'carne_carne_congelada',\n",
       " 'carne_empanados_y_elaborados',\n",
       " 'carne_vacuno',\n",
       " 'carne_vacuno',\n",
       " 'carne_hamburguesas_y_picadas',\n",
       " 'carne_carne_congelada',\n",
       " 'carne_aves_y_pollo',\n",
       " 'carne_aves_y_pollo',\n",
       " 'carne_vacuno',\n",
       " 'carne_aves_y_pollo',\n",
       " 'carne_aves_y_pollo',\n",
       " 'carne_aves_y_pollo',\n",
       " 'carne_aves_y_pollo',\n",
       " 'carne_arreglos',\n",
       " 'carne_embutido',\n",
       " 'carne_cerdo',\n",
       " 'carne_empanados_y_elaborados',\n",
       " 'carne_aves_y_pollo',\n",
       " 'carne_arreglos',\n",
       " 'carne_aves_y_pollo',\n",
       " 'carne_cerdo',\n",
       " 'carne_conejo_y_cordero',\n",
       " 'carne_empanados_y_elaborados',\n",
       " 'carne_arreglos',\n",
       " 'carne_aves_y_pollo',\n",
       " 'carne_aves_y_pollo',\n",
       " 'carne_conejo_y_cordero',\n",
       " 'carne_cerdo',\n",
       " 'carne_cerdo',\n",
       " 'carne_cerdo',\n",
       " 'carne_aves_y_pollo',\n",
       " 'carne_cerdo',\n",
       " 'carne_cerdo',\n",
       " 'carne_cerdo',\n",
       " 'carne_cerdo',\n",
       " 'carne_cerdo',\n",
       " 'carne_aves_y_pollo',\n",
       " 'carne_cerdo',\n",
       " 'carne_cerdo',\n",
       " 'carne_aves_y_pollo',\n",
       " 'carne_carne_congelada',\n",
       " 'carne_cerdo',\n",
       " 'carne_vacuno',\n",
       " 'carne_cerdo',\n",
       " 'carne_empanados_y_elaborados',\n",
       " 'carne_aves_y_pollo',\n",
       " 'carne_aves_y_pollo',\n",
       " 'carne_vacuno',\n",
       " 'carne_embutido',\n",
       " 'carne_conejo_y_cordero',\n",
       " 'carne_cerdo',\n",
       " 'carne_arreglos',\n",
       " 'carne_empanados_y_elaborados',\n",
       " 'carne_aves_y_pollo',\n",
       " 'carne_aves_y_pollo',\n",
       " 'carne_cerdo',\n",
       " 'carne_arreglos',\n",
       " 'carne_aves_y_pollo',\n",
       " 'carne_vacuno',\n",
       " 'carne_aves_y_pollo',\n",
       " 'carne_aves_y_pollo',\n",
       " 'carne_hamburguesas_y_picadas',\n",
       " 'carne_vacuno',\n",
       " 'carne_aves_y_pollo',\n",
       " 'carne_carne_congelada',\n",
       " 'carne_arreglos',\n",
       " 'carne_hamburguesas_y_picadas',\n",
       " 'carne_empanados_y_elaborados',\n",
       " 'carne_cerdo',\n",
       " 'carne_empanados_y_elaborados',\n",
       " 'carne_cerdo',\n",
       " 'carne_aves_y_pollo',\n",
       " 'carne_aves_y_pollo',\n",
       " 'carne_aves_y_pollo',\n",
       " 'carne_aves_y_pollo',\n",
       " 'carne_conejo_y_cordero',\n",
       " 'carne_embutido',\n",
       " 'carne_aves_y_pollo',\n",
       " 'carne_carne_congelada',\n",
       " 'carne_hamburguesas_y_picadas',\n",
       " 'carne_empanados_y_elaborados',\n",
       " 'carne_carne_congelada',\n",
       " 'carne_carne_congelada',\n",
       " 'carne_aves_y_pollo',\n",
       " 'carne_arreglos',\n",
       " 'carne_cerdo',\n",
       " 'carne_aves_y_pollo',\n",
       " 'carne_aves_y_pollo',\n",
       " 'carne_conejo_y_cordero',\n",
       " 'carne_aves_y_pollo',\n",
       " 'carne_aves_y_pollo',\n",
       " 'carne_conejo_y_cordero',\n",
       " 'carne_cerdo',\n",
       " 'carne_aves_y_pollo',\n",
       " 'carne_cerdo',\n",
       " 'carne_vacuno',\n",
       " 'carne_vacuno',\n",
       " 'carne_cerdo',\n",
       " 'carne_aves_y_pollo',\n",
       " 'carne_embutido',\n",
       " 'carne_cerdo',\n",
       " 'carne_cerdo',\n",
       " 'carne_empanados_y_elaborados',\n",
       " 'carne_vacuno',\n",
       " 'carne_empanados_y_elaborados',\n",
       " 'carne_arreglos',\n",
       " 'carne_empanados_y_elaborados',\n",
       " 'carne_empanados_y_elaborados',\n",
       " 'carne_cerdo',\n",
       " 'carne_aves_y_pollo',\n",
       " 'carne_cerdo',\n",
       " 'carne_aves_y_pollo',\n",
       " 'carne_cerdo',\n",
       " 'carne_empanados_y_elaborados',\n",
       " 'carne_hamburguesas_y_picadas',\n",
       " 'carne_hamburguesas_y_picadas',\n",
       " 'carne_embutido',\n",
       " 'carne_cerdo',\n",
       " 'carne_hamburguesas_y_picadas',\n",
       " 'carne_carne_congelada',\n",
       " 'carne_aves_y_pollo',\n",
       " 'carne_empanados_y_elaborados',\n",
       " 'carne_aves_y_pollo',\n",
       " 'carne_vacuno',\n",
       " 'carne_carne_congelada',\n",
       " 'carne_hamburguesas_y_picadas',\n",
       " 'carne_aves_y_pollo',\n",
       " 'carne_cerdo',\n",
       " 'carne_carne_congelada',\n",
       " 'carne_empanados_y_elaborados',\n",
       " 'carne_aves_y_pollo',\n",
       " 'carne_embutido',\n",
       " 'carne_aves_y_pollo',\n",
       " 'carne_arreglos',\n",
       " 'carne_hamburguesas_y_picadas',\n",
       " 'carne_cerdo',\n",
       " 'carne_aves_y_pollo',\n",
       " 'carne_aves_y_pollo',\n",
       " 'carne_carne_congelada',\n",
       " 'carne_aves_y_pollo',\n",
       " 'carne_cerdo',\n",
       " 'carne_arreglos',\n",
       " 'carne_aves_y_pollo',\n",
       " 'carne_aves_y_pollo',\n",
       " 'carne_carne_congelada',\n",
       " 'carne_aves_y_pollo',\n",
       " 'carne_vacuno',\n",
       " 'carne_cerdo',\n",
       " 'carne_empanados_y_elaborados',\n",
       " 'carne_cerdo',\n",
       " 'carne_aves_y_pollo',\n",
       " 'carne_cerdo',\n",
       " 'carne_aves_y_pollo',\n",
       " 'carne_aves_y_pollo',\n",
       " 'carne_vacuno',\n",
       " 'carne_aves_y_pollo',\n",
       " 'carne_vacuno',\n",
       " 'carne_aves_y_pollo',\n",
       " 'carne_conejo_y_cordero',\n",
       " 'carne_aves_y_pollo',\n",
       " 'carne_hamburguesas_y_picadas',\n",
       " 'carne_embutido',\n",
       " 'carne_empanados_y_elaborados',\n",
       " 'carne_hamburguesas_y_picadas',\n",
       " 'carne_empanados_y_elaborados',\n",
       " 'carne_cerdo',\n",
       " 'carne_empanados_y_elaborados',\n",
       " 'carne_cerdo',\n",
       " 'carne_empanados_y_elaborados',\n",
       " 'carne_cerdo',\n",
       " 'carne_empanados_y_elaborados',\n",
       " 'carne_empanados_y_elaborados',\n",
       " 'carne_vacuno',\n",
       " 'carne_aves_y_pollo',\n",
       " 'carne_aves_y_pollo',\n",
       " 'carne_arreglos',\n",
       " 'carne_empanados_y_elaborados',\n",
       " 'carne_vacuno',\n",
       " 'carne_carne_congelada',\n",
       " 'carne_empanados_y_elaborados',\n",
       " 'carne_empanados_y_elaborados',\n",
       " 'carne_vacuno',\n",
       " 'carne_empanados_y_elaborados',\n",
       " 'carne_carne_congelada',\n",
       " 'carne_aves_y_pollo',\n",
       " 'carne_aves_y_pollo',\n",
       " 'carne_hamburguesas_y_picadas',\n",
       " 'carne_hamburguesas_y_picadas',\n",
       " 'carne_cerdo',\n",
       " 'carne_empanados_y_elaborados',\n",
       " 'carne_empanados_y_elaborados',\n",
       " 'carne_carne_congelada',\n",
       " 'carne_cerdo',\n",
       " 'carne_empanados_y_elaborados',\n",
       " 'carne_aves_y_pollo',\n",
       " 'carne_aves_y_pollo',\n",
       " 'carne_hamburguesas_y_picadas',\n",
       " 'carne_embutido',\n",
       " 'carne_aves_y_pollo',\n",
       " 'carne_aves_y_pollo',\n",
       " 'carne_cerdo',\n",
       " 'carne_hamburguesas_y_picadas',\n",
       " 'carne_aves_y_pollo',\n",
       " 'carne_aves_y_pollo',\n",
       " 'carne_aves_y_pollo',\n",
       " 'carne_cerdo',\n",
       " 'carne_cerdo',\n",
       " 'carne_vacuno',\n",
       " 'carne_conejo_y_cordero',\n",
       " 'carne_cerdo',\n",
       " 'carne_vacuno',\n",
       " 'carne_cerdo',\n",
       " 'carne_conejo_y_cordero',\n",
       " 'carne_cerdo',\n",
       " 'carne_arreglos',\n",
       " 'carne_cerdo',\n",
       " 'carne_cerdo',\n",
       " 'carne_aves_y_pollo',\n",
       " 'carne_carne_congelada',\n",
       " 'carne_cerdo',\n",
       " 'carne_aves_y_pollo',\n",
       " 'carne_empanados_y_elaborados',\n",
       " 'carne_aves_y_pollo',\n",
       " 'carne_hamburguesas_y_picadas',\n",
       " 'carne_cerdo',\n",
       " 'carne_conejo_y_cordero',\n",
       " 'carne_embutido',\n",
       " 'carne_hamburguesas_y_picadas',\n",
       " 'carne_vacuno',\n",
       " 'carne_aves_y_pollo',\n",
       " 'carne_aves_y_pollo',\n",
       " 'carne_hamburguesas_y_picadas',\n",
       " 'carne_empanados_y_elaborados',\n",
       " 'carne_cerdo',\n",
       " 'carne_empanados_y_elaborados',\n",
       " 'carne_carne_congelada',\n",
       " 'carne_carne_congelada',\n",
       " 'carne_hamburguesas_y_picadas',\n",
       " 'carne_cerdo',\n",
       " 'carne_aves_y_pollo',\n",
       " 'carne_vacuno',\n",
       " 'carne_aves_y_pollo',\n",
       " 'carne_aves_y_pollo',\n",
       " 'carne_aves_y_pollo',\n",
       " 'carne_empanados_y_elaborados',\n",
       " 'carne_vacuno',\n",
       " 'carne_empanados_y_elaborados',\n",
       " 'carne_hamburguesas_y_picadas',\n",
       " 'carne_aves_y_pollo',\n",
       " 'carne_hamburguesas_y_picadas',\n",
       " 'carne_carne_congelada',\n",
       " 'carne_aves_y_pollo',\n",
       " 'carne_conejo_y_cordero',\n",
       " 'carne_cerdo',\n",
       " 'carne_embutido',\n",
       " 'carne_empanados_y_elaborados',\n",
       " 'carne_empanados_y_elaborados',\n",
       " 'carne_cerdo',\n",
       " 'carne_hamburguesas_y_picadas',\n",
       " 'carne_aves_y_pollo',\n",
       " 'carne_empanados_y_elaborados',\n",
       " 'carne_embutido',\n",
       " 'carne_cerdo',\n",
       " 'carne_aves_y_pollo',\n",
       " 'carne_empanados_y_elaborados',\n",
       " 'carne_conejo_y_cordero',\n",
       " 'carne_empanados_y_elaborados',\n",
       " 'carne_arreglos',\n",
       " 'carne_cerdo',\n",
       " 'carne_vacuno',\n",
       " 'carne_aves_y_pollo',\n",
       " 'carne_empanados_y_elaborados',\n",
       " 'carne_aves_y_pollo',\n",
       " 'carne_empanados_y_elaborados',\n",
       " 'carne_empanados_y_elaborados',\n",
       " 'carne_cerdo',\n",
       " 'carne_aves_y_pollo',\n",
       " 'carne_empanados_y_elaborados',\n",
       " 'carne_embutido',\n",
       " 'carne_empanados_y_elaborados',\n",
       " 'carne_cerdo',\n",
       " 'carne_cerdo',\n",
       " 'carne_arreglos',\n",
       " 'carne_empanados_y_elaborados',\n",
       " 'carne_hamburguesas_y_picadas',\n",
       " 'carne_aves_y_pollo',\n",
       " 'carne_embutido',\n",
       " 'carne_empanados_y_elaborados',\n",
       " 'carne_cerdo',\n",
       " 'carne_empanados_y_elaborados',\n",
       " 'carne_hamburguesas_y_picadas',\n",
       " 'carne_hamburguesas_y_picadas',\n",
       " 'carne_empanados_y_elaborados',\n",
       " 'carne_empanados_y_elaborados',\n",
       " 'carne_aves_y_pollo',\n",
       " 'carne_empanados_y_elaborados',\n",
       " 'carne_aves_y_pollo',\n",
       " 'carne_hamburguesas_y_picadas',\n",
       " 'carne_hamburguesas_y_picadas',\n",
       " 'carne_aves_y_pollo',\n",
       " 'carne_carne_congelada',\n",
       " 'carne_empanados_y_elaborados',\n",
       " 'carne_cerdo',\n",
       " 'carne_carne_congelada',\n",
       " 'carne_empanados_y_elaborados',\n",
       " 'carne_cerdo',\n",
       " 'carne_empanados_y_elaborados',\n",
       " 'carne_empanados_y_elaborados',\n",
       " 'carne_embutido',\n",
       " 'carne_hamburguesas_y_picadas',\n",
       " 'carne_arreglos',\n",
       " 'carne_carne_congelada',\n",
       " 'carne_arreglos',\n",
       " 'carne_cerdo',\n",
       " 'carne_empanados_y_elaborados',\n",
       " 'carne_conejo_y_cordero',\n",
       " 'carne_arreglos',\n",
       " 'carne_hamburguesas_y_picadas',\n",
       " 'carne_embutido',\n",
       " 'carne_embutido',\n",
       " 'carne_empanados_y_elaborados',\n",
       " 'carne_arreglos',\n",
       " 'carne_conejo_y_cordero',\n",
       " 'carne_cerdo',\n",
       " 'carne_empanados_y_elaborados',\n",
       " 'carne_hamburguesas_y_picadas',\n",
       " 'carne_vacuno',\n",
       " 'carne_cerdo',\n",
       " 'carne_aves_y_pollo',\n",
       " 'carne_conejo_y_cordero',\n",
       " 'carne_empanados_y_elaborados',\n",
       " 'carne_cerdo',\n",
       " 'carne_carne_congelada',\n",
       " 'carne_arreglos',\n",
       " 'carne_aves_y_pollo',\n",
       " 'carne_arreglos',\n",
       " 'carne_vacuno',\n",
       " 'carne_conejo_y_cordero',\n",
       " 'carne_aves_y_pollo',\n",
       " 'carne_empanados_y_elaborados',\n",
       " 'carne_conejo_y_cordero',\n",
       " 'carne_arreglos',\n",
       " 'carne_carne_congelada',\n",
       " 'carne_conejo_y_cordero',\n",
       " 'carne_conejo_y_cordero',\n",
       " 'carne_aves_y_pollo',\n",
       " 'carne_empanados_y_elaborados',\n",
       " 'carne_conejo_y_cordero',\n",
       " 'carne_cerdo',\n",
       " 'carne_embutido',\n",
       " 'carne_arreglos',\n",
       " 'carne_arreglos',\n",
       " 'carne_carne_congelada',\n",
       " 'carne_empanados_y_elaborados',\n",
       " 'carne_hamburguesas_y_picadas',\n",
       " 'carne_aves_y_pollo',\n",
       " 'carne_aves_y_pollo',\n",
       " 'carne_carne_congelada',\n",
       " 'carne_embutido',\n",
       " 'carne_empanados_y_elaborados',\n",
       " 'carne_conejo_y_cordero',\n",
       " 'carne_embutido',\n",
       " 'carne_aves_y_pollo',\n",
       " 'carne_cerdo',\n",
       " 'carne_embutido',\n",
       " 'carne_arreglos',\n",
       " 'carne_aves_y_pollo',\n",
       " 'carne_aves_y_pollo',\n",
       " 'carne_aves_y_pollo',\n",
       " 'carne_carne_congelada',\n",
       " 'carne_vacuno',\n",
       " 'carne_hamburguesas_y_picadas',\n",
       " 'carne_hamburguesas_y_picadas',\n",
       " 'carne_hamburguesas_y_picadas',\n",
       " 'carne_aves_y_pollo',\n",
       " 'carne_hamburguesas_y_picadas',\n",
       " 'carne_aves_y_pollo',\n",
       " 'carne_arreglos',\n",
       " 'carne_aves_y_pollo',\n",
       " 'carne_empanados_y_elaborados',\n",
       " 'carne_aves_y_pollo',\n",
       " 'carne_embutido',\n",
       " 'carne_arreglos',\n",
       " ...]"
      ]
     },
     "metadata": {},
     "output_type": "display_data"
    }
   ],
   "source": [
    "carne = []\n",
    "for i in categorias:\n",
    "    if i.startswith('carne'):\n",
    "        carne.append(i)\n",
    "carne\n"
   ]
  },
  {
   "cell_type": "markdown",
   "metadata": {},
   "source": [
    "<h1> Fruta"
   ]
  },
  {
   "cell_type": "code",
   "execution_count": null,
   "metadata": {},
   "outputs": [
    {
     "data": {
      "text/plain": [
       "['fruta_y_verdura_fruta',\n",
       " 'fruta_y_verdura_verdura',\n",
       " 'fruta_y_verdura_lechuga_y_ensalada_preparada',\n",
       " 'fruta_y_verdura_fruta',\n",
       " 'fruta_y_verdura_lechuga_y_ensalada_preparada',\n",
       " 'fruta_y_verdura_fruta',\n",
       " 'fruta_y_verdura_verdura',\n",
       " 'fruta_y_verdura_fruta',\n",
       " 'fruta_y_verdura_verdura',\n",
       " 'fruta_y_verdura_verdura',\n",
       " 'fruta_y_verdura_fruta',\n",
       " 'fruta_y_verdura_verdura',\n",
       " 'fruta_y_verdura_fruta',\n",
       " 'fruta_y_verdura_fruta',\n",
       " 'fruta_y_verdura_verdura',\n",
       " 'fruta_y_verdura_fruta',\n",
       " 'fruta_y_verdura_fruta',\n",
       " 'fruta_y_verdura_fruta',\n",
       " 'fruta_y_verdura_verdura',\n",
       " 'fruta_y_verdura_verdura',\n",
       " 'fruta_y_verdura_lechuga_y_ensalada_preparada',\n",
       " 'fruta_y_verdura_fruta',\n",
       " 'fruta_y_verdura_fruta',\n",
       " 'fruta_y_verdura_fruta',\n",
       " 'fruta_y_verdura_verdura',\n",
       " 'fruta_y_verdura_verdura',\n",
       " 'fruta_y_verdura_verdura',\n",
       " 'fruta_y_verdura_lechuga_y_ensalada_preparada',\n",
       " 'fruta_y_verdura_verdura',\n",
       " 'fruta_y_verdura_fruta',\n",
       " 'fruta_y_verdura_verdura',\n",
       " 'fruta_y_verdura_verdura',\n",
       " 'fruta_y_verdura_verdura',\n",
       " 'fruta_y_verdura_verdura',\n",
       " 'fruta_y_verdura_fruta',\n",
       " 'fruta_y_verdura_fruta',\n",
       " 'fruta_y_verdura_fruta',\n",
       " 'fruta_y_verdura_fruta',\n",
       " 'fruta_y_verdura_verdura',\n",
       " 'fruta_y_verdura_fruta',\n",
       " 'fruta_y_verdura_verdura',\n",
       " 'fruta_y_verdura_lechuga_y_ensalada_preparada',\n",
       " 'fruta_y_verdura_verdura',\n",
       " 'fruta_y_verdura_verdura',\n",
       " 'fruta_y_verdura_fruta',\n",
       " 'fruta_y_verdura_fruta',\n",
       " 'fruta_y_verdura_verdura',\n",
       " 'fruta_y_verdura_verdura',\n",
       " 'fruta_y_verdura_fruta',\n",
       " 'fruta_y_verdura_fruta',\n",
       " 'fruta_y_verdura_verdura',\n",
       " 'fruta_y_verdura_verdura',\n",
       " 'fruta_y_verdura_verdura',\n",
       " 'fruta_y_verdura_fruta',\n",
       " 'fruta_y_verdura_verdura',\n",
       " 'fruta_y_verdura_verdura',\n",
       " 'fruta_y_verdura_verdura',\n",
       " 'fruta_y_verdura_fruta',\n",
       " 'fruta_y_verdura_fruta',\n",
       " 'fruta_y_verdura_verdura',\n",
       " 'fruta_y_verdura_verdura',\n",
       " 'fruta_y_verdura_verdura',\n",
       " 'fruta_y_verdura_verdura',\n",
       " 'fruta_y_verdura_fruta',\n",
       " 'fruta_y_verdura_verdura',\n",
       " 'fruta_y_verdura_verdura',\n",
       " 'fruta_y_verdura_fruta',\n",
       " 'fruta_y_verdura_fruta',\n",
       " 'fruta_y_verdura_verdura',\n",
       " 'fruta_y_verdura_verdura',\n",
       " 'fruta_y_verdura_verdura',\n",
       " 'fruta_y_verdura_verdura',\n",
       " 'fruta_y_verdura_fruta',\n",
       " 'fruta_y_verdura_fruta',\n",
       " 'fruta_y_verdura_lechuga_y_ensalada_preparada',\n",
       " 'fruta_y_verdura_verdura',\n",
       " 'fruta_y_verdura_verdura',\n",
       " 'fruta_y_verdura_verdura',\n",
       " 'fruta_y_verdura_fruta',\n",
       " 'fruta_y_verdura_verdura',\n",
       " 'fruta_y_verdura_verdura',\n",
       " 'fruta_y_verdura_lechuga_y_ensalada_preparada',\n",
       " 'fruta_y_verdura_lechuga_y_ensalada_preparada',\n",
       " 'fruta_y_verdura_verdura',\n",
       " 'fruta_y_verdura_lechuga_y_ensalada_preparada',\n",
       " 'fruta_y_verdura_fruta',\n",
       " 'fruta_y_verdura_verdura',\n",
       " 'fruta_y_verdura_verdura',\n",
       " 'fruta_y_verdura_verdura',\n",
       " 'fruta_y_verdura_verdura',\n",
       " 'fruta_y_verdura_fruta',\n",
       " 'fruta_y_verdura_verdura',\n",
       " 'fruta_y_verdura_verdura',\n",
       " 'fruta_y_verdura_verdura',\n",
       " 'fruta_y_verdura_fruta',\n",
       " 'fruta_y_verdura_verdura',\n",
       " 'fruta_y_verdura_fruta',\n",
       " 'fruta_y_verdura_fruta',\n",
       " 'fruta_y_verdura_lechuga_y_ensalada_preparada',\n",
       " 'fruta_y_verdura_verdura',\n",
       " 'fruta_y_verdura_fruta',\n",
       " 'fruta_y_verdura_fruta',\n",
       " 'fruta_y_verdura_fruta',\n",
       " 'fruta_y_verdura_verdura',\n",
       " 'fruta_y_verdura_fruta',\n",
       " 'fruta_y_verdura_fruta',\n",
       " 'fruta_y_verdura_verdura',\n",
       " 'fruta_y_verdura_fruta',\n",
       " 'fruta_y_verdura_fruta',\n",
       " 'fruta_y_verdura_verdura',\n",
       " 'fruta_y_verdura_verdura',\n",
       " 'fruta_y_verdura_verdura',\n",
       " 'fruta_y_verdura_fruta',\n",
       " 'fruta_y_verdura_fruta',\n",
       " 'fruta_y_verdura_lechuga_y_ensalada_preparada',\n",
       " 'fruta_y_verdura_verdura',\n",
       " 'fruta_y_verdura_fruta',\n",
       " 'fruta_y_verdura_lechuga_y_ensalada_preparada',\n",
       " 'fruta_y_verdura_verdura',\n",
       " 'fruta_y_verdura_fruta',\n",
       " 'fruta_y_verdura_fruta',\n",
       " 'fruta_y_verdura_verdura',\n",
       " 'fruta_y_verdura_lechuga_y_ensalada_preparada',\n",
       " 'fruta_y_verdura_verdura',\n",
       " 'fruta_y_verdura_fruta',\n",
       " 'fruta_y_verdura_verdura',\n",
       " 'fruta_y_verdura_fruta',\n",
       " 'fruta_y_verdura_verdura',\n",
       " 'fruta_y_verdura_verdura',\n",
       " 'fruta_y_verdura_fruta',\n",
       " 'fruta_y_verdura_verdura',\n",
       " 'fruta_y_verdura_verdura',\n",
       " 'fruta_y_verdura_verdura',\n",
       " 'fruta_y_verdura_verdura',\n",
       " 'fruta_y_verdura_verdura',\n",
       " 'fruta_y_verdura_fruta',\n",
       " 'fruta_y_verdura_verdura',\n",
       " 'fruta_y_verdura_verdura',\n",
       " 'fruta_y_verdura_verdura',\n",
       " 'fruta_y_verdura_verdura',\n",
       " 'fruta_y_verdura_lechuga_y_ensalada_preparada',\n",
       " 'fruta_y_verdura_verdura',\n",
       " 'fruta_y_verdura_lechuga_y_ensalada_preparada',\n",
       " 'fruta_y_verdura_verdura',\n",
       " 'fruta_y_verdura_fruta',\n",
       " 'fruta_y_verdura_lechuga_y_ensalada_preparada',\n",
       " 'fruta_y_verdura_lechuga_y_ensalada_preparada',\n",
       " 'fruta_y_verdura_lechuga_y_ensalada_preparada',\n",
       " 'fruta_y_verdura_lechuga_y_ensalada_preparada',\n",
       " 'fruta_y_verdura_verdura',\n",
       " 'fruta_y_verdura_fruta',\n",
       " 'fruta_y_verdura_verdura',\n",
       " 'fruta_y_verdura_verdura',\n",
       " 'fruta_y_verdura_fruta',\n",
       " 'fruta_y_verdura_verdura',\n",
       " 'fruta_y_verdura_verdura',\n",
       " 'fruta_y_verdura_fruta',\n",
       " 'fruta_y_verdura_fruta',\n",
       " 'fruta_y_verdura_verdura',\n",
       " 'fruta_y_verdura_fruta',\n",
       " 'fruta_y_verdura_verdura',\n",
       " 'fruta_y_verdura_verdura',\n",
       " 'fruta_y_verdura_lechuga_y_ensalada_preparada',\n",
       " 'fruta_y_verdura_verdura',\n",
       " 'fruta_y_verdura_verdura',\n",
       " 'fruta_y_verdura_lechuga_y_ensalada_preparada',\n",
       " 'fruta_y_verdura_fruta',\n",
       " 'fruta_y_verdura_fruta',\n",
       " 'fruta_y_verdura_verdura',\n",
       " 'fruta_y_verdura_lechuga_y_ensalada_preparada',\n",
       " 'fruta_y_verdura_verdura',\n",
       " 'fruta_y_verdura_verdura',\n",
       " 'fruta_y_verdura_lechuga_y_ensalada_preparada',\n",
       " 'fruta_y_verdura_fruta',\n",
       " 'fruta_y_verdura_fruta',\n",
       " 'fruta_y_verdura_fruta',\n",
       " 'fruta_y_verdura_verdura',\n",
       " 'fruta_y_verdura_verdura',\n",
       " 'fruta_y_verdura_verdura',\n",
       " 'fruta_y_verdura_verdura',\n",
       " 'fruta_y_verdura_fruta',\n",
       " 'fruta_y_verdura_verdura',\n",
       " 'fruta_y_verdura_verdura',\n",
       " 'fruta_y_verdura_fruta',\n",
       " 'fruta_y_verdura_verdura',\n",
       " 'fruta_y_verdura_lechuga_y_ensalada_preparada',\n",
       " 'fruta_y_verdura_fruta',\n",
       " 'fruta_y_verdura_verdura',\n",
       " 'fruta_y_verdura_fruta',\n",
       " 'fruta_y_verdura_verdura',\n",
       " 'fruta_y_verdura_lechuga_y_ensalada_preparada',\n",
       " 'fruta_y_verdura_fruta',\n",
       " 'fruta_y_verdura_fruta',\n",
       " 'fruta_y_verdura_fruta',\n",
       " 'fruta_y_verdura_verdura',\n",
       " 'fruta_y_verdura_verdura',\n",
       " 'fruta_y_verdura_verdura',\n",
       " 'fruta_y_verdura_fruta',\n",
       " 'fruta_y_verdura_fruta',\n",
       " 'fruta_y_verdura_verdura',\n",
       " 'fruta_y_verdura_verdura',\n",
       " 'fruta_y_verdura_verdura',\n",
       " 'fruta_y_verdura_verdura',\n",
       " 'fruta_y_verdura_verdura',\n",
       " 'fruta_y_verdura_fruta',\n",
       " 'fruta_y_verdura_verdura',\n",
       " 'fruta_y_verdura_lechuga_y_ensalada_preparada',\n",
       " 'fruta_y_verdura_verdura',\n",
       " 'fruta_y_verdura_verdura',\n",
       " 'fruta_y_verdura_verdura',\n",
       " 'fruta_y_verdura_verdura',\n",
       " 'fruta_y_verdura_lechuga_y_ensalada_preparada',\n",
       " 'fruta_y_verdura_verdura',\n",
       " 'fruta_y_verdura_verdura',\n",
       " 'fruta_y_verdura_fruta',\n",
       " 'fruta_y_verdura_fruta',\n",
       " 'fruta_y_verdura_verdura',\n",
       " 'fruta_y_verdura_verdura',\n",
       " 'fruta_y_verdura_verdura',\n",
       " 'fruta_y_verdura_verdura',\n",
       " 'fruta_y_verdura_verdura',\n",
       " 'fruta_y_verdura_verdura',\n",
       " 'fruta_y_verdura_verdura',\n",
       " 'fruta_y_verdura_verdura',\n",
       " 'fruta_y_verdura_fruta',\n",
       " 'fruta_y_verdura_lechuga_y_ensalada_preparada',\n",
       " 'fruta_y_verdura_fruta',\n",
       " 'fruta_y_verdura_verdura',\n",
       " 'fruta_y_verdura_lechuga_y_ensalada_preparada',\n",
       " 'fruta_y_verdura_verdura',\n",
       " 'fruta_y_verdura_verdura',\n",
       " 'fruta_y_verdura_fruta',\n",
       " 'fruta_y_verdura_fruta',\n",
       " 'fruta_y_verdura_lechuga_y_ensalada_preparada',\n",
       " 'fruta_y_verdura_fruta',\n",
       " 'fruta_y_verdura_fruta',\n",
       " 'fruta_y_verdura_fruta',\n",
       " 'fruta_y_verdura_lechuga_y_ensalada_preparada',\n",
       " 'fruta_y_verdura_verdura',\n",
       " 'fruta_y_verdura_verdura',\n",
       " 'fruta_y_verdura_fruta',\n",
       " 'fruta_y_verdura_fruta',\n",
       " 'fruta_y_verdura_verdura',\n",
       " 'fruta_y_verdura_verdura',\n",
       " 'fruta_y_verdura_fruta',\n",
       " 'fruta_y_verdura_fruta',\n",
       " 'fruta_y_verdura_lechuga_y_ensalada_preparada',\n",
       " 'fruta_y_verdura_verdura',\n",
       " 'fruta_y_verdura_lechuga_y_ensalada_preparada',\n",
       " 'fruta_y_verdura_fruta',\n",
       " 'fruta_y_verdura_fruta',\n",
       " 'fruta_y_verdura_verdura',\n",
       " 'fruta_y_verdura_verdura',\n",
       " 'fruta_y_verdura_fruta',\n",
       " 'fruta_y_verdura_verdura',\n",
       " 'fruta_y_verdura_verdura',\n",
       " 'fruta_y_verdura_lechuga_y_ensalada_preparada',\n",
       " 'fruta_y_verdura_verdura',\n",
       " 'fruta_y_verdura_fruta',\n",
       " 'fruta_y_verdura_fruta',\n",
       " 'fruta_y_verdura_fruta',\n",
       " 'fruta_y_verdura_lechuga_y_ensalada_preparada',\n",
       " 'fruta_y_verdura_verdura',\n",
       " 'fruta_y_verdura_lechuga_y_ensalada_preparada',\n",
       " 'fruta_y_verdura_fruta',\n",
       " 'fruta_y_verdura_lechuga_y_ensalada_preparada',\n",
       " 'fruta_y_verdura_verdura',\n",
       " 'fruta_y_verdura_verdura',\n",
       " 'fruta_y_verdura_verdura',\n",
       " 'fruta_y_verdura_verdura',\n",
       " 'fruta_y_verdura_verdura',\n",
       " 'fruta_y_verdura_fruta',\n",
       " 'fruta_y_verdura_verdura',\n",
       " 'fruta_y_verdura_fruta',\n",
       " 'fruta_y_verdura_lechuga_y_ensalada_preparada',\n",
       " 'fruta_y_verdura_verdura',\n",
       " 'fruta_y_verdura_verdura',\n",
       " 'fruta_y_verdura_fruta',\n",
       " 'fruta_y_verdura_verdura',\n",
       " 'fruta_y_verdura_verdura',\n",
       " 'fruta_y_verdura_verdura',\n",
       " 'fruta_y_verdura_verdura',\n",
       " 'fruta_y_verdura_lechuga_y_ensalada_preparada',\n",
       " 'fruta_y_verdura_verdura',\n",
       " 'fruta_y_verdura_fruta',\n",
       " 'fruta_y_verdura_verdura',\n",
       " 'fruta_y_verdura_lechuga_y_ensalada_preparada',\n",
       " 'fruta_y_verdura_lechuga_y_ensalada_preparada',\n",
       " 'fruta_y_verdura_fruta',\n",
       " 'fruta_y_verdura_verdura',\n",
       " 'fruta_y_verdura_verdura',\n",
       " 'fruta_y_verdura_verdura',\n",
       " 'fruta_y_verdura_verdura',\n",
       " 'fruta_y_verdura_fruta',\n",
       " 'fruta_y_verdura_verdura',\n",
       " 'fruta_y_verdura_lechuga_y_ensalada_preparada',\n",
       " 'fruta_y_verdura_verdura',\n",
       " 'fruta_y_verdura_verdura',\n",
       " 'fruta_y_verdura_lechuga_y_ensalada_preparada',\n",
       " 'fruta_y_verdura_fruta',\n",
       " 'fruta_y_verdura_verdura',\n",
       " 'fruta_y_verdura_lechuga_y_ensalada_preparada',\n",
       " 'fruta_y_verdura_lechuga_y_ensalada_preparada',\n",
       " 'fruta_y_verdura_fruta',\n",
       " 'fruta_y_verdura_verdura',\n",
       " 'fruta_y_verdura_fruta',\n",
       " 'fruta_y_verdura_fruta',\n",
       " 'fruta_y_verdura_fruta',\n",
       " 'fruta_y_verdura_verdura',\n",
       " 'fruta_y_verdura_fruta',\n",
       " 'fruta_y_verdura_fruta',\n",
       " 'fruta_y_verdura_verdura',\n",
       " 'fruta_y_verdura_verdura',\n",
       " 'fruta_y_verdura_fruta',\n",
       " 'fruta_y_verdura_verdura',\n",
       " 'fruta_y_verdura_fruta',\n",
       " 'fruta_y_verdura_lechuga_y_ensalada_preparada',\n",
       " 'fruta_y_verdura_verdura',\n",
       " 'fruta_y_verdura_verdura',\n",
       " 'fruta_y_verdura_fruta',\n",
       " 'fruta_y_verdura_verdura',\n",
       " 'fruta_y_verdura_lechuga_y_ensalada_preparada',\n",
       " 'fruta_y_verdura_fruta',\n",
       " 'fruta_y_verdura_fruta',\n",
       " 'fruta_y_verdura_verdura',\n",
       " 'fruta_y_verdura_lechuga_y_ensalada_preparada',\n",
       " 'fruta_y_verdura_verdura',\n",
       " 'fruta_y_verdura_verdura',\n",
       " 'fruta_y_verdura_verdura',\n",
       " 'fruta_y_verdura_lechuga_y_ensalada_preparada',\n",
       " 'fruta_y_verdura_lechuga_y_ensalada_preparada',\n",
       " 'fruta_y_verdura_verdura',\n",
       " 'fruta_y_verdura_verdura',\n",
       " 'fruta_y_verdura_verdura',\n",
       " 'fruta_y_verdura_lechuga_y_ensalada_preparada',\n",
       " 'fruta_y_verdura_verdura',\n",
       " 'fruta_y_verdura_verdura',\n",
       " 'fruta_y_verdura_fruta',\n",
       " 'fruta_y_verdura_lechuga_y_ensalada_preparada',\n",
       " 'fruta_y_verdura_fruta',\n",
       " 'fruta_y_verdura_fruta',\n",
       " 'fruta_y_verdura_lechuga_y_ensalada_preparada',\n",
       " 'fruta_y_verdura_fruta',\n",
       " 'fruta_y_verdura_lechuga_y_ensalada_preparada',\n",
       " 'fruta_y_verdura_lechuga_y_ensalada_preparada',\n",
       " 'fruta_y_verdura_fruta',\n",
       " 'fruta_y_verdura_verdura',\n",
       " 'fruta_y_verdura_verdura',\n",
       " 'fruta_y_verdura_fruta',\n",
       " 'fruta_y_verdura_verdura',\n",
       " 'fruta_y_verdura_fruta',\n",
       " 'fruta_y_verdura_fruta',\n",
       " 'fruta_y_verdura_fruta',\n",
       " 'fruta_y_verdura_verdura',\n",
       " 'fruta_y_verdura_verdura',\n",
       " 'fruta_y_verdura_verdura',\n",
       " 'fruta_y_verdura_lechuga_y_ensalada_preparada',\n",
       " 'fruta_y_verdura_verdura',\n",
       " 'fruta_y_verdura_verdura',\n",
       " 'fruta_y_verdura_verdura',\n",
       " 'fruta_y_verdura_verdura',\n",
       " 'fruta_y_verdura_lechuga_y_ensalada_preparada',\n",
       " 'fruta_y_verdura_lechuga_y_ensalada_preparada',\n",
       " 'fruta_y_verdura_verdura',\n",
       " 'fruta_y_verdura_verdura',\n",
       " 'fruta_y_verdura_verdura',\n",
       " 'fruta_y_verdura_verdura',\n",
       " 'fruta_y_verdura_verdura',\n",
       " 'fruta_y_verdura_verdura',\n",
       " 'fruta_y_verdura_verdura',\n",
       " 'fruta_y_verdura_fruta',\n",
       " 'fruta_y_verdura_verdura',\n",
       " 'fruta_y_verdura_fruta',\n",
       " 'fruta_y_verdura_verdura',\n",
       " 'fruta_y_verdura_verdura',\n",
       " 'fruta_y_verdura_verdura',\n",
       " 'fruta_y_verdura_lechuga_y_ensalada_preparada',\n",
       " 'fruta_y_verdura_verdura',\n",
       " 'fruta_y_verdura_verdura',\n",
       " 'fruta_y_verdura_verdura',\n",
       " 'fruta_y_verdura_lechuga_y_ensalada_preparada',\n",
       " 'fruta_y_verdura_verdura',\n",
       " 'fruta_y_verdura_verdura',\n",
       " 'fruta_y_verdura_verdura',\n",
       " 'fruta_y_verdura_verdura',\n",
       " 'fruta_y_verdura_lechuga_y_ensalada_preparada',\n",
       " 'fruta_y_verdura_verdura',\n",
       " 'fruta_y_verdura_verdura',\n",
       " 'fruta_y_verdura_verdura',\n",
       " 'fruta_y_verdura_verdura',\n",
       " 'fruta_y_verdura_verdura',\n",
       " 'fruta_y_verdura_verdura',\n",
       " 'fruta_y_verdura_verdura',\n",
       " 'fruta_y_verdura_verdura',\n",
       " 'fruta_y_verdura_fruta',\n",
       " 'fruta_y_verdura_verdura',\n",
       " 'fruta_y_verdura_fruta',\n",
       " 'fruta_y_verdura_verdura',\n",
       " 'fruta_y_verdura_verdura',\n",
       " 'fruta_y_verdura_fruta',\n",
       " 'fruta_y_verdura_verdura',\n",
       " 'fruta_y_verdura_verdura',\n",
       " 'fruta_y_verdura_fruta',\n",
       " 'fruta_y_verdura_lechuga_y_ensalada_preparada',\n",
       " 'fruta_y_verdura_verdura',\n",
       " 'fruta_y_verdura_fruta',\n",
       " 'fruta_y_verdura_verdura',\n",
       " 'fruta_y_verdura_fruta',\n",
       " 'fruta_y_verdura_fruta',\n",
       " 'fruta_y_verdura_lechuga_y_ensalada_preparada',\n",
       " 'fruta_y_verdura_verdura',\n",
       " 'fruta_y_verdura_verdura',\n",
       " 'fruta_y_verdura_verdura',\n",
       " 'fruta_y_verdura_lechuga_y_ensalada_preparada',\n",
       " 'fruta_y_verdura_lechuga_y_ensalada_preparada',\n",
       " 'fruta_y_verdura_verdura',\n",
       " 'fruta_y_verdura_verdura',\n",
       " 'fruta_y_verdura_verdura',\n",
       " 'fruta_y_verdura_fruta',\n",
       " 'fruta_y_verdura_verdura',\n",
       " 'fruta_y_verdura_verdura',\n",
       " 'fruta_y_verdura_fruta',\n",
       " 'fruta_y_verdura_verdura',\n",
       " 'fruta_y_verdura_fruta',\n",
       " 'fruta_y_verdura_verdura',\n",
       " 'fruta_y_verdura_fruta',\n",
       " 'fruta_y_verdura_verdura',\n",
       " 'fruta_y_verdura_lechuga_y_ensalada_preparada',\n",
       " 'fruta_y_verdura_verdura',\n",
       " 'fruta_y_verdura_verdura',\n",
       " 'fruta_y_verdura_lechuga_y_ensalada_preparada',\n",
       " 'fruta_y_verdura_verdura',\n",
       " 'fruta_y_verdura_lechuga_y_ensalada_preparada',\n",
       " 'fruta_y_verdura_verdura',\n",
       " 'fruta_y_verdura_verdura',\n",
       " 'fruta_y_verdura_fruta',\n",
       " 'fruta_y_verdura_fruta',\n",
       " 'fruta_y_verdura_verdura',\n",
       " 'fruta_y_verdura_verdura',\n",
       " 'fruta_y_verdura_fruta',\n",
       " 'fruta_y_verdura_verdura',\n",
       " 'fruta_y_verdura_fruta',\n",
       " 'fruta_y_verdura_verdura',\n",
       " 'fruta_y_verdura_verdura',\n",
       " 'fruta_y_verdura_verdura',\n",
       " 'fruta_y_verdura_verdura',\n",
       " 'fruta_y_verdura_verdura',\n",
       " 'fruta_y_verdura_lechuga_y_ensalada_preparada',\n",
       " 'fruta_y_verdura_verdura',\n",
       " 'fruta_y_verdura_verdura',\n",
       " 'fruta_y_verdura_fruta',\n",
       " 'fruta_y_verdura_verdura',\n",
       " 'fruta_y_verdura_fruta',\n",
       " 'fruta_y_verdura_verdura',\n",
       " 'fruta_y_verdura_verdura',\n",
       " 'fruta_y_verdura_fruta',\n",
       " 'fruta_y_verdura_verdura',\n",
       " 'fruta_y_verdura_verdura',\n",
       " 'fruta_y_verdura_fruta',\n",
       " 'fruta_y_verdura_fruta',\n",
       " 'fruta_y_verdura_verdura',\n",
       " 'fruta_y_verdura_fruta',\n",
       " 'fruta_y_verdura_fruta',\n",
       " 'fruta_y_verdura_verdura',\n",
       " 'fruta_y_verdura_verdura',\n",
       " 'fruta_y_verdura_lechuga_y_ensalada_preparada',\n",
       " 'fruta_y_verdura_fruta',\n",
       " 'fruta_y_verdura_lechuga_y_ensalada_preparada',\n",
       " 'fruta_y_verdura_verdura',\n",
       " 'fruta_y_verdura_verdura',\n",
       " 'fruta_y_verdura_verdura',\n",
       " 'fruta_y_verdura_fruta',\n",
       " 'fruta_y_verdura_verdura',\n",
       " 'fruta_y_verdura_lechuga_y_ensalada_preparada',\n",
       " 'fruta_y_verdura_lechuga_y_ensalada_preparada',\n",
       " 'fruta_y_verdura_verdura',\n",
       " 'fruta_y_verdura_lechuga_y_ensalada_preparada',\n",
       " 'fruta_y_verdura_fruta',\n",
       " 'fruta_y_verdura_verdura',\n",
       " 'fruta_y_verdura_lechuga_y_ensalada_preparada',\n",
       " 'fruta_y_verdura_verdura',\n",
       " 'fruta_y_verdura_lechuga_y_ensalada_preparada',\n",
       " 'fruta_y_verdura_lechuga_y_ensalada_preparada',\n",
       " 'fruta_y_verdura_verdura',\n",
       " 'fruta_y_verdura_lechuga_y_ensalada_preparada',\n",
       " 'fruta_y_verdura_lechuga_y_ensalada_preparada',\n",
       " 'fruta_y_verdura_verdura',\n",
       " 'fruta_y_verdura_verdura',\n",
       " 'fruta_y_verdura_verdura',\n",
       " 'fruta_y_verdura_lechuga_y_ensalada_preparada',\n",
       " 'fruta_y_verdura_verdura',\n",
       " 'fruta_y_verdura_fruta',\n",
       " 'fruta_y_verdura_verdura',\n",
       " 'fruta_y_verdura_verdura',\n",
       " 'fruta_y_verdura_verdura',\n",
       " 'fruta_y_verdura_lechuga_y_ensalada_preparada',\n",
       " 'fruta_y_verdura_verdura',\n",
       " 'fruta_y_verdura_verdura',\n",
       " 'fruta_y_verdura_verdura',\n",
       " 'fruta_y_verdura_verdura',\n",
       " 'fruta_y_verdura_fruta',\n",
       " 'fruta_y_verdura_fruta',\n",
       " 'fruta_y_verdura_lechuga_y_ensalada_preparada',\n",
       " 'fruta_y_verdura_verdura',\n",
       " 'fruta_y_verdura_verdura',\n",
       " 'fruta_y_verdura_verdura',\n",
       " 'fruta_y_verdura_verdura',\n",
       " 'fruta_y_verdura_fruta',\n",
       " 'fruta_y_verdura_verdura',\n",
       " 'fruta_y_verdura_verdura',\n",
       " 'fruta_y_verdura_verdura',\n",
       " 'fruta_y_verdura_fruta',\n",
       " 'fruta_y_verdura_verdura',\n",
       " 'fruta_y_verdura_verdura',\n",
       " 'fruta_y_verdura_fruta',\n",
       " 'fruta_y_verdura_verdura',\n",
       " 'fruta_y_verdura_fruta',\n",
       " 'fruta_y_verdura_verdura',\n",
       " 'fruta_y_verdura_verdura',\n",
       " 'fruta_y_verdura_verdura',\n",
       " 'fruta_y_verdura_verdura',\n",
       " 'fruta_y_verdura_lechuga_y_ensalada_preparada',\n",
       " 'fruta_y_verdura_fruta',\n",
       " 'fruta_y_verdura_verdura',\n",
       " 'fruta_y_verdura_verdura',\n",
       " 'fruta_y_verdura_verdura',\n",
       " 'fruta_y_verdura_verdura',\n",
       " 'fruta_y_verdura_fruta',\n",
       " 'fruta_y_verdura_lechuga_y_ensalada_preparada',\n",
       " 'fruta_y_verdura_verdura',\n",
       " 'fruta_y_verdura_verdura',\n",
       " 'fruta_y_verdura_verdura',\n",
       " 'fruta_y_verdura_verdura',\n",
       " 'fruta_y_verdura_verdura',\n",
       " 'fruta_y_verdura_verdura',\n",
       " 'fruta_y_verdura_lechuga_y_ensalada_preparada',\n",
       " 'fruta_y_verdura_verdura',\n",
       " 'fruta_y_verdura_lechuga_y_ensalada_preparada',\n",
       " 'fruta_y_verdura_verdura',\n",
       " 'fruta_y_verdura_lechuga_y_ensalada_preparada',\n",
       " 'fruta_y_verdura_verdura',\n",
       " 'fruta_y_verdura_verdura',\n",
       " 'fruta_y_verdura_verdura',\n",
       " 'fruta_y_verdura_verdura',\n",
       " 'fruta_y_verdura_verdura',\n",
       " 'fruta_y_verdura_lechuga_y_ensalada_preparada',\n",
       " 'fruta_y_verdura_verdura',\n",
       " 'fruta_y_verdura_verdura',\n",
       " 'fruta_y_verdura_lechuga_y_ensalada_preparada',\n",
       " 'fruta_y_verdura_verdura',\n",
       " 'fruta_y_verdura_verdura',\n",
       " 'fruta_y_verdura_lechuga_y_ensalada_preparada',\n",
       " 'fruta_y_verdura_verdura',\n",
       " 'fruta_y_verdura_verdura',\n",
       " 'fruta_y_verdura_fruta',\n",
       " 'fruta_y_verdura_fruta',\n",
       " 'fruta_y_verdura_verdura',\n",
       " 'fruta_y_verdura_lechuga_y_ensalada_preparada',\n",
       " 'fruta_y_verdura_verdura',\n",
       " 'fruta_y_verdura_lechuga_y_ensalada_preparada',\n",
       " 'fruta_y_verdura_verdura',\n",
       " 'fruta_y_verdura_verdura',\n",
       " 'fruta_y_verdura_verdura',\n",
       " 'fruta_y_verdura_fruta',\n",
       " 'fruta_y_verdura_verdura',\n",
       " 'fruta_y_verdura_lechuga_y_ensalada_preparada',\n",
       " 'fruta_y_verdura_fruta',\n",
       " 'fruta_y_verdura_lechuga_y_ensalada_preparada',\n",
       " 'fruta_y_verdura_lechuga_y_ensalada_preparada',\n",
       " 'fruta_y_verdura_fruta',\n",
       " 'fruta_y_verdura_verdura',\n",
       " 'fruta_y_verdura_fruta',\n",
       " 'fruta_y_verdura_fruta',\n",
       " 'fruta_y_verdura_lechuga_y_ensalada_preparada',\n",
       " 'fruta_y_verdura_lechuga_y_ensalada_preparada',\n",
       " 'fruta_y_verdura_lechuga_y_ensalada_preparada',\n",
       " 'fruta_y_verdura_fruta',\n",
       " 'fruta_y_verdura_lechuga_y_ensalada_preparada',\n",
       " 'fruta_y_verdura_verdura',\n",
       " 'fruta_y_verdura_lechuga_y_ensalada_preparada',\n",
       " 'fruta_y_verdura_verdura',\n",
       " 'fruta_y_verdura_verdura',\n",
       " 'fruta_y_verdura_verdura',\n",
       " 'fruta_y_verdura_fruta',\n",
       " 'fruta_y_verdura_verdura',\n",
       " 'fruta_y_verdura_verdura',\n",
       " 'fruta_y_verdura_verdura',\n",
       " 'fruta_y_verdura_lechuga_y_ensalada_preparada',\n",
       " 'fruta_y_verdura_fruta',\n",
       " 'fruta_y_verdura_fruta',\n",
       " 'fruta_y_verdura_verdura',\n",
       " 'fruta_y_verdura_lechuga_y_ensalada_preparada',\n",
       " 'fruta_y_verdura_verdura',\n",
       " 'fruta_y_verdura_verdura',\n",
       " 'fruta_y_verdura_fruta',\n",
       " 'fruta_y_verdura_verdura',\n",
       " 'fruta_y_verdura_verdura',\n",
       " 'fruta_y_verdura_verdura',\n",
       " 'fruta_y_verdura_verdura',\n",
       " 'fruta_y_verdura_lechuga_y_ensalada_preparada',\n",
       " 'fruta_y_verdura_verdura',\n",
       " 'fruta_y_verdura_fruta',\n",
       " 'fruta_y_verdura_verdura',\n",
       " 'fruta_y_verdura_verdura',\n",
       " 'fruta_y_verdura_verdura',\n",
       " 'fruta_y_verdura_lechuga_y_ensalada_preparada',\n",
       " 'fruta_y_verdura_fruta',\n",
       " 'fruta_y_verdura_fruta',\n",
       " 'fruta_y_verdura_verdura',\n",
       " 'fruta_y_verdura_fruta',\n",
       " 'fruta_y_verdura_lechuga_y_ensalada_preparada',\n",
       " 'fruta_y_verdura_lechuga_y_ensalada_preparada',\n",
       " 'fruta_y_verdura_fruta',\n",
       " 'fruta_y_verdura_fruta',\n",
       " 'fruta_y_verdura_verdura',\n",
       " 'fruta_y_verdura_verdura',\n",
       " 'fruta_y_verdura_fruta',\n",
       " 'fruta_y_verdura_verdura',\n",
       " 'fruta_y_verdura_lechuga_y_ensalada_preparada',\n",
       " 'fruta_y_verdura_fruta',\n",
       " 'fruta_y_verdura_fruta',\n",
       " 'fruta_y_verdura_verdura',\n",
       " 'fruta_y_verdura_fruta',\n",
       " 'fruta_y_verdura_fruta',\n",
       " 'fruta_y_verdura_lechuga_y_ensalada_preparada',\n",
       " 'fruta_y_verdura_fruta',\n",
       " 'fruta_y_verdura_verdura',\n",
       " 'fruta_y_verdura_fruta',\n",
       " 'fruta_y_verdura_lechuga_y_ensalada_preparada',\n",
       " 'fruta_y_verdura_lechuga_y_ensalada_preparada',\n",
       " 'fruta_y_verdura_lechuga_y_ensalada_preparada',\n",
       " 'fruta_y_verdura_verdura',\n",
       " 'fruta_y_verdura_fruta',\n",
       " 'fruta_y_verdura_fruta',\n",
       " 'fruta_y_verdura_fruta',\n",
       " 'fruta_y_verdura_verdura',\n",
       " 'fruta_y_verdura_fruta',\n",
       " 'fruta_y_verdura_fruta',\n",
       " 'fruta_y_verdura_verdura',\n",
       " 'fruta_y_verdura_verdura',\n",
       " 'fruta_y_verdura_verdura',\n",
       " 'fruta_y_verdura_fruta',\n",
       " 'fruta_y_verdura_fruta',\n",
       " 'fruta_y_verdura_verdura',\n",
       " 'fruta_y_verdura_fruta',\n",
       " 'fruta_y_verdura_verdura',\n",
       " 'fruta_y_verdura_fruta',\n",
       " 'fruta_y_verdura_fruta',\n",
       " 'fruta_y_verdura_verdura',\n",
       " 'fruta_y_verdura_verdura',\n",
       " 'fruta_y_verdura_verdura',\n",
       " 'fruta_y_verdura_verdura',\n",
       " 'fruta_y_verdura_fruta',\n",
       " 'fruta_y_verdura_lechuga_y_ensalada_preparada',\n",
       " 'fruta_y_verdura_verdura',\n",
       " 'fruta_y_verdura_fruta',\n",
       " 'fruta_y_verdura_verdura',\n",
       " 'fruta_y_verdura_lechuga_y_ensalada_preparada',\n",
       " 'fruta_y_verdura_lechuga_y_ensalada_preparada',\n",
       " 'fruta_y_verdura_verdura',\n",
       " 'fruta_y_verdura_verdura',\n",
       " 'fruta_y_verdura_verdura',\n",
       " 'fruta_y_verdura_fruta',\n",
       " 'fruta_y_verdura_verdura',\n",
       " 'fruta_y_verdura_lechuga_y_ensalada_preparada',\n",
       " 'fruta_y_verdura_verdura',\n",
       " 'fruta_y_verdura_fruta',\n",
       " 'fruta_y_verdura_verdura',\n",
       " 'fruta_y_verdura_verdura',\n",
       " 'fruta_y_verdura_verdura',\n",
       " 'fruta_y_verdura_verdura',\n",
       " 'fruta_y_verdura_fruta',\n",
       " 'fruta_y_verdura_verdura',\n",
       " 'fruta_y_verdura_verdura',\n",
       " 'fruta_y_verdura_verdura',\n",
       " 'fruta_y_verdura_lechuga_y_ensalada_preparada',\n",
       " 'fruta_y_verdura_fruta',\n",
       " 'fruta_y_verdura_fruta',\n",
       " 'fruta_y_verdura_lechuga_y_ensalada_preparada',\n",
       " 'fruta_y_verdura_fruta',\n",
       " 'fruta_y_verdura_verdura',\n",
       " 'fruta_y_verdura_fruta',\n",
       " 'fruta_y_verdura_lechuga_y_ensalada_preparada',\n",
       " 'fruta_y_verdura_fruta',\n",
       " 'fruta_y_verdura_verdura',\n",
       " 'fruta_y_verdura_lechuga_y_ensalada_preparada',\n",
       " 'fruta_y_verdura_fruta',\n",
       " 'fruta_y_verdura_lechuga_y_ensalada_preparada',\n",
       " 'fruta_y_verdura_lechuga_y_ensalada_preparada',\n",
       " 'fruta_y_verdura_lechuga_y_ensalada_preparada',\n",
       " 'fruta_y_verdura_lechuga_y_ensalada_preparada',\n",
       " 'fruta_y_verdura_verdura',\n",
       " 'fruta_y_verdura_fruta',\n",
       " 'fruta_y_verdura_lechuga_y_ensalada_preparada',\n",
       " 'fruta_y_verdura_verdura',\n",
       " 'fruta_y_verdura_verdura',\n",
       " 'fruta_y_verdura_verdura',\n",
       " 'fruta_y_verdura_fruta',\n",
       " 'fruta_y_verdura_verdura',\n",
       " 'fruta_y_verdura_verdura',\n",
       " 'fruta_y_verdura_lechuga_y_ensalada_preparada',\n",
       " 'fruta_y_verdura_verdura',\n",
       " 'fruta_y_verdura_verdura',\n",
       " 'fruta_y_verdura_fruta',\n",
       " 'fruta_y_verdura_verdura',\n",
       " 'fruta_y_verdura_fruta',\n",
       " 'fruta_y_verdura_fruta',\n",
       " 'fruta_y_verdura_verdura',\n",
       " 'fruta_y_verdura_fruta',\n",
       " 'fruta_y_verdura_fruta',\n",
       " 'fruta_y_verdura_verdura',\n",
       " 'fruta_y_verdura_verdura',\n",
       " 'fruta_y_verdura_lechuga_y_ensalada_preparada',\n",
       " 'fruta_y_verdura_verdura',\n",
       " 'fruta_y_verdura_verdura',\n",
       " 'fruta_y_verdura_verdura',\n",
       " 'fruta_y_verdura_verdura',\n",
       " 'fruta_y_verdura_fruta',\n",
       " 'fruta_y_verdura_verdura',\n",
       " 'fruta_y_verdura_fruta',\n",
       " 'fruta_y_verdura_fruta',\n",
       " 'fruta_y_verdura_verdura',\n",
       " 'fruta_y_verdura_fruta',\n",
       " 'fruta_y_verdura_verdura',\n",
       " 'fruta_y_verdura_verdura',\n",
       " 'fruta_y_verdura_verdura',\n",
       " 'fruta_y_verdura_verdura',\n",
       " 'fruta_y_verdura_verdura',\n",
       " 'fruta_y_verdura_verdura',\n",
       " 'fruta_y_verdura_verdura',\n",
       " 'fruta_y_verdura_verdura',\n",
       " 'fruta_y_verdura_lechuga_y_ensalada_preparada',\n",
       " 'fruta_y_verdura_verdura',\n",
       " 'fruta_y_verdura_verdura',\n",
       " 'fruta_y_verdura_fruta',\n",
       " 'fruta_y_verdura_fruta',\n",
       " 'fruta_y_verdura_verdura',\n",
       " 'fruta_y_verdura_verdura',\n",
       " 'fruta_y_verdura_verdura',\n",
       " 'fruta_y_verdura_fruta',\n",
       " 'fruta_y_verdura_verdura',\n",
       " 'fruta_y_verdura_verdura',\n",
       " 'fruta_y_verdura_fruta',\n",
       " 'fruta_y_verdura_fruta',\n",
       " 'fruta_y_verdura_verdura',\n",
       " 'fruta_y_verdura_verdura',\n",
       " 'fruta_y_verdura_verdura',\n",
       " 'fruta_y_verdura_verdura',\n",
       " 'fruta_y_verdura_fruta',\n",
       " 'fruta_y_verdura_verdura',\n",
       " 'fruta_y_verdura_fruta',\n",
       " 'fruta_y_verdura_verdura',\n",
       " 'fruta_y_verdura_fruta',\n",
       " 'fruta_y_verdura_verdura',\n",
       " 'fruta_y_verdura_verdura',\n",
       " 'fruta_y_verdura_verdura',\n",
       " 'fruta_y_verdura_fruta',\n",
       " 'fruta_y_verdura_verdura',\n",
       " 'fruta_y_verdura_verdura',\n",
       " 'fruta_y_verdura_lechuga_y_ensalada_preparada',\n",
       " 'fruta_y_verdura_verdura',\n",
       " 'fruta_y_verdura_fruta',\n",
       " 'fruta_y_verdura_verdura',\n",
       " 'fruta_y_verdura_verdura',\n",
       " 'fruta_y_verdura_verdura',\n",
       " 'fruta_y_verdura_verdura',\n",
       " 'fruta_y_verdura_verdura',\n",
       " 'fruta_y_verdura_lechuga_y_ensalada_preparada',\n",
       " 'fruta_y_verdura_verdura',\n",
       " 'fruta_y_verdura_verdura',\n",
       " 'fruta_y_verdura_verdura',\n",
       " 'fruta_y_verdura_verdura',\n",
       " 'fruta_y_verdura_lechuga_y_ensalada_preparada',\n",
       " 'fruta_y_verdura_verdura',\n",
       " 'fruta_y_verdura_lechuga_y_ensalada_preparada',\n",
       " 'fruta_y_verdura_fruta',\n",
       " 'fruta_y_verdura_lechuga_y_ensalada_preparada',\n",
       " 'fruta_y_verdura_verdura',\n",
       " 'fruta_y_verdura_lechuga_y_ensalada_preparada',\n",
       " 'fruta_y_verdura_verdura',\n",
       " 'fruta_y_verdura_fruta',\n",
       " 'fruta_y_verdura_verdura']"
      ]
     },
     "metadata": {},
     "output_type": "display_data"
    }
   ],
   "source": [
    "fruta =[]\n",
    "for i in categorias:\n",
    "    if 'fruta_y_verdura' in i:\n",
    "        fruta.append(i)\n",
    "fruta\n"
   ]
  },
  {
   "cell_type": "markdown",
   "metadata": {},
   "source": [
    "<h1> Pescado"
   ]
  },
  {
   "cell_type": "code",
   "execution_count": null,
   "metadata": {},
   "outputs": [
    {
     "data": {
      "text/plain": [
       "['frescos_pescado_y_marisco_pescado_fresco_azul',\n",
       " 'congelados_y_helados_pescado_y_marisco_marisco',\n",
       " 'frescos_pescado_y_marisco_surimi_gulas_y_derivados',\n",
       " 'congelados_y_helados_pescado_y_marisco_pescado',\n",
       " 'frescos_pescado_y_marisco_pescado_al_corte',\n",
       " 'frescos_pescado_y_marisco_especialidades',\n",
       " 'el_mercado_pescaderia_pescado_y_marisco_congelado',\n",
       " 'el_mercado_pescaderia_pescado_y_marisco_congelado',\n",
       " 'el_mercado_pescaderia_pescado_y_marisco_congelado',\n",
       " 'congelados_y_helados_pescado_y_marisco_marisco',\n",
       " 'el_mercado_pescaderia_pescado_y_marisco_congelado',\n",
       " 'congelados_y_helados_pescado_y_marisco_palitos_de_cangrejo_surimi_y_gulas',\n",
       " 'el_mercado_pescaderia_pescado_y_marisco_congelado',\n",
       " 'congelados_y_helados_pescado_y_marisco_calamar_y_otros_cefalopodos',\n",
       " 'frescos_pescado_y_marisco_pescado_fresco_azul',\n",
       " 'el_mercado_pescaderia_preparados_y_elaborados_de_pescado_y_marisco',\n",
       " 'frescos_pescado_y_marisco_pescado_fresco_blanco',\n",
       " 'frescos_pescado_y_marisco_marisco_fresco',\n",
       " 'frescos_pescado_y_marisco_pescado_fresco_blanco',\n",
       " 'frescos_pescado_y_marisco_ahumados_salazones_y_marinados',\n",
       " 'el_mercado_pescaderia_pescado_y_marisco_congelado',\n",
       " 'frescos_pescado_y_marisco_especialidades',\n",
       " 'frescos_pescado_y_marisco_pescado_fresco_blanco',\n",
       " 'el_mercado_pescaderia_pescado_y_marisco_congelado',\n",
       " 'frescos_pescado_y_marisco_pescado_fresco_blanco',\n",
       " 'frescos_pescado_y_marisco_surimi_gulas_y_derivados',\n",
       " 'el_mercado_pescaderia_preparados_y_elaborados_de_pescado_y_marisco',\n",
       " 'frescos_pescado_y_marisco_pescado_fresco_blanco',\n",
       " 'el_mercado_pescaderia_preparados_y_elaborados_de_pescado_y_marisco',\n",
       " 'frescos_pescado_y_marisco_pescado_fresco_azul',\n",
       " 'el_mercado_pescaderia_pescado_y_marisco_congelado',\n",
       " 'el_mercado_pescaderia_pescado_y_marisco_congelado',\n",
       " 'el_mercado_pescaderia_pescado_y_marisco_congelado',\n",
       " 'el_mercado_pescaderia_pescado_y_marisco_congelado',\n",
       " 'congelados_y_helados_pescado_y_marisco_calamar_y_otros_cefalopodos_preparados',\n",
       " 'frescos_pescado_y_marisco_pescado_fresco_azul',\n",
       " 'el_mercado_pescaderia_pescado_y_marisco_congelado',\n",
       " 'congelados_y_helados_pescado_y_marisco_marisco',\n",
       " 'frescos_pescado_y_marisco_pescado_fresco_azul',\n",
       " 'frescos_pescado_y_marisco_pescado_fresco_blanco',\n",
       " 'frescos_pescado_y_marisco_pescado_fresco_azul',\n",
       " 'frescos_pescado_y_marisco_pescado_fresco_azul',\n",
       " 'el_mercado_pescaderia_pescado_y_marisco_congelado',\n",
       " 'congelados_y_helados_pescado_y_marisco_marisco',\n",
       " 'el_mercado_pescaderia_pescado_y_marisco_congelado',\n",
       " 'frescos_pescado_y_marisco_pescado_fresco_azul',\n",
       " 'congelados_y_helados_pescado_y_marisco_marisco',\n",
       " 'frescos_pescado_y_marisco_pescado_fresco_blanco',\n",
       " 'congelados_y_helados_pescado_y_marisco_marisco',\n",
       " 'congelados_y_helados_pescado_y_marisco_pescado_preparado',\n",
       " 'el_mercado_pescaderia_preparados_y_elaborados_de_pescado_y_marisco',\n",
       " 'frescos_pescado_y_marisco_pescado_fresco_blanco',\n",
       " 'frescos_pescado_y_marisco_pescado_fresco_blanco',\n",
       " 'el_mercado_pescaderia_pescado_y_marisco_congelado',\n",
       " 'el_mercado_pescaderia_preparados_y_elaborados_de_pescado_y_marisco',\n",
       " 'frescos_pescado_y_marisco_marisco_fresco',\n",
       " 'frescos_pescado_y_marisco_marisco_fresco',\n",
       " 'congelados_y_helados_pescado_y_marisco_calamar_y_otros_cefalopodos_preparados',\n",
       " 'congelados_y_helados_pescado_y_marisco_palitos_de_cangrejo_surimi_y_gulas',\n",
       " 'frescos_pescado_y_marisco_ahumados_salazones_y_marinados',\n",
       " 'frescos_pescado_y_marisco_ahumados_salazones_y_marinados',\n",
       " 'frescos_pescado_y_marisco_pescado_fresco_azul',\n",
       " 'el_mercado_pescaderia_pescado_y_marisco_congelado',\n",
       " 'el_mercado_pescaderia_pescado_y_marisco_congelado',\n",
       " 'el_mercado_pescaderia_pescado_y_marisco_congelado',\n",
       " 'frescos_pescado_y_marisco_marisco_fresco',\n",
       " 'el_mercado_pescaderia_pescado_y_marisco_congelado',\n",
       " 'congelados_y_helados_pescado_y_marisco_calamar_y_otros_cefalopodos',\n",
       " 'frescos_pescado_y_marisco_especialidades',\n",
       " 'frescos_pescado_y_marisco_marisco_fresco',\n",
       " 'congelados_y_helados_pescado_y_marisco_palitos_de_cangrejo_surimi_y_gulas',\n",
       " 'frescos_pescado_y_marisco_surimi_gulas_y_derivados',\n",
       " 'el_mercado_pescaderia_pescado_y_marisco_congelado',\n",
       " 'el_mercado_pescaderia_pescado_y_marisco_congelado',\n",
       " 'frescos_pescado_y_marisco_marisco_fresco',\n",
       " 'el_mercado_pescaderia_pescado_y_marisco_congelado',\n",
       " 'el_mercado_pescaderia_pescado_y_marisco_congelado',\n",
       " 'el_mercado_pescaderia_pescado_y_marisco_congelado',\n",
       " 'el_mercado_pescaderia_preparados_y_elaborados_de_pescado_y_marisco',\n",
       " 'el_mercado_pescaderia_preparados_y_elaborados_de_pescado_y_marisco',\n",
       " 'el_mercado_pescaderia_pescado_y_marisco_congelado',\n",
       " 'frescos_pescado_y_marisco_ahumados_salazones_y_marinados',\n",
       " 'frescos_pescado_y_marisco_pescado_fresco_blanco',\n",
       " 'el_mercado_pescaderia_pescado_y_marisco_congelado',\n",
       " 'el_mercado_pescaderia_pescado_y_marisco_congelado',\n",
       " 'frescos_pescado_y_marisco_pescado_fresco_blanco',\n",
       " 'el_mercado_pescaderia_pescado_y_marisco_congelado',\n",
       " 'frescos_pescado_y_marisco_pescado_fresco_azul',\n",
       " 'el_mercado_pescaderia_preparados_y_elaborados_de_pescado_y_marisco',\n",
       " 'el_mercado_pescaderia_preparados_y_elaborados_de_pescado_y_marisco',\n",
       " 'el_mercado_pescaderia_pescado_y_marisco_congelado',\n",
       " 'frescos_pescado_y_marisco_pescado_fresco_blanco',\n",
       " 'congelados_y_helados_pescado_y_marisco_calamar_y_otros_cefalopodos_preparados',\n",
       " 'frescos_pescado_y_marisco_pescado_fresco_azul',\n",
       " 'el_mercado_pescaderia_preparados_y_elaborados_de_pescado_y_marisco',\n",
       " 'el_mercado_pescaderia_preparados_y_elaborados_de_pescado_y_marisco',\n",
       " 'frescos_pescado_y_marisco_marisco_fresco',\n",
       " 'el_mercado_pescaderia_pescado_y_marisco_congelado',\n",
       " 'frescos_pescado_y_marisco_pescado_fresco_azul',\n",
       " 'el_mercado_pescaderia_pescado_y_marisco_congelado',\n",
       " 'frescos_pescado_y_marisco_marisco_fresco',\n",
       " 'el_mercado_pescaderia_pescado_y_marisco_congelado',\n",
       " 'el_mercado_pescaderia_pescado_y_marisco_congelado',\n",
       " 'el_mercado_pescaderia_pescado_y_marisco_congelado',\n",
       " 'frescos_pescado_y_marisco_pescado_fresco_azul',\n",
       " 'frescos_pescado_y_marisco_marisco_fresco',\n",
       " 'congelados_y_helados_pescado_y_marisco_pescado',\n",
       " 'frescos_pescado_y_marisco_pescado_fresco_azul',\n",
       " 'el_mercado_pescaderia_preparados_y_elaborados_de_pescado_y_marisco',\n",
       " 'el_mercado_pescaderia_pescado_y_marisco_congelado',\n",
       " 'frescos_pescado_y_marisco_marisco_fresco',\n",
       " 'frescos_pescado_y_marisco_pescado_fresco_azul',\n",
       " 'frescos_pescado_y_marisco_pescado_fresco_azul',\n",
       " 'frescos_pescado_y_marisco_pescado_fresco_azul',\n",
       " 'el_mercado_pescaderia_preparados_y_elaborados_de_pescado_y_marisco',\n",
       " 'frescos_pescado_y_marisco_pescado_fresco_blanco',\n",
       " 'congelados_y_helados_pescado_y_marisco_marisco',\n",
       " 'frescos_pescado_y_marisco_ahumados_salazones_y_marinados',\n",
       " 'el_mercado_pescaderia_pescado_y_marisco_congelado',\n",
       " 'el_mercado_pescaderia_pescado_y_marisco_congelado',\n",
       " 'congelados_y_helados_pescado_y_marisco_palitos_de_cangrejo_surimi_y_gulas',\n",
       " 'el_mercado_pescaderia_pescado_y_marisco_congelado',\n",
       " 'frescos_pescado_y_marisco_pescado_fresco_azul',\n",
       " 'congelados_y_helados_pescado_y_marisco_pescado_preparado',\n",
       " 'el_mercado_pescaderia_pescado_y_marisco_congelado',\n",
       " 'frescos_pescado_y_marisco_pescado_fresco_blanco',\n",
       " 'frescos_pescado_y_marisco_pescado_fresco_blanco',\n",
       " 'el_mercado_pescaderia_pescado_y_marisco_congelado',\n",
       " 'el_mercado_pescaderia_preparados_y_elaborados_de_pescado_y_marisco',\n",
       " 'frescos_pescado_y_marisco_especialidades',\n",
       " 'frescos_pescado_y_marisco_marisco_fresco',\n",
       " 'el_mercado_pescaderia_pescado_y_marisco_congelado',\n",
       " 'el_mercado_pescaderia_pescado_y_marisco_congelado',\n",
       " 'congelados_y_helados_pescado_y_marisco_pescado',\n",
       " 'el_mercado_pescaderia_pescado_y_marisco_congelado',\n",
       " 'frescos_pescado_y_marisco_pescado_fresco_azul',\n",
       " 'congelados_y_helados_pescado_y_marisco_calamar_y_otros_cefalopodos_preparados',\n",
       " 'frescos_pescado_y_marisco_marisco_fresco',\n",
       " 'congelados_y_helados_pescado_y_marisco_pescado',\n",
       " 'frescos_pescado_y_marisco_marisco_fresco',\n",
       " 'frescos_pescado_y_marisco_marisco_fresco',\n",
       " 'el_mercado_pescaderia_pescado_y_marisco_congelado',\n",
       " 'el_mercado_pescaderia_pescado_y_marisco_congelado',\n",
       " 'el_mercado_pescaderia_pescado_y_marisco_congelado',\n",
       " 'congelados_y_helados_pescado_y_marisco_calamar_y_otros_cefalopodos_preparados',\n",
       " 'el_mercado_pescaderia_pescado_y_marisco_congelado',\n",
       " 'el_mercado_pescaderia_preparados_y_elaborados_de_pescado_y_marisco',\n",
       " 'frescos_pescado_y_marisco_marisco_fresco',\n",
       " 'el_mercado_pescaderia_pescado_y_marisco_congelado',\n",
       " 'frescos_pescado_y_marisco_pescado_al_corte',\n",
       " 'el_mercado_pescaderia_preparados_y_elaborados_de_pescado_y_marisco',\n",
       " 'el_mercado_pescaderia_pescado_y_marisco_congelado',\n",
       " 'frescos_pescado_y_marisco_marisco_fresco',\n",
       " 'frescos_pescado_y_marisco_marisco_fresco',\n",
       " 'frescos_pescado_y_marisco_especialidades',\n",
       " 'el_mercado_pescaderia_pescado_y_marisco_congelado',\n",
       " 'frescos_pescado_y_marisco_pescado_fresco_blanco',\n",
       " 'frescos_pescado_y_marisco_pescado_fresco_blanco',\n",
       " 'congelados_y_helados_pescado_y_marisco_pescado_preparado',\n",
       " 'frescos_pescado_y_marisco_pescado_fresco_azul',\n",
       " 'el_mercado_pescaderia_pescado_y_marisco_congelado',\n",
       " 'frescos_pescado_y_marisco_calamar_pulpo_y_sepia',\n",
       " 'frescos_pescado_y_marisco_especialidades',\n",
       " 'frescos_pescado_y_marisco_pescado_fresco_blanco',\n",
       " 'congelados_y_helados_pescado_y_marisco_palitos_de_cangrejo_surimi_y_gulas',\n",
       " 'frescos_pescado_y_marisco_ahumados_salazones_y_marinados',\n",
       " 'frescos_pescado_y_marisco_ahumados_salazones_y_marinados',\n",
       " 'el_mercado_pescaderia_preparados_y_elaborados_de_pescado_y_marisco',\n",
       " 'frescos_pescado_y_marisco_pescado_fresco_blanco',\n",
       " 'frescos_pescado_y_marisco_pescado_fresco_azul',\n",
       " 'el_mercado_pescaderia_pescado_y_marisco_congelado',\n",
       " 'el_mercado_pescaderia_pescado_y_marisco_congelado',\n",
       " 'el_mercado_pescaderia_preparados_y_elaborados_de_pescado_y_marisco',\n",
       " 'frescos_pescado_y_marisco_especialidades',\n",
       " 'el_mercado_pescaderia_pescado_y_marisco_congelado',\n",
       " 'frescos_pescado_y_marisco_pescado_fresco_azul',\n",
       " 'congelados_y_helados_pescado_y_marisco_pescado_preparado',\n",
       " 'frescos_pescado_y_marisco_marisco_fresco',\n",
       " 'el_mercado_pescaderia_pescado_y_marisco_congelado',\n",
       " 'frescos_pescado_y_marisco_pescado_al_corte',\n",
       " 'el_mercado_pescaderia_pescado_y_marisco_congelado',\n",
       " 'el_mercado_pescaderia_preparados_y_elaborados_de_pescado_y_marisco',\n",
       " 'frescos_pescado_y_marisco_pescado_fresco_azul',\n",
       " 'frescos_pescado_y_marisco_marisco_fresco',\n",
       " 'el_mercado_pescaderia_pescado_y_marisco_congelado',\n",
       " 'frescos_pescado_y_marisco_pescado_al_corte',\n",
       " 'frescos_pescado_y_marisco_pescado_fresco_azul',\n",
       " 'el_mercado_pescaderia_pescado_y_marisco_congelado',\n",
       " 'frescos_pescado_y_marisco_especialidades',\n",
       " 'el_mercado_pescaderia_pescado_y_marisco_congelado',\n",
       " 'frescos_pescado_y_marisco_marisco_fresco',\n",
       " 'el_mercado_pescaderia_pescado_y_marisco_congelado',\n",
       " 'el_mercado_pescaderia_pescado_y_marisco_congelado',\n",
       " 'el_mercado_pescaderia_pescado_y_marisco_congelado',\n",
       " 'frescos_pescado_y_marisco_surimi_gulas_y_derivados',\n",
       " 'frescos_pescado_y_marisco_especialidades',\n",
       " 'frescos_pescado_y_marisco_ahumados_salazones_y_marinados',\n",
       " 'el_mercado_pescaderia_pescado_y_marisco_congelado',\n",
       " 'frescos_pescado_y_marisco_pescado_fresco_blanco',\n",
       " 'el_mercado_pescaderia_pescado_y_marisco_congelado',\n",
       " 'frescos_pescado_y_marisco_pescado_fresco_blanco',\n",
       " 'frescos_pescado_y_marisco_pescado_al_corte',\n",
       " 'frescos_pescado_y_marisco_ahumados_salazones_y_marinados',\n",
       " 'el_mercado_pescaderia_pescado_y_marisco_congelado',\n",
       " 'frescos_pescado_y_marisco_pescado_al_corte',\n",
       " 'el_mercado_pescaderia_pescado_y_marisco_congelado',\n",
       " 'el_mercado_pescaderia_preparados_y_elaborados_de_pescado_y_marisco',\n",
       " 'congelados_y_helados_pescado_y_marisco_pescado',\n",
       " 'frescos_pescado_y_marisco_especialidades',\n",
       " 'el_mercado_pescaderia_preparados_y_elaborados_de_pescado_y_marisco',\n",
       " 'el_mercado_pescaderia_pescado_y_marisco_congelado',\n",
       " 'frescos_pescado_y_marisco_calamar_pulpo_y_sepia',\n",
       " 'el_mercado_pescaderia_pescado_y_marisco_congelado',\n",
       " 'el_mercado_pescaderia_pescado_y_marisco_congelado',\n",
       " 'el_mercado_pescaderia_preparados_y_elaborados_de_pescado_y_marisco',\n",
       " 'congelados_y_helados_pescado_y_marisco_pescado',\n",
       " 'el_mercado_pescaderia_pescado_y_marisco_congelado',\n",
       " 'frescos_pescado_y_marisco_marisco_fresco',\n",
       " 'el_mercado_pescaderia_pescado_y_marisco_congelado',\n",
       " 'el_mercado_pescaderia_pescado_y_marisco_congelado',\n",
       " 'el_mercado_pescaderia_pescado_y_marisco_congelado',\n",
       " 'el_mercado_pescaderia_pescado_y_marisco_congelado',\n",
       " 'el_mercado_pescaderia_pescado_y_marisco_congelado',\n",
       " 'congelados_y_helados_pescado_y_marisco_pescado',\n",
       " 'el_mercado_pescaderia_pescado_y_marisco_congelado',\n",
       " 'frescos_pescado_y_marisco_especialidades',\n",
       " 'congelados_y_helados_pescado_y_marisco_marisco',\n",
       " 'el_mercado_pescaderia_preparados_y_elaborados_de_pescado_y_marisco',\n",
       " 'congelados_y_helados_pescado_y_marisco_calamar_y_otros_cefalopodos_preparados',\n",
       " 'congelados_y_helados_pescado_y_marisco_preparados_paella_y_caldo',\n",
       " 'frescos_pescado_y_marisco_pescado_fresco_blanco',\n",
       " 'frescos_pescado_y_marisco_especialidades',\n",
       " 'el_mercado_pescaderia_pescado_y_marisco_congelado',\n",
       " 'congelados_y_helados_pescado_y_marisco_marisco',\n",
       " 'congelados_y_helados_pescado_y_marisco_pescado',\n",
       " 'el_mercado_pescaderia_pescado_y_marisco_congelado',\n",
       " 'frescos_pescado_y_marisco_marisco_fresco',\n",
       " 'frescos_pescado_y_marisco_pescado_fresco_azul',\n",
       " 'frescos_pescado_y_marisco_pescado_fresco_azul',\n",
       " 'frescos_pescado_y_marisco_marisco_fresco',\n",
       " 'el_mercado_pescaderia_pescado_y_marisco_congelado',\n",
       " 'el_mercado_pescaderia_pescado_y_marisco_congelado',\n",
       " 'el_mercado_pescaderia_pescado_y_marisco_congelado',\n",
       " 'el_mercado_pescaderia_pescado_y_marisco_congelado',\n",
       " 'frescos_pescado_y_marisco_surimi_gulas_y_derivados',\n",
       " 'el_mercado_pescaderia_preparados_y_elaborados_de_pescado_y_marisco',\n",
       " 'congelados_y_helados_pescado_y_marisco_pescado',\n",
       " 'el_mercado_pescaderia_pescado_y_marisco_congelado',\n",
       " 'frescos_pescado_y_marisco_pescado_fresco_blanco',\n",
       " 'el_mercado_pescaderia_pescado_y_marisco_congelado',\n",
       " 'frescos_pescado_y_marisco_ahumados_salazones_y_marinados',\n",
       " 'el_mercado_pescaderia_pescado_y_marisco_congelado',\n",
       " 'congelados_y_helados_pescado_y_marisco_calamar_y_otros_cefalopodos',\n",
       " 'congelados_y_helados_pescado_y_marisco_pescado',\n",
       " 'el_mercado_pescaderia_pescado_y_marisco_congelado',\n",
       " 'frescos_pescado_y_marisco_pescado_al_corte',\n",
       " 'congelados_y_helados_pescado_y_marisco_calamar_y_otros_cefalopodos_preparados',\n",
       " 'frescos_pescado_y_marisco_pescado_fresco_blanco',\n",
       " 'el_mercado_pescaderia_pescado_y_marisco_congelado',\n",
       " 'el_mercado_pescaderia_pescado_y_marisco_congelado',\n",
       " 'frescos_pescado_y_marisco_pescado_fresco_blanco',\n",
       " 'congelados_y_helados_pescado_y_marisco_marisco',\n",
       " 'frescos_pescado_y_marisco_marisco_fresco',\n",
       " 'frescos_pescado_y_marisco_marisco_fresco',\n",
       " 'el_mercado_pescaderia_pescado_y_marisco_congelado',\n",
       " 'frescos_pescado_y_marisco_marisco_fresco',\n",
       " 'frescos_pescado_y_marisco_pescado_fresco_azul',\n",
       " 'frescos_pescado_y_marisco_marisco_fresco',\n",
       " 'congelados_y_helados_pescado_y_marisco_marisco',\n",
       " 'el_mercado_pescaderia_pescado_y_marisco_congelado',\n",
       " 'frescos_pescado_y_marisco_ahumados_salazones_y_marinados',\n",
       " 'el_mercado_pescaderia_pescado_y_marisco_congelado',\n",
       " 'congelados_y_helados_pescado_y_marisco_calamar_y_otros_cefalopodos',\n",
       " 'frescos_pescado_y_marisco_pescado_fresco_azul',\n",
       " 'congelados_y_helados_pescado_y_marisco_marisco',\n",
       " 'el_mercado_pescaderia_pescado_y_marisco_congelado',\n",
       " 'frescos_pescado_y_marisco_pescado_fresco_blanco',\n",
       " 'el_mercado_pescaderia_preparados_y_elaborados_de_pescado_y_marisco',\n",
       " 'congelados_y_helados_pescado_y_marisco_calamar_y_otros_cefalopodos_preparados',\n",
       " 'congelados_y_helados_pescado_y_marisco_marisco',\n",
       " 'frescos_pescado_y_marisco_surimi_gulas_y_derivados',\n",
       " 'frescos_pescado_y_marisco_ahumados_salazones_y_marinados',\n",
       " 'congelados_y_helados_pescado_y_marisco_pescado',\n",
       " 'frescos_pescado_y_marisco_pescado_fresco_blanco',\n",
       " 'frescos_pescado_y_marisco_marisco_fresco',\n",
       " 'congelados_y_helados_pescado_y_marisco_marisco',\n",
       " 'frescos_pescado_y_marisco_pescado_fresco_blanco',\n",
       " 'frescos_pescado_y_marisco_pescado_fresco_azul',\n",
       " 'frescos_pescado_y_marisco_surimi_gulas_y_derivados',\n",
       " 'frescos_pescado_y_marisco_pescado_al_corte',\n",
       " 'congelados_y_helados_pescado_y_marisco_pescado',\n",
       " 'el_mercado_pescaderia_pescado_y_marisco_congelado',\n",
       " 'el_mercado_pescaderia_pescado_y_marisco_congelado',\n",
       " 'frescos_pescado_y_marisco_pescado_fresco_azul',\n",
       " 'congelados_y_helados_pescado_y_marisco_pescado',\n",
       " 'frescos_pescado_y_marisco_marisco_fresco',\n",
       " 'el_mercado_pescaderia_pescado_y_marisco_congelado',\n",
       " 'el_mercado_pescaderia_pescado_y_marisco_congelado',\n",
       " 'frescos_pescado_y_marisco_marisco_fresco',\n",
       " 'congelados_y_helados_pescado_y_marisco_marisco',\n",
       " 'el_mercado_pescaderia_pescado_y_marisco_congelado',\n",
       " 'el_mercado_pescaderia_preparados_y_elaborados_de_pescado_y_marisco',\n",
       " 'frescos_pescado_y_marisco_pescado_fresco_azul',\n",
       " 'frescos_pescado_y_marisco_pescado_fresco_azul',\n",
       " 'el_mercado_pescaderia_pescado_y_marisco_congelado',\n",
       " 'frescos_pescado_y_marisco_pescado_fresco_blanco',\n",
       " 'congelados_y_helados_pescado_y_marisco_pescado',\n",
       " 'frescos_pescado_y_marisco_pescado_fresco_blanco',\n",
       " 'congelados_y_helados_pescado_y_marisco_marisco',\n",
       " 'el_mercado_pescaderia_pescado_y_marisco_congelado',\n",
       " 'congelados_y_helados_pescado_y_marisco_pescado',\n",
       " 'frescos_pescado_y_marisco_marisco_fresco',\n",
       " 'el_mercado_pescaderia_pescado_y_marisco_congelado',\n",
       " 'frescos_pescado_y_marisco_pescado_fresco_azul',\n",
       " 'el_mercado_pescaderia_preparados_y_elaborados_de_pescado_y_marisco',\n",
       " 'frescos_pescado_y_marisco_pescado_fresco_blanco',\n",
       " 'el_mercado_pescaderia_preparados_y_elaborados_de_pescado_y_marisco',\n",
       " 'el_mercado_pescaderia_pescado_y_marisco_congelado',\n",
       " 'el_mercado_pescaderia_pescado_y_marisco_congelado',\n",
       " 'frescos_pescado_y_marisco_pescado_fresco_blanco',\n",
       " 'el_mercado_pescaderia_pescado_y_marisco_congelado',\n",
       " 'frescos_pescado_y_marisco_marisco_fresco',\n",
       " 'frescos_pescado_y_marisco_pescado_fresco_azul',\n",
       " 'frescos_pescado_y_marisco_pescado_fresco_azul',\n",
       " 'frescos_pescado_y_marisco_pescado_fresco_azul',\n",
       " 'el_mercado_pescaderia_pescado_y_marisco_congelado',\n",
       " 'el_mercado_pescaderia_pescado_y_marisco_congelado',\n",
       " 'frescos_pescado_y_marisco_pescado_fresco_azul',\n",
       " 'frescos_pescado_y_marisco_pescado_fresco_blanco',\n",
       " 'frescos_pescado_y_marisco_pescado_fresco_azul',\n",
       " 'el_mercado_pescaderia_pescado_y_marisco_congelado',\n",
       " 'frescos_pescado_y_marisco_pescado_al_corte',\n",
       " 'el_mercado_pescaderia_pescado_y_marisco_congelado',\n",
       " 'frescos_pescado_y_marisco_marisco_fresco',\n",
       " 'congelados_y_helados_pescado_y_marisco_pescado',\n",
       " 'el_mercado_pescaderia_preparados_y_elaborados_de_pescado_y_marisco',\n",
       " 'el_mercado_pescaderia_pescado_y_marisco_congelado',\n",
       " 'congelados_y_helados_pescado_y_marisco_pescado_preparado',\n",
       " 'frescos_pescado_y_marisco_marisco_fresco',\n",
       " 'el_mercado_pescaderia_pescado_y_marisco_congelado',\n",
       " 'el_mercado_pescaderia_preparados_y_elaborados_de_pescado_y_marisco',\n",
       " 'el_mercado_pescaderia_pescado_y_marisco_congelado',\n",
       " 'el_mercado_pescaderia_pescado_y_marisco_congelado',\n",
       " 'el_mercado_pescaderia_pescado_y_marisco_congelado',\n",
       " 'el_mercado_pescaderia_pescado_y_marisco_congelado',\n",
       " 'congelados_y_helados_pescado_y_marisco_marisco',\n",
       " 'frescos_pescado_y_marisco_pescado_fresco_blanco',\n",
       " 'el_mercado_pescaderia_pescado_y_marisco_congelado',\n",
       " 'congelados_y_helados_pescado_y_marisco_pescado',\n",
       " 'el_mercado_pescaderia_pescado_y_marisco_congelado',\n",
       " 'el_mercado_pescaderia_pescado_y_marisco_congelado',\n",
       " 'frescos_pescado_y_marisco_pescado_fresco_azul',\n",
       " 'el_mercado_pescaderia_pescado_y_marisco_congelado',\n",
       " 'frescos_pescado_y_marisco_especialidades',\n",
       " 'frescos_pescado_y_marisco_pescado_al_corte',\n",
       " 'frescos_pescado_y_marisco_pescado_fresco_blanco',\n",
       " 'frescos_pescado_y_marisco_pescado_fresco_blanco',\n",
       " 'frescos_pescado_y_marisco_pescado_fresco_blanco',\n",
       " 'el_mercado_pescaderia_pescado_y_marisco_congelado',\n",
       " 'el_mercado_pescaderia_pescado_y_marisco_congelado',\n",
       " 'el_mercado_pescaderia_pescado_y_marisco_congelado',\n",
       " 'el_mercado_pescaderia_pescado_y_marisco_congelado',\n",
       " 'el_mercado_pescaderia_pescado_y_marisco_congelado',\n",
       " 'frescos_pescado_y_marisco_pescado_fresco_blanco',\n",
       " 'congelados_y_helados_pescado_y_marisco_pescado_preparado',\n",
       " 'el_mercado_pescaderia_pescado_y_marisco_congelado',\n",
       " 'el_mercado_pescaderia_pescado_y_marisco_congelado',\n",
       " 'el_mercado_pescaderia_pescado_y_marisco_congelado',\n",
       " 'el_mercado_pescaderia_preparados_y_elaborados_de_pescado_y_marisco',\n",
       " 'el_mercado_pescaderia_pescado_y_marisco_congelado',\n",
       " 'el_mercado_pescaderia_pescado_y_marisco_congelado',\n",
       " 'el_mercado_pescaderia_pescado_y_marisco_congelado',\n",
       " 'el_mercado_pescaderia_pescado_y_marisco_congelado',\n",
       " 'el_mercado_pescaderia_pescado_y_marisco_congelado',\n",
       " 'el_mercado_pescaderia_pescado_y_marisco_congelado',\n",
       " 'congelados_y_helados_pescado_y_marisco_pescado',\n",
       " 'congelados_y_helados_pescado_y_marisco_pescado_preparado',\n",
       " 'el_mercado_pescaderia_pescado_y_marisco_congelado',\n",
       " 'el_mercado_pescaderia_pescado_y_marisco_congelado',\n",
       " 'frescos_pescado_y_marisco_pescado_fresco_azul',\n",
       " 'frescos_pescado_y_marisco_pescado_al_corte',\n",
       " 'frescos_pescado_y_marisco_pescado_fresco_blanco',\n",
       " 'frescos_pescado_y_marisco_especialidades',\n",
       " 'el_mercado_pescaderia_pescado_y_marisco_congelado',\n",
       " 'congelados_y_helados_pescado_y_marisco_palitos_de_cangrejo_surimi_y_gulas',\n",
       " 'el_mercado_pescaderia_pescado_y_marisco_congelado',\n",
       " 'el_mercado_pescaderia_pescado_y_marisco_congelado',\n",
       " 'el_mercado_pescaderia_pescado_y_marisco_congelado',\n",
       " 'frescos_pescado_y_marisco_pescado_fresco_blanco',\n",
       " 'frescos_pescado_y_marisco_ahumados_salazones_y_marinados',\n",
       " 'el_mercado_pescaderia_pescado_y_marisco_congelado',\n",
       " 'frescos_pescado_y_marisco_especialidades',\n",
       " 'frescos_pescado_y_marisco_pescado_fresco_azul',\n",
       " 'frescos_pescado_y_marisco_marisco_fresco',\n",
       " 'frescos_pescado_y_marisco_pescado_fresco_blanco',\n",
       " 'frescos_pescado_y_marisco_calamar_pulpo_y_sepia',\n",
       " 'frescos_pescado_y_marisco_pescado_fresco_blanco',\n",
       " 'frescos_pescado_y_marisco_pescado_fresco_azul',\n",
       " 'frescos_pescado_y_marisco_ahumados_salazones_y_marinados',\n",
       " 'el_mercado_pescaderia_pescado_y_marisco_congelado',\n",
       " 'frescos_pescado_y_marisco_ahumados_salazones_y_marinados',\n",
       " 'el_mercado_pescaderia_pescado_y_marisco_congelado',\n",
       " 'el_mercado_pescaderia_preparados_y_elaborados_de_pescado_y_marisco',\n",
       " 'el_mercado_pescaderia_pescado_y_marisco_congelado',\n",
       " 'el_mercado_pescaderia_pescado_y_marisco_congelado',\n",
       " 'congelados_y_helados_pescado_y_marisco_palitos_de_cangrejo_surimi_y_gulas',\n",
       " 'el_mercado_pescaderia_pescado_y_marisco_congelado',\n",
       " 'frescos_pescado_y_marisco_pescado_fresco_azul',\n",
       " 'el_mercado_pescaderia_pescado_y_marisco_congelado',\n",
       " 'frescos_pescado_y_marisco_pescado_fresco_azul',\n",
       " 'el_mercado_pescaderia_pescado_y_marisco_congelado',\n",
       " 'frescos_pescado_y_marisco_ahumados_salazones_y_marinados',\n",
       " 'el_mercado_pescaderia_preparados_y_elaborados_de_pescado_y_marisco',\n",
       " 'el_mercado_pescaderia_pescado_y_marisco_congelado',\n",
       " 'el_mercado_pescaderia_pescado_y_marisco_congelado',\n",
       " 'frescos_pescado_y_marisco_pescado_fresco_blanco',\n",
       " 'frescos_pescado_y_marisco_marisco_fresco',\n",
       " 'el_mercado_pescaderia_preparados_y_elaborados_de_pescado_y_marisco',\n",
       " 'congelados_y_helados_pescado_y_marisco_palitos_de_cangrejo_surimi_y_gulas',\n",
       " 'congelados_y_helados_pescado_y_marisco_marisco',\n",
       " 'congelados_y_helados_pescado_y_marisco_marisco',\n",
       " 'el_mercado_pescaderia_pescado_y_marisco_congelado',\n",
       " 'congelados_y_helados_pescado_y_marisco_calamar_y_otros_cefalopodos_preparados',\n",
       " 'el_mercado_pescaderia_pescado_y_marisco_congelado',\n",
       " 'el_mercado_pescaderia_preparados_y_elaborados_de_pescado_y_marisco',\n",
       " 'el_mercado_pescaderia_pescado_y_marisco_congelado',\n",
       " 'frescos_pescado_y_marisco_surimi_gulas_y_derivados',\n",
       " 'frescos_pescado_y_marisco_surimi_gulas_y_derivados',\n",
       " 'frescos_pescado_y_marisco_especialidades',\n",
       " 'el_mercado_pescaderia_pescado_y_marisco_congelado',\n",
       " 'frescos_pescado_y_marisco_marisco_fresco',\n",
       " 'frescos_pescado_y_marisco_ahumados_salazones_y_marinados',\n",
       " 'el_mercado_pescaderia_pescado_y_marisco_congelado',\n",
       " 'el_mercado_pescaderia_pescado_y_marisco_congelado',\n",
       " 'frescos_pescado_y_marisco_pescado_fresco_azul',\n",
       " 'el_mercado_pescaderia_pescado_y_marisco_congelado',\n",
       " 'el_mercado_pescaderia_pescado_y_marisco_congelado',\n",
       " 'frescos_pescado_y_marisco_marisco_fresco',\n",
       " 'el_mercado_pescaderia_preparados_y_elaborados_de_pescado_y_marisco',\n",
       " 'frescos_pescado_y_marisco_pescado_fresco_blanco',\n",
       " 'el_mercado_pescaderia_pescado_y_marisco_congelado',\n",
       " 'el_mercado_pescaderia_pescado_y_marisco_congelado',\n",
       " 'frescos_pescado_y_marisco_pescado_al_corte',\n",
       " 'frescos_pescado_y_marisco_surimi_gulas_y_derivados',\n",
       " 'frescos_pescado_y_marisco_ahumados_salazones_y_marinados',\n",
       " 'frescos_pescado_y_marisco_marisco_fresco',\n",
       " 'el_mercado_pescaderia_pescado_y_marisco_congelado',\n",
       " 'el_mercado_pescaderia_pescado_y_marisco_congelado',\n",
       " 'congelados_y_helados_pescado_y_marisco_pescado_preparado',\n",
       " 'el_mercado_pescaderia_pescado_y_marisco_congelado',\n",
       " 'el_mercado_pescaderia_pescado_y_marisco_congelado',\n",
       " 'frescos_pescado_y_marisco_marisco_fresco',\n",
       " 'congelados_y_helados_pescado_y_marisco_marisco',\n",
       " 'frescos_pescado_y_marisco_especialidades',\n",
       " 'el_mercado_pescaderia_preparados_y_elaborados_de_pescado_y_marisco',\n",
       " 'congelados_y_helados_pescado_y_marisco_pescado_preparado',\n",
       " 'el_mercado_pescaderia_pescado_y_marisco_congelado',\n",
       " 'frescos_pescado_y_marisco_marisco_fresco',\n",
       " 'frescos_pescado_y_marisco_pescado_fresco_blanco',\n",
       " 'congelados_y_helados_pescado_y_marisco_pescado_preparado',\n",
       " 'el_mercado_pescaderia_pescado_y_marisco_congelado',\n",
       " 'el_mercado_pescaderia_preparados_y_elaborados_de_pescado_y_marisco',\n",
       " 'frescos_pescado_y_marisco_pescado_fresco_azul',\n",
       " 'el_mercado_pescaderia_preparados_y_elaborados_de_pescado_y_marisco',\n",
       " 'frescos_pescado_y_marisco_marisco_fresco',\n",
       " 'frescos_pescado_y_marisco_pescado_fresco_azul',\n",
       " 'el_mercado_pescaderia_pescado_y_marisco_congelado',\n",
       " 'frescos_pescado_y_marisco_marisco_fresco',\n",
       " 'el_mercado_pescaderia_pescado_y_marisco_congelado',\n",
       " 'frescos_pescado_y_marisco_marisco_fresco',\n",
       " 'frescos_pescado_y_marisco_especialidades',\n",
       " 'frescos_pescado_y_marisco_especialidades',\n",
       " 'el_mercado_pescaderia_pescado_y_marisco_congelado',\n",
       " 'el_mercado_pescaderia_pescado_y_marisco_congelado',\n",
       " 'el_mercado_pescaderia_pescado_y_marisco_congelado',\n",
       " 'el_mercado_pescaderia_preparados_y_elaborados_de_pescado_y_marisco',\n",
       " 'frescos_pescado_y_marisco_pescado_fresco_azul',\n",
       " 'el_mercado_pescaderia_pescado_y_marisco_congelado',\n",
       " 'frescos_pescado_y_marisco_pescado_fresco_azul',\n",
       " 'el_mercado_pescaderia_preparados_y_elaborados_de_pescado_y_marisco',\n",
       " 'el_mercado_pescaderia_pescado_y_marisco_congelado',\n",
       " 'congelados_y_helados_pescado_y_marisco_pescado',\n",
       " 'el_mercado_pescaderia_preparados_y_elaborados_de_pescado_y_marisco',\n",
       " 'el_mercado_pescaderia_pescado_y_marisco_congelado',\n",
       " 'frescos_pescado_y_marisco_pescado_fresco_azul',\n",
       " 'el_mercado_pescaderia_pescado_y_marisco_congelado',\n",
       " 'frescos_pescado_y_marisco_calamar_pulpo_y_sepia',\n",
       " 'el_mercado_pescaderia_pescado_y_marisco_congelado',\n",
       " 'el_mercado_pescaderia_pescado_y_marisco_congelado',\n",
       " 'frescos_pescado_y_marisco_marisco_fresco',\n",
       " 'frescos_pescado_y_marisco_pescado_al_corte',\n",
       " 'frescos_pescado_y_marisco_surimi_gulas_y_derivados',\n",
       " 'el_mercado_pescaderia_preparados_y_elaborados_de_pescado_y_marisco',\n",
       " 'frescos_pescado_y_marisco_pescado_fresco_azul',\n",
       " 'frescos_pescado_y_marisco_ahumados_salazones_y_marinados',\n",
       " 'frescos_pescado_y_marisco_marisco_fresco',\n",
       " 'frescos_pescado_y_marisco_marisco_fresco',\n",
       " 'frescos_pescado_y_marisco_pescado_fresco_azul',\n",
       " 'frescos_pescado_y_marisco_pescado_fresco_blanco',\n",
       " 'congelados_y_helados_pescado_y_marisco_marisco',\n",
       " 'el_mercado_pescaderia_pescado_y_marisco_congelado',\n",
       " 'frescos_pescado_y_marisco_especialidades',\n",
       " 'el_mercado_pescaderia_pescado_y_marisco_congelado',\n",
       " 'el_mercado_pescaderia_pescado_y_marisco_congelado',\n",
       " 'frescos_pescado_y_marisco_pescado_fresco_azul',\n",
       " 'frescos_pescado_y_marisco_marisco_fresco',\n",
       " 'el_mercado_pescaderia_preparados_y_elaborados_de_pescado_y_marisco',\n",
       " 'el_mercado_pescaderia_pescado_y_marisco_congelado',\n",
       " 'el_mercado_pescaderia_pescado_y_marisco_congelado',\n",
       " 'frescos_pescado_y_marisco_surimi_gulas_y_derivados',\n",
       " 'congelados_y_helados_pescado_y_marisco_pescado',\n",
       " 'frescos_pescado_y_marisco_pescado_fresco_azul',\n",
       " 'frescos_pescado_y_marisco_pescado_fresco_blanco',\n",
       " 'el_mercado_pescaderia_preparados_y_elaborados_de_pescado_y_marisco',\n",
       " 'frescos_pescado_y_marisco_pescado_fresco_azul',\n",
       " 'el_mercado_pescaderia_preparados_y_elaborados_de_pescado_y_marisco',\n",
       " 'congelados_y_helados_pescado_y_marisco_calamar_y_otros_cefalopodos_preparados',\n",
       " 'congelados_y_helados_pescado_y_marisco_marisco',\n",
       " 'frescos_pescado_y_marisco_ahumados_salazones_y_marinados',\n",
       " 'el_mercado_pescaderia_preparados_y_elaborados_de_pescado_y_marisco',\n",
       " 'el_mercado_pescaderia_pescado_y_marisco_congelado',\n",
       " 'el_mercado_pescaderia_preparados_y_elaborados_de_pescado_y_marisco',\n",
       " 'congelados_y_helados_pescado_y_marisco_palitos_de_cangrejo_surimi_y_gulas',\n",
       " 'el_mercado_pescaderia_preparados_y_elaborados_de_pescado_y_marisco',\n",
       " 'el_mercado_pescaderia_pescado_y_marisco_congelado',\n",
       " 'frescos_pescado_y_marisco_especialidades',\n",
       " 'frescos_pescado_y_marisco_marisco_fresco',\n",
       " 'el_mercado_pescaderia_pescado_y_marisco_congelado',\n",
       " 'el_mercado_pescaderia_preparados_y_elaborados_de_pescado_y_marisco',\n",
       " 'frescos_pescado_y_marisco_marisco_fresco',\n",
       " 'el_mercado_pescaderia_pescado_y_marisco_congelado',\n",
       " 'el_mercado_pescaderia_pescado_y_marisco_congelado',\n",
       " 'el_mercado_pescaderia_pescado_y_marisco_congelado',\n",
       " 'frescos_pescado_y_marisco_pescado_fresco_azul',\n",
       " 'el_mercado_pescaderia_pescado_y_marisco_congelado',\n",
       " 'congelados_y_helados_pescado_y_marisco_palitos_de_cangrejo_surimi_y_gulas',\n",
       " 'frescos_pescado_y_marisco_especialidades',\n",
       " 'frescos_pescado_y_marisco_pescado_fresco_blanco',\n",
       " 'frescos_pescado_y_marisco_pescado_fresco_azul',\n",
       " 'el_mercado_pescaderia_pescado_y_marisco_congelado',\n",
       " 'el_mercado_pescaderia_pescado_y_marisco_congelado',\n",
       " 'el_mercado_pescaderia_pescado_y_marisco_congelado',\n",
       " 'el_mercado_pescaderia_pescado_y_marisco_congelado',\n",
       " 'el_mercado_pescaderia_pescado_y_marisco_congelado',\n",
       " 'frescos_pescado_y_marisco_pescado_fresco_azul',\n",
       " 'el_mercado_pescaderia_pescado_y_marisco_congelado',\n",
       " 'frescos_pescado_y_marisco_marisco_fresco',\n",
       " 'congelados_y_helados_pescado_y_marisco_calamar_y_otros_cefalopodos',\n",
       " 'congelados_y_helados_pescado_y_marisco_calamar_y_otros_cefalopodos_preparados',\n",
       " 'congelados_y_helados_pescado_y_marisco_marisco',\n",
       " 'frescos_pescado_y_marisco_marisco_fresco',\n",
       " 'congelados_y_helados_pescado_y_marisco_pescado_preparado',\n",
       " 'el_mercado_pescaderia_pescado_y_marisco_congelado',\n",
       " 'el_mercado_pescaderia_pescado_y_marisco_congelado',\n",
       " 'frescos_pescado_y_marisco_pescado_fresco_blanco',\n",
       " 'frescos_pescado_y_marisco_surimi_gulas_y_derivados',\n",
       " 'el_mercado_pescaderia_pescado_y_marisco_congelado',\n",
       " 'frescos_pescado_y_marisco_surimi_gulas_y_derivados',\n",
       " 'el_mercado_pescaderia_pescado_y_marisco_congelado',\n",
       " 'frescos_pescado_y_marisco_especialidades',\n",
       " 'frescos_pescado_y_marisco_pescado_fresco_blanco',\n",
       " 'el_mercado_pescaderia_pescado_y_marisco_congelado',\n",
       " 'frescos_pescado_y_marisco_pescado_fresco_blanco',\n",
       " 'frescos_pescado_y_marisco_pescado_fresco_blanco',\n",
       " 'frescos_pescado_y_marisco_marisco_fresco',\n",
       " 'frescos_pescado_y_marisco_surimi_gulas_y_derivados',\n",
       " 'frescos_pescado_y_marisco_especialidades',\n",
       " 'el_mercado_pescaderia_preparados_y_elaborados_de_pescado_y_marisco',\n",
       " 'el_mercado_pescaderia_pescado_y_marisco_congelado',\n",
       " 'congelados_y_helados_pescado_y_marisco_marisco',\n",
       " 'frescos_pescado_y_marisco_pescado_fresco_blanco',\n",
       " 'el_mercado_pescaderia_preparados_y_elaborados_de_pescado_y_marisco',\n",
       " 'congelados_y_helados_pescado_y_marisco_calamar_y_otros_cefalopodos',\n",
       " 'el_mercado_pescaderia_pescado_y_marisco_congelado',\n",
       " 'congelados_y_helados_pescado_y_marisco_calamar_y_otros_cefalopodos',\n",
       " 'frescos_pescado_y_marisco_pescado_fresco_azul',\n",
       " 'el_mercado_pescaderia_pescado_y_marisco_congelado',\n",
       " 'frescos_pescado_y_marisco_pescado_al_corte',\n",
       " 'el_mercado_pescaderia_pescado_y_marisco_congelado',\n",
       " 'frescos_pescado_y_marisco_pescado_fresco_blanco',\n",
       " 'congelados_y_helados_pescado_y_marisco_marisco',\n",
       " 'congelados_y_helados_pescado_y_marisco_palitos_de_cangrejo_surimi_y_gulas',\n",
       " 'congelados_y_helados_pescado_y_marisco_marisco',\n",
       " 'el_mercado_pescaderia_pescado_y_marisco_congelado',\n",
       " 'el_mercado_pescaderia_pescado_y_marisco_congelado',\n",
       " 'congelados_y_helados_pescado_y_marisco_calamar_y_otros_cefalopodos_preparados',\n",
       " 'el_mercado_pescaderia_pescado_y_marisco_congelado',\n",
       " 'congelados_y_helados_pescado_y_marisco_pescado_preparado',\n",
       " 'frescos_pescado_y_marisco_ahumados_salazones_y_marinados',\n",
       " 'frescos_pescado_y_marisco_pescado_fresco_azul',\n",
       " 'congelados_y_helados_pescado_y_marisco_marisco',\n",
       " 'frescos_pescado_y_marisco_marisco_fresco',\n",
       " 'el_mercado_pescaderia_pescado_y_marisco_congelado',\n",
       " 'el_mercado_pescaderia_pescado_y_marisco_congelado',\n",
       " 'frescos_pescado_y_marisco_marisco_fresco',\n",
       " 'el_mercado_pescaderia_pescado_y_marisco_congelado',\n",
       " 'frescos_pescado_y_marisco_pescado_fresco_azul',\n",
       " 'el_mercado_pescaderia_pescado_y_marisco_congelado',\n",
       " 'frescos_pescado_y_marisco_pescado_fresco_azul',\n",
       " 'congelados_y_helados_pescado_y_marisco_marisco',\n",
       " 'frescos_pescado_y_marisco_ahumados_salazones_y_marinados',\n",
       " 'el_mercado_pescaderia_pescado_y_marisco_congelado',\n",
       " 'frescos_pescado_y_marisco_pescado_fresco_azul',\n",
       " 'frescos_pescado_y_marisco_pescado_fresco_blanco',\n",
       " 'el_mercado_pescaderia_preparados_y_elaborados_de_pescado_y_marisco',\n",
       " 'frescos_pescado_y_marisco_pescado_fresco_blanco',\n",
       " 'frescos_pescado_y_marisco_surimi_gulas_y_derivados',\n",
       " 'congelados_y_helados_pescado_y_marisco_marisco',\n",
       " 'el_mercado_pescaderia_preparados_y_elaborados_de_pescado_y_marisco',\n",
       " 'frescos_pescado_y_marisco_pescado_fresco_azul',\n",
       " 'frescos_pescado_y_marisco_pescado_fresco_azul',\n",
       " 'el_mercado_pescaderia_pescado_y_marisco_congelado',\n",
       " 'el_mercado_pescaderia_pescado_y_marisco_congelado',\n",
       " 'frescos_pescado_y_marisco_pescado_al_corte',\n",
       " 'el_mercado_pescaderia_preparados_y_elaborados_de_pescado_y_marisco',\n",
       " 'frescos_pescado_y_marisco_pescado_al_corte',\n",
       " 'el_mercado_pescaderia_pescado_y_marisco_congelado',\n",
       " 'frescos_pescado_y_marisco_pescado_al_corte',\n",
       " 'el_mercado_pescaderia_pescado_y_marisco_congelado',\n",
       " 'congelados_y_helados_pescado_y_marisco_calamar_y_otros_cefalopodos',\n",
       " 'el_mercado_pescaderia_pescado_y_marisco_congelado',\n",
       " 'frescos_pescado_y_marisco_pescado_al_corte',\n",
       " 'el_mercado_pescaderia_pescado_y_marisco_congelado',\n",
       " 'el_mercado_pescaderia_pescado_y_marisco_congelado',\n",
       " 'el_mercado_pescaderia_pescado_y_marisco_congelado',\n",
       " 'el_mercado_pescaderia_pescado_y_marisco_congelado',\n",
       " 'frescos_pescado_y_marisco_pescado_al_corte',\n",
       " 'frescos_pescado_y_marisco_marisco_fresco',\n",
       " 'el_mercado_pescaderia_pescado_y_marisco_congelado',\n",
       " 'frescos_pescado_y_marisco_pescado_fresco_azul',\n",
       " 'frescos_pescado_y_marisco_pescado_fresco_blanco',\n",
       " 'frescos_pescado_y_marisco_marisco_fresco',\n",
       " 'frescos_pescado_y_marisco_ahumados_salazones_y_marinados',\n",
       " 'frescos_pescado_y_marisco_pescado_fresco_azul',\n",
       " 'el_mercado_pescaderia_pescado_y_marisco_congelado',\n",
       " 'frescos_pescado_y_marisco_pescado_fresco_azul',\n",
       " 'el_mercado_pescaderia_pescado_y_marisco_congelado',\n",
       " 'congelados_y_helados_pescado_y_marisco_marisco',\n",
       " 'el_mercado_pescaderia_pescado_y_marisco_congelado',\n",
       " 'frescos_pescado_y_marisco_marisco_fresco',\n",
       " 'frescos_pescado_y_marisco_marisco_fresco',\n",
       " 'el_mercado_pescaderia_preparados_y_elaborados_de_pescado_y_marisco',\n",
       " 'frescos_pescado_y_marisco_pescado_fresco_blanco',\n",
       " 'el_mercado_pescaderia_preparados_y_elaborados_de_pescado_y_marisco',\n",
       " 'el_mercado_pescaderia_pescado_y_marisco_congelado',\n",
       " 'el_mercado_pescaderia_pescado_y_marisco_congelado',\n",
       " 'frescos_pescado_y_marisco_ahumados_salazones_y_marinados',\n",
       " 'el_mercado_pescaderia_preparados_y_elaborados_de_pescado_y_marisco',\n",
       " 'congelados_y_helados_pescado_y_marisco_marisco',\n",
       " 'el_mercado_pescaderia_pescado_y_marisco_congelado',\n",
       " 'frescos_pescado_y_marisco_pescado_fresco_azul',\n",
       " 'el_mercado_pescaderia_pescado_y_marisco_congelado',\n",
       " 'frescos_pescado_y_marisco_marisco_fresco',\n",
       " 'frescos_pescado_y_marisco_pescado_al_corte',\n",
       " 'el_mercado_pescaderia_pescado_y_marisco_congelado',\n",
       " 'frescos_pescado_y_marisco_surimi_gulas_y_derivados',\n",
       " 'congelados_y_helados_pescado_y_marisco_preparados_paella_y_caldo',\n",
       " 'el_mercado_pescaderia_preparados_y_elaborados_de_pescado_y_marisco',\n",
       " 'congelados_y_helados_pescado_y_marisco_pescado',\n",
       " 'frescos_pescado_y_marisco_pescado_fresco_azul',\n",
       " 'el_mercado_pescaderia_preparados_y_elaborados_de_pescado_y_marisco',\n",
       " 'el_mercado_pescaderia_pescado_y_marisco_congelado',\n",
       " 'frescos_pescado_y_marisco_surimi_gulas_y_derivados',\n",
       " 'congelados_y_helados_pescado_y_marisco_calamar_y_otros_cefalopodos_preparados',\n",
       " 'frescos_pescado_y_marisco_marisco_fresco',\n",
       " 'el_mercado_pescaderia_pescado_y_marisco_congelado',\n",
       " 'el_mercado_pescaderia_pescado_y_marisco_congelado',\n",
       " 'el_mercado_pescaderia_pescado_y_marisco_congelado',\n",
       " 'congelados_y_helados_pescado_y_marisco_pescado_preparado',\n",
       " 'frescos_pescado_y_marisco_pescado_al_corte',\n",
       " 'el_mercado_pescaderia_pescado_y_marisco_congelado',\n",
       " 'frescos_pescado_y_marisco_pescado_al_corte',\n",
       " 'el_mercado_pescaderia_pescado_y_marisco_congelado',\n",
       " 'frescos_pescado_y_marisco_pescado_fresco_azul',\n",
       " 'el_mercado_pescaderia_pescado_y_marisco_congelado',\n",
       " 'frescos_pescado_y_marisco_pescado_fresco_azul',\n",
       " 'frescos_pescado_y_marisco_pescado_fresco_azul',\n",
       " 'el_mercado_pescaderia_pescado_y_marisco_congelado',\n",
       " 'congelados_y_helados_pescado_y_marisco_pescado_preparado',\n",
       " 'frescos_pescado_y_marisco_marisco_fresco',\n",
       " 'el_mercado_pescaderia_preparados_y_elaborados_de_pescado_y_marisco',\n",
       " 'el_mercado_pescaderia_preparados_y_elaborados_de_pescado_y_marisco',\n",
       " 'el_mercado_pescaderia_pescado_y_marisco_congelado',\n",
       " 'congelados_y_helados_pescado_y_marisco_palitos_de_cangrejo_surimi_y_gulas',\n",
       " 'frescos_pescado_y_marisco_especialidades',\n",
       " 'el_mercado_pescaderia_pescado_y_marisco_congelado',\n",
       " 'el_mercado_pescaderia_pescado_y_marisco_congelado',\n",
       " 'el_mercado_pescaderia_pescado_y_marisco_congelado',\n",
       " 'frescos_pescado_y_marisco_pescado_fresco_azul',\n",
       " 'frescos_pescado_y_marisco_pescado_fresco_azul',\n",
       " 'congelados_y_helados_pescado_y_marisco_pescado',\n",
       " 'congelados_y_helados_pescado_y_marisco_calamar_y_otros_cefalopodos_preparados',\n",
       " 'frescos_pescado_y_marisco_ahumados_salazones_y_marinados',\n",
       " 'frescos_pescado_y_marisco_marisco_fresco',\n",
       " 'congelados_y_helados_pescado_y_marisco_calamar_y_otros_cefalopodos_preparados',\n",
       " 'el_mercado_pescaderia_pescado_y_marisco_congelado',\n",
       " 'frescos_pescado_y_marisco_marisco_fresco',\n",
       " 'frescos_pescado_y_marisco_pescado_fresco_blanco',\n",
       " 'frescos_pescado_y_marisco_pescado_al_corte',\n",
       " 'el_mercado_pescaderia_pescado_y_marisco_congelado',\n",
       " 'el_mercado_pescaderia_pescado_y_marisco_congelado',\n",
       " 'congelados_y_helados_pescado_y_marisco_marisco',\n",
       " 'frescos_pescado_y_marisco_especialidades',\n",
       " 'frescos_pescado_y_marisco_ahumados_salazones_y_marinados',\n",
       " 'congelados_y_helados_pescado_y_marisco_palitos_de_cangrejo_surimi_y_gulas',\n",
       " 'frescos_pescado_y_marisco_pescado_fresco_azul',\n",
       " 'el_mercado_pescaderia_preparados_y_elaborados_de_pescado_y_marisco',\n",
       " 'frescos_pescado_y_marisco_pescado_fresco_blanco',\n",
       " 'el_mercado_pescaderia_pescado_y_marisco_congelado',\n",
       " 'el_mercado_pescaderia_pescado_y_marisco_congelado',\n",
       " 'frescos_pescado_y_marisco_marisco_fresco',\n",
       " 'el_mercado_pescaderia_pescado_y_marisco_congelado',\n",
       " 'frescos_pescado_y_marisco_pescado_fresco_azul',\n",
       " 'el_mercado_pescaderia_pescado_y_marisco_congelado',\n",
       " 'frescos_pescado_y_marisco_pescado_fresco_blanco',\n",
       " 'el_mercado_pescaderia_preparados_y_elaborados_de_pescado_y_marisco',\n",
       " 'el_mercado_pescaderia_preparados_y_elaborados_de_pescado_y_marisco',\n",
       " 'el_mercado_pescaderia_pescado_y_marisco_congelado',\n",
       " 'el_mercado_pescaderia_pescado_y_marisco_congelado',\n",
       " 'el_mercado_pescaderia_pescado_y_marisco_congelado',\n",
       " 'congelados_y_helados_pescado_y_marisco_pescado',\n",
       " 'frescos_pescado_y_marisco_pescado_fresco_blanco',\n",
       " 'el_mercado_pescaderia_pescado_y_marisco_congelado',\n",
       " 'el_mercado_pescaderia_pescado_y_marisco_congelado',\n",
       " 'frescos_pescado_y_marisco_pescado_al_corte',\n",
       " 'frescos_pescado_y_marisco_pescado_fresco_azul',\n",
       " 'frescos_pescado_y_marisco_pescado_fresco_blanco',\n",
       " 'frescos_pescado_y_marisco_pescado_al_corte',\n",
       " 'el_mercado_pescaderia_pescado_y_marisco_congelado',\n",
       " 'el_mercado_pescaderia_pescado_y_marisco_congelado',\n",
       " 'el_mercado_pescaderia_pescado_y_marisco_congelado',\n",
       " 'el_mercado_pescaderia_pescado_y_marisco_congelado',\n",
       " 'frescos_pescado_y_marisco_marisco_fresco',\n",
       " 'el_mercado_pescaderia_preparados_y_elaborados_de_pescado_y_marisco',\n",
       " 'el_mercado_pescaderia_pescado_y_marisco_congelado',\n",
       " 'frescos_pescado_y_marisco_pescado_fresco_azul',\n",
       " 'el_mercado_pescaderia_pescado_y_marisco_congelado',\n",
       " 'frescos_pescado_y_marisco_marisco_fresco',\n",
       " 'frescos_pescado_y_marisco_pescado_fresco_blanco',\n",
       " 'el_mercado_pescaderia_pescado_y_marisco_congelado',\n",
       " 'el_mercado_pescaderia_pescado_y_marisco_congelado',\n",
       " 'el_mercado_pescaderia_pescado_y_marisco_congelado',\n",
       " 'frescos_pescado_y_marisco_ahumados_salazones_y_marinados',\n",
       " 'el_mercado_pescaderia_pescado_y_marisco_congelado',\n",
       " 'el_mercado_pescaderia_preparados_y_elaborados_de_pescado_y_marisco',\n",
       " 'el_mercado_pescaderia_pescado_y_marisco_congelado',\n",
       " 'frescos_pescado_y_marisco_pescado_fresco_blanco',\n",
       " 'el_mercado_pescaderia_preparados_y_elaborados_de_pescado_y_marisco',\n",
       " 'congelados_y_helados_pescado_y_marisco_palitos_de_cangrejo_surimi_y_gulas',\n",
       " 'frescos_pescado_y_marisco_surimi_gulas_y_derivados',\n",
       " 'frescos_pescado_y_marisco_pescado_fresco_azul',\n",
       " 'frescos_pescado_y_marisco_marisco_fresco',\n",
       " 'el_mercado_pescaderia_pescado_y_marisco_congelado',\n",
       " 'frescos_pescado_y_marisco_pescado_al_corte',\n",
       " 'el_mercado_pescaderia_pescado_y_marisco_congelado',\n",
       " 'frescos_pescado_y_marisco_marisco_fresco',\n",
       " 'frescos_pescado_y_marisco_pescado_fresco_blanco',\n",
       " 'frescos_pescado_y_marisco_pescado_fresco_azul',\n",
       " 'el_mercado_pescaderia_pescado_y_marisco_congelado',\n",
       " 'el_mercado_pescaderia_pescado_y_marisco_congelado',\n",
       " 'frescos_pescado_y_marisco_pescado_fresco_azul',\n",
       " 'frescos_pescado_y_marisco_pescado_fresco_azul',\n",
       " 'el_mercado_pescaderia_pescado_y_marisco_congelado',\n",
       " 'frescos_pescado_y_marisco_surimi_gulas_y_derivados',\n",
       " 'frescos_pescado_y_marisco_marisco_fresco',\n",
       " 'el_mercado_pescaderia_pescado_y_marisco_congelado',\n",
       " 'congelados_y_helados_pescado_y_marisco_marisco',\n",
       " 'congelados_y_helados_pescado_y_marisco_calamar_y_otros_cefalopodos',\n",
       " 'el_mercado_pescaderia_pescado_y_marisco_congelado',\n",
       " 'el_mercado_pescaderia_pescado_y_marisco_congelado',\n",
       " 'el_mercado_pescaderia_pescado_y_marisco_congelado',\n",
       " 'frescos_pescado_y_marisco_pescado_fresco_azul',\n",
       " 'el_mercado_pescaderia_pescado_y_marisco_congelado',\n",
       " 'el_mercado_pescaderia_pescado_y_marisco_congelado',\n",
       " 'congelados_y_helados_pescado_y_marisco_marisco',\n",
       " 'el_mercado_pescaderia_pescado_y_marisco_congelado',\n",
       " 'frescos_pescado_y_marisco_pescado_al_corte',\n",
       " 'el_mercado_pescaderia_pescado_y_marisco_congelado',\n",
       " 'el_mercado_pescaderia_pescado_y_marisco_congelado',\n",
       " 'el_mercado_pescaderia_pescado_y_marisco_congelado',\n",
       " 'frescos_pescado_y_marisco_pescado_fresco_blanco',\n",
       " 'el_mercado_pescaderia_pescado_y_marisco_congelado',\n",
       " 'frescos_pescado_y_marisco_pescado_al_corte',\n",
       " 'frescos_pescado_y_marisco_especialidades',\n",
       " 'el_mercado_pescaderia_pescado_y_marisco_congelado',\n",
       " 'frescos_pescado_y_marisco_pescado_fresco_azul',\n",
       " 'frescos_pescado_y_marisco_pescado_fresco_azul',\n",
       " 'frescos_pescado_y_marisco_pescado_fresco_azul',\n",
       " 'frescos_pescado_y_marisco_pescado_fresco_azul',\n",
       " 'el_mercado_pescaderia_pescado_y_marisco_congelado',\n",
       " 'frescos_pescado_y_marisco_surimi_gulas_y_derivados',\n",
       " 'frescos_pescado_y_marisco_pescado_fresco_blanco',\n",
       " 'frescos_pescado_y_marisco_pescado_fresco_blanco',\n",
       " 'frescos_pescado_y_marisco_especialidades',\n",
       " 'frescos_pescado_y_marisco_marisco_fresco',\n",
       " 'frescos_pescado_y_marisco_surimi_gulas_y_derivados',\n",
       " 'frescos_pescado_y_marisco_pescado_fresco_blanco',\n",
       " 'frescos_pescado_y_marisco_marisco_fresco',\n",
       " 'frescos_pescado_y_marisco_pescado_fresco_blanco',\n",
       " 'congelados_y_helados_pescado_y_marisco_marisco',\n",
       " 'el_mercado_pescaderia_pescado_y_marisco_congelado',\n",
       " 'congelados_y_helados_pescado_y_marisco_preparados_paella_y_caldo',\n",
       " 'frescos_pescado_y_marisco_pescado_fresco_azul',\n",
       " 'frescos_pescado_y_marisco_ahumados_salazones_y_marinados',\n",
       " 'el_mercado_pescaderia_pescado_y_marisco_congelado',\n",
       " 'frescos_pescado_y_marisco_pescado_fresco_blanco',\n",
       " 'congelados_y_helados_pescado_y_marisco_palitos_de_cangrejo_surimi_y_gulas',\n",
       " 'congelados_y_helados_pescado_y_marisco_calamar_y_otros_cefalopodos',\n",
       " 'el_mercado_pescaderia_pescado_y_marisco_congelado',\n",
       " 'frescos_pescado_y_marisco_pescado_fresco_blanco',\n",
       " 'frescos_pescado_y_marisco_marisco_fresco',\n",
       " 'frescos_pescado_y_marisco_marisco_fresco',\n",
       " 'frescos_pescado_y_marisco_pescado_fresco_blanco',\n",
       " 'congelados_y_helados_pescado_y_marisco_pescado_preparado',\n",
       " 'frescos_pescado_y_marisco_marisco_fresco',\n",
       " 'el_mercado_pescaderia_pescado_y_marisco_congelado',\n",
       " 'el_mercado_pescaderia_pescado_y_marisco_congelado',\n",
       " 'el_mercado_pescaderia_pescado_y_marisco_congelado',\n",
       " 'el_mercado_pescaderia_pescado_y_marisco_congelado',\n",
       " 'el_mercado_pescaderia_pescado_y_marisco_congelado',\n",
       " 'el_mercado_pescaderia_pescado_y_marisco_congelado',\n",
       " 'el_mercado_pescaderia_pescado_y_marisco_congelado',\n",
       " 'frescos_pescado_y_marisco_marisco_fresco',\n",
       " 'el_mercado_pescaderia_preparados_y_elaborados_de_pescado_y_marisco',\n",
       " 'el_mercado_pescaderia_pescado_y_marisco_congelado',\n",
       " 'congelados_y_helados_pescado_y_marisco_marisco',\n",
       " 'congelados_y_helados_pescado_y_marisco_marisco',\n",
       " 'frescos_pescado_y_marisco_surimi_gulas_y_derivados',\n",
       " 'el_mercado_pescaderia_pescado_y_marisco_congelado',\n",
       " 'frescos_pescado_y_marisco_pescado_fresco_blanco',\n",
       " 'frescos_pescado_y_marisco_especialidades',\n",
       " 'el_mercado_pescaderia_pescado_y_marisco_congelado',\n",
       " 'el_mercado_pescaderia_pescado_y_marisco_congelado',\n",
       " 'frescos_pescado_y_marisco_pescado_fresco_azul',\n",
       " 'frescos_pescado_y_marisco_pescado_fresco_blanco',\n",
       " 'el_mercado_pescaderia_pescado_y_marisco_congelado',\n",
       " 'el_mercado_pescaderia_pescado_y_marisco_congelado',\n",
       " 'el_mercado_pescaderia_pescado_y_marisco_congelado',\n",
       " 'el_mercado_pescaderia_preparados_y_elaborados_de_pescado_y_marisco',\n",
       " 'congelados_y_helados_pescado_y_marisco_marisco',\n",
       " 'el_mercado_pescaderia_pescado_y_marisco_congelado',\n",
       " 'frescos_pescado_y_marisco_marisco_fresco',\n",
       " 'el_mercado_pescaderia_preparados_y_elaborados_de_pescado_y_marisco',\n",
       " 'el_mercado_pescaderia_pescado_y_marisco_congelado',\n",
       " 'el_mercado_pescaderia_pescado_y_marisco_congelado',\n",
       " 'frescos_pescado_y_marisco_pescado_fresco_azul',\n",
       " 'el_mercado_pescaderia_pescado_y_marisco_congelado',\n",
       " 'congelados_y_helados_pescado_y_marisco_marisco',\n",
       " 'congelados_y_helados_pescado_y_marisco_calamar_y_otros_cefalopodos_preparados',\n",
       " 'el_mercado_pescaderia_preparados_y_elaborados_de_pescado_y_marisco',\n",
       " 'el_mercado_pescaderia_pescado_y_marisco_congelado',\n",
       " 'el_mercado_pescaderia_pescado_y_marisco_congelado',\n",
       " 'el_mercado_pescaderia_pescado_y_marisco_congelado',\n",
       " 'el_mercado_pescaderia_pescado_y_marisco_congelado',\n",
       " 'el_mercado_pescaderia_pescado_y_marisco_congelado',\n",
       " 'frescos_pescado_y_marisco_pescado_fresco_blanco',\n",
       " 'frescos_pescado_y_marisco_especialidades',\n",
       " 'frescos_pescado_y_marisco_pescado_fresco_azul',\n",
       " 'frescos_pescado_y_marisco_pescado_fresco_azul',\n",
       " 'el_mercado_pescaderia_pescado_y_marisco_congelado',\n",
       " 'el_mercado_pescaderia_pescado_y_marisco_congelado',\n",
       " 'frescos_pescado_y_marisco_ahumados_salazones_y_marinados',\n",
       " 'congelados_y_helados_pescado_y_marisco_calamar_y_otros_cefalopodos',\n",
       " 'el_mercado_pescaderia_preparados_y_elaborados_de_pescado_y_marisco',\n",
       " 'el_mercado_pescaderia_pescado_y_marisco_congelado',\n",
       " 'el_mercado_pescaderia_pescado_y_marisco_congelado',\n",
       " 'el_mercado_pescaderia_pescado_y_marisco_congelado',\n",
       " 'el_mercado_pescaderia_pescado_y_marisco_congelado',\n",
       " 'el_mercado_pescaderia_pescado_y_marisco_congelado',\n",
       " 'el_mercado_pescaderia_pescado_y_marisco_congelado',\n",
       " 'frescos_pescado_y_marisco_pescado_fresco_azul',\n",
       " 'el_mercado_pescaderia_pescado_y_marisco_congelado',\n",
       " 'el_mercado_pescaderia_pescado_y_marisco_congelado',\n",
       " 'el_mercado_pescaderia_pescado_y_marisco_congelado',\n",
       " 'frescos_pescado_y_marisco_pescado_fresco_azul',\n",
       " 'congelados_y_helados_pescado_y_marisco_marisco',\n",
       " 'el_mercado_pescaderia_pescado_y_marisco_congelado',\n",
       " 'el_mercado_pescaderia_preparados_y_elaborados_de_pescado_y_marisco',\n",
       " 'el_mercado_pescaderia_preparados_y_elaborados_de_pescado_y_marisco',\n",
       " 'el_mercado_pescaderia_pescado_y_marisco_congelado',\n",
       " 'frescos_pescado_y_marisco_pescado_fresco_azul',\n",
       " 'frescos_pescado_y_marisco_pescado_al_corte',\n",
       " 'congelados_y_helados_pescado_y_marisco_calamar_y_otros_cefalopodos_preparados',\n",
       " 'el_mercado_pescaderia_pescado_y_marisco_congelado',\n",
       " 'congelados_y_helados_pescado_y_marisco_marisco',\n",
       " 'el_mercado_pescaderia_preparados_y_elaborados_de_pescado_y_marisco',\n",
       " 'el_mercado_pescaderia_pescado_y_marisco_congelado',\n",
       " 'el_mercado_pescaderia_pescado_y_marisco_congelado',\n",
       " 'el_mercado_pescaderia_preparados_y_elaborados_de_pescado_y_marisco',\n",
       " 'el_mercado_pescaderia_pescado_y_marisco_congelado',\n",
       " 'el_mercado_pescaderia_pescado_y_marisco_congelado',\n",
       " 'el_mercado_pescaderia_pescado_y_marisco_congelado',\n",
       " 'frescos_pescado_y_marisco_pescado_fresco_azul',\n",
       " 'el_mercado_pescaderia_preparados_y_elaborados_de_pescado_y_marisco',\n",
       " 'frescos_pescado_y_marisco_pescado_fresco_blanco',\n",
       " 'el_mercado_pescaderia_pescado_y_marisco_congelado',\n",
       " 'el_mercado_pescaderia_pescado_y_marisco_congelado',\n",
       " 'el_mercado_pescaderia_pescado_y_marisco_congelado',\n",
       " 'frescos_pescado_y_marisco_pescado_fresco_blanco',\n",
       " 'frescos_pescado_y_marisco_pescado_al_corte',\n",
       " 'frescos_pescado_y_marisco_ahumados_salazones_y_marinados',\n",
       " 'el_mercado_pescaderia_preparados_y_elaborados_de_pescado_y_marisco',\n",
       " 'congelados_y_helados_pescado_y_marisco_marisco',\n",
       " 'el_mercado_pescaderia_preparados_y_elaborados_de_pescado_y_marisco',\n",
       " 'frescos_pescado_y_marisco_marisco_fresco',\n",
       " 'el_mercado_pescaderia_pescado_y_marisco_congelado',\n",
       " 'frescos_pescado_y_marisco_pescado_fresco_blanco',\n",
       " 'frescos_pescado_y_marisco_surimi_gulas_y_derivados',\n",
       " 'frescos_pescado_y_marisco_pescado_fresco_blanco',\n",
       " 'el_mercado_pescaderia_preparados_y_elaborados_de_pescado_y_marisco',\n",
       " 'el_mercado_pescaderia_pescado_y_marisco_congelado',\n",
       " 'el_mercado_pescaderia_pescado_y_marisco_congelado',\n",
       " 'el_mercado_pescaderia_pescado_y_marisco_congelado',\n",
       " 'frescos_pescado_y_marisco_especialidades',\n",
       " 'el_mercado_pescaderia_pescado_y_marisco_congelado',\n",
       " 'frescos_pescado_y_marisco_pescado_al_corte',\n",
       " 'frescos_pescado_y_marisco_pescado_fresco_blanco',\n",
       " 'el_mercado_pescaderia_pescado_y_marisco_congelado',\n",
       " 'el_mercado_pescaderia_pescado_y_marisco_congelado',\n",
       " 'el_mercado_pescaderia_pescado_y_marisco_congelado',\n",
       " 'congelados_y_helados_pescado_y_marisco_marisco',\n",
       " 'frescos_pescado_y_marisco_pescado_fresco_azul',\n",
       " 'el_mercado_pescaderia_preparados_y_elaborados_de_pescado_y_marisco',\n",
       " 'frescos_pescado_y_marisco_pescado_fresco_blanco',\n",
       " 'frescos_pescado_y_marisco_pescado_fresco_blanco',\n",
       " 'frescos_pescado_y_marisco_pescado_fresco_azul',\n",
       " 'el_mercado_pescaderia_pescado_y_marisco_congelado',\n",
       " 'frescos_pescado_y_marisco_pescado_fresco_azul',\n",
       " 'congelados_y_helados_pescado_y_marisco_calamar_y_otros_cefalopodos',\n",
       " 'frescos_pescado_y_marisco_especialidades',\n",
       " 'congelados_y_helados_pescado_y_marisco_pescado',\n",
       " 'congelados_y_helados_pescado_y_marisco_calamar_y_otros_cefalopodos',\n",
       " 'el_mercado_pescaderia_preparados_y_elaborados_de_pescado_y_marisco',\n",
       " 'el_mercado_pescaderia_pescado_y_marisco_congelado',\n",
       " 'frescos_pescado_y_marisco_pescado_al_corte',\n",
       " 'congelados_y_helados_pescado_y_marisco_calamar_y_otros_cefalopodos',\n",
       " 'congelados_y_helados_pescado_y_marisco_preparados_paella_y_caldo',\n",
       " 'el_mercado_pescaderia_pescado_y_marisco_congelado',\n",
       " 'el_mercado_pescaderia_pescado_y_marisco_congelado',\n",
       " 'el_mercado_pescaderia_pescado_y_marisco_congelado',\n",
       " 'frescos_pescado_y_marisco_pescado_fresco_azul',\n",
       " 'congelados_y_helados_pescado_y_marisco_marisco',\n",
       " 'frescos_pescado_y_marisco_pescado_fresco_blanco',\n",
       " 'el_mercado_pescaderia_pescado_y_marisco_congelado',\n",
       " 'el_mercado_pescaderia_pescado_y_marisco_congelado',\n",
       " 'el_mercado_pescaderia_pescado_y_marisco_congelado',\n",
       " 'el_mercado_pescaderia_pescado_y_marisco_congelado',\n",
       " 'congelados_y_helados_pescado_y_marisco_pescado_preparado',\n",
       " 'frescos_pescado_y_marisco_ahumados_salazones_y_marinados',\n",
       " 'frescos_pescado_y_marisco_especialidades',\n",
       " 'congelados_y_helados_pescado_y_marisco_marisco',\n",
       " 'el_mercado_pescaderia_pescado_y_marisco_congelado',\n",
       " 'congelados_y_helados_pescado_y_marisco_calamar_y_otros_cefalopodos_preparados',\n",
       " 'frescos_pescado_y_marisco_marisco_fresco',\n",
       " 'el_mercado_pescaderia_preparados_y_elaborados_de_pescado_y_marisco',\n",
       " 'frescos_pescado_y_marisco_pescado_fresco_blanco',\n",
       " 'frescos_pescado_y_marisco_marisco_fresco',\n",
       " 'congelados_y_helados_pescado_y_marisco_marisco',\n",
       " 'el_mercado_pescaderia_preparados_y_elaborados_de_pescado_y_marisco',\n",
       " 'el_mercado_pescaderia_preparados_y_elaborados_de_pescado_y_marisco',\n",
       " 'el_mercado_pescaderia_pescado_y_marisco_congelado',\n",
       " 'el_mercado_pescaderia_pescado_y_marisco_congelado',\n",
       " 'el_mercado_pescaderia_pescado_y_marisco_congelado',\n",
       " 'frescos_pescado_y_marisco_ahumados_salazones_y_marinados',\n",
       " 'el_mercado_pescaderia_preparados_y_elaborados_de_pescado_y_marisco',\n",
       " 'el_mercado_pescaderia_pescado_y_marisco_congelado',\n",
       " 'el_mercado_pescaderia_pescado_y_marisco_congelado',\n",
       " 'frescos_pescado_y_marisco_surimi_gulas_y_derivados',\n",
       " 'frescos_pescado_y_marisco_ahumados_salazones_y_marinados',\n",
       " 'frescos_pescado_y_marisco_pescado_fresco_azul',\n",
       " 'congelados_y_helados_pescado_y_marisco_marisco',\n",
       " 'el_mercado_pescaderia_pescado_y_marisco_congelado',\n",
       " 'el_mercado_pescaderia_pescado_y_marisco_congelado',\n",
       " 'frescos_pescado_y_marisco_marisco_fresco',\n",
       " 'el_mercado_pescaderia_preparados_y_elaborados_de_pescado_y_marisco',\n",
       " 'el_mercado_pescaderia_pescado_y_marisco_congelado',\n",
       " 'el_mercado_pescaderia_pescado_y_marisco_congelado',\n",
       " 'el_mercado_pescaderia_pescado_y_marisco_congelado',\n",
       " 'el_mercado_pescaderia_pescado_y_marisco_congelado',\n",
       " 'frescos_pescado_y_marisco_pescado_al_corte',\n",
       " 'el_mercado_pescaderia_pescado_y_marisco_congelado',\n",
       " 'el_mercado_pescaderia_pescado_y_marisco_congelado',\n",
       " 'congelados_y_helados_pescado_y_marisco_pescado',\n",
       " 'frescos_pescado_y_marisco_pescado_fresco_blanco',\n",
       " 'frescos_pescado_y_marisco_marisco_fresco',\n",
       " 'el_mercado_pescaderia_pescado_y_marisco_congelado',\n",
       " 'el_mercado_pescaderia_pescado_y_marisco_congelado',\n",
       " 'congelados_y_helados_pescado_y_marisco_pescado_preparado',\n",
       " 'frescos_pescado_y_marisco_pescado_fresco_blanco',\n",
       " 'congelados_y_helados_pescado_y_marisco_preparados_paella_y_caldo',\n",
       " 'frescos_pescado_y_marisco_pescado_fresco_azul',\n",
       " 'el_mercado_pescaderia_pescado_y_marisco_congelado',\n",
       " 'frescos_pescado_y_marisco_pescado_fresco_blanco',\n",
       " 'frescos_pescado_y_marisco_pescado_fresco_azul',\n",
       " 'frescos_pescado_y_marisco_marisco_fresco',\n",
       " 'frescos_pescado_y_marisco_ahumados_salazones_y_marinados',\n",
       " 'el_mercado_pescaderia_preparados_y_elaborados_de_pescado_y_marisco',\n",
       " 'frescos_pescado_y_marisco_pescado_fresco_blanco',\n",
       " 'congelados_y_helados_pescado_y_marisco_pescado',\n",
       " 'congelados_y_helados_pescado_y_marisco_calamar_y_otros_cefalopodos',\n",
       " ...]"
      ]
     },
     "metadata": {},
     "output_type": "display_data"
    }
   ],
   "source": [
    "pescado =[]\n",
    "for i in categorias:\n",
    "    if 'conservas' in i:\n",
    "        pass \n",
    "    elif 'pescado_y_marisco' in i:\n",
    "        pescado.append(i)    \n",
    "pescado"
   ]
  },
  {
   "cell_type": "markdown",
   "metadata": {},
   "source": [
    "<h3> Empiezo a limpiar el dataset , cogiendo artículos que contengan la palabra específica de la categoria"
   ]
  },
  {
   "cell_type": "markdown",
   "metadata": {},
   "source": [
    "<h3>Aceites"
   ]
  },
  {
   "cell_type": "code",
   "execution_count": null,
   "metadata": {},
   "outputs": [
    {
     "data": {
      "text/html": [
       "<div>\n",
       "<style scoped>\n",
       "    .dataframe tbody tr th:only-of-type {\n",
       "        vertical-align: middle;\n",
       "    }\n",
       "\n",
       "    .dataframe tbody tr th {\n",
       "        vertical-align: top;\n",
       "    }\n",
       "\n",
       "    .dataframe thead th {\n",
       "        text-align: right;\n",
       "    }\n",
       "</style>\n",
       "<table border=\"1\" class=\"dataframe\">\n",
       "  <thead>\n",
       "    <tr style=\"text-align: right;\">\n",
       "      <th></th>\n",
       "      <th>supermarket</th>\n",
       "      <th>category</th>\n",
       "      <th>name</th>\n",
       "      <th>description</th>\n",
       "      <th>price</th>\n",
       "      <th>reference_price</th>\n",
       "      <th>reference_unit</th>\n",
       "      <th>insert_date</th>\n",
       "    </tr>\n",
       "  </thead>\n",
       "  <tbody>\n",
       "    <tr>\n",
       "      <th>77</th>\n",
       "      <td>carrefour-es</td>\n",
       "      <td>la_despensa_alimentacion_aceites_y_vinagres</td>\n",
       "      <td>Aceite de oliva virgen extra De Nuestra Tierra...</td>\n",
       "      <td>500 Ml.</td>\n",
       "      <td>4.99</td>\n",
       "      <td>9.98</td>\n",
       "      <td>l</td>\n",
       "      <td>2020-11-04 01:00:00</td>\n",
       "    </tr>\n",
       "    <tr>\n",
       "      <th>288</th>\n",
       "      <td>carrefour-es</td>\n",
       "      <td>la_despensa_alimentacion_aceites_y_vinagres</td>\n",
       "      <td>Aceite de oliva virgen extra Fuenroble 500 ml.</td>\n",
       "      <td>500 Ml.</td>\n",
       "      <td>7.95</td>\n",
       "      <td>15.90</td>\n",
       "      <td>l</td>\n",
       "      <td>2020-11-05 12:00:00</td>\n",
       "    </tr>\n",
       "    <tr>\n",
       "      <th>385</th>\n",
       "      <td>carrefour-es</td>\n",
       "      <td>la_despensa_alimentacion_aceites_y_vinagres</td>\n",
       "      <td>Aceite de oliva virgen extra picual Carbonell ...</td>\n",
       "      <td>NaN</td>\n",
       "      <td>4.99</td>\n",
       "      <td>4.99</td>\n",
       "      <td>l</td>\n",
       "      <td>2021-01-06 12:00:00</td>\n",
       "    </tr>\n",
       "    <tr>\n",
       "      <th>1216</th>\n",
       "      <td>carrefour-es</td>\n",
       "      <td>la_despensa_alimentacion_aceites_y_vinagres</td>\n",
       "      <td>Aceite de oliva virgen extra La Española 750 ml.</td>\n",
       "      <td>750 Ml.</td>\n",
       "      <td>3.99</td>\n",
       "      <td>5.32</td>\n",
       "      <td>l</td>\n",
       "      <td>2020-10-23 12:00:00</td>\n",
       "    </tr>\n",
       "    <tr>\n",
       "      <th>1365</th>\n",
       "      <td>carrefour-es</td>\n",
       "      <td>la_despensa_alimentacion_aceites_y_vinagres</td>\n",
       "      <td>Aceite de oliva virgen extra De Nuestra Tierra...</td>\n",
       "      <td>5 L.</td>\n",
       "      <td>22.99</td>\n",
       "      <td>4.60</td>\n",
       "      <td>l</td>\n",
       "      <td>2020-11-18 12:00:00</td>\n",
       "    </tr>\n",
       "    <tr>\n",
       "      <th>...</th>\n",
       "      <td>...</td>\n",
       "      <td>...</td>\n",
       "      <td>...</td>\n",
       "      <td>...</td>\n",
       "      <td>...</td>\n",
       "      <td>...</td>\n",
       "      <td>...</td>\n",
       "      <td>...</td>\n",
       "    </tr>\n",
       "    <tr>\n",
       "      <th>149234</th>\n",
       "      <td>carrefour-es</td>\n",
       "      <td>la_despensa_alimentacion_aceites_y_vinagres</td>\n",
       "      <td>Aceite de oliva intenso 1º La Masía garrafa 3 l.</td>\n",
       "      <td>3 L.</td>\n",
       "      <td>8.35</td>\n",
       "      <td>2.78</td>\n",
       "      <td>l</td>\n",
       "      <td>2020-10-29 15:00:00</td>\n",
       "    </tr>\n",
       "    <tr>\n",
       "      <th>149471</th>\n",
       "      <td>carrefour-es</td>\n",
       "      <td>la_despensa_alimentacion_aceites_y_vinagres</td>\n",
       "      <td>Aceite de oliva virgen extra Carbonell spray 2...</td>\n",
       "      <td>200 Ml.</td>\n",
       "      <td>2.49</td>\n",
       "      <td>12.45</td>\n",
       "      <td>l</td>\n",
       "      <td>2020-11-08 12:00:00</td>\n",
       "    </tr>\n",
       "    <tr>\n",
       "      <th>149654</th>\n",
       "      <td>carrefour-es</td>\n",
       "      <td>la_despensa_alimentacion_aceites_y_vinagres</td>\n",
       "      <td>Aceite de oliva 0,4º La Masía 1 l.</td>\n",
       "      <td>NaN</td>\n",
       "      <td>2.99</td>\n",
       "      <td>2.99</td>\n",
       "      <td>l</td>\n",
       "      <td>2021-01-30 12:00:00</td>\n",
       "    </tr>\n",
       "    <tr>\n",
       "      <th>149692</th>\n",
       "      <td>carrefour-es</td>\n",
       "      <td>la_despensa_alimentacion_aceites_y_vinagres</td>\n",
       "      <td>Aceite de oliva virgen extra hojiblanca Carbon...</td>\n",
       "      <td>NaN</td>\n",
       "      <td>4.99</td>\n",
       "      <td>4.99</td>\n",
       "      <td>l</td>\n",
       "      <td>2020-12-30 12:00:00</td>\n",
       "    </tr>\n",
       "    <tr>\n",
       "      <th>149973</th>\n",
       "      <td>carrefour-es</td>\n",
       "      <td>la_despensa_alimentacion_aceites_y_vinagres</td>\n",
       "      <td>Aceite de oliva virgen extra arbequina Coosur ...</td>\n",
       "      <td>1 L.</td>\n",
       "      <td>4.86</td>\n",
       "      <td>4.86</td>\n",
       "      <td>l</td>\n",
       "      <td>2020-11-03 00:00:00</td>\n",
       "    </tr>\n",
       "  </tbody>\n",
       "</table>\n",
       "<p>589 rows × 8 columns</p>\n",
       "</div>"
      ],
      "text/plain": [
       "         supermarket                                     category  \\\n",
       "77      carrefour-es  la_despensa_alimentacion_aceites_y_vinagres   \n",
       "288     carrefour-es  la_despensa_alimentacion_aceites_y_vinagres   \n",
       "385     carrefour-es  la_despensa_alimentacion_aceites_y_vinagres   \n",
       "1216    carrefour-es  la_despensa_alimentacion_aceites_y_vinagres   \n",
       "1365    carrefour-es  la_despensa_alimentacion_aceites_y_vinagres   \n",
       "...              ...                                          ...   \n",
       "149234  carrefour-es  la_despensa_alimentacion_aceites_y_vinagres   \n",
       "149471  carrefour-es  la_despensa_alimentacion_aceites_y_vinagres   \n",
       "149654  carrefour-es  la_despensa_alimentacion_aceites_y_vinagres   \n",
       "149692  carrefour-es  la_despensa_alimentacion_aceites_y_vinagres   \n",
       "149973  carrefour-es  la_despensa_alimentacion_aceites_y_vinagres   \n",
       "\n",
       "                                                     name description  price  \\\n",
       "77      Aceite de oliva virgen extra De Nuestra Tierra...     500 Ml.   4.99   \n",
       "288        Aceite de oliva virgen extra Fuenroble 500 ml.     500 Ml.   7.95   \n",
       "385     Aceite de oliva virgen extra picual Carbonell ...         NaN   4.99   \n",
       "1216     Aceite de oliva virgen extra La Española 750 ml.     750 Ml.   3.99   \n",
       "1365    Aceite de oliva virgen extra De Nuestra Tierra...        5 L.  22.99   \n",
       "...                                                   ...         ...    ...   \n",
       "149234   Aceite de oliva intenso 1º La Masía garrafa 3 l.        3 L.   8.35   \n",
       "149471  Aceite de oliva virgen extra Carbonell spray 2...     200 Ml.   2.49   \n",
       "149654                 Aceite de oliva 0,4º La Masía 1 l.         NaN   2.99   \n",
       "149692  Aceite de oliva virgen extra hojiblanca Carbon...         NaN   4.99   \n",
       "149973  Aceite de oliva virgen extra arbequina Coosur ...        1 L.   4.86   \n",
       "\n",
       "        reference_price reference_unit          insert_date  \n",
       "77                 9.98              l  2020-11-04 01:00:00  \n",
       "288               15.90              l  2020-11-05 12:00:00  \n",
       "385                4.99              l  2021-01-06 12:00:00  \n",
       "1216               5.32              l  2020-10-23 12:00:00  \n",
       "1365               4.60              l  2020-11-18 12:00:00  \n",
       "...                 ...            ...                  ...  \n",
       "149234             2.78              l  2020-10-29 15:00:00  \n",
       "149471            12.45              l  2020-11-08 12:00:00  \n",
       "149654             2.99              l  2021-01-30 12:00:00  \n",
       "149692             4.99              l  2020-12-30 12:00:00  \n",
       "149973             4.86              l  2020-11-03 00:00:00  \n",
       "\n",
       "[589 rows x 8 columns]"
      ]
     },
     "metadata": {},
     "output_type": "display_data"
    }
   ],
   "source": [
    "aceites_df = a[a['name'].str.startswith('Aceite de oliva')]\n",
    "#aceites_df = aceites_df[aceites_df['category'].str.contains('aceite_cor')]\n",
    "aceites_df"
   ]
  },
  {
   "cell_type": "code",
   "execution_count": null,
   "metadata": {},
   "outputs": [
    {
     "data": {
      "text/plain": [
       "array(['carrefour-es', 'mercadona-es'], dtype=object)"
      ]
     },
     "metadata": {},
     "output_type": "display_data"
    }
   ],
   "source": [
    "aceites_df2 = aceites_df[aceites_df['name'].str.contains('Aceite de oliva')]\n",
    "aceites_df2.supermarket.unique()"
   ]
  },
  {
   "cell_type": "code",
   "execution_count": null,
   "metadata": {},
   "outputs": [
    {
     "data": {
      "text/plain": [
       "array(['carrefour-es', 'mercadona-es'], dtype=object)"
      ]
     },
     "metadata": {},
     "output_type": "display_data"
    }
   ],
   "source": [
    "aceites_df.supermarket.unique()"
   ]
  },
  {
   "cell_type": "markdown",
   "metadata": {},
   "source": [
    "<h3> Filtro el dataframe para las carnes, cogiendo aquellas filas donde la categoria contenga 'carne' y me quito las salsas, platos preparados y potitos "
   ]
  },
  {
   "cell_type": "code",
   "execution_count": null,
   "metadata": {},
   "outputs": [],
   "source": [
    "carnes_df = a[a['category'].str.contains('carne')]\n",
    "carnes_df_filtro1 = carnes_df[carnes_df['category'].str.contains('salsas')]\n",
    "filas_fuera = carnes_df_filtro1.index\n",
    "filas_fuera\n",
    "carnes_df_1 = carnes_df.drop(filas_fuera, axis= 0)\n",
    "\n"
   ]
  },
  {
   "cell_type": "code",
   "execution_count": null,
   "metadata": {},
   "outputs": [],
   "source": [
    "string_buscar = ['platos', 'potitos','precocinados']\n",
    "carnes_df_1_filtro2 = carnes_df_1[carnes_df_1['category'].str.contains('|'.join(string_buscar))]\n",
    "filas_fuera2 = carnes_df_1_filtro2.index\n",
    "carnes_df_2 = carnes_df_1.drop(filas_fuera2, axis= 0)\n",
    "ac=carnes_df_2[carnes_df_2['price']==74.97]\n",
    "#me retiro el capón porque es muy caro y me desajusta la media\n",
    "carnes_df_2 = carnes_df_2.drop([47638,82878,96843])\n",
    "\n"
   ]
  },
  {
   "cell_type": "markdown",
   "metadata": {},
   "source": [
    "<h3> lo mismo en fruta"
   ]
  },
  {
   "cell_type": "markdown",
   "metadata": {},
   "source": [
    "<h3> lo mismo en fruta"
   ]
  },
  {
   "cell_type": "code",
   "execution_count": null,
   "metadata": {},
   "outputs": [],
   "source": [
    "#frutas_df = a[a['category'].str.startswith('fruta')]\n",
    "#len(frutas_df)"
   ]
  },
  {
   "cell_type": "code",
   "execution_count": null,
   "metadata": {},
   "outputs": [],
   "source": [
    "frutas_df = a[a['category'].str.contains('fruta')]\n"
   ]
  },
  {
   "cell_type": "code",
   "execution_count": null,
   "metadata": {},
   "outputs": [
    {
     "data": {
      "text/plain": [
       "array(['fruta_y_verdura_fruta',\n",
       "       'conservas_caldos_y_cremas_conservas_de_verdura_y_frutas',\n",
       "       'frescos_fruta_manzana_y_pera',\n",
       "       'congelados_y_helados_verdura_y_fruta_otros_vegetales_simples',\n",
       "       'zumos_fruta_variada', 'fruta_y_verdura_verdura',\n",
       "       'la_despensa_aperitivos_frutas_desecadas',\n",
       "       'fruta_y_verdura_lechuga_y_ensalada_preparada',\n",
       "       'bebe_alimentacion_infantil_potitos_de_fruta_y_postre',\n",
       "       'aperitivos_frutos_secos_y_fruta_desecada',\n",
       "       'bebidas_refrescos_bebidas_de_frutas',\n",
       "       'el_mercado_frutas_fruta_de_temporada',\n",
       "       'congelados_y_helados_verdura_y_fruta_patatas',\n",
       "       'el_mercado_frutas_manzanas_y_peras',\n",
       "       'el_mercado_frutas_naranjas_y_otros_citricos',\n",
       "       'el_mercado_frutas_frutos_del_bosque',\n",
       "       'el_mercado_frutas_pinas_kiwis_aguacates_y_tropicales',\n",
       "       'el_mercado_frutas_platanos_y_bananas',\n",
       "       'la_despensa_conservas_sopas_y_precocinados_conservas_de_frutas',\n",
       "       'el_mercado_frutas_uvas',\n",
       "       'congelados_y_helados_verdura_y_fruta_menestras_y_ensaladillas',\n",
       "       'congelados_y_helados_verdura_y_fruta_judias_verdes_habas_y_guisantes',\n",
       "       'frescos_fruta_platano_y_banana',\n",
       "       'lacteos_y_huevos_yogures_yogur_con_frutas_desnatado',\n",
       "       'frescos_fruta_kiwi_pina_y_fruta_tropical',\n",
       "       'frescos_fruta_citricos',\n",
       "       'alimentacion_conservas_dulces_y_mermeladas_frutas_en_almibar_y_en_su_jugo',\n",
       "       'el_mercado_frutas_bio_en_frutas',\n",
       "       'lacteos_y_huevos_yogures_yogur_con_frutas',\n",
       "       'la_despensa_helados_frutas_heladas', 'frescos_fruta_uva',\n",
       "       'frescos_fruta_otras_frutas',\n",
       "       'congelados_y_helados_verdura_y_fruta_espinacas_y_acelgas',\n",
       "       'frescos_fruta_fruta_de_temporada',\n",
       "       'el_mercado_frutas_sandias_y_melones',\n",
       "       'congelados_y_helados_verdura_y_fruta_condimentos'], dtype=object)"
      ]
     },
     "metadata": {},
     "output_type": "display_data"
    }
   ],
   "source": [
    "frutas_df.category.unique()"
   ]
  },
  {
   "cell_type": "code",
   "execution_count": null,
   "metadata": {},
   "outputs": [],
   "source": [
    "pd.options.display.max_rows = 100"
   ]
  },
  {
   "cell_type": "code",
   "execution_count": null,
   "metadata": {},
   "outputs": [
    {
     "data": {
      "text/html": [
       "<div>\n",
       "<style scoped>\n",
       "    .dataframe tbody tr th:only-of-type {\n",
       "        vertical-align: middle;\n",
       "    }\n",
       "\n",
       "    .dataframe tbody tr th {\n",
       "        vertical-align: top;\n",
       "    }\n",
       "\n",
       "    .dataframe thead th {\n",
       "        text-align: right;\n",
       "    }\n",
       "</style>\n",
       "<table border=\"1\" class=\"dataframe\">\n",
       "  <thead>\n",
       "    <tr style=\"text-align: right;\">\n",
       "      <th></th>\n",
       "      <th>supermarket</th>\n",
       "      <th>category</th>\n",
       "      <th>name</th>\n",
       "      <th>description</th>\n",
       "      <th>price</th>\n",
       "      <th>reference_price</th>\n",
       "      <th>reference_unit</th>\n",
       "      <th>insert_date</th>\n",
       "    </tr>\n",
       "  </thead>\n",
       "  <tbody>\n",
       "    <tr>\n",
       "      <th>105</th>\n",
       "      <td>mercadona-es</td>\n",
       "      <td>fruta_y_verdura_fruta</td>\n",
       "      <td>Manzana reineta</td>\n",
       "      <td>Pieza</td>\n",
       "      <td>0.46</td>\n",
       "      <td>2.19</td>\n",
       "      <td>kg</td>\n",
       "      <td>2020-11-04 00:00:00</td>\n",
       "    </tr>\n",
       "    <tr>\n",
       "      <th>231</th>\n",
       "      <td>dia-es</td>\n",
       "      <td>frescos_fruta_manzana_y_pera</td>\n",
       "      <td>Pera limonera unidad (320 gr aprox.)</td>\n",
       "      <td>NaN</td>\n",
       "      <td>0.64</td>\n",
       "      <td>1.99</td>\n",
       "      <td>€/Kg.</td>\n",
       "      <td>2020-08-27 16:00:00</td>\n",
       "    </tr>\n",
       "    <tr>\n",
       "      <th>387</th>\n",
       "      <td>mercadona-es</td>\n",
       "      <td>fruta_y_verdura_verdura</td>\n",
       "      <td>Hierbabuena</td>\n",
       "      <td>Paquete</td>\n",
       "      <td>1.15</td>\n",
       "      <td>16.43</td>\n",
       "      <td>kg</td>\n",
       "      <td>2020-12-01 00:00:00</td>\n",
       "    </tr>\n",
       "    <tr>\n",
       "      <th>725</th>\n",
       "      <td>carrefour-es</td>\n",
       "      <td>el_mercado_frutas_fruta_de_temporada</td>\n",
       "      <td>Granada Carrefour a granel 500 g aprox</td>\n",
       "      <td>NaN</td>\n",
       "      <td>0.87</td>\n",
       "      <td>1.75</td>\n",
       "      <td>kg</td>\n",
       "      <td>2021-01-25 00:00:00</td>\n",
       "    </tr>\n",
       "    <tr>\n",
       "      <th>837</th>\n",
       "      <td>mercadona-es</td>\n",
       "      <td>fruta_y_verdura_fruta</td>\n",
       "      <td>Peras conferencia</td>\n",
       "      <td>Bandeja</td>\n",
       "      <td>2.39</td>\n",
       "      <td>1.59</td>\n",
       "      <td>kg</td>\n",
       "      <td>2020-12-05 00:00:00</td>\n",
       "    </tr>\n",
       "    <tr>\n",
       "      <th>...</th>\n",
       "      <td>...</td>\n",
       "      <td>...</td>\n",
       "      <td>...</td>\n",
       "      <td>...</td>\n",
       "      <td>...</td>\n",
       "      <td>...</td>\n",
       "      <td>...</td>\n",
       "      <td>...</td>\n",
       "    </tr>\n",
       "    <tr>\n",
       "      <th>149702</th>\n",
       "      <td>carrefour-es</td>\n",
       "      <td>el_mercado_frutas_pinas_kiwis_aguacates_y_trop...</td>\n",
       "      <td>Coco de agua premium 1 Kg</td>\n",
       "      <td>1 Kg.</td>\n",
       "      <td>2.49</td>\n",
       "      <td>2.49</td>\n",
       "      <td>ud</td>\n",
       "      <td>2020-10-22 15:00:00</td>\n",
       "    </tr>\n",
       "    <tr>\n",
       "      <th>149740</th>\n",
       "      <td>carrefour-es</td>\n",
       "      <td>el_mercado_frutas_uvas</td>\n",
       "      <td>Uva rosada sin pepitas de Brasil Carrefour 500 g</td>\n",
       "      <td>NaN</td>\n",
       "      <td>2.49</td>\n",
       "      <td>4.98</td>\n",
       "      <td>kg</td>\n",
       "      <td>2020-07-23 04:00:00</td>\n",
       "    </tr>\n",
       "    <tr>\n",
       "      <th>149786</th>\n",
       "      <td>mercadona-es</td>\n",
       "      <td>fruta_y_verdura_verdura</td>\n",
       "      <td>Tomates</td>\n",
       "      <td>Malla</td>\n",
       "      <td>2.60</td>\n",
       "      <td>1.30</td>\n",
       "      <td>kg</td>\n",
       "      <td>2020-12-11 12:00:00</td>\n",
       "    </tr>\n",
       "    <tr>\n",
       "      <th>149889</th>\n",
       "      <td>dia-es</td>\n",
       "      <td>frescos_fruta_manzana_y_pera</td>\n",
       "      <td>Pera ercolini unidad (180 gr aprox.)</td>\n",
       "      <td>NaN</td>\n",
       "      <td>0.54</td>\n",
       "      <td>2.99</td>\n",
       "      <td>€/Kg.</td>\n",
       "      <td>2020-07-28 16:00:00</td>\n",
       "    </tr>\n",
       "    <tr>\n",
       "      <th>149941</th>\n",
       "      <td>carrefour-es</td>\n",
       "      <td>el_mercado_frutas_manzanas_y_peras</td>\n",
       "      <td>Pera blanquilla premium 4 uds 500 g aprox</td>\n",
       "      <td>NaN</td>\n",
       "      <td>1.75</td>\n",
       "      <td>3.50</td>\n",
       "      <td>kg</td>\n",
       "      <td>2021-01-04 12:00:00</td>\n",
       "    </tr>\n",
       "  </tbody>\n",
       "</table>\n",
       "<p>1333 rows × 8 columns</p>\n",
       "</div>"
      ],
      "text/plain": [
       "         supermarket                                           category  \\\n",
       "105     mercadona-es                              fruta_y_verdura_fruta   \n",
       "231           dia-es                       frescos_fruta_manzana_y_pera   \n",
       "387     mercadona-es                            fruta_y_verdura_verdura   \n",
       "725     carrefour-es               el_mercado_frutas_fruta_de_temporada   \n",
       "837     mercadona-es                              fruta_y_verdura_fruta   \n",
       "...              ...                                                ...   \n",
       "149702  carrefour-es  el_mercado_frutas_pinas_kiwis_aguacates_y_trop...   \n",
       "149740  carrefour-es                             el_mercado_frutas_uvas   \n",
       "149786  mercadona-es                            fruta_y_verdura_verdura   \n",
       "149889        dia-es                       frescos_fruta_manzana_y_pera   \n",
       "149941  carrefour-es                 el_mercado_frutas_manzanas_y_peras   \n",
       "\n",
       "                                                    name description  price  \\\n",
       "105                                      Manzana reineta       Pieza   0.46   \n",
       "231                 Pera limonera unidad (320 gr aprox.)         NaN   0.64   \n",
       "387                                          Hierbabuena     Paquete   1.15   \n",
       "725               Granada Carrefour a granel 500 g aprox         NaN   0.87   \n",
       "837                                    Peras conferencia     Bandeja   2.39   \n",
       "...                                                  ...         ...    ...   \n",
       "149702                         Coco de agua premium 1 Kg       1 Kg.   2.49   \n",
       "149740  Uva rosada sin pepitas de Brasil Carrefour 500 g         NaN   2.49   \n",
       "149786                                           Tomates       Malla   2.60   \n",
       "149889              Pera ercolini unidad (180 gr aprox.)         NaN   0.54   \n",
       "149941         Pera blanquilla premium 4 uds 500 g aprox         NaN   1.75   \n",
       "\n",
       "        reference_price reference_unit          insert_date  \n",
       "105                2.19             kg  2020-11-04 00:00:00  \n",
       "231                1.99          €/Kg.  2020-08-27 16:00:00  \n",
       "387               16.43             kg  2020-12-01 00:00:00  \n",
       "725                1.75             kg  2021-01-25 00:00:00  \n",
       "837                1.59             kg  2020-12-05 00:00:00  \n",
       "...                 ...            ...                  ...  \n",
       "149702             2.49             ud  2020-10-22 15:00:00  \n",
       "149740             4.98             kg  2020-07-23 04:00:00  \n",
       "149786             1.30             kg  2020-12-11 12:00:00  \n",
       "149889             2.99          €/Kg.  2020-07-28 16:00:00  \n",
       "149941             3.50             kg  2021-01-04 12:00:00  \n",
       "\n",
       "[1333 rows x 8 columns]"
      ]
     },
     "metadata": {},
     "output_type": "display_data"
    }
   ],
   "source": [
    "string_buscar_f = ['conservas', 'zumos', 'bebe','la_despensa','congelados', 'lacteos', 'aperitivos','bebidas','otras','preparada']\n",
    "frutas_df_filtro1 = frutas_df[frutas_df['category'].str.contains('|'.join(string_buscar_f))]\n",
    "filas_fuera_f = frutas_df_filtro1.index\n",
    "frutas_df = frutas_df.drop(filas_fuera_f, axis= 0)\n",
    "#frutas_df = frutas_df.drop([387], axis= 0)\n",
    "frutas_df\n"
   ]
  },
  {
   "cell_type": "markdown",
   "metadata": {},
   "source": [
    "<h3> Elimino lo que no considero frutas y verduras frescas"
   ]
  },
  {
   "cell_type": "code",
   "execution_count": null,
   "metadata": {},
   "outputs": [],
   "source": [
    "frutas_df_filtro2 = frutas_df[frutas_df['name'].str.contains('|'.join(['setas','picada','Frambuesas','negro','seco','moras','Hierbabuena','Coco']))]\n",
    "frutas_df = frutas_df.drop(frutas_df_filtro2.index, axis=0)\n",
    "frutas_df = frutas_df[frutas_df['reference_price'] <= 5]"
   ]
  },
  {
   "cell_type": "code",
   "execution_count": null,
   "metadata": {},
   "outputs": [
    {
     "data": {
      "text/plain": [
       "array([2.19, 1.99, 1.75, 1.59, 0.42, 1.3 , 1.65, 1.79, 0.41, 1.29, 3.89,\n",
       "       2.25, 1.09, 4.49, 1.69, 1.  , 1.55, 1.49, 1.95, 1.89, 5.  , 1.39,\n",
       "       3.78, 1.25, 4.29, 1.85, 3.98, 2.89, 3.25, 4.38, 1.19, 3.4 , 3.33,\n",
       "       4.  , 4.6 , 2.29, 1.35, 4.5 , 3.1 , 2.1 , 0.81, 2.69, 3.99, 3.29,\n",
       "       4.3 , 1.45, 2.95, 4.15, 3.19, 4.32, 2.39, 3.5 , 0.85, 1.8 , 0.9 ,\n",
       "       1.26, 3.17, 2.15, 4.4 , 1.4 , 0.95, 3.58, 2.99, 0.62, 4.8 , 3.79,\n",
       "       2.65, 1.72, 0.4 , 2.98, 2.09, 4.69, 4.98, 1.67, 3.59, 3.63, 3.56,\n",
       "       2.58, 0.99, 1.18, 0.79, 1.2 , 3.69, 4.33, 2.79, 2.3 , 4.88, 0.73,\n",
       "       0.74, 0.69, 3.49, 1.9 , 4.9 , 3.8 , 4.75, 0.75, 1.27, 4.59, 2.49,\n",
       "       3.35, 3.7 , 2.88, 1.77, 2.86, 4.48, 1.1 , 3.83, 2.6 , 2.4 , 1.98,\n",
       "       3.6 , 1.46, 0.38, 1.66, 4.99, 3.9 , 1.15, 4.95, 0.89, 4.63, 2.75,\n",
       "       2.35, 1.88, 3.85, 3.61, 0.96, 1.28, 2.16, 3.  , 3.18, 2.5 , 2.59,\n",
       "       2.87, 2.85, 1.01, 4.45, 0.6 , 1.06, 2.11, 3.32, 1.7 , 3.55, 1.04,\n",
       "       4.78, 0.59, 1.03, 3.06, 0.49])"
      ]
     },
     "metadata": {},
     "output_type": "display_data"
    }
   ],
   "source": [
    "frutas_df.reference_price.unique()"
   ]
  },
  {
   "cell_type": "markdown",
   "metadata": {},
   "source": [
    "<h3> Extraigo todos los pescados"
   ]
  },
  {
   "cell_type": "code",
   "execution_count": null,
   "metadata": {},
   "outputs": [],
   "source": [
    "pescados_df = a[a['category'].str.contains('pescado')]\n"
   ]
  },
  {
   "cell_type": "markdown",
   "metadata": {},
   "source": [
    "<h4> Filtro el pescado , quitando productos como las conservas, platos preparados ... etc"
   ]
  },
  {
   "cell_type": "code",
   "execution_count": null,
   "metadata": {},
   "outputs": [
    {
     "name": "stderr",
     "output_type": "stream",
     "text": [
      "C:\\Users\\lour2\\AppData\\Local\\Temp\\ipykernel_14536\\4149352249.py:6: UserWarning: Boolean Series key will be reindexed to match DataFrame index.\n",
      "  pescados_df_filtro2 = pescados_df_1[pescados_df['name'].str.contains('|'.join(['ahumado','bandeja','envase','bolsa','paquete','sushi','ecológico']))]\n"
     ]
    },
    {
     "data": {
      "text/html": [
       "<div>\n",
       "<style scoped>\n",
       "    .dataframe tbody tr th:only-of-type {\n",
       "        vertical-align: middle;\n",
       "    }\n",
       "\n",
       "    .dataframe tbody tr th {\n",
       "        vertical-align: top;\n",
       "    }\n",
       "\n",
       "    .dataframe thead th {\n",
       "        text-align: right;\n",
       "    }\n",
       "</style>\n",
       "<table border=\"1\" class=\"dataframe\">\n",
       "  <thead>\n",
       "    <tr style=\"text-align: right;\">\n",
       "      <th></th>\n",
       "      <th>supermarket</th>\n",
       "      <th>category</th>\n",
       "      <th>name</th>\n",
       "      <th>description</th>\n",
       "      <th>price</th>\n",
       "      <th>reference_price</th>\n",
       "      <th>reference_unit</th>\n",
       "      <th>insert_date</th>\n",
       "    </tr>\n",
       "  </thead>\n",
       "  <tbody>\n",
       "    <tr>\n",
       "      <th>171</th>\n",
       "      <td>mercadona-es</td>\n",
       "      <td>marisco_y_pescado_pescado_fresco</td>\n",
       "      <td>Calamar pequeño limpio descongelado sin barqui...</td>\n",
       "      <td>Pieza</td>\n",
       "      <td>0.18</td>\n",
       "      <td>5.95</td>\n",
       "      <td>kg</td>\n",
       "      <td>2020-12-19 12:00:00</td>\n",
       "    </tr>\n",
       "    <tr>\n",
       "      <th>276</th>\n",
       "      <td>carrefour-es</td>\n",
       "      <td>el_mercado_pescaderia_pescado_fresco</td>\n",
       "      <td>Mendo 500 g aprox</td>\n",
       "      <td>100-125 Gr./ud. Bandeja De  500.0 G. Aprox</td>\n",
       "      <td>2.95</td>\n",
       "      <td>5.90</td>\n",
       "      <td>kg</td>\n",
       "      <td>2020-12-03 00:00:00</td>\n",
       "    </tr>\n",
       "    <tr>\n",
       "      <th>622</th>\n",
       "      <td>mercadona-es</td>\n",
       "      <td>marisco_y_pescado_pescado_fresco</td>\n",
       "      <td>Morralla</td>\n",
       "      <td>Granel</td>\n",
       "      <td>688.05</td>\n",
       "      <td>6.95</td>\n",
       "      <td>kg</td>\n",
       "      <td>2020-08-15 16:00:00</td>\n",
       "    </tr>\n",
       "    <tr>\n",
       "      <th>1421</th>\n",
       "      <td>mercadona-es</td>\n",
       "      <td>marisco_y_pescado_pescado_fresco</td>\n",
       "      <td>Dorada abierta a la espalda con espinas y con ...</td>\n",
       "      <td>Pieza</td>\n",
       "      <td>3.96</td>\n",
       "      <td>6.95</td>\n",
       "      <td>kg</td>\n",
       "      <td>2021-02-05 12:00:00</td>\n",
       "    </tr>\n",
       "    <tr>\n",
       "      <th>1744</th>\n",
       "      <td>mercadona-es</td>\n",
       "      <td>marisco_y_pescado_marisco</td>\n",
       "      <td>Tallarimis Pescanova</td>\n",
       "      <td>Bandeja</td>\n",
       "      <td>1.95</td>\n",
       "      <td>7.80</td>\n",
       "      <td>kg</td>\n",
       "      <td>2020-08-23 16:00:00</td>\n",
       "    </tr>\n",
       "    <tr>\n",
       "      <th>...</th>\n",
       "      <td>...</td>\n",
       "      <td>...</td>\n",
       "      <td>...</td>\n",
       "      <td>...</td>\n",
       "      <td>...</td>\n",
       "      <td>...</td>\n",
       "      <td>...</td>\n",
       "      <td>...</td>\n",
       "    </tr>\n",
       "    <tr>\n",
       "      <th>149585</th>\n",
       "      <td>dia-es</td>\n",
       "      <td>frescos_pescado_y_marisco_pescado_al_corte</td>\n",
       "      <td>Sepia mediana limpia y entera unidad (peso apr...</td>\n",
       "      <td>NaN</td>\n",
       "      <td>4.00</td>\n",
       "      <td>7.99</td>\n",
       "      <td>€/Kg.</td>\n",
       "      <td>2020-10-12 00:00:00</td>\n",
       "    </tr>\n",
       "    <tr>\n",
       "      <th>149697</th>\n",
       "      <td>dia-es</td>\n",
       "      <td>frescos_pescado_y_marisco_marisco_fresco</td>\n",
       "      <td>Anillas de potón (peso aprox. 250 gr)</td>\n",
       "      <td>NaN</td>\n",
       "      <td>1.50</td>\n",
       "      <td>5.99</td>\n",
       "      <td>€/Kg.</td>\n",
       "      <td>2020-10-29 12:00:00</td>\n",
       "    </tr>\n",
       "    <tr>\n",
       "      <th>149714</th>\n",
       "      <td>dia-es</td>\n",
       "      <td>frescos_pescado_y_marisco_pescado_al_corte</td>\n",
       "      <td>Lubina de cultivo limpia y entera unidad (peso...</td>\n",
       "      <td>NaN</td>\n",
       "      <td>4.49</td>\n",
       "      <td>5.99</td>\n",
       "      <td>€/Kg.</td>\n",
       "      <td>2020-11-13 12:00:00</td>\n",
       "    </tr>\n",
       "    <tr>\n",
       "      <th>149891</th>\n",
       "      <td>mercadona-es</td>\n",
       "      <td>marisco_y_pescado_marisco</td>\n",
       "      <td>Gamba pelada cruda tamaño grande Hacendado ult...</td>\n",
       "      <td>Paquete</td>\n",
       "      <td>5.65</td>\n",
       "      <td>15.69</td>\n",
       "      <td>kg</td>\n",
       "      <td>2020-11-26 12:00:00</td>\n",
       "    </tr>\n",
       "    <tr>\n",
       "      <th>149977</th>\n",
       "      <td>dia-es</td>\n",
       "      <td>frescos_pescado_y_marisco_pescado_al_corte</td>\n",
       "      <td>Almeja de cultivo (peso aprox. 250 gr)</td>\n",
       "      <td>NaN</td>\n",
       "      <td>3.00</td>\n",
       "      <td>11.99</td>\n",
       "      <td>€/Kg.</td>\n",
       "      <td>2020-12-30 12:00:00</td>\n",
       "    </tr>\n",
       "  </tbody>\n",
       "</table>\n",
       "<p>706 rows × 8 columns</p>\n",
       "</div>"
      ],
      "text/plain": [
       "         supermarket                                    category  \\\n",
       "171     mercadona-es            marisco_y_pescado_pescado_fresco   \n",
       "276     carrefour-es        el_mercado_pescaderia_pescado_fresco   \n",
       "622     mercadona-es            marisco_y_pescado_pescado_fresco   \n",
       "1421    mercadona-es            marisco_y_pescado_pescado_fresco   \n",
       "1744    mercadona-es                   marisco_y_pescado_marisco   \n",
       "...              ...                                         ...   \n",
       "149585        dia-es  frescos_pescado_y_marisco_pescado_al_corte   \n",
       "149697        dia-es    frescos_pescado_y_marisco_marisco_fresco   \n",
       "149714        dia-es  frescos_pescado_y_marisco_pescado_al_corte   \n",
       "149891  mercadona-es                   marisco_y_pescado_marisco   \n",
       "149977        dia-es  frescos_pescado_y_marisco_pescado_al_corte   \n",
       "\n",
       "                                                     name  \\\n",
       "171     Calamar pequeño limpio descongelado sin barqui...   \n",
       "276                                     Mendo 500 g aprox   \n",
       "622                                              Morralla   \n",
       "1421    Dorada abierta a la espalda con espinas y con ...   \n",
       "1744                                 Tallarimis Pescanova   \n",
       "...                                                   ...   \n",
       "149585  Sepia mediana limpia y entera unidad (peso apr...   \n",
       "149697              Anillas de potón (peso aprox. 250 gr)   \n",
       "149714  Lubina de cultivo limpia y entera unidad (peso...   \n",
       "149891  Gamba pelada cruda tamaño grande Hacendado ult...   \n",
       "149977             Almeja de cultivo (peso aprox. 250 gr)   \n",
       "\n",
       "                                       description   price  reference_price  \\\n",
       "171                                          Pieza    0.18             5.95   \n",
       "276     100-125 Gr./ud. Bandeja De  500.0 G. Aprox    2.95             5.90   \n",
       "622                                         Granel  688.05             6.95   \n",
       "1421                                         Pieza    3.96             6.95   \n",
       "1744                                       Bandeja    1.95             7.80   \n",
       "...                                            ...     ...              ...   \n",
       "149585                                         NaN    4.00             7.99   \n",
       "149697                                         NaN    1.50             5.99   \n",
       "149714                                         NaN    4.49             5.99   \n",
       "149891                                     Paquete    5.65            15.69   \n",
       "149977                                         NaN    3.00            11.99   \n",
       "\n",
       "       reference_unit          insert_date  \n",
       "171                kg  2020-12-19 12:00:00  \n",
       "276                kg  2020-12-03 00:00:00  \n",
       "622                kg  2020-08-15 16:00:00  \n",
       "1421               kg  2021-02-05 12:00:00  \n",
       "1744               kg  2020-08-23 16:00:00  \n",
       "...               ...                  ...  \n",
       "149585          €/Kg.  2020-10-12 00:00:00  \n",
       "149697          €/Kg.  2020-10-29 12:00:00  \n",
       "149714          €/Kg.  2020-11-13 12:00:00  \n",
       "149891             kg  2020-11-26 12:00:00  \n",
       "149977          €/Kg.  2020-12-30 12:00:00  \n",
       "\n",
       "[706 rows x 8 columns]"
      ]
     },
     "metadata": {},
     "output_type": "display_data"
    }
   ],
   "source": [
    "string_quitar = ['conservas','bebe','platos','preparados','palitos','surimi','sushi','salazones','preparado','especialidades','congelado','bandeja']\n",
    "pescados_df_filtro1 = pescados_df[pescados_df['category'].str.contains('|'.join(string_quitar))]\n",
    "#me quito valores que dispersan la media...\n",
    "\n",
    "pescados_df_1 = pescados_df.drop(pescados_df_filtro1.index, axis=0)\n",
    "pescados_df_filtro2 = pescados_df_1[pescados_df['name'].str.contains('|'.join(['ahumado','bandeja','envase','bolsa','paquete','sushi','ecológico']))]\n",
    "pescados_df_1 = pescados_df_1.drop(pescados_df_filtro2.index, axis=0)\n",
    "\n",
    "#pescados_df_1 = pescados_df_1.drop([25574,61746,63755,72649,80329,82849], axis=0)\n",
    "ab=pescados_df_1[pescados_df_1['supermarket']=='carrefour-es']\n",
    "#pescados_df_1.category.unique()\n",
    "pescados_df_1\n"
   ]
  },
  {
   "cell_type": "markdown",
   "metadata": {},
   "source": [
    "<h2> Mis data sets limpios"
   ]
  },
  {
   "cell_type": "code",
   "execution_count": null,
   "metadata": {},
   "outputs": [],
   "source": [
    "#mis variables finales\n",
    "aceites_df.to_csv('Aceites')\n",
    "carnes_df_2.to_csv('Carnes')\n",
    "frutas_df.to_csv('Frutas')\n",
    "pescados_df_1.to_csv('Pescados')"
   ]
  },
  {
   "cell_type": "code",
   "execution_count": null,
   "metadata": {},
   "outputs": [
    {
     "data": {
      "text/html": [
       "<div>\n",
       "<style scoped>\n",
       "    .dataframe tbody tr th:only-of-type {\n",
       "        vertical-align: middle;\n",
       "    }\n",
       "\n",
       "    .dataframe tbody tr th {\n",
       "        vertical-align: top;\n",
       "    }\n",
       "\n",
       "    .dataframe thead th {\n",
       "        text-align: right;\n",
       "    }\n",
       "</style>\n",
       "<table border=\"1\" class=\"dataframe\">\n",
       "  <thead>\n",
       "    <tr style=\"text-align: right;\">\n",
       "      <th></th>\n",
       "      <th>name</th>\n",
       "    </tr>\n",
       "    <tr>\n",
       "      <th>supermarket</th>\n",
       "      <th></th>\n",
       "    </tr>\n",
       "  </thead>\n",
       "  <tbody>\n",
       "    <tr>\n",
       "      <th>carrefour-es</th>\n",
       "      <td>88444</td>\n",
       "    </tr>\n",
       "    <tr>\n",
       "      <th>dia-es</th>\n",
       "      <td>31674</td>\n",
       "    </tr>\n",
       "    <tr>\n",
       "      <th>mercadona-es</th>\n",
       "      <td>29882</td>\n",
       "    </tr>\n",
       "  </tbody>\n",
       "</table>\n",
       "</div>"
      ],
      "text/plain": [
       "               name\n",
       "supermarket        \n",
       "carrefour-es  88444\n",
       "dia-es        31674\n",
       "mercadona-es  29882"
      ]
     },
     "metadata": {},
     "output_type": "display_data"
    }
   ],
   "source": [
    "a.groupby('supermarket')[['name']].count()"
   ]
  },
  {
   "cell_type": "markdown",
   "metadata": {},
   "source": []
  },
  {
   "cell_type": "markdown",
   "metadata": {},
   "source": [
    "<h3> Analizando me doy cuenta que no dispongo de precios de aceites de dia 2020"
   ]
  },
  {
   "cell_type": "markdown",
   "metadata": {},
   "source": [
    "<h1> Hago lo mismo para los datos de 2023"
   ]
  },
  {
   "cell_type": "code",
   "execution_count": null,
   "metadata": {},
   "outputs": [],
   "source": [
    "a= pd.read_csv(r'C:\\Users\\lour2\\Desktop\\EDA_Lourdes_Gomez\\código\\Data\\productos-de-supermercados-sample.csv')\n",
    "a.head(10)\n",
    "a = a.drop(['id','url','zip_code','description','trademark','trademark_propietary_flag','offer_flag','offer_price','offer_type','insert_date'], axis=1)"
   ]
  },
  {
   "cell_type": "code",
   "execution_count": null,
   "metadata": {},
   "outputs": [],
   "source": [
    "a = a.dropna()"
   ]
  },
  {
   "cell_type": "code",
   "execution_count": null,
   "metadata": {},
   "outputs": [],
   "source": [
    "pd.options.display.max_rows = 30"
   ]
  },
  {
   "cell_type": "code",
   "execution_count": null,
   "metadata": {},
   "outputs": [
    {
     "data": {
      "text/plain": [
       "category\n",
       "aceite_especias_y_salsas|aceite_vinagre_y_sal                4.180833\n",
       "aceite_especias_y_salsas|especias                            1.603333\n",
       "aceite_especias_y_salsas|mayonesa_ketchup_y_mostaza          1.700000\n",
       "aceite_especias_y_salsas|otras_salsas                        1.709524\n",
       "agua_y_refrescos|agua                                        1.327619\n",
       "                                                               ...   \n",
       "productos_frescos|verduras_y_hortalizas|tomates_y_pepinos    2.263333\n",
       "zumos|fruta_variada                                          1.277273\n",
       "zumos|melocoton_y_pina                                       1.330000\n",
       "zumos|naranja                                                1.682857\n",
       "zumos|tomate_y_otros_sabores                                 1.264000\n",
       "Name: price, Length: 625, dtype: float64"
      ]
     },
     "metadata": {},
     "output_type": "display_data"
    }
   ],
   "source": [
    "a.groupby('category')['price'].mean()"
   ]
  },
  {
   "cell_type": "code",
   "execution_count": null,
   "metadata": {},
   "outputs": [
    {
     "data": {
      "text/plain": [
       "0       huevos_leche_y_mantequilla|mantequilla_y_marga...\n",
       "1              productos_frescos|platos_preparados|fritos\n",
       "2       conservas_caldos_y_cremas|berberechos_y_mejill...\n",
       "3                  despensa|conservas|conservas_vegetales\n",
       "4       despensa|desayunos_y_dulces|caramelos_chicles_...\n",
       "                              ...                        \n",
       "4995    panaderia_y_pasteleria|picos_rosquilletas_y_pi...\n",
       "4996                          bebidas|cervezas|especiales\n",
       "4997    la_despensa|panaderia_bolleria_y_pasteleria|pa...\n",
       "4998                 cuidado_del_hogar|cuidado_de_la_ropa\n",
       "4999    panaderia_y_pasteleria|harina_y_preparado_repo...\n",
       "Name: category, Length: 4999, dtype: object"
      ]
     },
     "metadata": {},
     "output_type": "display_data"
    }
   ],
   "source": [
    "categorias = a.category\n",
    "categorias"
   ]
  },
  {
   "cell_type": "markdown",
   "metadata": {},
   "source": [
    "<h1> Aceites"
   ]
  },
  {
   "cell_type": "markdown",
   "metadata": {},
   "source": [
    "<h4>Primero voy a echar un vistazo dentro de las categorias para ver qué hay y qué me quiero quedar y como lo limpio"
   ]
  },
  {
   "cell_type": "code",
   "execution_count": null,
   "metadata": {},
   "outputs": [
    {
     "data": {
      "text/plain": [
       "['despensa|aceites_vinagres_y_alinos|aceites',\n",
       " 'aceite_especias_y_salsas|otras_salsas',\n",
       " 'aceite_especias_y_salsas|especias',\n",
       " 'aceite_especias_y_salsas|especias',\n",
       " 'despensa|aceites_vinagres_y_alinos|aceites',\n",
       " 'despensa|aceites_vinagres_y_alinos|vinagres_y_alinos',\n",
       " 'despensa|aceites_vinagres_y_alinos|aceites',\n",
       " 'aceite_especias_y_salsas|especias',\n",
       " 'aceite_especias_y_salsas|aceite_vinagre_y_sal',\n",
       " 'aceite_especias_y_salsas|especias',\n",
       " 'la_despensa|alimentacion|aceites_y_vinagres',\n",
       " 'despensa|aceites_vinagres_y_alinos|vinagres_y_alinos',\n",
       " 'aceite_especias_y_salsas|especias',\n",
       " 'despensa|aceites_vinagres_y_alinos|aceites',\n",
       " 'despensa|aceites_vinagres_y_alinos|aceites',\n",
       " 'aceite_especias_y_salsas|otras_salsas',\n",
       " 'aceite_especias_y_salsas|mayonesa_ketchup_y_mostaza',\n",
       " 'aceite_especias_y_salsas|especias',\n",
       " 'aceite_especias_y_salsas|especias',\n",
       " 'aceite_especias_y_salsas|aceite_vinagre_y_sal',\n",
       " 'aceite_especias_y_salsas|especias',\n",
       " 'aceite_especias_y_salsas|especias',\n",
       " 'aceite_especias_y_salsas|especias',\n",
       " 'despensa|aceites_vinagres_y_alinos|aceites',\n",
       " 'aceite_especias_y_salsas|otras_salsas',\n",
       " 'aceite_especias_y_salsas|otras_salsas',\n",
       " 'aceite_especias_y_salsas|aceite_vinagre_y_sal',\n",
       " 'aceite_especias_y_salsas|especias',\n",
       " 'aceite_especias_y_salsas|otras_salsas',\n",
       " 'despensa|aceites_vinagres_y_alinos|aceites',\n",
       " 'aceite_especias_y_salsas|otras_salsas',\n",
       " 'aceite_especias_y_salsas|aceite_vinagre_y_sal',\n",
       " 'aceite_especias_y_salsas|especias',\n",
       " 'aceite_especias_y_salsas|mayonesa_ketchup_y_mostaza',\n",
       " 'aceite_especias_y_salsas|especias',\n",
       " 'despensa|aceites_vinagres_y_alinos|vinagres_y_alinos',\n",
       " 'aceite_especias_y_salsas|aceite_vinagre_y_sal',\n",
       " 'aceite_especias_y_salsas|especias',\n",
       " 'despensa|aceites_vinagres_y_alinos|vinagres_y_alinos',\n",
       " 'aceite_especias_y_salsas|otras_salsas',\n",
       " 'despensa|aceites_vinagres_y_alinos|aceites',\n",
       " 'aceite_especias_y_salsas|otras_salsas',\n",
       " 'aceite_especias_y_salsas|otras_salsas',\n",
       " 'aceite_especias_y_salsas|aceite_vinagre_y_sal',\n",
       " 'la_despensa|alimentacion|aceites_y_vinagres',\n",
       " 'despensa|aceites_vinagres_y_alinos|aceites',\n",
       " 'aceite_especias_y_salsas|aceite_vinagre_y_sal',\n",
       " 'aceite_especias_y_salsas|mayonesa_ketchup_y_mostaza',\n",
       " 'aceite_especias_y_salsas|especias',\n",
       " 'aceite_especias_y_salsas|especias',\n",
       " 'despensa|aceites_vinagres_y_alinos|vinagres_y_alinos',\n",
       " 'aceite_especias_y_salsas|otras_salsas',\n",
       " 'aceite_especias_y_salsas|mayonesa_ketchup_y_mostaza',\n",
       " 'despensa|aceites_vinagres_y_alinos|aceites',\n",
       " 'despensa|aceites_vinagres_y_alinos|aceites',\n",
       " 'aceite_especias_y_salsas|otras_salsas',\n",
       " 'despensa|aceites_vinagres_y_alinos|aceites',\n",
       " 'aceite_especias_y_salsas|mayonesa_ketchup_y_mostaza',\n",
       " 'aceite_especias_y_salsas|especias',\n",
       " 'aceite_especias_y_salsas|otras_salsas',\n",
       " 'aceite_especias_y_salsas|otras_salsas',\n",
       " 'aceite_especias_y_salsas|mayonesa_ketchup_y_mostaza',\n",
       " 'aceite_especias_y_salsas|especias',\n",
       " 'aceite_especias_y_salsas|especias',\n",
       " 'aceite_especias_y_salsas|especias',\n",
       " 'aceite_especias_y_salsas|otras_salsas',\n",
       " 'parafarmacia|bebe|hidratantes_y_aceites_corporales',\n",
       " 'aceite_especias_y_salsas|otras_salsas',\n",
       " 'aceite_especias_y_salsas|especias',\n",
       " 'aceite_especias_y_salsas|otras_salsas',\n",
       " 'aceite_especias_y_salsas|aceite_vinagre_y_sal',\n",
       " 'aceite_especias_y_salsas|especias',\n",
       " 'aceite_especias_y_salsas|especias',\n",
       " 'despensa|aceites_vinagres_y_alinos|aceites',\n",
       " 'despensa|aceites_vinagres_y_alinos|aceites',\n",
       " 'aceite_especias_y_salsas|especias',\n",
       " 'despensa|aceites_vinagres_y_alinos|aceites',\n",
       " 'aceite_especias_y_salsas|especias',\n",
       " 'aceite_especias_y_salsas|mayonesa_ketchup_y_mostaza',\n",
       " 'despensa|aceites_vinagres_y_alinos|vinagres_y_alinos',\n",
       " 'despensa|aceites_vinagres_y_alinos|vinagres_y_alinos',\n",
       " 'aceite_especias_y_salsas|aceite_vinagre_y_sal',\n",
       " 'despensa|aceites_vinagres_y_alinos|aceites',\n",
       " 'aceite_especias_y_salsas|especias',\n",
       " 'aceite_especias_y_salsas|aceite_vinagre_y_sal',\n",
       " 'aceite_especias_y_salsas|otras_salsas',\n",
       " 'aceite_especias_y_salsas|otras_salsas',\n",
       " 'aceite_especias_y_salsas|especias',\n",
       " 'aceite_especias_y_salsas|especias',\n",
       " 'despensa|aceites_vinagres_y_alinos|aceites',\n",
       " 'despensa|aceites_vinagres_y_alinos|aceites',\n",
       " 'despensa|aceites_vinagres_y_alinos|vinagres_y_alinos',\n",
       " 'aceite_especias_y_salsas|aceite_vinagre_y_sal',\n",
       " 'aceite_especias_y_salsas|otras_salsas',\n",
       " 'aceite_especias_y_salsas|especias',\n",
       " 'despensa|aceites_vinagres_y_alinos|aceites',\n",
       " 'aceite_especias_y_salsas|mayonesa_ketchup_y_mostaza',\n",
       " 'despensa|aceites_vinagres_y_alinos|aceites',\n",
       " 'aceite_especias_y_salsas|otras_salsas',\n",
       " 'aceite_especias_y_salsas|otras_salsas',\n",
       " 'parafarmacia|bebe|hidratantes_y_aceites_corporales',\n",
       " 'la_despensa|alimentacion|aceites_y_vinagres',\n",
       " 'aceite_especias_y_salsas|aceite_vinagre_y_sal',\n",
       " 'aceite_especias_y_salsas|especias']"
      ]
     },
     "metadata": {},
     "output_type": "display_data"
    }
   ],
   "source": [
    "aceite = []\n",
    "for i in categorias:\n",
    "    if 'aceite' in i:\n",
    "        aceite.append(i)\n",
    "aceite"
   ]
  },
  {
   "cell_type": "markdown",
   "metadata": {},
   "source": [
    "<h1> Carnes"
   ]
  },
  {
   "cell_type": "code",
   "execution_count": null,
   "metadata": {},
   "outputs": [
    {
     "data": {
      "text/plain": [
       "['carne|cerdo',\n",
       " 'carne|aves_y_pollo',\n",
       " 'carne|vacuno',\n",
       " 'carne|cerdo',\n",
       " 'carne|aves_y_pollo',\n",
       " 'carne|hamburguesas_y_picadas',\n",
       " 'carne|aves_y_pollo',\n",
       " 'carne|vacuno',\n",
       " 'carne|arreglos',\n",
       " 'carne|cerdo',\n",
       " 'carne|arreglos',\n",
       " 'carne|carne_congelada',\n",
       " 'carne|aves_y_pollo',\n",
       " 'carne|hamburguesas_y_picadas',\n",
       " 'carne|aves_y_pollo',\n",
       " 'carne|embutido',\n",
       " 'carne|embutido',\n",
       " 'carne|vacuno',\n",
       " 'carne|cerdo',\n",
       " 'carne|empanados_y_elaborados',\n",
       " 'carne|aves_y_pollo',\n",
       " 'carne|conejo_y_cordero',\n",
       " 'carne|hamburguesas_y_picadas',\n",
       " 'carne|conejo_y_cordero',\n",
       " 'carne|aves_y_pollo',\n",
       " 'carne|cerdo',\n",
       " 'carne|cerdo',\n",
       " 'carne|aves_y_pollo',\n",
       " 'carne|arreglos',\n",
       " 'carne|aves_y_pollo',\n",
       " 'carne|empanados_y_elaborados',\n",
       " 'carne|aves_y_pollo',\n",
       " 'carne|cerdo',\n",
       " 'carne|conejo_y_cordero',\n",
       " 'carne|hamburguesas_y_picadas',\n",
       " 'carne|cerdo',\n",
       " 'carne|arreglos',\n",
       " 'carne|vacuno',\n",
       " 'carne|aves_y_pollo',\n",
       " 'carne|carne_congelada',\n",
       " 'carne|hamburguesas_y_picadas',\n",
       " 'carne|cerdo',\n",
       " 'carne|vacuno',\n",
       " 'carne|hamburguesas_y_picadas',\n",
       " 'carne|empanados_y_elaborados',\n",
       " 'carne|hamburguesas_y_picadas',\n",
       " 'carne|aves_y_pollo',\n",
       " 'carne|aves_y_pollo',\n",
       " 'carne|cerdo',\n",
       " 'carne|aves_y_pollo',\n",
       " 'carne|conejo_y_cordero',\n",
       " 'carne|aves_y_pollo',\n",
       " 'carne|aves_y_pollo',\n",
       " 'carne|empanados_y_elaborados',\n",
       " 'carne|cerdo',\n",
       " 'carne|aves_y_pollo',\n",
       " 'carne|cerdo',\n",
       " 'carne|vacuno',\n",
       " 'carne|arreglos',\n",
       " 'carne|aves_y_pollo',\n",
       " 'carne|embutido',\n",
       " 'carne|arreglos',\n",
       " 'carne|empanados_y_elaborados',\n",
       " 'carne|aves_y_pollo',\n",
       " 'carne|empanados_y_elaborados',\n",
       " 'carne|arreglos',\n",
       " 'carne|cerdo',\n",
       " 'carne|hamburguesas_y_picadas',\n",
       " 'carne|embutido',\n",
       " 'carne|empanados_y_elaborados',\n",
       " 'carne|vacuno',\n",
       " 'carne|vacuno',\n",
       " 'carne|cerdo',\n",
       " 'carne|carne_congelada',\n",
       " 'carne|aves_y_pollo',\n",
       " 'carne|carne_congelada',\n",
       " 'carne|aves_y_pollo',\n",
       " 'carne|hamburguesas_y_picadas',\n",
       " 'carne|embutido',\n",
       " 'carne|conejo_y_cordero',\n",
       " 'carne|conejo_y_cordero',\n",
       " 'carne|cerdo',\n",
       " 'carne|conejo_y_cordero',\n",
       " 'carne|aves_y_pollo',\n",
       " 'carne|cerdo',\n",
       " 'carne|arreglos',\n",
       " 'carne|aves_y_pollo',\n",
       " 'carne|hamburguesas_y_picadas',\n",
       " 'carne|vacuno',\n",
       " 'carne|vacuno',\n",
       " 'carne|aves_y_pollo',\n",
       " 'carne|aves_y_pollo',\n",
       " 'carne|aves_y_pollo',\n",
       " 'carne|cerdo',\n",
       " 'carne|aves_y_pollo',\n",
       " 'carne|embutido',\n",
       " 'carne|aves_y_pollo',\n",
       " 'carne|hamburguesas_y_picadas',\n",
       " 'carne|cerdo']"
      ]
     },
     "metadata": {},
     "output_type": "display_data"
    }
   ],
   "source": [
    "carne = []\n",
    "for i in categorias:\n",
    "    if i.startswith('carne'):\n",
    "        carne.append(i)\n",
    "carne\n"
   ]
  },
  {
   "cell_type": "markdown",
   "metadata": {},
   "source": [
    "<h1> Fruta"
   ]
  },
  {
   "cell_type": "code",
   "execution_count": null,
   "metadata": {},
   "outputs": [
    {
     "data": {
      "text/plain": [
       "['fruta_y_verdura|verdura',\n",
       " 'fruta_y_verdura|verdura',\n",
       " 'fruta_y_verdura|verdura',\n",
       " 'fruta_y_verdura|verdura',\n",
       " 'fruta_y_verdura|verdura',\n",
       " 'fruta_y_verdura|verdura',\n",
       " 'fruta_y_verdura|verdura',\n",
       " 'fruta_y_verdura|fruta',\n",
       " 'fruta_y_verdura|fruta',\n",
       " 'fruta_y_verdura|fruta',\n",
       " 'fruta_y_verdura|fruta',\n",
       " 'fruta_y_verdura|verdura',\n",
       " 'fruta_y_verdura|verdura',\n",
       " 'fruta_y_verdura|fruta',\n",
       " 'fruta_y_verdura|lechuga_y_ensalada_preparada',\n",
       " 'fruta_y_verdura|verdura',\n",
       " 'fruta_y_verdura|verdura',\n",
       " 'fruta_y_verdura|verdura',\n",
       " 'fruta_y_verdura|verdura',\n",
       " 'fruta_y_verdura|lechuga_y_ensalada_preparada',\n",
       " 'fruta_y_verdura|fruta',\n",
       " 'fruta_y_verdura|fruta',\n",
       " 'fruta_y_verdura|verdura',\n",
       " 'fruta_y_verdura|lechuga_y_ensalada_preparada',\n",
       " 'fruta_y_verdura|verdura',\n",
       " 'fruta_y_verdura|verdura',\n",
       " 'fruta_y_verdura|verdura',\n",
       " 'fruta_y_verdura|lechuga_y_ensalada_preparada',\n",
       " 'fruta_y_verdura|lechuga_y_ensalada_preparada',\n",
       " 'fruta_y_verdura|fruta',\n",
       " 'fruta_y_verdura|verdura',\n",
       " 'fruta_y_verdura|lechuga_y_ensalada_preparada',\n",
       " 'fruta_y_verdura|verdura',\n",
       " 'fruta_y_verdura|verdura',\n",
       " 'fruta_y_verdura|verdura',\n",
       " 'fruta_y_verdura|verdura',\n",
       " 'fruta_y_verdura|verdura',\n",
       " 'fruta_y_verdura|verdura',\n",
       " 'fruta_y_verdura|lechuga_y_ensalada_preparada',\n",
       " 'fruta_y_verdura|lechuga_y_ensalada_preparada',\n",
       " 'fruta_y_verdura|verdura',\n",
       " 'fruta_y_verdura|fruta',\n",
       " 'fruta_y_verdura|verdura',\n",
       " 'fruta_y_verdura|lechuga_y_ensalada_preparada',\n",
       " 'fruta_y_verdura|fruta',\n",
       " 'fruta_y_verdura|fruta',\n",
       " 'fruta_y_verdura|verdura',\n",
       " 'fruta_y_verdura|verdura',\n",
       " 'fruta_y_verdura|verdura',\n",
       " 'fruta_y_verdura|verdura',\n",
       " 'fruta_y_verdura|lechuga_y_ensalada_preparada',\n",
       " 'fruta_y_verdura|lechuga_y_ensalada_preparada',\n",
       " 'fruta_y_verdura|verdura',\n",
       " 'fruta_y_verdura|verdura',\n",
       " 'fruta_y_verdura|verdura',\n",
       " 'fruta_y_verdura|lechuga_y_ensalada_preparada',\n",
       " 'fruta_y_verdura|verdura',\n",
       " 'fruta_y_verdura|verdura',\n",
       " 'fruta_y_verdura|verdura',\n",
       " 'fruta_y_verdura|verdura',\n",
       " 'fruta_y_verdura|verdura',\n",
       " 'fruta_y_verdura|verdura',\n",
       " 'fruta_y_verdura|verdura']"
      ]
     },
     "metadata": {},
     "output_type": "display_data"
    }
   ],
   "source": [
    "fruta =[]\n",
    "for i in categorias:\n",
    "    if 'fruta_y_verdura' in i:\n",
    "        fruta.append(i)\n",
    "fruta\n"
   ]
  },
  {
   "cell_type": "markdown",
   "metadata": {},
   "source": [
    "<h1> Pescado"
   ]
  },
  {
   "cell_type": "code",
   "execution_count": null,
   "metadata": {},
   "outputs": [
    {
     "data": {
      "text/plain": [
       "['congelados|pescado_y_marisco',\n",
       " 'frescos|pescado_y_marisco|pescado_y_marisco_fresco',\n",
       " 'congelados|pescado_y_marisco',\n",
       " 'frescos|pescado_y_marisco|gulas_y_surimi',\n",
       " 'congelados|pescado_y_marisco',\n",
       " 'congelados|pescado_y_marisco',\n",
       " 'congelados|pescado_y_marisco',\n",
       " 'frescos|pescado_y_marisco|ahumados_y_salazones',\n",
       " 'congelados|pescado_y_marisco',\n",
       " 'congelados|pescado_y_marisco',\n",
       " 'frescos|pescado_y_marisco|ahumados_y_salazones',\n",
       " 'congelados|pescado_y_marisco',\n",
       " 'frescos|pescado_y_marisco|ahumados_y_salazones',\n",
       " 'congelados|pescado_y_marisco',\n",
       " 'congelados|pescado_y_marisco',\n",
       " 'frescos|pescado_y_marisco|ahumados_y_salazones',\n",
       " 'congelados|pescado_y_marisco',\n",
       " 'congelados|pescado_y_marisco',\n",
       " 'frescos|pescado_y_marisco|gulas_y_surimi',\n",
       " 'frescos|pescado_y_marisco|ahumados_y_salazones',\n",
       " 'congelados|pescado_y_marisco',\n",
       " 'congelados|pescado_y_marisco',\n",
       " 'frescos|pescado_y_marisco|pescado_y_marisco_fresco',\n",
       " 'frescos|pescado_y_marisco|pescado_y_marisco_fresco',\n",
       " 'congelados|pescado_y_marisco',\n",
       " 'congelados|pescado_y_marisco',\n",
       " 'congelados|pescado_y_marisco',\n",
       " 'congelados|pescado_y_marisco',\n",
       " 'congelados|pescado_y_marisco',\n",
       " 'congelados|pescado_y_marisco',\n",
       " 'frescos|pescado_y_marisco|ahumados_y_salazones',\n",
       " 'frescos|pescado_y_marisco|ahumados_y_salazones',\n",
       " 'congelados|pescado_y_marisco',\n",
       " 'productos_frescos|pescaderia|preparados_y_elaborados_de_pescado_y_marisco',\n",
       " 'frescos|pescado_y_marisco|ahumados_y_salazones',\n",
       " 'congelados|pescado_y_marisco',\n",
       " 'congelados|pescado_y_marisco',\n",
       " 'productos_frescos|pescaderia|preparados_y_elaborados_de_pescado_y_marisco',\n",
       " 'frescos|pescado_y_marisco|pescado_y_marisco_fresco',\n",
       " 'congelados|pescado_y_marisco',\n",
       " 'congelados|pescado_y_marisco',\n",
       " 'productos_frescos|pescaderia|preparados_y_elaborados_de_pescado_y_marisco']"
      ]
     },
     "metadata": {},
     "output_type": "display_data"
    }
   ],
   "source": [
    "pescado =[]\n",
    "for i in categorias:\n",
    "    if 'conservas' in i:\n",
    "        pass \n",
    "    elif 'pescado_y_marisco' in i:\n",
    "        pescado.append(i)    \n",
    "pescado"
   ]
  },
  {
   "cell_type": "markdown",
   "metadata": {},
   "source": [
    "<h3> Empiezo a limpiar el dataset , cogiendo artículos que contengan la palabra específica de la categoria"
   ]
  },
  {
   "cell_type": "markdown",
   "metadata": {},
   "source": [
    "<h3>Aceites"
   ]
  },
  {
   "cell_type": "code",
   "execution_count": null,
   "metadata": {},
   "outputs": [
    {
     "data": {
      "text/html": [
       "<div>\n",
       "<style scoped>\n",
       "    .dataframe tbody tr th:only-of-type {\n",
       "        vertical-align: middle;\n",
       "    }\n",
       "\n",
       "    .dataframe tbody tr th {\n",
       "        vertical-align: top;\n",
       "    }\n",
       "\n",
       "    .dataframe thead th {\n",
       "        text-align: right;\n",
       "    }\n",
       "</style>\n",
       "<table border=\"1\" class=\"dataframe\">\n",
       "  <thead>\n",
       "    <tr style=\"text-align: right;\">\n",
       "      <th></th>\n",
       "      <th>supermarket</th>\n",
       "      <th>category</th>\n",
       "      <th>name</th>\n",
       "      <th>price</th>\n",
       "      <th>reference_price</th>\n",
       "      <th>reference_unit</th>\n",
       "    </tr>\n",
       "  </thead>\n",
       "  <tbody>\n",
       "    <tr>\n",
       "      <th>736</th>\n",
       "      <td>carrefour.es</td>\n",
       "      <td>la_despensa|alimentacion|aceites_y_vinagres</td>\n",
       "      <td>Aceite de oliva virgen extra Carrefour spray 2...</td>\n",
       "      <td>2.05</td>\n",
       "      <td>10.250</td>\n",
       "      <td>l</td>\n",
       "    </tr>\n",
       "    <tr>\n",
       "      <th>1186</th>\n",
       "      <td>mercadona.es</td>\n",
       "      <td>aceite_especias_y_salsas|aceite_vinagre_y_sal</td>\n",
       "      <td>Aceite de girasol refinado 0,2º Hacendado</td>\n",
       "      <td>8.95</td>\n",
       "      <td>1.790</td>\n",
       "      <td>l</td>\n",
       "    </tr>\n",
       "    <tr>\n",
       "      <th>2245</th>\n",
       "      <td>mercadona.es</td>\n",
       "      <td>aceite_especias_y_salsas|aceite_vinagre_y_sal</td>\n",
       "      <td>Aceite de girasol refinado 0,2º Hacendado</td>\n",
       "      <td>1.95</td>\n",
       "      <td>1.950</td>\n",
       "      <td>l</td>\n",
       "    </tr>\n",
       "    <tr>\n",
       "      <th>2445</th>\n",
       "      <td>carrefour.es</td>\n",
       "      <td>la_despensa|alimentacion|aceites_y_vinagres</td>\n",
       "      <td>Aceite de oliva suave 0,4º Carrefour 1 l.</td>\n",
       "      <td>4.75</td>\n",
       "      <td>4.750</td>\n",
       "      <td>l</td>\n",
       "    </tr>\n",
       "    <tr>\n",
       "      <th>4059</th>\n",
       "      <td>mercadona.es</td>\n",
       "      <td>aceite_especias_y_salsas|aceite_vinagre_y_sal</td>\n",
       "      <td>Aceite de oliva 0,4º Hacendado</td>\n",
       "      <td>4.77</td>\n",
       "      <td>4.770</td>\n",
       "      <td>l</td>\n",
       "    </tr>\n",
       "    <tr>\n",
       "      <th>4129</th>\n",
       "      <td>mercadona.es</td>\n",
       "      <td>aceite_especias_y_salsas|aceite_vinagre_y_sal</td>\n",
       "      <td>Aceite de oliva, vinagre y sal Merry</td>\n",
       "      <td>2.00</td>\n",
       "      <td>20.000</td>\n",
       "      <td>l</td>\n",
       "    </tr>\n",
       "    <tr>\n",
       "      <th>4824</th>\n",
       "      <td>carrefour.es</td>\n",
       "      <td>la_despensa|alimentacion|aceites_y_vinagres</td>\n",
       "      <td>Aceite de girasol para freír Carrefour garrafa...</td>\n",
       "      <td>9.89</td>\n",
       "      <td>1.980</td>\n",
       "      <td>l</td>\n",
       "    </tr>\n",
       "    <tr>\n",
       "      <th>4948</th>\n",
       "      <td>mercadona.es</td>\n",
       "      <td>aceite_especias_y_salsas|aceite_vinagre_y_sal</td>\n",
       "      <td>Aceite de oliva 0,4º Hacendado</td>\n",
       "      <td>23.63</td>\n",
       "      <td>4.726</td>\n",
       "      <td>l</td>\n",
       "    </tr>\n",
       "  </tbody>\n",
       "</table>\n",
       "</div>"
      ],
      "text/plain": [
       "       supermarket                                       category  \\\n",
       "736   carrefour.es    la_despensa|alimentacion|aceites_y_vinagres   \n",
       "1186  mercadona.es  aceite_especias_y_salsas|aceite_vinagre_y_sal   \n",
       "2245  mercadona.es  aceite_especias_y_salsas|aceite_vinagre_y_sal   \n",
       "2445  carrefour.es    la_despensa|alimentacion|aceites_y_vinagres   \n",
       "4059  mercadona.es  aceite_especias_y_salsas|aceite_vinagre_y_sal   \n",
       "4129  mercadona.es  aceite_especias_y_salsas|aceite_vinagre_y_sal   \n",
       "4824  carrefour.es    la_despensa|alimentacion|aceites_y_vinagres   \n",
       "4948  mercadona.es  aceite_especias_y_salsas|aceite_vinagre_y_sal   \n",
       "\n",
       "                                                   name  price  \\\n",
       "736   Aceite de oliva virgen extra Carrefour spray 2...   2.05   \n",
       "1186          Aceite de girasol refinado 0,2º Hacendado   8.95   \n",
       "2245          Aceite de girasol refinado 0,2º Hacendado   1.95   \n",
       "2445          Aceite de oliva suave 0,4º Carrefour 1 l.   4.75   \n",
       "4059                     Aceite de oliva 0,4º Hacendado   4.77   \n",
       "4129               Aceite de oliva, vinagre y sal Merry   2.00   \n",
       "4824  Aceite de girasol para freír Carrefour garrafa...   9.89   \n",
       "4948                     Aceite de oliva 0,4º Hacendado  23.63   \n",
       "\n",
       "      reference_price reference_unit  \n",
       "736            10.250              l  \n",
       "1186            1.790              l  \n",
       "2245            1.950              l  \n",
       "2445            4.750              l  \n",
       "4059            4.770              l  \n",
       "4129           20.000              l  \n",
       "4824            1.980              l  \n",
       "4948            4.726              l  "
      ]
     },
     "metadata": {},
     "output_type": "display_data"
    }
   ],
   "source": [
    "aceites_df = a[a['name'].str.startswith('Aceite de')]\n",
    "#aceites_df = aceites_df[aceites_df['category'].str.contains('aceite_cor')]\n",
    "aceites_df"
   ]
  },
  {
   "cell_type": "markdown",
   "metadata": {},
   "source": [
    "Como no tengo datos de Día los extraigo de la web y creo un Dataframe"
   ]
  },
  {
   "cell_type": "code",
   "execution_count": null,
   "metadata": {},
   "outputs": [
    {
     "data": {
      "text/plain": [
       "27"
      ]
     },
     "metadata": {},
     "output_type": "display_data"
    }
   ],
   "source": [
    "#info sacada de la web de dia\n",
    "\n",
    "names = ['Aceite de oliva virgen extra La Almazara del Olivar garrafa 3 l', \n",
    "         'Aceite de oliva suave La Almazara del Olivar garrafa 5 l',\n",
    "         'Aceite de oliva intenso La Almazara del Olivar garrafa 5 l',\n",
    "         'Aceite de oliva suave La Almazara del Olivar botella 1 l',\n",
    "         'Aceite refinado de girasol Diasol botella 1 l',\n",
    "         'Aceite de orujo de oliva La Almazara del Olivar botella 1 l',\n",
    "         'Aceite de oliva virgen La Almazara del Olivar botella 1 l',\n",
    "         'Aceite de oliva suave Carbonell botella 1 l',\n",
    "         'Aceite de oliva suave La española botella 1 l',\n",
    "         'Aceite de oliva virgen extra Carbonell botella 750 ml',\n",
    "         'Aceite refinado de girasol Diasol garrafa 5 l',\n",
    "         'Aceite de oliva virgen extra La Almazara del Olivar botella 1 l',\n",
    "         'Aceite de oliva intenso La Almazara del Olivar botella 1 l',\n",
    "         'Aceite de oliva virgen extra La Almazara del Olivar botella 750 ml',\n",
    "         'Aceite de oliva virgen extra Dcoop garrafa 3 l',\n",
    "         'Aceite de oliva virgen extra Carbonell botella 1 l',\n",
    "         'Aceite de oliva virgen extra Hojiblanca botella 1 l',\n",
    "         'Aceite de oliva suave La masía botella 1 l',\n",
    "         'Aceite de oliva virgen extra Dcoop botella 1 l',\n",
    "         'Aceite de oliva virgen Coosur botella 1 l',\n",
    "         'Aceite de oliva virgen extra ecológico Oro de genave botella 500 ml',\n",
    "         'Aceite de oliva virgen extra Jaencoop botella 250 ml',\n",
    "         'Aceite de oliva virgen extra Jaencoop botella 1 l',\n",
    "         'Aceite de oliva intenso Carbonell botella 1 l',\n",
    "         'Aceite oliva virgen Carbonell botella 1 l',\n",
    "         'Aceite de oliva intenso La masía botella 1 l',\n",
    "         'Aceite de oliva virgen extra hojiblanca Coosur botella 1 l'\n",
    "         ]\n",
    "len(names)"
   ]
  },
  {
   "cell_type": "code",
   "execution_count": null,
   "metadata": {},
   "outputs": [
    {
     "data": {
      "text/plain": [
       "27"
      ]
     },
     "metadata": {},
     "output_type": "display_data"
    }
   ],
   "source": [
    "descripcion = ['3 L','5 l','5 l','1 l','1 l','1 l','1 l','1 l','1 l','0.75 l','5 l','1 l','1 l','0.75 l','3 l','1 l','1 l','1 l','1 l','1 l','0.5 l','0.25 l','1 l','1 l','1 l','1 l','1 l']\n",
    "len(descripcion)"
   ]
  },
  {
   "cell_type": "code",
   "execution_count": null,
   "metadata": {},
   "outputs": [
    {
     "data": {
      "text/plain": [
       "27"
      ]
     },
     "metadata": {},
     "output_type": "display_data"
    }
   ],
   "source": [
    "super_mal = ['dia.es']\n",
    "super = super_mal*27\n",
    "len(super)"
   ]
  },
  {
   "cell_type": "code",
   "execution_count": null,
   "metadata": {},
   "outputs": [
    {
     "data": {
      "text/plain": [
       "27"
      ]
     },
     "metadata": {},
     "output_type": "display_data"
    }
   ],
   "source": [
    "categoria_mal= ['aceite']\n",
    "categoria = categoria_mal*27\n",
    "len(categoria)"
   ]
  },
  {
   "cell_type": "code",
   "execution_count": null,
   "metadata": {},
   "outputs": [],
   "source": [
    "precio = [27.6,36.5,36.5, 7.35,1.6,4.95,8.25,11.99,11.5, 8.79, 7.5, 9.25,7.35,7.60,26.29,14.25,14.50,8.99,9.45,11.25,6.15,3.19,8.89,11.99,12.95,8.99,14.50]"
   ]
  },
  {
   "cell_type": "code",
   "execution_count": null,
   "metadata": {},
   "outputs": [],
   "source": [
    "precio_ref = [9.2, 7.3,7.3,7.35,1.6,4.95,8.25,11.99,11.5,11.72,1.5, 9.25,7.35,10.13,8.76,14.25,14.50,8.99,9.45,11.25,12.30,12.76,8.89,11.99,12.95,8.99,14.50]"
   ]
  },
  {
   "cell_type": "code",
   "execution_count": null,
   "metadata": {},
   "outputs": [
    {
     "data": {
      "text/plain": [
       "27"
      ]
     },
     "metadata": {},
     "output_type": "display_data"
    }
   ],
   "source": [
    "precio_unit_mal = ['l']\n",
    "precio_unit = precio_unit_mal*27\n",
    "len(precio_unit)"
   ]
  },
  {
   "cell_type": "code",
   "execution_count": null,
   "metadata": {},
   "outputs": [],
   "source": [
    "aceites_dia = {'supermarket': super,\n",
    "               'category': categoria,\n",
    "               'name': names,\n",
    "               'price': precio,\n",
    "               'reference_price': precio_ref,\n",
    "               'reference_unit':precio_unit }"
   ]
  },
  {
   "cell_type": "markdown",
   "metadata": {},
   "source": [
    "Lo mismo con los aceites de carrefour, los extraigo de la web"
   ]
  },
  {
   "cell_type": "code",
   "execution_count": null,
   "metadata": {},
   "outputs": [
    {
     "data": {
      "text/plain": [
       "15"
      ]
     },
     "metadata": {},
     "output_type": "display_data"
    }
   ],
   "source": [
    "#info sacada de la web de carrefour\n",
    "\n",
    "names_car = ['Aceite de oliva suave 0,4º Carrefour 1 l.',\n",
    "        'Aceite de oliva intenso 1º Carrefour garrafa 5 l.',\n",
    "        'Aceite de girasol para freír Carrefour garrafa 5 l.',\n",
    "        'Aceite de oliva suave 0,4º La Española 1 l.',\n",
    "        'Aceite de oliva intenso 1º La Masía garrafa 5 l.',\n",
    "        'Aceite de oliva suave 0,4º Carbonell 1 l.',\n",
    "        'Aceite de oliva virgen extra Carrefour 1 l.',\n",
    "        'Aceite de girasol Koipe Fritos 1 l.',\n",
    "        'Aceite de oliva virgen Carbonell 1 l.',\n",
    "        'Aceite de oliva virgen extra Carrefour garrafa 5 l.',\n",
    "        'Aceite de oliva virgen extra Carbonell 1 l.',\n",
    "        'Aceite de oliva virgen serie oro Coosur 1 l.',\n",
    "        'Aceite de oliva virgen extra Carrefour 750 ml.',\n",
    "        'Aceite de oliva intenso 1º Carrefour 1 l.',\n",
    "        'Aceite de oliva virgen extra hojiblanca Coosur 1 l.'\n",
    "\n",
    "\n",
    "         ]\n",
    "len(names_car)"
   ]
  },
  {
   "cell_type": "code",
   "execution_count": null,
   "metadata": {},
   "outputs": [
    {
     "data": {
      "text/plain": [
       "27"
      ]
     },
     "metadata": {},
     "output_type": "display_data"
    }
   ],
   "source": [
    "super_car = ['carrefour.es']\n",
    "super_car = super_car*15\n",
    "len(super)"
   ]
  },
  {
   "cell_type": "code",
   "execution_count": null,
   "metadata": {},
   "outputs": [
    {
     "data": {
      "text/plain": [
       "15"
      ]
     },
     "metadata": {},
     "output_type": "display_data"
    }
   ],
   "source": [
    "categoria_car= ['aceite']\n",
    "categoria_car = categoria_car*15\n",
    "len(categoria_car)"
   ]
  },
  {
   "cell_type": "code",
   "execution_count": null,
   "metadata": {},
   "outputs": [],
   "source": [
    "precio_car =[7.25,35.90, 7.19,11.55,44.85,11.99,9.25,2.69,12.50,45.90,14.25,12.95,7.19,7.25,14.50]"
   ]
  },
  {
   "cell_type": "code",
   "execution_count": null,
   "metadata": {},
   "outputs": [],
   "source": [
    "precio_ref_car=[7.25, 7.18,1.44,11.55,7.39,11.99,9.25,2.69,12.50,9.18,14.25,12.95,10.12,7.25,14.50]"
   ]
  },
  {
   "cell_type": "code",
   "execution_count": null,
   "metadata": {},
   "outputs": [],
   "source": [
    "ref_unit_car = ['l']\n",
    "ref_unit_car = ref_unit_car*15"
   ]
  },
  {
   "cell_type": "code",
   "execution_count": null,
   "metadata": {},
   "outputs": [],
   "source": [
    "aceites_car = {'supermarket': super_car,\n",
    "               'category': categoria_car,\n",
    "               'name': names_car,\n",
    "               'price': precio_car,\n",
    "               'reference_price': precio_ref_car,\n",
    "               'reference_unit':ref_unit_car }"
   ]
  },
  {
   "cell_type": "code",
   "execution_count": null,
   "metadata": {},
   "outputs": [],
   "source": []
  },
  {
   "cell_type": "code",
   "execution_count": null,
   "metadata": {},
   "outputs": [],
   "source": [
    "#añado a mi data frame"
   ]
  },
  {
   "cell_type": "code",
   "execution_count": null,
   "metadata": {},
   "outputs": [],
   "source": [
    "aceites_car_df = pd.DataFrame(aceites_car)\n",
    "aceites_car_df.to_csv('Aceites_car_df')"
   ]
  },
  {
   "cell_type": "code",
   "execution_count": null,
   "metadata": {},
   "outputs": [],
   "source": [
    "aceites_dia_df = pd.DataFrame(aceites_dia)\n",
    "aceites_dia_df.to_csv('Aceites_dia_df')"
   ]
  },
  {
   "cell_type": "code",
   "execution_count": null,
   "metadata": {},
   "outputs": [
    {
     "data": {
      "text/html": [
       "<div>\n",
       "<style scoped>\n",
       "    .dataframe tbody tr th:only-of-type {\n",
       "        vertical-align: middle;\n",
       "    }\n",
       "\n",
       "    .dataframe tbody tr th {\n",
       "        vertical-align: top;\n",
       "    }\n",
       "\n",
       "    .dataframe thead th {\n",
       "        text-align: right;\n",
       "    }\n",
       "</style>\n",
       "<table border=\"1\" class=\"dataframe\">\n",
       "  <thead>\n",
       "    <tr style=\"text-align: right;\">\n",
       "      <th></th>\n",
       "      <th>supermarket</th>\n",
       "      <th>category</th>\n",
       "      <th>name</th>\n",
       "      <th>price</th>\n",
       "      <th>reference_price</th>\n",
       "      <th>reference_unit</th>\n",
       "    </tr>\n",
       "  </thead>\n",
       "  <tbody>\n",
       "    <tr>\n",
       "      <th>0</th>\n",
       "      <td>dia.es</td>\n",
       "      <td>aceite</td>\n",
       "      <td>Aceite de oliva virgen extra La Almazara del O...</td>\n",
       "      <td>27.60</td>\n",
       "      <td>9.20</td>\n",
       "      <td>l</td>\n",
       "    </tr>\n",
       "    <tr>\n",
       "      <th>1</th>\n",
       "      <td>dia.es</td>\n",
       "      <td>aceite</td>\n",
       "      <td>Aceite de oliva suave La Almazara del Olivar g...</td>\n",
       "      <td>36.50</td>\n",
       "      <td>7.30</td>\n",
       "      <td>l</td>\n",
       "    </tr>\n",
       "    <tr>\n",
       "      <th>2</th>\n",
       "      <td>dia.es</td>\n",
       "      <td>aceite</td>\n",
       "      <td>Aceite de oliva intenso La Almazara del Olivar...</td>\n",
       "      <td>36.50</td>\n",
       "      <td>7.30</td>\n",
       "      <td>l</td>\n",
       "    </tr>\n",
       "    <tr>\n",
       "      <th>3</th>\n",
       "      <td>dia.es</td>\n",
       "      <td>aceite</td>\n",
       "      <td>Aceite de oliva suave La Almazara del Olivar b...</td>\n",
       "      <td>7.35</td>\n",
       "      <td>7.35</td>\n",
       "      <td>l</td>\n",
       "    </tr>\n",
       "    <tr>\n",
       "      <th>4</th>\n",
       "      <td>dia.es</td>\n",
       "      <td>aceite</td>\n",
       "      <td>Aceite refinado de girasol Diasol botella 1 l</td>\n",
       "      <td>1.60</td>\n",
       "      <td>1.60</td>\n",
       "      <td>l</td>\n",
       "    </tr>\n",
       "    <tr>\n",
       "      <th>5</th>\n",
       "      <td>dia.es</td>\n",
       "      <td>aceite</td>\n",
       "      <td>Aceite de orujo de oliva La Almazara del Oliva...</td>\n",
       "      <td>4.95</td>\n",
       "      <td>4.95</td>\n",
       "      <td>l</td>\n",
       "    </tr>\n",
       "    <tr>\n",
       "      <th>6</th>\n",
       "      <td>dia.es</td>\n",
       "      <td>aceite</td>\n",
       "      <td>Aceite de oliva virgen La Almazara del Olivar ...</td>\n",
       "      <td>8.25</td>\n",
       "      <td>8.25</td>\n",
       "      <td>l</td>\n",
       "    </tr>\n",
       "    <tr>\n",
       "      <th>7</th>\n",
       "      <td>dia.es</td>\n",
       "      <td>aceite</td>\n",
       "      <td>Aceite de oliva suave Carbonell botella 1 l</td>\n",
       "      <td>11.99</td>\n",
       "      <td>11.99</td>\n",
       "      <td>l</td>\n",
       "    </tr>\n",
       "    <tr>\n",
       "      <th>8</th>\n",
       "      <td>dia.es</td>\n",
       "      <td>aceite</td>\n",
       "      <td>Aceite de oliva suave La española botella 1 l</td>\n",
       "      <td>11.50</td>\n",
       "      <td>11.50</td>\n",
       "      <td>l</td>\n",
       "    </tr>\n",
       "    <tr>\n",
       "      <th>9</th>\n",
       "      <td>dia.es</td>\n",
       "      <td>aceite</td>\n",
       "      <td>Aceite de oliva virgen extra Carbonell botella...</td>\n",
       "      <td>8.79</td>\n",
       "      <td>11.72</td>\n",
       "      <td>l</td>\n",
       "    </tr>\n",
       "    <tr>\n",
       "      <th>10</th>\n",
       "      <td>dia.es</td>\n",
       "      <td>aceite</td>\n",
       "      <td>Aceite refinado de girasol Diasol garrafa 5 l</td>\n",
       "      <td>7.50</td>\n",
       "      <td>1.50</td>\n",
       "      <td>l</td>\n",
       "    </tr>\n",
       "    <tr>\n",
       "      <th>11</th>\n",
       "      <td>dia.es</td>\n",
       "      <td>aceite</td>\n",
       "      <td>Aceite de oliva virgen extra La Almazara del O...</td>\n",
       "      <td>9.25</td>\n",
       "      <td>9.25</td>\n",
       "      <td>l</td>\n",
       "    </tr>\n",
       "    <tr>\n",
       "      <th>12</th>\n",
       "      <td>dia.es</td>\n",
       "      <td>aceite</td>\n",
       "      <td>Aceite de oliva intenso La Almazara del Olivar...</td>\n",
       "      <td>7.35</td>\n",
       "      <td>7.35</td>\n",
       "      <td>l</td>\n",
       "    </tr>\n",
       "    <tr>\n",
       "      <th>13</th>\n",
       "      <td>dia.es</td>\n",
       "      <td>aceite</td>\n",
       "      <td>Aceite de oliva virgen extra La Almazara del O...</td>\n",
       "      <td>7.60</td>\n",
       "      <td>10.13</td>\n",
       "      <td>l</td>\n",
       "    </tr>\n",
       "    <tr>\n",
       "      <th>14</th>\n",
       "      <td>dia.es</td>\n",
       "      <td>aceite</td>\n",
       "      <td>Aceite de oliva virgen extra Dcoop garrafa 3 l</td>\n",
       "      <td>26.29</td>\n",
       "      <td>8.76</td>\n",
       "      <td>l</td>\n",
       "    </tr>\n",
       "    <tr>\n",
       "      <th>15</th>\n",
       "      <td>dia.es</td>\n",
       "      <td>aceite</td>\n",
       "      <td>Aceite de oliva virgen extra Carbonell botella...</td>\n",
       "      <td>14.25</td>\n",
       "      <td>14.25</td>\n",
       "      <td>l</td>\n",
       "    </tr>\n",
       "    <tr>\n",
       "      <th>16</th>\n",
       "      <td>dia.es</td>\n",
       "      <td>aceite</td>\n",
       "      <td>Aceite de oliva virgen extra Hojiblanca botell...</td>\n",
       "      <td>14.50</td>\n",
       "      <td>14.50</td>\n",
       "      <td>l</td>\n",
       "    </tr>\n",
       "    <tr>\n",
       "      <th>17</th>\n",
       "      <td>dia.es</td>\n",
       "      <td>aceite</td>\n",
       "      <td>Aceite de oliva suave La masía botella 1 l</td>\n",
       "      <td>8.99</td>\n",
       "      <td>8.99</td>\n",
       "      <td>l</td>\n",
       "    </tr>\n",
       "    <tr>\n",
       "      <th>18</th>\n",
       "      <td>dia.es</td>\n",
       "      <td>aceite</td>\n",
       "      <td>Aceite de oliva virgen extra Dcoop botella 1 l</td>\n",
       "      <td>9.45</td>\n",
       "      <td>9.45</td>\n",
       "      <td>l</td>\n",
       "    </tr>\n",
       "    <tr>\n",
       "      <th>19</th>\n",
       "      <td>dia.es</td>\n",
       "      <td>aceite</td>\n",
       "      <td>Aceite de oliva virgen Coosur botella 1 l</td>\n",
       "      <td>11.25</td>\n",
       "      <td>11.25</td>\n",
       "      <td>l</td>\n",
       "    </tr>\n",
       "    <tr>\n",
       "      <th>20</th>\n",
       "      <td>dia.es</td>\n",
       "      <td>aceite</td>\n",
       "      <td>Aceite de oliva virgen extra ecológico Oro de ...</td>\n",
       "      <td>6.15</td>\n",
       "      <td>12.30</td>\n",
       "      <td>l</td>\n",
       "    </tr>\n",
       "    <tr>\n",
       "      <th>21</th>\n",
       "      <td>dia.es</td>\n",
       "      <td>aceite</td>\n",
       "      <td>Aceite de oliva virgen extra Jaencoop botella ...</td>\n",
       "      <td>3.19</td>\n",
       "      <td>12.76</td>\n",
       "      <td>l</td>\n",
       "    </tr>\n",
       "    <tr>\n",
       "      <th>22</th>\n",
       "      <td>dia.es</td>\n",
       "      <td>aceite</td>\n",
       "      <td>Aceite de oliva virgen extra Jaencoop botella 1 l</td>\n",
       "      <td>8.89</td>\n",
       "      <td>8.89</td>\n",
       "      <td>l</td>\n",
       "    </tr>\n",
       "    <tr>\n",
       "      <th>23</th>\n",
       "      <td>dia.es</td>\n",
       "      <td>aceite</td>\n",
       "      <td>Aceite de oliva intenso Carbonell botella 1 l</td>\n",
       "      <td>11.99</td>\n",
       "      <td>11.99</td>\n",
       "      <td>l</td>\n",
       "    </tr>\n",
       "    <tr>\n",
       "      <th>24</th>\n",
       "      <td>dia.es</td>\n",
       "      <td>aceite</td>\n",
       "      <td>Aceite oliva virgen Carbonell botella 1 l</td>\n",
       "      <td>12.95</td>\n",
       "      <td>12.95</td>\n",
       "      <td>l</td>\n",
       "    </tr>\n",
       "    <tr>\n",
       "      <th>25</th>\n",
       "      <td>dia.es</td>\n",
       "      <td>aceite</td>\n",
       "      <td>Aceite de oliva intenso La masía botella 1 l</td>\n",
       "      <td>8.99</td>\n",
       "      <td>8.99</td>\n",
       "      <td>l</td>\n",
       "    </tr>\n",
       "    <tr>\n",
       "      <th>26</th>\n",
       "      <td>dia.es</td>\n",
       "      <td>aceite</td>\n",
       "      <td>Aceite de oliva virgen extra hojiblanca Coosur...</td>\n",
       "      <td>14.50</td>\n",
       "      <td>14.50</td>\n",
       "      <td>l</td>\n",
       "    </tr>\n",
       "  </tbody>\n",
       "</table>\n",
       "</div>"
      ],
      "text/plain": [
       "   supermarket category                                               name  \\\n",
       "0       dia.es   aceite  Aceite de oliva virgen extra La Almazara del O...   \n",
       "1       dia.es   aceite  Aceite de oliva suave La Almazara del Olivar g...   \n",
       "2       dia.es   aceite  Aceite de oliva intenso La Almazara del Olivar...   \n",
       "3       dia.es   aceite  Aceite de oliva suave La Almazara del Olivar b...   \n",
       "4       dia.es   aceite      Aceite refinado de girasol Diasol botella 1 l   \n",
       "5       dia.es   aceite  Aceite de orujo de oliva La Almazara del Oliva...   \n",
       "6       dia.es   aceite  Aceite de oliva virgen La Almazara del Olivar ...   \n",
       "7       dia.es   aceite        Aceite de oliva suave Carbonell botella 1 l   \n",
       "8       dia.es   aceite      Aceite de oliva suave La española botella 1 l   \n",
       "9       dia.es   aceite  Aceite de oliva virgen extra Carbonell botella...   \n",
       "10      dia.es   aceite      Aceite refinado de girasol Diasol garrafa 5 l   \n",
       "11      dia.es   aceite  Aceite de oliva virgen extra La Almazara del O...   \n",
       "12      dia.es   aceite  Aceite de oliva intenso La Almazara del Olivar...   \n",
       "13      dia.es   aceite  Aceite de oliva virgen extra La Almazara del O...   \n",
       "14      dia.es   aceite     Aceite de oliva virgen extra Dcoop garrafa 3 l   \n",
       "15      dia.es   aceite  Aceite de oliva virgen extra Carbonell botella...   \n",
       "16      dia.es   aceite  Aceite de oliva virgen extra Hojiblanca botell...   \n",
       "17      dia.es   aceite         Aceite de oliva suave La masía botella 1 l   \n",
       "18      dia.es   aceite     Aceite de oliva virgen extra Dcoop botella 1 l   \n",
       "19      dia.es   aceite          Aceite de oliva virgen Coosur botella 1 l   \n",
       "20      dia.es   aceite  Aceite de oliva virgen extra ecológico Oro de ...   \n",
       "21      dia.es   aceite  Aceite de oliva virgen extra Jaencoop botella ...   \n",
       "22      dia.es   aceite  Aceite de oliva virgen extra Jaencoop botella 1 l   \n",
       "23      dia.es   aceite      Aceite de oliva intenso Carbonell botella 1 l   \n",
       "24      dia.es   aceite          Aceite oliva virgen Carbonell botella 1 l   \n",
       "25      dia.es   aceite       Aceite de oliva intenso La masía botella 1 l   \n",
       "26      dia.es   aceite  Aceite de oliva virgen extra hojiblanca Coosur...   \n",
       "\n",
       "    price  reference_price reference_unit  \n",
       "0   27.60             9.20              l  \n",
       "1   36.50             7.30              l  \n",
       "2   36.50             7.30              l  \n",
       "3    7.35             7.35              l  \n",
       "4    1.60             1.60              l  \n",
       "5    4.95             4.95              l  \n",
       "6    8.25             8.25              l  \n",
       "7   11.99            11.99              l  \n",
       "8   11.50            11.50              l  \n",
       "9    8.79            11.72              l  \n",
       "10   7.50             1.50              l  \n",
       "11   9.25             9.25              l  \n",
       "12   7.35             7.35              l  \n",
       "13   7.60            10.13              l  \n",
       "14  26.29             8.76              l  \n",
       "15  14.25            14.25              l  \n",
       "16  14.50            14.50              l  \n",
       "17   8.99             8.99              l  \n",
       "18   9.45             9.45              l  \n",
       "19  11.25            11.25              l  \n",
       "20   6.15            12.30              l  \n",
       "21   3.19            12.76              l  \n",
       "22   8.89             8.89              l  \n",
       "23  11.99            11.99              l  \n",
       "24  12.95            12.95              l  \n",
       "25   8.99             8.99              l  \n",
       "26  14.50            14.50              l  "
      ]
     },
     "metadata": {},
     "output_type": "display_data"
    }
   ],
   "source": [
    "aceites_dia_df"
   ]
  },
  {
   "cell_type": "markdown",
   "metadata": {},
   "source": [
    "<h3> Añado el dataframe que he creado a mi dataset limpio de aceites"
   ]
  },
  {
   "cell_type": "code",
   "execution_count": null,
   "metadata": {},
   "outputs": [],
   "source": [
    "aceites_dia = pd.read_csv('Aceites_dia_df')"
   ]
  },
  {
   "cell_type": "code",
   "execution_count": null,
   "metadata": {},
   "outputs": [],
   "source": [
    "aceites_car = pd.read_csv('Aceites_car_df')"
   ]
  },
  {
   "cell_type": "code",
   "execution_count": null,
   "metadata": {},
   "outputs": [
    {
     "data": {
      "text/html": [
       "<div>\n",
       "<style scoped>\n",
       "    .dataframe tbody tr th:only-of-type {\n",
       "        vertical-align: middle;\n",
       "    }\n",
       "\n",
       "    .dataframe tbody tr th {\n",
       "        vertical-align: top;\n",
       "    }\n",
       "\n",
       "    .dataframe thead th {\n",
       "        text-align: right;\n",
       "    }\n",
       "</style>\n",
       "<table border=\"1\" class=\"dataframe\">\n",
       "  <thead>\n",
       "    <tr style=\"text-align: right;\">\n",
       "      <th></th>\n",
       "      <th>supermarket</th>\n",
       "      <th>category</th>\n",
       "      <th>name</th>\n",
       "      <th>price</th>\n",
       "      <th>reference_price</th>\n",
       "      <th>reference_unit</th>\n",
       "    </tr>\n",
       "  </thead>\n",
       "  <tbody>\n",
       "    <tr>\n",
       "      <th>736</th>\n",
       "      <td>carrefour.es</td>\n",
       "      <td>la_despensa|alimentacion|aceites_y_vinagres</td>\n",
       "      <td>Aceite de oliva virgen extra Carrefour spray 2...</td>\n",
       "      <td>2.05</td>\n",
       "      <td>10.25</td>\n",
       "      <td>l</td>\n",
       "    </tr>\n",
       "    <tr>\n",
       "      <th>1186</th>\n",
       "      <td>mercadona.es</td>\n",
       "      <td>aceite_especias_y_salsas|aceite_vinagre_y_sal</td>\n",
       "      <td>Aceite de girasol refinado 0,2º Hacendado</td>\n",
       "      <td>8.95</td>\n",
       "      <td>1.79</td>\n",
       "      <td>l</td>\n",
       "    </tr>\n",
       "    <tr>\n",
       "      <th>2245</th>\n",
       "      <td>mercadona.es</td>\n",
       "      <td>aceite_especias_y_salsas|aceite_vinagre_y_sal</td>\n",
       "      <td>Aceite de girasol refinado 0,2º Hacendado</td>\n",
       "      <td>1.95</td>\n",
       "      <td>1.95</td>\n",
       "      <td>l</td>\n",
       "    </tr>\n",
       "    <tr>\n",
       "      <th>2445</th>\n",
       "      <td>carrefour.es</td>\n",
       "      <td>la_despensa|alimentacion|aceites_y_vinagres</td>\n",
       "      <td>Aceite de oliva suave 0,4º Carrefour 1 l.</td>\n",
       "      <td>4.75</td>\n",
       "      <td>4.75</td>\n",
       "      <td>l</td>\n",
       "    </tr>\n",
       "    <tr>\n",
       "      <th>4059</th>\n",
       "      <td>mercadona.es</td>\n",
       "      <td>aceite_especias_y_salsas|aceite_vinagre_y_sal</td>\n",
       "      <td>Aceite de oliva 0,4º Hacendado</td>\n",
       "      <td>4.77</td>\n",
       "      <td>4.77</td>\n",
       "      <td>l</td>\n",
       "    </tr>\n",
       "    <tr>\n",
       "      <th>...</th>\n",
       "      <td>...</td>\n",
       "      <td>...</td>\n",
       "      <td>...</td>\n",
       "      <td>...</td>\n",
       "      <td>...</td>\n",
       "      <td>...</td>\n",
       "    </tr>\n",
       "    <tr>\n",
       "      <th>10</th>\n",
       "      <td>carrefour.es</td>\n",
       "      <td>aceite</td>\n",
       "      <td>Aceite de oliva virgen extra Carbonell 1 l.</td>\n",
       "      <td>14.25</td>\n",
       "      <td>14.25</td>\n",
       "      <td>l</td>\n",
       "    </tr>\n",
       "    <tr>\n",
       "      <th>11</th>\n",
       "      <td>carrefour.es</td>\n",
       "      <td>aceite</td>\n",
       "      <td>Aceite de oliva virgen serie oro Coosur 1 l.</td>\n",
       "      <td>12.95</td>\n",
       "      <td>12.95</td>\n",
       "      <td>l</td>\n",
       "    </tr>\n",
       "    <tr>\n",
       "      <th>12</th>\n",
       "      <td>carrefour.es</td>\n",
       "      <td>aceite</td>\n",
       "      <td>Aceite de oliva virgen extra Carrefour 750 ml.</td>\n",
       "      <td>7.19</td>\n",
       "      <td>10.12</td>\n",
       "      <td>l</td>\n",
       "    </tr>\n",
       "    <tr>\n",
       "      <th>13</th>\n",
       "      <td>carrefour.es</td>\n",
       "      <td>aceite</td>\n",
       "      <td>Aceite de oliva intenso 1º Carrefour 1 l.</td>\n",
       "      <td>7.25</td>\n",
       "      <td>7.25</td>\n",
       "      <td>l</td>\n",
       "    </tr>\n",
       "    <tr>\n",
       "      <th>14</th>\n",
       "      <td>carrefour.es</td>\n",
       "      <td>aceite</td>\n",
       "      <td>Aceite de oliva virgen extra hojiblanca Coosur...</td>\n",
       "      <td>14.50</td>\n",
       "      <td>14.50</td>\n",
       "      <td>l</td>\n",
       "    </tr>\n",
       "  </tbody>\n",
       "</table>\n",
       "<p>50 rows × 6 columns</p>\n",
       "</div>"
      ],
      "text/plain": [
       "       supermarket                                       category  \\\n",
       "736   carrefour.es    la_despensa|alimentacion|aceites_y_vinagres   \n",
       "1186  mercadona.es  aceite_especias_y_salsas|aceite_vinagre_y_sal   \n",
       "2245  mercadona.es  aceite_especias_y_salsas|aceite_vinagre_y_sal   \n",
       "2445  carrefour.es    la_despensa|alimentacion|aceites_y_vinagres   \n",
       "4059  mercadona.es  aceite_especias_y_salsas|aceite_vinagre_y_sal   \n",
       "...            ...                                            ...   \n",
       "10    carrefour.es                                         aceite   \n",
       "11    carrefour.es                                         aceite   \n",
       "12    carrefour.es                                         aceite   \n",
       "13    carrefour.es                                         aceite   \n",
       "14    carrefour.es                                         aceite   \n",
       "\n",
       "                                                   name  price  \\\n",
       "736   Aceite de oliva virgen extra Carrefour spray 2...   2.05   \n",
       "1186          Aceite de girasol refinado 0,2º Hacendado   8.95   \n",
       "2245          Aceite de girasol refinado 0,2º Hacendado   1.95   \n",
       "2445          Aceite de oliva suave 0,4º Carrefour 1 l.   4.75   \n",
       "4059                     Aceite de oliva 0,4º Hacendado   4.77   \n",
       "...                                                 ...    ...   \n",
       "10          Aceite de oliva virgen extra Carbonell 1 l.  14.25   \n",
       "11         Aceite de oliva virgen serie oro Coosur 1 l.  12.95   \n",
       "12       Aceite de oliva virgen extra Carrefour 750 ml.   7.19   \n",
       "13            Aceite de oliva intenso 1º Carrefour 1 l.   7.25   \n",
       "14    Aceite de oliva virgen extra hojiblanca Coosur...  14.50   \n",
       "\n",
       "      reference_price reference_unit  \n",
       "736             10.25              l  \n",
       "1186             1.79              l  \n",
       "2245             1.95              l  \n",
       "2445             4.75              l  \n",
       "4059             4.77              l  \n",
       "...               ...            ...  \n",
       "10              14.25              l  \n",
       "11              12.95              l  \n",
       "12              10.12              l  \n",
       "13               7.25              l  \n",
       "14              14.50              l  \n",
       "\n",
       "[50 rows x 6 columns]"
      ]
     },
     "metadata": {},
     "output_type": "display_data"
    }
   ],
   "source": [
    "Aceites = pd.concat([aceites_df,aceites_dia_df,aceites_car_df])\n",
    "#Aceites = Aceites.drop(['Unnamed: 0'], axis=1)\n",
    "Aceites"
   ]
  },
  {
   "cell_type": "code",
   "execution_count": null,
   "metadata": {},
   "outputs": [],
   "source": [
    "#Lo guardo como csv\n",
    "Aceites.to_csv('Aceites_23')"
   ]
  },
  {
   "cell_type": "markdown",
   "metadata": {},
   "source": [
    "<h3> En la categoria carnes, me quito las salsas, platos preparados y potitos"
   ]
  },
  {
   "cell_type": "code",
   "execution_count": null,
   "metadata": {},
   "outputs": [],
   "source": [
    "carnes_df = a[a['category'].str.contains('carne')]\n",
    "carnes_df_filtro1 = carnes_df[carnes_df['category'].str.contains('salsas')]\n",
    "filas_fuera = carnes_df_filtro1.index\n",
    "filas_fuera\n",
    "carnes_df_1 = carnes_df.drop(filas_fuera, axis= 0)\n",
    "\n"
   ]
  },
  {
   "cell_type": "code",
   "execution_count": null,
   "metadata": {},
   "outputs": [
    {
     "data": {
      "text/html": [
       "<div>\n",
       "<style scoped>\n",
       "    .dataframe tbody tr th:only-of-type {\n",
       "        vertical-align: middle;\n",
       "    }\n",
       "\n",
       "    .dataframe tbody tr th {\n",
       "        vertical-align: top;\n",
       "    }\n",
       "\n",
       "    .dataframe thead th {\n",
       "        text-align: right;\n",
       "    }\n",
       "</style>\n",
       "<table border=\"1\" class=\"dataframe\">\n",
       "  <thead>\n",
       "    <tr style=\"text-align: right;\">\n",
       "      <th></th>\n",
       "      <th>supermarket</th>\n",
       "      <th>category</th>\n",
       "      <th>name</th>\n",
       "      <th>price</th>\n",
       "      <th>reference_price</th>\n",
       "      <th>reference_unit</th>\n",
       "    </tr>\n",
       "  </thead>\n",
       "  <tbody>\n",
       "    <tr>\n",
       "      <th>14</th>\n",
       "      <td>mercadona.es</td>\n",
       "      <td>carne|cerdo</td>\n",
       "      <td>Lomo de cerdo ibérico</td>\n",
       "      <td>6.26</td>\n",
       "      <td>21.95</td>\n",
       "      <td>kg</td>\n",
       "    </tr>\n",
       "    <tr>\n",
       "      <th>53</th>\n",
       "      <td>mercadona.es</td>\n",
       "      <td>carne|aves_y_pollo</td>\n",
       "      <td>Filetes pechuga de pavo Procavi corte fino</td>\n",
       "      <td>5.81</td>\n",
       "      <td>10.19</td>\n",
       "      <td>kg</td>\n",
       "    </tr>\n",
       "    <tr>\n",
       "      <th>77</th>\n",
       "      <td>mercadona.es</td>\n",
       "      <td>carne|vacuno</td>\n",
       "      <td>Filetes hígado de vacuno añojo</td>\n",
       "      <td>5.52</td>\n",
       "      <td>9.20</td>\n",
       "      <td>kg</td>\n",
       "    </tr>\n",
       "    <tr>\n",
       "      <th>106</th>\n",
       "      <td>mercadona.es</td>\n",
       "      <td>carne|cerdo</td>\n",
       "      <td>Lomo de cerdo adobado</td>\n",
       "      <td>3.27</td>\n",
       "      <td>6.95</td>\n",
       "      <td>kg</td>\n",
       "    </tr>\n",
       "    <tr>\n",
       "      <th>125</th>\n",
       "      <td>mercadona.es</td>\n",
       "      <td>carne|aves_y_pollo</td>\n",
       "      <td>Solomillo de pavo</td>\n",
       "      <td>4.92</td>\n",
       "      <td>8.20</td>\n",
       "      <td>kg</td>\n",
       "    </tr>\n",
       "    <tr>\n",
       "      <th>...</th>\n",
       "      <td>...</td>\n",
       "      <td>...</td>\n",
       "      <td>...</td>\n",
       "      <td>...</td>\n",
       "      <td>...</td>\n",
       "      <td>...</td>\n",
       "    </tr>\n",
       "    <tr>\n",
       "      <th>4848</th>\n",
       "      <td>dia.es</td>\n",
       "      <td>frescos|carne|pollo</td>\n",
       "      <td>SELECCIÓN DE DIA pollo limpio entero unidad (p...</td>\n",
       "      <td>5.70</td>\n",
       "      <td>3.35</td>\n",
       "      <td>kg</td>\n",
       "    </tr>\n",
       "    <tr>\n",
       "      <th>4886</th>\n",
       "      <td>mercadona.es</td>\n",
       "      <td>carne|cerdo</td>\n",
       "      <td>Lomo de cerdo adobado familiar</td>\n",
       "      <td>6.17</td>\n",
       "      <td>6.85</td>\n",
       "      <td>kg</td>\n",
       "    </tr>\n",
       "    <tr>\n",
       "      <th>4906</th>\n",
       "      <td>dia.es</td>\n",
       "      <td>frescos|carne|cerdo</td>\n",
       "      <td>Lomo adobado al horno bandeja 330 gr</td>\n",
       "      <td>3.19</td>\n",
       "      <td>9.67</td>\n",
       "      <td>kg</td>\n",
       "    </tr>\n",
       "    <tr>\n",
       "      <th>4947</th>\n",
       "      <td>dia.es</td>\n",
       "      <td>despensa|conservas|conservas_de_carne</td>\n",
       "      <td>LITORAL callos a la madrileña lata 380 gr</td>\n",
       "      <td>4.89</td>\n",
       "      <td>12.87</td>\n",
       "      <td>kg</td>\n",
       "    </tr>\n",
       "    <tr>\n",
       "      <th>4954</th>\n",
       "      <td>dia.es</td>\n",
       "      <td>frescos|carne|pollo</td>\n",
       "      <td>Filetes de pechuga de pollo de antaño bandeja ...</td>\n",
       "      <td>3.80</td>\n",
       "      <td>9.50</td>\n",
       "      <td>kg</td>\n",
       "    </tr>\n",
       "  </tbody>\n",
       "</table>\n",
       "<p>147 rows × 6 columns</p>\n",
       "</div>"
      ],
      "text/plain": [
       "       supermarket                               category  \\\n",
       "14    mercadona.es                            carne|cerdo   \n",
       "53    mercadona.es                     carne|aves_y_pollo   \n",
       "77    mercadona.es                           carne|vacuno   \n",
       "106   mercadona.es                            carne|cerdo   \n",
       "125   mercadona.es                     carne|aves_y_pollo   \n",
       "...            ...                                    ...   \n",
       "4848        dia.es                    frescos|carne|pollo   \n",
       "4886  mercadona.es                            carne|cerdo   \n",
       "4906        dia.es                    frescos|carne|cerdo   \n",
       "4947        dia.es  despensa|conservas|conservas_de_carne   \n",
       "4954        dia.es                    frescos|carne|pollo   \n",
       "\n",
       "                                                   name  price  \\\n",
       "14                                Lomo de cerdo ibérico   6.26   \n",
       "53           Filetes pechuga de pavo Procavi corte fino   5.81   \n",
       "77                       Filetes hígado de vacuno añojo   5.52   \n",
       "106                               Lomo de cerdo adobado   3.27   \n",
       "125                                   Solomillo de pavo   4.92   \n",
       "...                                                 ...    ...   \n",
       "4848  SELECCIÓN DE DIA pollo limpio entero unidad (p...   5.70   \n",
       "4886                     Lomo de cerdo adobado familiar   6.17   \n",
       "4906               Lomo adobado al horno bandeja 330 gr   3.19   \n",
       "4947          LITORAL callos a la madrileña lata 380 gr   4.89   \n",
       "4954  Filetes de pechuga de pollo de antaño bandeja ...   3.80   \n",
       "\n",
       "      reference_price reference_unit  \n",
       "14              21.95             kg  \n",
       "53              10.19             kg  \n",
       "77               9.20             kg  \n",
       "106              6.95             kg  \n",
       "125              8.20             kg  \n",
       "...               ...            ...  \n",
       "4848             3.35             kg  \n",
       "4886             6.85             kg  \n",
       "4906             9.67             kg  \n",
       "4947            12.87             kg  \n",
       "4954             9.50             kg  \n",
       "\n",
       "[147 rows x 6 columns]"
      ]
     },
     "metadata": {},
     "output_type": "display_data"
    }
   ],
   "source": [
    "string_buscar = ['platos_preparados', 'potitos']\n",
    "carnes_df_1_filtro2 = carnes_df_1[carnes_df_1['category'].str.contains('|'.join(string_buscar))]\n",
    "filas_fuera2 = carnes_df_1_filtro2.index\n",
    "carnes_df_2 = carnes_df_1.drop(filas_fuera2, axis= 0)\n",
    "carnes_df_2"
   ]
  },
  {
   "cell_type": "markdown",
   "metadata": {},
   "source": [
    "<h3> lo mismo en fruta"
   ]
  },
  {
   "cell_type": "code",
   "execution_count": null,
   "metadata": {},
   "outputs": [],
   "source": [
    "#frutas_df = a[a['category'].str.startswith('fruta')]\n",
    "#len(frutas_df)"
   ]
  },
  {
   "cell_type": "code",
   "execution_count": null,
   "metadata": {},
   "outputs": [],
   "source": [
    "frutas_df = a[a['category'].str.contains('fruta')]\n"
   ]
  },
  {
   "cell_type": "code",
   "execution_count": null,
   "metadata": {},
   "outputs": [
    {
     "data": {
      "text/plain": [
       "array(['fruta_y_verdura|verdura',\n",
       "       'aperitivos|frutos_secos_y_fruta_desecada',\n",
       "       'productos_frescos|frutas|manzanas_y_peras',\n",
       "       'despensa|desayunos_y_dulces|mermeladas_miel_y_frutas_en_almibar',\n",
       "       'frescos|frutas|citricos',\n",
       "       'conservas_caldos_y_cremas|conservas_de_verdura_y_frutas',\n",
       "       'frescos|frutas|platanos', 'zumos|fruta_variada',\n",
       "       'frescos|frutas|frutas_tropicales',\n",
       "       'productos_frescos|frutas|platanos_y_bananas',\n",
       "       'fruta_y_verdura|fruta',\n",
       "       'productos_frescos|frutas|pinas_kiwis_aguacates_y_tropicales',\n",
       "       'fruta_y_verdura|lechuga_y_ensalada_preparada',\n",
       "       'frescos|frutas|peras',\n",
       "       'productos_frescos|frutas|frutos_del_bosque',\n",
       "       'la_despensa|aperitivos|frutas_desecadas',\n",
       "       'productos_frescos|frutas|naranjas_y_otros_citricos',\n",
       "       'frescos|frutas|manzanas', 'productos_frescos|frutas|uvas',\n",
       "       'frescos|frutas|uvas',\n",
       "       'productos_frescos|frutas|fruta_de_temporada',\n",
       "       'la_despensa|conservas_sopas_y_precocinados|conservas_de_frutas'],\n",
       "      dtype=object)"
      ]
     },
     "metadata": {},
     "output_type": "display_data"
    }
   ],
   "source": [
    "frutas_df.category.unique()"
   ]
  },
  {
   "cell_type": "code",
   "execution_count": null,
   "metadata": {},
   "outputs": [],
   "source": [
    "string_buscar_f = ['aperitivos', 'despensa', 'conservas','la_despensa','congelados', 'lacteos','zumo','picantes','preparada','bosque']\n",
    "frutas_df_filtro1 = frutas_df[frutas_df['category'].str.contains('|'.join(string_buscar_f))]\n",
    "filas_fuera_f = frutas_df_filtro1.index\n",
    "frutas_df = frutas_df.drop(filas_fuera_f, axis= 0)\n",
    "#frutas_df = frutas_df.drop([4107,1150], axis= 0)"
   ]
  },
  {
   "cell_type": "code",
   "execution_count": null,
   "metadata": {},
   "outputs": [
    {
     "data": {
      "text/plain": [
       "array([ 1.79 ,  4.58 ,  2.59 ,  2.88 ,  6.14 ,  6.25 ,  5.65 ,  2.11 ,\n",
       "        4.39 ,  4.89 , 17.28 ,  9.889, 17.858,  2.15 ,  5.56 ,  6.5  ,\n",
       "        2.49 ,  1.99 ,  2.39 ,  1.35 ,  2.02 ,  0.95 ,  4.75 ,  1.95 ,\n",
       "        1.82 ,  8.28 ,  1.41 ,  3.7  ,  6.92 ,  3.084, 15.3  ,  1.65 ,\n",
       "        1.056,  3.09 ,  2.29 ,  3.36 ,  1.995,  6.174,  6.   ,  2.58 ,\n",
       "        1.78 ,  5.975,  4.086,  3.25 ,  2.55 ,  2.5  ,  4.   ,  3.375,\n",
       "        4.775])"
      ]
     },
     "metadata": {},
     "output_type": "display_data"
    }
   ],
   "source": [
    "mer = frutas_df[frutas_df['supermarket'] == 'mercadona.es']\n",
    "mer.reference_price.unique()\n",
    "#mer[mer['reference_price'] == 6.174]"
   ]
  },
  {
   "cell_type": "code",
   "execution_count": null,
   "metadata": {},
   "outputs": [
    {
     "data": {
      "text/plain": [
       "array([1.78, 3.65, 4.4 , 1.45, 2.15, 2.59, 1.7 , 3.99, 6.38, 2.75, 5.1 ,\n",
       "       2.39, 6.89, 4.99, 1.4 , 3.21])"
      ]
     },
     "metadata": {},
     "output_type": "display_data"
    }
   ],
   "source": [
    "carr = frutas_df[frutas_df['supermarket'] == 'carrefour.es']\n",
    "carr.reference_price.unique()\n"
   ]
  },
  {
   "cell_type": "markdown",
   "metadata": {},
   "source": [
    "<h3> Pescado"
   ]
  },
  {
   "cell_type": "code",
   "execution_count": null,
   "metadata": {},
   "outputs": [
    {
     "data": {
      "text/html": [
       "<div>\n",
       "<style scoped>\n",
       "    .dataframe tbody tr th:only-of-type {\n",
       "        vertical-align: middle;\n",
       "    }\n",
       "\n",
       "    .dataframe tbody tr th {\n",
       "        vertical-align: top;\n",
       "    }\n",
       "\n",
       "    .dataframe thead th {\n",
       "        text-align: right;\n",
       "    }\n",
       "</style>\n",
       "<table border=\"1\" class=\"dataframe\">\n",
       "  <thead>\n",
       "    <tr style=\"text-align: right;\">\n",
       "      <th></th>\n",
       "      <th>supermarket</th>\n",
       "      <th>category</th>\n",
       "      <th>name</th>\n",
       "      <th>price</th>\n",
       "      <th>reference_price</th>\n",
       "      <th>reference_unit</th>\n",
       "    </tr>\n",
       "  </thead>\n",
       "  <tbody>\n",
       "    <tr>\n",
       "      <th>103</th>\n",
       "      <td>carrefour.es</td>\n",
       "      <td>productos_frescos|pescaderia|bacalao_y_salazones</td>\n",
       "      <td>Bacalao desalado desmigado procedente de pesca...</td>\n",
       "      <td>4.15</td>\n",
       "      <td>16.60</td>\n",
       "      <td>kg</td>\n",
       "    </tr>\n",
       "    <tr>\n",
       "      <th>650</th>\n",
       "      <td>carrefour.es</td>\n",
       "      <td>productos_frescos|platos_preparados|platos_de_...</td>\n",
       "      <td>Oreja de cerdo cocida adobada Carrefour 400 g</td>\n",
       "      <td>3.00</td>\n",
       "      <td>7.50</td>\n",
       "      <td>kg</td>\n",
       "    </tr>\n",
       "    <tr>\n",
       "      <th>850</th>\n",
       "      <td>carrefour.es</td>\n",
       "      <td>productos_frescos|pescaderia|marisco_almejas_y...</td>\n",
       "      <td>Mejillón fresco cocido en salmuera Mares de Ga...</td>\n",
       "      <td>7.79</td>\n",
       "      <td>25.97</td>\n",
       "      <td>kg</td>\n",
       "    </tr>\n",
       "    <tr>\n",
       "      <th>897</th>\n",
       "      <td>carrefour.es</td>\n",
       "      <td>productos_frescos|pescaderia|ahumados_y_huevas</td>\n",
       "      <td>Salmón ahumado noruego Extra Carrefour 100 g.</td>\n",
       "      <td>3.99</td>\n",
       "      <td>39.90</td>\n",
       "      <td>kg</td>\n",
       "    </tr>\n",
       "    <tr>\n",
       "      <th>940</th>\n",
       "      <td>carrefour.es</td>\n",
       "      <td>productos_frescos|pescaderia|ahumados_y_huevas</td>\n",
       "      <td>Salmón ahumado ecológico Carrefour Bio 85 g.</td>\n",
       "      <td>3.99</td>\n",
       "      <td>46.94</td>\n",
       "      <td>kg</td>\n",
       "    </tr>\n",
       "    <tr>\n",
       "      <th>...</th>\n",
       "      <td>...</td>\n",
       "      <td>...</td>\n",
       "      <td>...</td>\n",
       "      <td>...</td>\n",
       "      <td>...</td>\n",
       "      <td>...</td>\n",
       "    </tr>\n",
       "    <tr>\n",
       "      <th>4698</th>\n",
       "      <td>carrefour.es</td>\n",
       "      <td>productos_frescos|pescaderia|marisco_almejas_y...</td>\n",
       "      <td>Mejillón Gallego Cocido Carrefour El Mercado 1 kg</td>\n",
       "      <td>5.69</td>\n",
       "      <td>5.69</td>\n",
       "      <td>kg</td>\n",
       "    </tr>\n",
       "    <tr>\n",
       "      <th>4795</th>\n",
       "      <td>carrefour.es</td>\n",
       "      <td>productos_frescos|pescaderia|pulpo_calamar_y_s...</td>\n",
       "      <td>Pata de pulpo cocida XL Carrefour El Mercado 2...</td>\n",
       "      <td>13.95</td>\n",
       "      <td>55.80</td>\n",
       "      <td>kg</td>\n",
       "    </tr>\n",
       "    <tr>\n",
       "      <th>4879</th>\n",
       "      <td>carrefour.es</td>\n",
       "      <td>productos_frescos|pescaderia|preparados_y_elab...</td>\n",
       "      <td>Mejillón tigre relleno congelado Carrefour 400 g</td>\n",
       "      <td>3.95</td>\n",
       "      <td>9.87</td>\n",
       "      <td>kg</td>\n",
       "    </tr>\n",
       "    <tr>\n",
       "      <th>4945</th>\n",
       "      <td>carrefour.es</td>\n",
       "      <td>congelados|rebozados_y_platos_preparados|pesca...</td>\n",
       "      <td>Filetes de bacalao ultracongelado Pescanova 40...</td>\n",
       "      <td>7.95</td>\n",
       "      <td>19.87</td>\n",
       "      <td>kg</td>\n",
       "    </tr>\n",
       "    <tr>\n",
       "      <th>338</th>\n",
       "      <td>carrefour.es</td>\n",
       "      <td>mascotas|gatos|premios_y_snacks</td>\n",
       "      <td>Snack stick mini pescado omega 3 para gato adu...</td>\n",
       "      <td>0.99</td>\n",
       "      <td>18.33</td>\n",
       "      <td>kg</td>\n",
       "    </tr>\n",
       "  </tbody>\n",
       "</table>\n",
       "<p>37 rows × 6 columns</p>\n",
       "</div>"
      ],
      "text/plain": [
       "       supermarket                                           category  \\\n",
       "103   carrefour.es   productos_frescos|pescaderia|bacalao_y_salazones   \n",
       "650   carrefour.es  productos_frescos|platos_preparados|platos_de_...   \n",
       "850   carrefour.es  productos_frescos|pescaderia|marisco_almejas_y...   \n",
       "897   carrefour.es     productos_frescos|pescaderia|ahumados_y_huevas   \n",
       "940   carrefour.es     productos_frescos|pescaderia|ahumados_y_huevas   \n",
       "...            ...                                                ...   \n",
       "4698  carrefour.es  productos_frescos|pescaderia|marisco_almejas_y...   \n",
       "4795  carrefour.es  productos_frescos|pescaderia|pulpo_calamar_y_s...   \n",
       "4879  carrefour.es  productos_frescos|pescaderia|preparados_y_elab...   \n",
       "4945  carrefour.es  congelados|rebozados_y_platos_preparados|pesca...   \n",
       "338   carrefour.es                    mascotas|gatos|premios_y_snacks   \n",
       "\n",
       "                                                   name  price  \\\n",
       "103   Bacalao desalado desmigado procedente de pesca...   4.15   \n",
       "650       Oreja de cerdo cocida adobada Carrefour 400 g   3.00   \n",
       "850   Mejillón fresco cocido en salmuera Mares de Ga...   7.79   \n",
       "897       Salmón ahumado noruego Extra Carrefour 100 g.   3.99   \n",
       "940        Salmón ahumado ecológico Carrefour Bio 85 g.   3.99   \n",
       "...                                                 ...    ...   \n",
       "4698  Mejillón Gallego Cocido Carrefour El Mercado 1 kg   5.69   \n",
       "4795  Pata de pulpo cocida XL Carrefour El Mercado 2...  13.95   \n",
       "4879   Mejillón tigre relleno congelado Carrefour 400 g   3.95   \n",
       "4945  Filetes de bacalao ultracongelado Pescanova 40...   7.95   \n",
       "338   Snack stick mini pescado omega 3 para gato adu...   0.99   \n",
       "\n",
       "      reference_price reference_unit  \n",
       "103             16.60             kg  \n",
       "650              7.50             kg  \n",
       "850             25.97             kg  \n",
       "897             39.90             kg  \n",
       "940             46.94             kg  \n",
       "...               ...            ...  \n",
       "4698             5.69             kg  \n",
       "4795            55.80             kg  \n",
       "4879             9.87             kg  \n",
       "4945            19.87             kg  \n",
       "338             18.33             kg  \n",
       "\n",
       "[37 rows x 6 columns]"
      ]
     },
     "metadata": {},
     "output_type": "display_data"
    }
   ],
   "source": [
    "pescados_df = a[a['category'].str.contains('|'.join(['pescado','pescados','pescaderia','pesca']))]\n",
    "pescados_df_car = a[a['name'].str.contains('|'.join(['pescado','pescados','pescaderia']))]\n",
    "pescados_df = pd.concat([pescados_df,pescados_df_car])\n",
    "pescados_df[pescados_df['supermarket']=='carrefour.es']\n"
   ]
  },
  {
   "cell_type": "markdown",
   "metadata": {},
   "source": [
    "<h4> Filtro el pescado , quitando productos como las conservas, platos preparados ... etc"
   ]
  },
  {
   "cell_type": "code",
   "execution_count": null,
   "metadata": {},
   "outputs": [],
   "source": [
    "string_quitar = ['bebe','palitos','conservas','surimi','salazones','sushi','preparados','platos','mascotas','pulpo','sal']\n",
    "pescados_df_filtro1 = pescados_df[pescados_df['category'].str.contains('|'.join(string_quitar))]\n",
    "pescados_df_1 = pescados_df.drop(pescados_df_filtro1.index, axis=0)\n",
    "\n"
   ]
  },
  {
   "cell_type": "code",
   "execution_count": null,
   "metadata": {},
   "outputs": [],
   "source": [
    "\n",
    "pescados_df_filtro2 = pescados_df_1[pescados_df_1['name'].str.contains('|'.join(['ecológico','sal','noruego']))]\n",
    "pescados_df_1 = pescados_df_1.drop(pescados_df_filtro2.index, axis=0)"
   ]
  },
  {
   "cell_type": "code",
   "execution_count": null,
   "metadata": {},
   "outputs": [],
   "source": [
    "#al calcular las medias, me salen muy dispares... asique indago más en los datos\n",
    "ab=pescados_df_1[pescados_df_1['supermarket']=='dia.es']\n"
   ]
  },
  {
   "cell_type": "code",
   "execution_count": null,
   "metadata": {},
   "outputs": [
    {
     "data": {
      "text/plain": [
       "array([ 8.7  , 42.   ,  8.5  , 22.3  ,  9.95 , 13.167, 16.283, 15.95 ,\n",
       "       11.9  , 23.95 , 12.834,  7.217,  7.   , 11.   ,  4.566, 12.375,\n",
       "       10.95 , 17.667, 20.95 , 16.5  , 14.364, 11.95 ,  7.75 ,  7.95 ,\n",
       "       11.25 ,  7.069, 20.45 , 10.53 , 15.5  ,  5.95 , 22.1  , 12.1  ,\n",
       "        3.934,  3.95 , 12.5  ])"
      ]
     },
     "metadata": {},
     "output_type": "display_data"
    }
   ],
   "source": [
    "#al calcular las medias, me salen muy dispares... asique indago más en los datos\n",
    "a=pescados_df_1[pescados_df_1['supermarket']=='mercadona.es']\n",
    "a.reference_price.unique()\n"
   ]
  },
  {
   "cell_type": "markdown",
   "metadata": {},
   "source": [
    "<h2> Mis data sets limpios"
   ]
  },
  {
   "cell_type": "code",
   "execution_count": null,
   "metadata": {},
   "outputs": [],
   "source": [
    "#mis variables finales\n",
    "aceites_df.to_csv('Aceites_23')\n",
    "carnes_df_2.to_csv('Carnes_23')\n",
    "frutas_df.to_csv('Frutas_23')\n",
    "pescados_df_1.to_csv('Pescados_23')"
   ]
  },
  {
   "cell_type": "code",
   "execution_count": null,
   "metadata": {},
   "outputs": [],
   "source": []
  },
  {
   "cell_type": "markdown",
   "metadata": {},
   "source": [
    "<h1> Gráficas"
   ]
  },
  {
   "cell_type": "markdown",
   "metadata": {},
   "source": [
    "<h1> Grafica cuota de mercado"
   ]
  },
  {
   "cell_type": "code",
   "execution_count": null,
   "metadata": {},
   "outputs": [
    {
     "data": {
      "application/vnd.plotly.v1+json": {
       "config": {
        "plotlyServerURL": "https://plot.ly"
       },
       "data": [
        {
         "hole": 0.5,
         "labels": [
          "Mercadona",
          "Carrefour",
          "Día",
          "Lidl",
          "Eroski",
          "Consum",
          "Alcampo",
          "Otros"
         ],
         "marker": {
          "colors": [
           "#28B463",
           "#3399FF",
           "#FF5733",
           "#CCCCCC",
           "#CCCCCC",
           "#CCCCCC",
           "#CCCCCC",
           "#CCCCCC"
          ],
          "line": {
           "color": "white",
           "width": 3
          }
         },
         "type": "pie",
         "values": [
          27,
          10,
          4,
          6,
          4,
          3,
          3,
          43
         ]
        }
       ],
       "layout": {
        "annotations": [
         {
          "font": {
           "size": 20
          },
          "showarrow": false,
          "text": "Total 41%",
          "x": 0.2,
          "y": 0.6
         }
        ],
        "showlegend": true,
        "template": {
         "data": {
          "bar": [
           {
            "error_x": {
             "color": "#2a3f5f"
            },
            "error_y": {
             "color": "#2a3f5f"
            },
            "marker": {
             "line": {
              "color": "#E5ECF6",
              "width": 0.5
             },
             "pattern": {
              "fillmode": "overlay",
              "size": 10,
              "solidity": 0.2
             }
            },
            "type": "bar"
           }
          ],
          "barpolar": [
           {
            "marker": {
             "line": {
              "color": "#E5ECF6",
              "width": 0.5
             },
             "pattern": {
              "fillmode": "overlay",
              "size": 10,
              "solidity": 0.2
             }
            },
            "type": "barpolar"
           }
          ],
          "carpet": [
           {
            "aaxis": {
             "endlinecolor": "#2a3f5f",
             "gridcolor": "white",
             "linecolor": "white",
             "minorgridcolor": "white",
             "startlinecolor": "#2a3f5f"
            },
            "baxis": {
             "endlinecolor": "#2a3f5f",
             "gridcolor": "white",
             "linecolor": "white",
             "minorgridcolor": "white",
             "startlinecolor": "#2a3f5f"
            },
            "type": "carpet"
           }
          ],
          "choropleth": [
           {
            "colorbar": {
             "outlinewidth": 0,
             "ticks": ""
            },
            "type": "choropleth"
           }
          ],
          "contour": [
           {
            "colorbar": {
             "outlinewidth": 0,
             "ticks": ""
            },
            "colorscale": [
             [
              0,
              "#0d0887"
             ],
             [
              0.1111111111111111,
              "#46039f"
             ],
             [
              0.2222222222222222,
              "#7201a8"
             ],
             [
              0.3333333333333333,
              "#9c179e"
             ],
             [
              0.4444444444444444,
              "#bd3786"
             ],
             [
              0.5555555555555556,
              "#d8576b"
             ],
             [
              0.6666666666666666,
              "#ed7953"
             ],
             [
              0.7777777777777778,
              "#fb9f3a"
             ],
             [
              0.8888888888888888,
              "#fdca26"
             ],
             [
              1,
              "#f0f921"
             ]
            ],
            "type": "contour"
           }
          ],
          "contourcarpet": [
           {
            "colorbar": {
             "outlinewidth": 0,
             "ticks": ""
            },
            "type": "contourcarpet"
           }
          ],
          "heatmap": [
           {
            "colorbar": {
             "outlinewidth": 0,
             "ticks": ""
            },
            "colorscale": [
             [
              0,
              "#0d0887"
             ],
             [
              0.1111111111111111,
              "#46039f"
             ],
             [
              0.2222222222222222,
              "#7201a8"
             ],
             [
              0.3333333333333333,
              "#9c179e"
             ],
             [
              0.4444444444444444,
              "#bd3786"
             ],
             [
              0.5555555555555556,
              "#d8576b"
             ],
             [
              0.6666666666666666,
              "#ed7953"
             ],
             [
              0.7777777777777778,
              "#fb9f3a"
             ],
             [
              0.8888888888888888,
              "#fdca26"
             ],
             [
              1,
              "#f0f921"
             ]
            ],
            "type": "heatmap"
           }
          ],
          "heatmapgl": [
           {
            "colorbar": {
             "outlinewidth": 0,
             "ticks": ""
            },
            "colorscale": [
             [
              0,
              "#0d0887"
             ],
             [
              0.1111111111111111,
              "#46039f"
             ],
             [
              0.2222222222222222,
              "#7201a8"
             ],
             [
              0.3333333333333333,
              "#9c179e"
             ],
             [
              0.4444444444444444,
              "#bd3786"
             ],
             [
              0.5555555555555556,
              "#d8576b"
             ],
             [
              0.6666666666666666,
              "#ed7953"
             ],
             [
              0.7777777777777778,
              "#fb9f3a"
             ],
             [
              0.8888888888888888,
              "#fdca26"
             ],
             [
              1,
              "#f0f921"
             ]
            ],
            "type": "heatmapgl"
           }
          ],
          "histogram": [
           {
            "marker": {
             "pattern": {
              "fillmode": "overlay",
              "size": 10,
              "solidity": 0.2
             }
            },
            "type": "histogram"
           }
          ],
          "histogram2d": [
           {
            "colorbar": {
             "outlinewidth": 0,
             "ticks": ""
            },
            "colorscale": [
             [
              0,
              "#0d0887"
             ],
             [
              0.1111111111111111,
              "#46039f"
             ],
             [
              0.2222222222222222,
              "#7201a8"
             ],
             [
              0.3333333333333333,
              "#9c179e"
             ],
             [
              0.4444444444444444,
              "#bd3786"
             ],
             [
              0.5555555555555556,
              "#d8576b"
             ],
             [
              0.6666666666666666,
              "#ed7953"
             ],
             [
              0.7777777777777778,
              "#fb9f3a"
             ],
             [
              0.8888888888888888,
              "#fdca26"
             ],
             [
              1,
              "#f0f921"
             ]
            ],
            "type": "histogram2d"
           }
          ],
          "histogram2dcontour": [
           {
            "colorbar": {
             "outlinewidth": 0,
             "ticks": ""
            },
            "colorscale": [
             [
              0,
              "#0d0887"
             ],
             [
              0.1111111111111111,
              "#46039f"
             ],
             [
              0.2222222222222222,
              "#7201a8"
             ],
             [
              0.3333333333333333,
              "#9c179e"
             ],
             [
              0.4444444444444444,
              "#bd3786"
             ],
             [
              0.5555555555555556,
              "#d8576b"
             ],
             [
              0.6666666666666666,
              "#ed7953"
             ],
             [
              0.7777777777777778,
              "#fb9f3a"
             ],
             [
              0.8888888888888888,
              "#fdca26"
             ],
             [
              1,
              "#f0f921"
             ]
            ],
            "type": "histogram2dcontour"
           }
          ],
          "mesh3d": [
           {
            "colorbar": {
             "outlinewidth": 0,
             "ticks": ""
            },
            "type": "mesh3d"
           }
          ],
          "parcoords": [
           {
            "line": {
             "colorbar": {
              "outlinewidth": 0,
              "ticks": ""
             }
            },
            "type": "parcoords"
           }
          ],
          "pie": [
           {
            "automargin": true,
            "type": "pie"
           }
          ],
          "scatter": [
           {
            "fillpattern": {
             "fillmode": "overlay",
             "size": 10,
             "solidity": 0.2
            },
            "type": "scatter"
           }
          ],
          "scatter3d": [
           {
            "line": {
             "colorbar": {
              "outlinewidth": 0,
              "ticks": ""
             }
            },
            "marker": {
             "colorbar": {
              "outlinewidth": 0,
              "ticks": ""
             }
            },
            "type": "scatter3d"
           }
          ],
          "scattercarpet": [
           {
            "marker": {
             "colorbar": {
              "outlinewidth": 0,
              "ticks": ""
             }
            },
            "type": "scattercarpet"
           }
          ],
          "scattergeo": [
           {
            "marker": {
             "colorbar": {
              "outlinewidth": 0,
              "ticks": ""
             }
            },
            "type": "scattergeo"
           }
          ],
          "scattergl": [
           {
            "marker": {
             "colorbar": {
              "outlinewidth": 0,
              "ticks": ""
             }
            },
            "type": "scattergl"
           }
          ],
          "scattermapbox": [
           {
            "marker": {
             "colorbar": {
              "outlinewidth": 0,
              "ticks": ""
             }
            },
            "type": "scattermapbox"
           }
          ],
          "scatterpolar": [
           {
            "marker": {
             "colorbar": {
              "outlinewidth": 0,
              "ticks": ""
             }
            },
            "type": "scatterpolar"
           }
          ],
          "scatterpolargl": [
           {
            "marker": {
             "colorbar": {
              "outlinewidth": 0,
              "ticks": ""
             }
            },
            "type": "scatterpolargl"
           }
          ],
          "scatterternary": [
           {
            "marker": {
             "colorbar": {
              "outlinewidth": 0,
              "ticks": ""
             }
            },
            "type": "scatterternary"
           }
          ],
          "surface": [
           {
            "colorbar": {
             "outlinewidth": 0,
             "ticks": ""
            },
            "colorscale": [
             [
              0,
              "#0d0887"
             ],
             [
              0.1111111111111111,
              "#46039f"
             ],
             [
              0.2222222222222222,
              "#7201a8"
             ],
             [
              0.3333333333333333,
              "#9c179e"
             ],
             [
              0.4444444444444444,
              "#bd3786"
             ],
             [
              0.5555555555555556,
              "#d8576b"
             ],
             [
              0.6666666666666666,
              "#ed7953"
             ],
             [
              0.7777777777777778,
              "#fb9f3a"
             ],
             [
              0.8888888888888888,
              "#fdca26"
             ],
             [
              1,
              "#f0f921"
             ]
            ],
            "type": "surface"
           }
          ],
          "table": [
           {
            "cells": {
             "fill": {
              "color": "#EBF0F8"
             },
             "line": {
              "color": "white"
             }
            },
            "header": {
             "fill": {
              "color": "#C8D4E3"
             },
             "line": {
              "color": "white"
             }
            },
            "type": "table"
           }
          ]
         },
         "layout": {
          "annotationdefaults": {
           "arrowcolor": "#2a3f5f",
           "arrowhead": 0,
           "arrowwidth": 1
          },
          "autotypenumbers": "strict",
          "coloraxis": {
           "colorbar": {
            "outlinewidth": 0,
            "ticks": ""
           }
          },
          "colorscale": {
           "diverging": [
            [
             0,
             "#8e0152"
            ],
            [
             0.1,
             "#c51b7d"
            ],
            [
             0.2,
             "#de77ae"
            ],
            [
             0.3,
             "#f1b6da"
            ],
            [
             0.4,
             "#fde0ef"
            ],
            [
             0.5,
             "#f7f7f7"
            ],
            [
             0.6,
             "#e6f5d0"
            ],
            [
             0.7,
             "#b8e186"
            ],
            [
             0.8,
             "#7fbc41"
            ],
            [
             0.9,
             "#4d9221"
            ],
            [
             1,
             "#276419"
            ]
           ],
           "sequential": [
            [
             0,
             "#0d0887"
            ],
            [
             0.1111111111111111,
             "#46039f"
            ],
            [
             0.2222222222222222,
             "#7201a8"
            ],
            [
             0.3333333333333333,
             "#9c179e"
            ],
            [
             0.4444444444444444,
             "#bd3786"
            ],
            [
             0.5555555555555556,
             "#d8576b"
            ],
            [
             0.6666666666666666,
             "#ed7953"
            ],
            [
             0.7777777777777778,
             "#fb9f3a"
            ],
            [
             0.8888888888888888,
             "#fdca26"
            ],
            [
             1,
             "#f0f921"
            ]
           ],
           "sequentialminus": [
            [
             0,
             "#0d0887"
            ],
            [
             0.1111111111111111,
             "#46039f"
            ],
            [
             0.2222222222222222,
             "#7201a8"
            ],
            [
             0.3333333333333333,
             "#9c179e"
            ],
            [
             0.4444444444444444,
             "#bd3786"
            ],
            [
             0.5555555555555556,
             "#d8576b"
            ],
            [
             0.6666666666666666,
             "#ed7953"
            ],
            [
             0.7777777777777778,
             "#fb9f3a"
            ],
            [
             0.8888888888888888,
             "#fdca26"
            ],
            [
             1,
             "#f0f921"
            ]
           ]
          },
          "colorway": [
           "#636efa",
           "#EF553B",
           "#00cc96",
           "#ab63fa",
           "#FFA15A",
           "#19d3f3",
           "#FF6692",
           "#B6E880",
           "#FF97FF",
           "#FECB52"
          ],
          "font": {
           "color": "#2a3f5f"
          },
          "geo": {
           "bgcolor": "white",
           "lakecolor": "white",
           "landcolor": "#E5ECF6",
           "showlakes": true,
           "showland": true,
           "subunitcolor": "white"
          },
          "hoverlabel": {
           "align": "left"
          },
          "hovermode": "closest",
          "mapbox": {
           "style": "light"
          },
          "paper_bgcolor": "white",
          "plot_bgcolor": "#E5ECF6",
          "polar": {
           "angularaxis": {
            "gridcolor": "white",
            "linecolor": "white",
            "ticks": ""
           },
           "bgcolor": "#E5ECF6",
           "radialaxis": {
            "gridcolor": "white",
            "linecolor": "white",
            "ticks": ""
           }
          },
          "scene": {
           "xaxis": {
            "backgroundcolor": "#E5ECF6",
            "gridcolor": "white",
            "gridwidth": 2,
            "linecolor": "white",
            "showbackground": true,
            "ticks": "",
            "zerolinecolor": "white"
           },
           "yaxis": {
            "backgroundcolor": "#E5ECF6",
            "gridcolor": "white",
            "gridwidth": 2,
            "linecolor": "white",
            "showbackground": true,
            "ticks": "",
            "zerolinecolor": "white"
           },
           "zaxis": {
            "backgroundcolor": "#E5ECF6",
            "gridcolor": "white",
            "gridwidth": 2,
            "linecolor": "white",
            "showbackground": true,
            "ticks": "",
            "zerolinecolor": "white"
           }
          },
          "shapedefaults": {
           "line": {
            "color": "#2a3f5f"
           }
          },
          "ternary": {
           "aaxis": {
            "gridcolor": "white",
            "linecolor": "white",
            "ticks": ""
           },
           "baxis": {
            "gridcolor": "white",
            "linecolor": "white",
            "ticks": ""
           },
           "bgcolor": "#E5ECF6",
           "caxis": {
            "gridcolor": "white",
            "linecolor": "white",
            "ticks": ""
           }
          },
          "title": {
           "x": 0.05
          },
          "xaxis": {
           "automargin": true,
           "gridcolor": "white",
           "linecolor": "white",
           "ticks": "",
           "title": {
            "standoff": 15
           },
           "zerolinecolor": "white",
           "zerolinewidth": 2
          },
          "yaxis": {
           "automargin": true,
           "gridcolor": "white",
           "linecolor": "white",
           "ticks": "",
           "title": {
            "standoff": 15
           },
           "zerolinecolor": "white",
           "zerolinewidth": 2
          }
         }
        },
        "title": {
         "text": "Fancy Donut Chart"
        }
       }
      }
     },
     "metadata": {},
     "output_type": "display_data"
    }
   ],
   "source": [
    "\n",
    "labels = ['Mercadona', 'Carrefour', 'Día','Lidl','Eroski','Consum','Alcampo','Otros']\n",
    "values = [27,10,4,6,4,3,3,43]\n",
    "\n",
    "# Custom colors for the chart\n",
    "colors = ['#28B463','#3399FF','#FF5733','#CCCCCC','#CCCCCC','#CCCCCC','#CCCCCC', '#CCCCCC']\n",
    "\n",
    "\n",
    "# Create a donut chart\n",
    "fig = go.Figure(data=[go.Pie(\n",
    "    labels=labels, \n",
    "    values=values, \n",
    "    hole=0.5,\n",
    "    marker=dict(colors=colors, line=dict(color='white', width=3))\n",
    ")])\n",
    "\n",
    "\n",
    "# Custom layout\n",
    "fig.update_layout(\n",
    "    title='Fancy Donut Chart',\n",
    "    showlegend=True,\n",
    "    annotations=[dict(text='Total 41%', x=0.2, y=0.6, font_size=20, showarrow=False)],\n",
    ")\n",
    "\n",
    "# Display the chart\n",
    "fig.show()"
   ]
  },
  {
   "cell_type": "code",
   "execution_count": null,
   "metadata": {},
   "outputs": [],
   "source": [
    "# más pruebas cuota de mercado\n",
    "\n",
    "trace1 = go.Bar(x = ['Mercadona', 'Carrefour', 'Día'],\n",
    "               y = [27,10,4] ,\n",
    "               name = 'Porcentaje',\n",
    "               orientation = 'v',\n",
    "               text = ['27 %','10 %','4 %'],\n",
    "               textposition= 'outside',\n",
    "               marker = dict(color = 'rgba(30,144,255, 0.5)',\n",
    "                line = dict(color='rgb(0,0,0)', width = 1.5)))\n",
    "\n",
    "data = [trace1]\n",
    "\n",
    "layout = go.Layout(barmode = \"group\", title='Cuota mercado', yaxis_title=\"Porcentaje\")\n",
    "\n",
    "fig = go.Figure(data = data, layout = layout)\n",
    "\n",
    "#display(fig)"
   ]
  },
  {
   "cell_type": "code",
   "execution_count": null,
   "metadata": {},
   "outputs": [],
   "source": [
    "aceites = pd.read_csv(r'C:\\Users\\lour2\\Desktop\\EDA_Lourdes_Gomez\\código\\Notebooks\\Aceites_23')"
   ]
  },
  {
   "cell_type": "code",
   "execution_count": null,
   "metadata": {},
   "outputs": [],
   "source": [
    "carnes = pd.read_csv(r'C:\\Users\\lour2\\Desktop\\EDA_Lourdes_Gomez\\código\\Notebooks\\Carnes_23')"
   ]
  },
  {
   "cell_type": "code",
   "execution_count": null,
   "metadata": {},
   "outputs": [],
   "source": [
    "frutas = pd.read_csv(r'C:\\Users\\lour2\\Desktop\\EDA_Lourdes_Gomez\\código\\Notebooks\\Frutas_23')"
   ]
  },
  {
   "cell_type": "code",
   "execution_count": null,
   "metadata": {},
   "outputs": [],
   "source": [
    "pescados = pd.read_csv(r'C:\\Users\\lour2\\Desktop\\EDA_Lourdes_Gomez\\código\\Notebooks\\Pescados_23')"
   ]
  },
  {
   "cell_type": "code",
   "execution_count": null,
   "metadata": {},
   "outputs": [],
   "source": [
    "pd.options.display.max_rows = 20"
   ]
  },
  {
   "cell_type": "markdown",
   "metadata": {},
   "source": [
    "<h1> Aceite"
   ]
  },
  {
   "cell_type": "code",
   "execution_count": null,
   "metadata": {},
   "outputs": [
    {
     "data": {
      "text/plain": [
       "supermarket\n",
       "dia.es          9.591481\n",
       "carrefour.es    8.692778\n",
       "mercadona.es    6.647200\n",
       "Name: reference_price, dtype: float64"
      ]
     },
     "metadata": {},
     "output_type": "display_data"
    }
   ],
   "source": [
    "ace = aceites.groupby('supermarket')['reference_price'].mean().sort_values(ascending=False)\n",
    "ace"
   ]
  },
  {
   "cell_type": "code",
   "execution_count": null,
   "metadata": {},
   "outputs": [
    {
     "data": {
      "application/vnd.plotly.v1+json": {
       "config": {
        "plotlyServerURL": "https://plot.ly"
       },
       "data": [
        {
         "marker": {
          "color": "rgba(30,144,255, 0.5)",
          "line": {
           "color": "rgb(0,0,0)",
           "width": 1.5
          }
         },
         "name": "Precio aceite",
         "orientation": "h",
         "type": "bar",
         "x": [
          9.6,
          8.7,
          8.2
         ],
         "y": [
          "dia.es",
          "carrefour.es",
          "mercadona.es"
         ]
        }
       ],
       "layout": {
        "barmode": "group",
        "template": {
         "data": {
          "bar": [
           {
            "error_x": {
             "color": "#2a3f5f"
            },
            "error_y": {
             "color": "#2a3f5f"
            },
            "marker": {
             "line": {
              "color": "#E5ECF6",
              "width": 0.5
             },
             "pattern": {
              "fillmode": "overlay",
              "size": 10,
              "solidity": 0.2
             }
            },
            "type": "bar"
           }
          ],
          "barpolar": [
           {
            "marker": {
             "line": {
              "color": "#E5ECF6",
              "width": 0.5
             },
             "pattern": {
              "fillmode": "overlay",
              "size": 10,
              "solidity": 0.2
             }
            },
            "type": "barpolar"
           }
          ],
          "carpet": [
           {
            "aaxis": {
             "endlinecolor": "#2a3f5f",
             "gridcolor": "white",
             "linecolor": "white",
             "minorgridcolor": "white",
             "startlinecolor": "#2a3f5f"
            },
            "baxis": {
             "endlinecolor": "#2a3f5f",
             "gridcolor": "white",
             "linecolor": "white",
             "minorgridcolor": "white",
             "startlinecolor": "#2a3f5f"
            },
            "type": "carpet"
           }
          ],
          "choropleth": [
           {
            "colorbar": {
             "outlinewidth": 0,
             "ticks": ""
            },
            "type": "choropleth"
           }
          ],
          "contour": [
           {
            "colorbar": {
             "outlinewidth": 0,
             "ticks": ""
            },
            "colorscale": [
             [
              0,
              "#0d0887"
             ],
             [
              0.1111111111111111,
              "#46039f"
             ],
             [
              0.2222222222222222,
              "#7201a8"
             ],
             [
              0.3333333333333333,
              "#9c179e"
             ],
             [
              0.4444444444444444,
              "#bd3786"
             ],
             [
              0.5555555555555556,
              "#d8576b"
             ],
             [
              0.6666666666666666,
              "#ed7953"
             ],
             [
              0.7777777777777778,
              "#fb9f3a"
             ],
             [
              0.8888888888888888,
              "#fdca26"
             ],
             [
              1,
              "#f0f921"
             ]
            ],
            "type": "contour"
           }
          ],
          "contourcarpet": [
           {
            "colorbar": {
             "outlinewidth": 0,
             "ticks": ""
            },
            "type": "contourcarpet"
           }
          ],
          "heatmap": [
           {
            "colorbar": {
             "outlinewidth": 0,
             "ticks": ""
            },
            "colorscale": [
             [
              0,
              "#0d0887"
             ],
             [
              0.1111111111111111,
              "#46039f"
             ],
             [
              0.2222222222222222,
              "#7201a8"
             ],
             [
              0.3333333333333333,
              "#9c179e"
             ],
             [
              0.4444444444444444,
              "#bd3786"
             ],
             [
              0.5555555555555556,
              "#d8576b"
             ],
             [
              0.6666666666666666,
              "#ed7953"
             ],
             [
              0.7777777777777778,
              "#fb9f3a"
             ],
             [
              0.8888888888888888,
              "#fdca26"
             ],
             [
              1,
              "#f0f921"
             ]
            ],
            "type": "heatmap"
           }
          ],
          "heatmapgl": [
           {
            "colorbar": {
             "outlinewidth": 0,
             "ticks": ""
            },
            "colorscale": [
             [
              0,
              "#0d0887"
             ],
             [
              0.1111111111111111,
              "#46039f"
             ],
             [
              0.2222222222222222,
              "#7201a8"
             ],
             [
              0.3333333333333333,
              "#9c179e"
             ],
             [
              0.4444444444444444,
              "#bd3786"
             ],
             [
              0.5555555555555556,
              "#d8576b"
             ],
             [
              0.6666666666666666,
              "#ed7953"
             ],
             [
              0.7777777777777778,
              "#fb9f3a"
             ],
             [
              0.8888888888888888,
              "#fdca26"
             ],
             [
              1,
              "#f0f921"
             ]
            ],
            "type": "heatmapgl"
           }
          ],
          "histogram": [
           {
            "marker": {
             "pattern": {
              "fillmode": "overlay",
              "size": 10,
              "solidity": 0.2
             }
            },
            "type": "histogram"
           }
          ],
          "histogram2d": [
           {
            "colorbar": {
             "outlinewidth": 0,
             "ticks": ""
            },
            "colorscale": [
             [
              0,
              "#0d0887"
             ],
             [
              0.1111111111111111,
              "#46039f"
             ],
             [
              0.2222222222222222,
              "#7201a8"
             ],
             [
              0.3333333333333333,
              "#9c179e"
             ],
             [
              0.4444444444444444,
              "#bd3786"
             ],
             [
              0.5555555555555556,
              "#d8576b"
             ],
             [
              0.6666666666666666,
              "#ed7953"
             ],
             [
              0.7777777777777778,
              "#fb9f3a"
             ],
             [
              0.8888888888888888,
              "#fdca26"
             ],
             [
              1,
              "#f0f921"
             ]
            ],
            "type": "histogram2d"
           }
          ],
          "histogram2dcontour": [
           {
            "colorbar": {
             "outlinewidth": 0,
             "ticks": ""
            },
            "colorscale": [
             [
              0,
              "#0d0887"
             ],
             [
              0.1111111111111111,
              "#46039f"
             ],
             [
              0.2222222222222222,
              "#7201a8"
             ],
             [
              0.3333333333333333,
              "#9c179e"
             ],
             [
              0.4444444444444444,
              "#bd3786"
             ],
             [
              0.5555555555555556,
              "#d8576b"
             ],
             [
              0.6666666666666666,
              "#ed7953"
             ],
             [
              0.7777777777777778,
              "#fb9f3a"
             ],
             [
              0.8888888888888888,
              "#fdca26"
             ],
             [
              1,
              "#f0f921"
             ]
            ],
            "type": "histogram2dcontour"
           }
          ],
          "mesh3d": [
           {
            "colorbar": {
             "outlinewidth": 0,
             "ticks": ""
            },
            "type": "mesh3d"
           }
          ],
          "parcoords": [
           {
            "line": {
             "colorbar": {
              "outlinewidth": 0,
              "ticks": ""
             }
            },
            "type": "parcoords"
           }
          ],
          "pie": [
           {
            "automargin": true,
            "type": "pie"
           }
          ],
          "scatter": [
           {
            "fillpattern": {
             "fillmode": "overlay",
             "size": 10,
             "solidity": 0.2
            },
            "type": "scatter"
           }
          ],
          "scatter3d": [
           {
            "line": {
             "colorbar": {
              "outlinewidth": 0,
              "ticks": ""
             }
            },
            "marker": {
             "colorbar": {
              "outlinewidth": 0,
              "ticks": ""
             }
            },
            "type": "scatter3d"
           }
          ],
          "scattercarpet": [
           {
            "marker": {
             "colorbar": {
              "outlinewidth": 0,
              "ticks": ""
             }
            },
            "type": "scattercarpet"
           }
          ],
          "scattergeo": [
           {
            "marker": {
             "colorbar": {
              "outlinewidth": 0,
              "ticks": ""
             }
            },
            "type": "scattergeo"
           }
          ],
          "scattergl": [
           {
            "marker": {
             "colorbar": {
              "outlinewidth": 0,
              "ticks": ""
             }
            },
            "type": "scattergl"
           }
          ],
          "scattermapbox": [
           {
            "marker": {
             "colorbar": {
              "outlinewidth": 0,
              "ticks": ""
             }
            },
            "type": "scattermapbox"
           }
          ],
          "scatterpolar": [
           {
            "marker": {
             "colorbar": {
              "outlinewidth": 0,
              "ticks": ""
             }
            },
            "type": "scatterpolar"
           }
          ],
          "scatterpolargl": [
           {
            "marker": {
             "colorbar": {
              "outlinewidth": 0,
              "ticks": ""
             }
            },
            "type": "scatterpolargl"
           }
          ],
          "scatterternary": [
           {
            "marker": {
             "colorbar": {
              "outlinewidth": 0,
              "ticks": ""
             }
            },
            "type": "scatterternary"
           }
          ],
          "surface": [
           {
            "colorbar": {
             "outlinewidth": 0,
             "ticks": ""
            },
            "colorscale": [
             [
              0,
              "#0d0887"
             ],
             [
              0.1111111111111111,
              "#46039f"
             ],
             [
              0.2222222222222222,
              "#7201a8"
             ],
             [
              0.3333333333333333,
              "#9c179e"
             ],
             [
              0.4444444444444444,
              "#bd3786"
             ],
             [
              0.5555555555555556,
              "#d8576b"
             ],
             [
              0.6666666666666666,
              "#ed7953"
             ],
             [
              0.7777777777777778,
              "#fb9f3a"
             ],
             [
              0.8888888888888888,
              "#fdca26"
             ],
             [
              1,
              "#f0f921"
             ]
            ],
            "type": "surface"
           }
          ],
          "table": [
           {
            "cells": {
             "fill": {
              "color": "#EBF0F8"
             },
             "line": {
              "color": "white"
             }
            },
            "header": {
             "fill": {
              "color": "#C8D4E3"
             },
             "line": {
              "color": "white"
             }
            },
            "type": "table"
           }
          ]
         },
         "layout": {
          "annotationdefaults": {
           "arrowcolor": "#2a3f5f",
           "arrowhead": 0,
           "arrowwidth": 1
          },
          "autotypenumbers": "strict",
          "coloraxis": {
           "colorbar": {
            "outlinewidth": 0,
            "ticks": ""
           }
          },
          "colorscale": {
           "diverging": [
            [
             0,
             "#8e0152"
            ],
            [
             0.1,
             "#c51b7d"
            ],
            [
             0.2,
             "#de77ae"
            ],
            [
             0.3,
             "#f1b6da"
            ],
            [
             0.4,
             "#fde0ef"
            ],
            [
             0.5,
             "#f7f7f7"
            ],
            [
             0.6,
             "#e6f5d0"
            ],
            [
             0.7,
             "#b8e186"
            ],
            [
             0.8,
             "#7fbc41"
            ],
            [
             0.9,
             "#4d9221"
            ],
            [
             1,
             "#276419"
            ]
           ],
           "sequential": [
            [
             0,
             "#0d0887"
            ],
            [
             0.1111111111111111,
             "#46039f"
            ],
            [
             0.2222222222222222,
             "#7201a8"
            ],
            [
             0.3333333333333333,
             "#9c179e"
            ],
            [
             0.4444444444444444,
             "#bd3786"
            ],
            [
             0.5555555555555556,
             "#d8576b"
            ],
            [
             0.6666666666666666,
             "#ed7953"
            ],
            [
             0.7777777777777778,
             "#fb9f3a"
            ],
            [
             0.8888888888888888,
             "#fdca26"
            ],
            [
             1,
             "#f0f921"
            ]
           ],
           "sequentialminus": [
            [
             0,
             "#0d0887"
            ],
            [
             0.1111111111111111,
             "#46039f"
            ],
            [
             0.2222222222222222,
             "#7201a8"
            ],
            [
             0.3333333333333333,
             "#9c179e"
            ],
            [
             0.4444444444444444,
             "#bd3786"
            ],
            [
             0.5555555555555556,
             "#d8576b"
            ],
            [
             0.6666666666666666,
             "#ed7953"
            ],
            [
             0.7777777777777778,
             "#fb9f3a"
            ],
            [
             0.8888888888888888,
             "#fdca26"
            ],
            [
             1,
             "#f0f921"
            ]
           ]
          },
          "colorway": [
           "#636efa",
           "#EF553B",
           "#00cc96",
           "#ab63fa",
           "#FFA15A",
           "#19d3f3",
           "#FF6692",
           "#B6E880",
           "#FF97FF",
           "#FECB52"
          ],
          "font": {
           "color": "#2a3f5f"
          },
          "geo": {
           "bgcolor": "white",
           "lakecolor": "white",
           "landcolor": "#E5ECF6",
           "showlakes": true,
           "showland": true,
           "subunitcolor": "white"
          },
          "hoverlabel": {
           "align": "left"
          },
          "hovermode": "closest",
          "mapbox": {
           "style": "light"
          },
          "paper_bgcolor": "white",
          "plot_bgcolor": "#E5ECF6",
          "polar": {
           "angularaxis": {
            "gridcolor": "white",
            "linecolor": "white",
            "ticks": ""
           },
           "bgcolor": "#E5ECF6",
           "radialaxis": {
            "gridcolor": "white",
            "linecolor": "white",
            "ticks": ""
           }
          },
          "scene": {
           "xaxis": {
            "backgroundcolor": "#E5ECF6",
            "gridcolor": "white",
            "gridwidth": 2,
            "linecolor": "white",
            "showbackground": true,
            "ticks": "",
            "zerolinecolor": "white"
           },
           "yaxis": {
            "backgroundcolor": "#E5ECF6",
            "gridcolor": "white",
            "gridwidth": 2,
            "linecolor": "white",
            "showbackground": true,
            "ticks": "",
            "zerolinecolor": "white"
           },
           "zaxis": {
            "backgroundcolor": "#E5ECF6",
            "gridcolor": "white",
            "gridwidth": 2,
            "linecolor": "white",
            "showbackground": true,
            "ticks": "",
            "zerolinecolor": "white"
           }
          },
          "shapedefaults": {
           "line": {
            "color": "#2a3f5f"
           }
          },
          "ternary": {
           "aaxis": {
            "gridcolor": "white",
            "linecolor": "white",
            "ticks": ""
           },
           "baxis": {
            "gridcolor": "white",
            "linecolor": "white",
            "ticks": ""
           },
           "bgcolor": "#E5ECF6",
           "caxis": {
            "gridcolor": "white",
            "linecolor": "white",
            "ticks": ""
           }
          },
          "title": {
           "x": 0.05
          },
          "xaxis": {
           "automargin": true,
           "gridcolor": "white",
           "linecolor": "white",
           "ticks": "",
           "title": {
            "standoff": 15
           },
           "zerolinecolor": "white",
           "zerolinewidth": 2
          },
          "yaxis": {
           "automargin": true,
           "gridcolor": "white",
           "linecolor": "white",
           "ticks": "",
           "title": {
            "standoff": 15
           },
           "zerolinecolor": "white",
           "zerolinewidth": 2
          }
         }
        },
        "title": {
         "text": "Precio aceite"
        },
        "xaxis": {
         "tickfont": {
          "size": 22
         },
         "title": {
          "text": "Precio medio por kg"
         }
        }
       }
      }
     },
     "metadata": {},
     "output_type": "display_data"
    }
   ],
   "source": [
    "trace1 = go.Bar(x = [9.6,8.7,8.2],\n",
    "               y =ace.index ,\n",
    "               name = 'Precio aceite',\n",
    "               orientation = 'h',\n",
    "               marker = dict(color = 'rgba(30,144,255, 0.5)',\n",
    "                line = dict(color='rgb(0,0,0)', width = 1.5)))\n",
    "\n",
    "data = [trace1]\n",
    "\n",
    "layout = go.Layout(barmode = \"group\", title='Precio aceite', xaxis_title=\"Precio medio por kg\",xaxis=dict(tickfont=dict(size=22)))\n",
    "\n",
    "fig = go.Figure(data = data, layout = layout)\n",
    "\n",
    "display(fig)"
   ]
  },
  {
   "cell_type": "code",
   "execution_count": null,
   "metadata": {},
   "outputs": [],
   "source": [
    "#carbonell = aceites[aceites['supermarket'].str.contains('mercadona.es')]\n",
    "#carbonell[carbonell['supermarket'] == 'mercadona-es' ]\n",
    "#carbonell.name.unique()"
   ]
  },
  {
   "cell_type": "markdown",
   "metadata": {},
   "source": [
    "<h1> Carne"
   ]
  },
  {
   "cell_type": "code",
   "execution_count": null,
   "metadata": {},
   "outputs": [],
   "source": [
    "pd.options.display.max_rows = 90"
   ]
  },
  {
   "cell_type": "code",
   "execution_count": null,
   "metadata": {},
   "outputs": [
    {
     "data": {
      "text/plain": [
       "supermarket\n",
       "carrefour.es    3.041667\n",
       "dia.es          4.918056\n",
       "mercadona.es    4.714242\n",
       "Name: price, dtype: float64"
      ]
     },
     "metadata": {},
     "output_type": "display_data"
    }
   ],
   "source": [
    "# calculo la media de la columna precios. Este dato lo descartaria y me quedaria con la media de precio por litro\n",
    "carnes.groupby('supermarket')['price'].mean()"
   ]
  },
  {
   "cell_type": "code",
   "execution_count": null,
   "metadata": {},
   "outputs": [
    {
     "data": {
      "text/plain": [
       "array(['kg', 'ud'], dtype=object)"
      ]
     },
     "metadata": {},
     "output_type": "display_data"
    }
   ],
   "source": [
    "carnes.reference_unit.unique()"
   ]
  },
  {
   "cell_type": "code",
   "execution_count": null,
   "metadata": {},
   "outputs": [],
   "source": [
    "#para calcular la media por kg me deshago de los elemeentos cuya medida no esté expresada en €/kg (por ejemplo bandejas)\n",
    "carnes_unidad = carnes[carnes['reference_unit'] == 'kg' ]\n"
   ]
  },
  {
   "cell_type": "code",
   "execution_count": null,
   "metadata": {},
   "outputs": [
    {
     "data": {
      "text/plain": [
       "supermarket\n",
       "carrefour.es    9.977273\n",
       "mercadona.es    9.406515\n",
       "dia.es          8.835000\n",
       "Name: reference_price, dtype: float64"
      ]
     },
     "metadata": {},
     "output_type": "display_data"
    }
   ],
   "source": [
    "#media de precio carne en €/kg\n",
    "car = carnes_unidad.groupby('supermarket')['reference_price'].mean().sort_values(ascending=False)\n",
    "car"
   ]
  },
  {
   "cell_type": "code",
   "execution_count": null,
   "metadata": {},
   "outputs": [
    {
     "data": {
      "application/vnd.plotly.v1+json": {
       "config": {
        "plotlyServerURL": "https://plot.ly"
       },
       "data": [
        {
         "marker": {
          "color": "rgba(30,144,255, 0.5)",
          "line": {
           "color": "rgb(0,0,0)",
           "width": 1.5
          }
         },
         "name": "Precio carne",
         "orientation": "h",
         "type": "bar",
         "x": [
          9.977272727272727,
          9.406515151515151,
          8.835
         ],
         "y": [
          "carrefour.es",
          "mercadona.es",
          "dia.es"
         ]
        }
       ],
       "layout": {
        "barmode": "group",
        "template": {
         "data": {
          "bar": [
           {
            "error_x": {
             "color": "#2a3f5f"
            },
            "error_y": {
             "color": "#2a3f5f"
            },
            "marker": {
             "line": {
              "color": "#E5ECF6",
              "width": 0.5
             },
             "pattern": {
              "fillmode": "overlay",
              "size": 10,
              "solidity": 0.2
             }
            },
            "type": "bar"
           }
          ],
          "barpolar": [
           {
            "marker": {
             "line": {
              "color": "#E5ECF6",
              "width": 0.5
             },
             "pattern": {
              "fillmode": "overlay",
              "size": 10,
              "solidity": 0.2
             }
            },
            "type": "barpolar"
           }
          ],
          "carpet": [
           {
            "aaxis": {
             "endlinecolor": "#2a3f5f",
             "gridcolor": "white",
             "linecolor": "white",
             "minorgridcolor": "white",
             "startlinecolor": "#2a3f5f"
            },
            "baxis": {
             "endlinecolor": "#2a3f5f",
             "gridcolor": "white",
             "linecolor": "white",
             "minorgridcolor": "white",
             "startlinecolor": "#2a3f5f"
            },
            "type": "carpet"
           }
          ],
          "choropleth": [
           {
            "colorbar": {
             "outlinewidth": 0,
             "ticks": ""
            },
            "type": "choropleth"
           }
          ],
          "contour": [
           {
            "colorbar": {
             "outlinewidth": 0,
             "ticks": ""
            },
            "colorscale": [
             [
              0,
              "#0d0887"
             ],
             [
              0.1111111111111111,
              "#46039f"
             ],
             [
              0.2222222222222222,
              "#7201a8"
             ],
             [
              0.3333333333333333,
              "#9c179e"
             ],
             [
              0.4444444444444444,
              "#bd3786"
             ],
             [
              0.5555555555555556,
              "#d8576b"
             ],
             [
              0.6666666666666666,
              "#ed7953"
             ],
             [
              0.7777777777777778,
              "#fb9f3a"
             ],
             [
              0.8888888888888888,
              "#fdca26"
             ],
             [
              1,
              "#f0f921"
             ]
            ],
            "type": "contour"
           }
          ],
          "contourcarpet": [
           {
            "colorbar": {
             "outlinewidth": 0,
             "ticks": ""
            },
            "type": "contourcarpet"
           }
          ],
          "heatmap": [
           {
            "colorbar": {
             "outlinewidth": 0,
             "ticks": ""
            },
            "colorscale": [
             [
              0,
              "#0d0887"
             ],
             [
              0.1111111111111111,
              "#46039f"
             ],
             [
              0.2222222222222222,
              "#7201a8"
             ],
             [
              0.3333333333333333,
              "#9c179e"
             ],
             [
              0.4444444444444444,
              "#bd3786"
             ],
             [
              0.5555555555555556,
              "#d8576b"
             ],
             [
              0.6666666666666666,
              "#ed7953"
             ],
             [
              0.7777777777777778,
              "#fb9f3a"
             ],
             [
              0.8888888888888888,
              "#fdca26"
             ],
             [
              1,
              "#f0f921"
             ]
            ],
            "type": "heatmap"
           }
          ],
          "heatmapgl": [
           {
            "colorbar": {
             "outlinewidth": 0,
             "ticks": ""
            },
            "colorscale": [
             [
              0,
              "#0d0887"
             ],
             [
              0.1111111111111111,
              "#46039f"
             ],
             [
              0.2222222222222222,
              "#7201a8"
             ],
             [
              0.3333333333333333,
              "#9c179e"
             ],
             [
              0.4444444444444444,
              "#bd3786"
             ],
             [
              0.5555555555555556,
              "#d8576b"
             ],
             [
              0.6666666666666666,
              "#ed7953"
             ],
             [
              0.7777777777777778,
              "#fb9f3a"
             ],
             [
              0.8888888888888888,
              "#fdca26"
             ],
             [
              1,
              "#f0f921"
             ]
            ],
            "type": "heatmapgl"
           }
          ],
          "histogram": [
           {
            "marker": {
             "pattern": {
              "fillmode": "overlay",
              "size": 10,
              "solidity": 0.2
             }
            },
            "type": "histogram"
           }
          ],
          "histogram2d": [
           {
            "colorbar": {
             "outlinewidth": 0,
             "ticks": ""
            },
            "colorscale": [
             [
              0,
              "#0d0887"
             ],
             [
              0.1111111111111111,
              "#46039f"
             ],
             [
              0.2222222222222222,
              "#7201a8"
             ],
             [
              0.3333333333333333,
              "#9c179e"
             ],
             [
              0.4444444444444444,
              "#bd3786"
             ],
             [
              0.5555555555555556,
              "#d8576b"
             ],
             [
              0.6666666666666666,
              "#ed7953"
             ],
             [
              0.7777777777777778,
              "#fb9f3a"
             ],
             [
              0.8888888888888888,
              "#fdca26"
             ],
             [
              1,
              "#f0f921"
             ]
            ],
            "type": "histogram2d"
           }
          ],
          "histogram2dcontour": [
           {
            "colorbar": {
             "outlinewidth": 0,
             "ticks": ""
            },
            "colorscale": [
             [
              0,
              "#0d0887"
             ],
             [
              0.1111111111111111,
              "#46039f"
             ],
             [
              0.2222222222222222,
              "#7201a8"
             ],
             [
              0.3333333333333333,
              "#9c179e"
             ],
             [
              0.4444444444444444,
              "#bd3786"
             ],
             [
              0.5555555555555556,
              "#d8576b"
             ],
             [
              0.6666666666666666,
              "#ed7953"
             ],
             [
              0.7777777777777778,
              "#fb9f3a"
             ],
             [
              0.8888888888888888,
              "#fdca26"
             ],
             [
              1,
              "#f0f921"
             ]
            ],
            "type": "histogram2dcontour"
           }
          ],
          "mesh3d": [
           {
            "colorbar": {
             "outlinewidth": 0,
             "ticks": ""
            },
            "type": "mesh3d"
           }
          ],
          "parcoords": [
           {
            "line": {
             "colorbar": {
              "outlinewidth": 0,
              "ticks": ""
             }
            },
            "type": "parcoords"
           }
          ],
          "pie": [
           {
            "automargin": true,
            "type": "pie"
           }
          ],
          "scatter": [
           {
            "fillpattern": {
             "fillmode": "overlay",
             "size": 10,
             "solidity": 0.2
            },
            "type": "scatter"
           }
          ],
          "scatter3d": [
           {
            "line": {
             "colorbar": {
              "outlinewidth": 0,
              "ticks": ""
             }
            },
            "marker": {
             "colorbar": {
              "outlinewidth": 0,
              "ticks": ""
             }
            },
            "type": "scatter3d"
           }
          ],
          "scattercarpet": [
           {
            "marker": {
             "colorbar": {
              "outlinewidth": 0,
              "ticks": ""
             }
            },
            "type": "scattercarpet"
           }
          ],
          "scattergeo": [
           {
            "marker": {
             "colorbar": {
              "outlinewidth": 0,
              "ticks": ""
             }
            },
            "type": "scattergeo"
           }
          ],
          "scattergl": [
           {
            "marker": {
             "colorbar": {
              "outlinewidth": 0,
              "ticks": ""
             }
            },
            "type": "scattergl"
           }
          ],
          "scattermapbox": [
           {
            "marker": {
             "colorbar": {
              "outlinewidth": 0,
              "ticks": ""
             }
            },
            "type": "scattermapbox"
           }
          ],
          "scatterpolar": [
           {
            "marker": {
             "colorbar": {
              "outlinewidth": 0,
              "ticks": ""
             }
            },
            "type": "scatterpolar"
           }
          ],
          "scatterpolargl": [
           {
            "marker": {
             "colorbar": {
              "outlinewidth": 0,
              "ticks": ""
             }
            },
            "type": "scatterpolargl"
           }
          ],
          "scatterternary": [
           {
            "marker": {
             "colorbar": {
              "outlinewidth": 0,
              "ticks": ""
             }
            },
            "type": "scatterternary"
           }
          ],
          "surface": [
           {
            "colorbar": {
             "outlinewidth": 0,
             "ticks": ""
            },
            "colorscale": [
             [
              0,
              "#0d0887"
             ],
             [
              0.1111111111111111,
              "#46039f"
             ],
             [
              0.2222222222222222,
              "#7201a8"
             ],
             [
              0.3333333333333333,
              "#9c179e"
             ],
             [
              0.4444444444444444,
              "#bd3786"
             ],
             [
              0.5555555555555556,
              "#d8576b"
             ],
             [
              0.6666666666666666,
              "#ed7953"
             ],
             [
              0.7777777777777778,
              "#fb9f3a"
             ],
             [
              0.8888888888888888,
              "#fdca26"
             ],
             [
              1,
              "#f0f921"
             ]
            ],
            "type": "surface"
           }
          ],
          "table": [
           {
            "cells": {
             "fill": {
              "color": "#EBF0F8"
             },
             "line": {
              "color": "white"
             }
            },
            "header": {
             "fill": {
              "color": "#C8D4E3"
             },
             "line": {
              "color": "white"
             }
            },
            "type": "table"
           }
          ]
         },
         "layout": {
          "annotationdefaults": {
           "arrowcolor": "#2a3f5f",
           "arrowhead": 0,
           "arrowwidth": 1
          },
          "autotypenumbers": "strict",
          "coloraxis": {
           "colorbar": {
            "outlinewidth": 0,
            "ticks": ""
           }
          },
          "colorscale": {
           "diverging": [
            [
             0,
             "#8e0152"
            ],
            [
             0.1,
             "#c51b7d"
            ],
            [
             0.2,
             "#de77ae"
            ],
            [
             0.3,
             "#f1b6da"
            ],
            [
             0.4,
             "#fde0ef"
            ],
            [
             0.5,
             "#f7f7f7"
            ],
            [
             0.6,
             "#e6f5d0"
            ],
            [
             0.7,
             "#b8e186"
            ],
            [
             0.8,
             "#7fbc41"
            ],
            [
             0.9,
             "#4d9221"
            ],
            [
             1,
             "#276419"
            ]
           ],
           "sequential": [
            [
             0,
             "#0d0887"
            ],
            [
             0.1111111111111111,
             "#46039f"
            ],
            [
             0.2222222222222222,
             "#7201a8"
            ],
            [
             0.3333333333333333,
             "#9c179e"
            ],
            [
             0.4444444444444444,
             "#bd3786"
            ],
            [
             0.5555555555555556,
             "#d8576b"
            ],
            [
             0.6666666666666666,
             "#ed7953"
            ],
            [
             0.7777777777777778,
             "#fb9f3a"
            ],
            [
             0.8888888888888888,
             "#fdca26"
            ],
            [
             1,
             "#f0f921"
            ]
           ],
           "sequentialminus": [
            [
             0,
             "#0d0887"
            ],
            [
             0.1111111111111111,
             "#46039f"
            ],
            [
             0.2222222222222222,
             "#7201a8"
            ],
            [
             0.3333333333333333,
             "#9c179e"
            ],
            [
             0.4444444444444444,
             "#bd3786"
            ],
            [
             0.5555555555555556,
             "#d8576b"
            ],
            [
             0.6666666666666666,
             "#ed7953"
            ],
            [
             0.7777777777777778,
             "#fb9f3a"
            ],
            [
             0.8888888888888888,
             "#fdca26"
            ],
            [
             1,
             "#f0f921"
            ]
           ]
          },
          "colorway": [
           "#636efa",
           "#EF553B",
           "#00cc96",
           "#ab63fa",
           "#FFA15A",
           "#19d3f3",
           "#FF6692",
           "#B6E880",
           "#FF97FF",
           "#FECB52"
          ],
          "font": {
           "color": "#2a3f5f"
          },
          "geo": {
           "bgcolor": "white",
           "lakecolor": "white",
           "landcolor": "#E5ECF6",
           "showlakes": true,
           "showland": true,
           "subunitcolor": "white"
          },
          "hoverlabel": {
           "align": "left"
          },
          "hovermode": "closest",
          "mapbox": {
           "style": "light"
          },
          "paper_bgcolor": "white",
          "plot_bgcolor": "#E5ECF6",
          "polar": {
           "angularaxis": {
            "gridcolor": "white",
            "linecolor": "white",
            "ticks": ""
           },
           "bgcolor": "#E5ECF6",
           "radialaxis": {
            "gridcolor": "white",
            "linecolor": "white",
            "ticks": ""
           }
          },
          "scene": {
           "xaxis": {
            "backgroundcolor": "#E5ECF6",
            "gridcolor": "white",
            "gridwidth": 2,
            "linecolor": "white",
            "showbackground": true,
            "ticks": "",
            "zerolinecolor": "white"
           },
           "yaxis": {
            "backgroundcolor": "#E5ECF6",
            "gridcolor": "white",
            "gridwidth": 2,
            "linecolor": "white",
            "showbackground": true,
            "ticks": "",
            "zerolinecolor": "white"
           },
           "zaxis": {
            "backgroundcolor": "#E5ECF6",
            "gridcolor": "white",
            "gridwidth": 2,
            "linecolor": "white",
            "showbackground": true,
            "ticks": "",
            "zerolinecolor": "white"
           }
          },
          "shapedefaults": {
           "line": {
            "color": "#2a3f5f"
           }
          },
          "ternary": {
           "aaxis": {
            "gridcolor": "white",
            "linecolor": "white",
            "ticks": ""
           },
           "baxis": {
            "gridcolor": "white",
            "linecolor": "white",
            "ticks": ""
           },
           "bgcolor": "#E5ECF6",
           "caxis": {
            "gridcolor": "white",
            "linecolor": "white",
            "ticks": ""
           }
          },
          "title": {
           "x": 0.05
          },
          "xaxis": {
           "automargin": true,
           "gridcolor": "white",
           "linecolor": "white",
           "ticks": "",
           "title": {
            "standoff": 15
           },
           "zerolinecolor": "white",
           "zerolinewidth": 2
          },
          "yaxis": {
           "automargin": true,
           "gridcolor": "white",
           "linecolor": "white",
           "ticks": "",
           "title": {
            "standoff": 15
           },
           "zerolinecolor": "white",
           "zerolinewidth": 2
          }
         }
        },
        "title": {
         "text": "Precio carne"
        },
        "xaxis": {
         "tickfont": {
          "size": 18
         },
         "title": {
          "text": "Precio medio por kg"
         }
        }
       }
      }
     },
     "metadata": {},
     "output_type": "display_data"
    }
   ],
   "source": [
    "trace1 = go.Bar(x = car.values,\n",
    "               y = car.index,\n",
    "               name = 'Precio carne',\n",
    "               orientation = 'h',\n",
    "               marker = dict(color = 'rgba(30,144,255, 0.5)',\n",
    "                line = dict(color='rgb(0,0,0)', width = 1.5)))\n",
    "\n",
    "data = [trace1]\n",
    "\n",
    "layout = go.Layout(barmode = \"group\", title='Precio carne', xaxis_title=\"Precio medio por kg\", xaxis=dict(tickfont=dict(size=18)))\n",
    "\n",
    "fig = go.Figure(data = data, layout = layout)\n",
    "\n",
    "display(fig)"
   ]
  },
  {
   "cell_type": "markdown",
   "metadata": {},
   "source": [
    "<h1> Fruta y verdura"
   ]
  },
  {
   "cell_type": "code",
   "execution_count": null,
   "metadata": {},
   "outputs": [
    {
     "data": {
      "text/plain": [
       "supermarket\n",
       "carrefour.es    2.929375\n",
       "dia.es          1.946000\n",
       "mercadona.es    1.678627\n",
       "Name: price, dtype: float64"
      ]
     },
     "metadata": {},
     "output_type": "display_data"
    }
   ],
   "source": [
    "#descartaría este precio y cogería la media del precio por kilo\n",
    "frutas.groupby('supermarket')['price'].mean()"
   ]
  },
  {
   "cell_type": "code",
   "execution_count": null,
   "metadata": {},
   "outputs": [
    {
     "data": {
      "text/plain": [
       "supermarket\n",
       "mercadona.es    4.362540\n",
       "carrefour.es    3.426250\n",
       "dia.es          3.025333\n",
       "Name: reference_price, dtype: float64"
      ]
     },
     "metadata": {},
     "output_type": "display_data"
    }
   ],
   "source": [
    "#para calcular la media por kg me deshago de los elemeentos cuya medida no esté expresada en €/kg (por ejemplo bandejas)\n",
    "frutas_unidad = frutas[frutas['reference_unit'] == 'kg' ]\n",
    "frut = frutas_unidad.groupby('supermarket')['reference_price'].mean().sort_values(ascending=False)\n",
    "frut"
   ]
  },
  {
   "cell_type": "code",
   "execution_count": null,
   "metadata": {},
   "outputs": [
    {
     "data": {
      "application/vnd.plotly.v1+json": {
       "config": {
        "plotlyServerURL": "https://plot.ly"
       },
       "data": [
        {
         "marker": {
          "color": "rgba(30,144,255, 0.5)",
          "line": {
           "color": "rgb(0,0,0)",
           "width": 1.5
          }
         },
         "name": "Precio fruta",
         "orientation": "h",
         "type": "bar",
         "x": [
          4.36254,
          3.42625,
          3.0253333333333337
         ],
         "y": [
          "mercadona.es",
          "carrefour.es",
          "dia.es"
         ]
        }
       ],
       "layout": {
        "barmode": "group",
        "template": {
         "data": {
          "bar": [
           {
            "error_x": {
             "color": "#2a3f5f"
            },
            "error_y": {
             "color": "#2a3f5f"
            },
            "marker": {
             "line": {
              "color": "#E5ECF6",
              "width": 0.5
             },
             "pattern": {
              "fillmode": "overlay",
              "size": 10,
              "solidity": 0.2
             }
            },
            "type": "bar"
           }
          ],
          "barpolar": [
           {
            "marker": {
             "line": {
              "color": "#E5ECF6",
              "width": 0.5
             },
             "pattern": {
              "fillmode": "overlay",
              "size": 10,
              "solidity": 0.2
             }
            },
            "type": "barpolar"
           }
          ],
          "carpet": [
           {
            "aaxis": {
             "endlinecolor": "#2a3f5f",
             "gridcolor": "white",
             "linecolor": "white",
             "minorgridcolor": "white",
             "startlinecolor": "#2a3f5f"
            },
            "baxis": {
             "endlinecolor": "#2a3f5f",
             "gridcolor": "white",
             "linecolor": "white",
             "minorgridcolor": "white",
             "startlinecolor": "#2a3f5f"
            },
            "type": "carpet"
           }
          ],
          "choropleth": [
           {
            "colorbar": {
             "outlinewidth": 0,
             "ticks": ""
            },
            "type": "choropleth"
           }
          ],
          "contour": [
           {
            "colorbar": {
             "outlinewidth": 0,
             "ticks": ""
            },
            "colorscale": [
             [
              0,
              "#0d0887"
             ],
             [
              0.1111111111111111,
              "#46039f"
             ],
             [
              0.2222222222222222,
              "#7201a8"
             ],
             [
              0.3333333333333333,
              "#9c179e"
             ],
             [
              0.4444444444444444,
              "#bd3786"
             ],
             [
              0.5555555555555556,
              "#d8576b"
             ],
             [
              0.6666666666666666,
              "#ed7953"
             ],
             [
              0.7777777777777778,
              "#fb9f3a"
             ],
             [
              0.8888888888888888,
              "#fdca26"
             ],
             [
              1,
              "#f0f921"
             ]
            ],
            "type": "contour"
           }
          ],
          "contourcarpet": [
           {
            "colorbar": {
             "outlinewidth": 0,
             "ticks": ""
            },
            "type": "contourcarpet"
           }
          ],
          "heatmap": [
           {
            "colorbar": {
             "outlinewidth": 0,
             "ticks": ""
            },
            "colorscale": [
             [
              0,
              "#0d0887"
             ],
             [
              0.1111111111111111,
              "#46039f"
             ],
             [
              0.2222222222222222,
              "#7201a8"
             ],
             [
              0.3333333333333333,
              "#9c179e"
             ],
             [
              0.4444444444444444,
              "#bd3786"
             ],
             [
              0.5555555555555556,
              "#d8576b"
             ],
             [
              0.6666666666666666,
              "#ed7953"
             ],
             [
              0.7777777777777778,
              "#fb9f3a"
             ],
             [
              0.8888888888888888,
              "#fdca26"
             ],
             [
              1,
              "#f0f921"
             ]
            ],
            "type": "heatmap"
           }
          ],
          "heatmapgl": [
           {
            "colorbar": {
             "outlinewidth": 0,
             "ticks": ""
            },
            "colorscale": [
             [
              0,
              "#0d0887"
             ],
             [
              0.1111111111111111,
              "#46039f"
             ],
             [
              0.2222222222222222,
              "#7201a8"
             ],
             [
              0.3333333333333333,
              "#9c179e"
             ],
             [
              0.4444444444444444,
              "#bd3786"
             ],
             [
              0.5555555555555556,
              "#d8576b"
             ],
             [
              0.6666666666666666,
              "#ed7953"
             ],
             [
              0.7777777777777778,
              "#fb9f3a"
             ],
             [
              0.8888888888888888,
              "#fdca26"
             ],
             [
              1,
              "#f0f921"
             ]
            ],
            "type": "heatmapgl"
           }
          ],
          "histogram": [
           {
            "marker": {
             "pattern": {
              "fillmode": "overlay",
              "size": 10,
              "solidity": 0.2
             }
            },
            "type": "histogram"
           }
          ],
          "histogram2d": [
           {
            "colorbar": {
             "outlinewidth": 0,
             "ticks": ""
            },
            "colorscale": [
             [
              0,
              "#0d0887"
             ],
             [
              0.1111111111111111,
              "#46039f"
             ],
             [
              0.2222222222222222,
              "#7201a8"
             ],
             [
              0.3333333333333333,
              "#9c179e"
             ],
             [
              0.4444444444444444,
              "#bd3786"
             ],
             [
              0.5555555555555556,
              "#d8576b"
             ],
             [
              0.6666666666666666,
              "#ed7953"
             ],
             [
              0.7777777777777778,
              "#fb9f3a"
             ],
             [
              0.8888888888888888,
              "#fdca26"
             ],
             [
              1,
              "#f0f921"
             ]
            ],
            "type": "histogram2d"
           }
          ],
          "histogram2dcontour": [
           {
            "colorbar": {
             "outlinewidth": 0,
             "ticks": ""
            },
            "colorscale": [
             [
              0,
              "#0d0887"
             ],
             [
              0.1111111111111111,
              "#46039f"
             ],
             [
              0.2222222222222222,
              "#7201a8"
             ],
             [
              0.3333333333333333,
              "#9c179e"
             ],
             [
              0.4444444444444444,
              "#bd3786"
             ],
             [
              0.5555555555555556,
              "#d8576b"
             ],
             [
              0.6666666666666666,
              "#ed7953"
             ],
             [
              0.7777777777777778,
              "#fb9f3a"
             ],
             [
              0.8888888888888888,
              "#fdca26"
             ],
             [
              1,
              "#f0f921"
             ]
            ],
            "type": "histogram2dcontour"
           }
          ],
          "mesh3d": [
           {
            "colorbar": {
             "outlinewidth": 0,
             "ticks": ""
            },
            "type": "mesh3d"
           }
          ],
          "parcoords": [
           {
            "line": {
             "colorbar": {
              "outlinewidth": 0,
              "ticks": ""
             }
            },
            "type": "parcoords"
           }
          ],
          "pie": [
           {
            "automargin": true,
            "type": "pie"
           }
          ],
          "scatter": [
           {
            "fillpattern": {
             "fillmode": "overlay",
             "size": 10,
             "solidity": 0.2
            },
            "type": "scatter"
           }
          ],
          "scatter3d": [
           {
            "line": {
             "colorbar": {
              "outlinewidth": 0,
              "ticks": ""
             }
            },
            "marker": {
             "colorbar": {
              "outlinewidth": 0,
              "ticks": ""
             }
            },
            "type": "scatter3d"
           }
          ],
          "scattercarpet": [
           {
            "marker": {
             "colorbar": {
              "outlinewidth": 0,
              "ticks": ""
             }
            },
            "type": "scattercarpet"
           }
          ],
          "scattergeo": [
           {
            "marker": {
             "colorbar": {
              "outlinewidth": 0,
              "ticks": ""
             }
            },
            "type": "scattergeo"
           }
          ],
          "scattergl": [
           {
            "marker": {
             "colorbar": {
              "outlinewidth": 0,
              "ticks": ""
             }
            },
            "type": "scattergl"
           }
          ],
          "scattermapbox": [
           {
            "marker": {
             "colorbar": {
              "outlinewidth": 0,
              "ticks": ""
             }
            },
            "type": "scattermapbox"
           }
          ],
          "scatterpolar": [
           {
            "marker": {
             "colorbar": {
              "outlinewidth": 0,
              "ticks": ""
             }
            },
            "type": "scatterpolar"
           }
          ],
          "scatterpolargl": [
           {
            "marker": {
             "colorbar": {
              "outlinewidth": 0,
              "ticks": ""
             }
            },
            "type": "scatterpolargl"
           }
          ],
          "scatterternary": [
           {
            "marker": {
             "colorbar": {
              "outlinewidth": 0,
              "ticks": ""
             }
            },
            "type": "scatterternary"
           }
          ],
          "surface": [
           {
            "colorbar": {
             "outlinewidth": 0,
             "ticks": ""
            },
            "colorscale": [
             [
              0,
              "#0d0887"
             ],
             [
              0.1111111111111111,
              "#46039f"
             ],
             [
              0.2222222222222222,
              "#7201a8"
             ],
             [
              0.3333333333333333,
              "#9c179e"
             ],
             [
              0.4444444444444444,
              "#bd3786"
             ],
             [
              0.5555555555555556,
              "#d8576b"
             ],
             [
              0.6666666666666666,
              "#ed7953"
             ],
             [
              0.7777777777777778,
              "#fb9f3a"
             ],
             [
              0.8888888888888888,
              "#fdca26"
             ],
             [
              1,
              "#f0f921"
             ]
            ],
            "type": "surface"
           }
          ],
          "table": [
           {
            "cells": {
             "fill": {
              "color": "#EBF0F8"
             },
             "line": {
              "color": "white"
             }
            },
            "header": {
             "fill": {
              "color": "#C8D4E3"
             },
             "line": {
              "color": "white"
             }
            },
            "type": "table"
           }
          ]
         },
         "layout": {
          "annotationdefaults": {
           "arrowcolor": "#2a3f5f",
           "arrowhead": 0,
           "arrowwidth": 1
          },
          "autotypenumbers": "strict",
          "coloraxis": {
           "colorbar": {
            "outlinewidth": 0,
            "ticks": ""
           }
          },
          "colorscale": {
           "diverging": [
            [
             0,
             "#8e0152"
            ],
            [
             0.1,
             "#c51b7d"
            ],
            [
             0.2,
             "#de77ae"
            ],
            [
             0.3,
             "#f1b6da"
            ],
            [
             0.4,
             "#fde0ef"
            ],
            [
             0.5,
             "#f7f7f7"
            ],
            [
             0.6,
             "#e6f5d0"
            ],
            [
             0.7,
             "#b8e186"
            ],
            [
             0.8,
             "#7fbc41"
            ],
            [
             0.9,
             "#4d9221"
            ],
            [
             1,
             "#276419"
            ]
           ],
           "sequential": [
            [
             0,
             "#0d0887"
            ],
            [
             0.1111111111111111,
             "#46039f"
            ],
            [
             0.2222222222222222,
             "#7201a8"
            ],
            [
             0.3333333333333333,
             "#9c179e"
            ],
            [
             0.4444444444444444,
             "#bd3786"
            ],
            [
             0.5555555555555556,
             "#d8576b"
            ],
            [
             0.6666666666666666,
             "#ed7953"
            ],
            [
             0.7777777777777778,
             "#fb9f3a"
            ],
            [
             0.8888888888888888,
             "#fdca26"
            ],
            [
             1,
             "#f0f921"
            ]
           ],
           "sequentialminus": [
            [
             0,
             "#0d0887"
            ],
            [
             0.1111111111111111,
             "#46039f"
            ],
            [
             0.2222222222222222,
             "#7201a8"
            ],
            [
             0.3333333333333333,
             "#9c179e"
            ],
            [
             0.4444444444444444,
             "#bd3786"
            ],
            [
             0.5555555555555556,
             "#d8576b"
            ],
            [
             0.6666666666666666,
             "#ed7953"
            ],
            [
             0.7777777777777778,
             "#fb9f3a"
            ],
            [
             0.8888888888888888,
             "#fdca26"
            ],
            [
             1,
             "#f0f921"
            ]
           ]
          },
          "colorway": [
           "#636efa",
           "#EF553B",
           "#00cc96",
           "#ab63fa",
           "#FFA15A",
           "#19d3f3",
           "#FF6692",
           "#B6E880",
           "#FF97FF",
           "#FECB52"
          ],
          "font": {
           "color": "#2a3f5f"
          },
          "geo": {
           "bgcolor": "white",
           "lakecolor": "white",
           "landcolor": "#E5ECF6",
           "showlakes": true,
           "showland": true,
           "subunitcolor": "white"
          },
          "hoverlabel": {
           "align": "left"
          },
          "hovermode": "closest",
          "mapbox": {
           "style": "light"
          },
          "paper_bgcolor": "white",
          "plot_bgcolor": "#E5ECF6",
          "polar": {
           "angularaxis": {
            "gridcolor": "white",
            "linecolor": "white",
            "ticks": ""
           },
           "bgcolor": "#E5ECF6",
           "radialaxis": {
            "gridcolor": "white",
            "linecolor": "white",
            "ticks": ""
           }
          },
          "scene": {
           "xaxis": {
            "backgroundcolor": "#E5ECF6",
            "gridcolor": "white",
            "gridwidth": 2,
            "linecolor": "white",
            "showbackground": true,
            "ticks": "",
            "zerolinecolor": "white"
           },
           "yaxis": {
            "backgroundcolor": "#E5ECF6",
            "gridcolor": "white",
            "gridwidth": 2,
            "linecolor": "white",
            "showbackground": true,
            "ticks": "",
            "zerolinecolor": "white"
           },
           "zaxis": {
            "backgroundcolor": "#E5ECF6",
            "gridcolor": "white",
            "gridwidth": 2,
            "linecolor": "white",
            "showbackground": true,
            "ticks": "",
            "zerolinecolor": "white"
           }
          },
          "shapedefaults": {
           "line": {
            "color": "#2a3f5f"
           }
          },
          "ternary": {
           "aaxis": {
            "gridcolor": "white",
            "linecolor": "white",
            "ticks": ""
           },
           "baxis": {
            "gridcolor": "white",
            "linecolor": "white",
            "ticks": ""
           },
           "bgcolor": "#E5ECF6",
           "caxis": {
            "gridcolor": "white",
            "linecolor": "white",
            "ticks": ""
           }
          },
          "title": {
           "x": 0.05
          },
          "xaxis": {
           "automargin": true,
           "gridcolor": "white",
           "linecolor": "white",
           "ticks": "",
           "title": {
            "standoff": 15
           },
           "zerolinecolor": "white",
           "zerolinewidth": 2
          },
          "yaxis": {
           "automargin": true,
           "gridcolor": "white",
           "linecolor": "white",
           "ticks": "",
           "title": {
            "standoff": 15
           },
           "zerolinecolor": "white",
           "zerolinewidth": 2
          }
         }
        },
        "title": {
         "text": "Precio fruta"
        },
        "xaxis": {
         "tickfont": {
          "size": 18
         },
         "title": {
          "text": "Precio medio por kg"
         }
        }
       }
      }
     },
     "metadata": {},
     "output_type": "display_data"
    }
   ],
   "source": [
    "trace1 = go.Bar(x = frut.values,\n",
    "               y = frut.index ,\n",
    "               name = 'Precio fruta',\n",
    "               orientation = 'h',\n",
    "               marker = dict(color = 'rgba(30,144,255, 0.5)',\n",
    "                line = dict(color='rgb(0,0,0)', width = 1.5)))\n",
    "\n",
    "data = [trace1]\n",
    "\n",
    "layout = go.Layout(barmode = \"group\", title='Precio fruta', xaxis_title=\"Precio medio por kg\", xaxis=dict(tickfont=dict(size=18)))\n",
    "\n",
    "fig = go.Figure(data = data, layout = layout)\n",
    "\n",
    "display(fig)"
   ]
  },
  {
   "cell_type": "markdown",
   "metadata": {},
   "source": [
    "<h1> Pescado"
   ]
  },
  {
   "cell_type": "code",
   "execution_count": null,
   "metadata": {},
   "outputs": [
    {
     "data": {
      "text/plain": [
       "supermarket\n",
       "dia.es          12.937857\n",
       "mercadona.es    12.692356\n",
       "carrefour.es    12.164286\n",
       "Name: reference_price, dtype: float64"
      ]
     },
     "metadata": {},
     "output_type": "display_data"
    }
   ],
   "source": [
    "#para calcular la media por kg me deshago de los elemeentos cuya medida no esté expresada en €/kg (por ejemplo bandejas)\n",
    "pescados_unidad = pescados[pescados['reference_unit'] == 'kg' ]\n",
    "pesc = pescados_unidad.groupby('supermarket')['reference_price'].mean().sort_values(ascending=False)\n",
    "pesc"
   ]
  },
  {
   "cell_type": "code",
   "execution_count": null,
   "metadata": {},
   "outputs": [
    {
     "data": {
      "application/vnd.plotly.v1+json": {
       "config": {
        "plotlyServerURL": "https://plot.ly"
       },
       "data": [
        {
         "marker": {
          "color": "rgba(30,144,255, 0.5)",
          "line": {
           "color": "rgb(0,0,0)",
           "width": 1.5
          }
         },
         "name": "Precio pescado2",
         "orientation": "h",
         "type": "bar",
         "x": [
          12.937857142857142,
          12.692355555555555,
          12.164285714285713
         ],
         "y": [
          "dia.es",
          "mercadona.es",
          "carrefour.es"
         ]
        }
       ],
       "layout": {
        "barmode": "group",
        "template": {
         "data": {
          "bar": [
           {
            "error_x": {
             "color": "#2a3f5f"
            },
            "error_y": {
             "color": "#2a3f5f"
            },
            "marker": {
             "line": {
              "color": "#E5ECF6",
              "width": 0.5
             },
             "pattern": {
              "fillmode": "overlay",
              "size": 10,
              "solidity": 0.2
             }
            },
            "type": "bar"
           }
          ],
          "barpolar": [
           {
            "marker": {
             "line": {
              "color": "#E5ECF6",
              "width": 0.5
             },
             "pattern": {
              "fillmode": "overlay",
              "size": 10,
              "solidity": 0.2
             }
            },
            "type": "barpolar"
           }
          ],
          "carpet": [
           {
            "aaxis": {
             "endlinecolor": "#2a3f5f",
             "gridcolor": "white",
             "linecolor": "white",
             "minorgridcolor": "white",
             "startlinecolor": "#2a3f5f"
            },
            "baxis": {
             "endlinecolor": "#2a3f5f",
             "gridcolor": "white",
             "linecolor": "white",
             "minorgridcolor": "white",
             "startlinecolor": "#2a3f5f"
            },
            "type": "carpet"
           }
          ],
          "choropleth": [
           {
            "colorbar": {
             "outlinewidth": 0,
             "ticks": ""
            },
            "type": "choropleth"
           }
          ],
          "contour": [
           {
            "colorbar": {
             "outlinewidth": 0,
             "ticks": ""
            },
            "colorscale": [
             [
              0,
              "#0d0887"
             ],
             [
              0.1111111111111111,
              "#46039f"
             ],
             [
              0.2222222222222222,
              "#7201a8"
             ],
             [
              0.3333333333333333,
              "#9c179e"
             ],
             [
              0.4444444444444444,
              "#bd3786"
             ],
             [
              0.5555555555555556,
              "#d8576b"
             ],
             [
              0.6666666666666666,
              "#ed7953"
             ],
             [
              0.7777777777777778,
              "#fb9f3a"
             ],
             [
              0.8888888888888888,
              "#fdca26"
             ],
             [
              1,
              "#f0f921"
             ]
            ],
            "type": "contour"
           }
          ],
          "contourcarpet": [
           {
            "colorbar": {
             "outlinewidth": 0,
             "ticks": ""
            },
            "type": "contourcarpet"
           }
          ],
          "heatmap": [
           {
            "colorbar": {
             "outlinewidth": 0,
             "ticks": ""
            },
            "colorscale": [
             [
              0,
              "#0d0887"
             ],
             [
              0.1111111111111111,
              "#46039f"
             ],
             [
              0.2222222222222222,
              "#7201a8"
             ],
             [
              0.3333333333333333,
              "#9c179e"
             ],
             [
              0.4444444444444444,
              "#bd3786"
             ],
             [
              0.5555555555555556,
              "#d8576b"
             ],
             [
              0.6666666666666666,
              "#ed7953"
             ],
             [
              0.7777777777777778,
              "#fb9f3a"
             ],
             [
              0.8888888888888888,
              "#fdca26"
             ],
             [
              1,
              "#f0f921"
             ]
            ],
            "type": "heatmap"
           }
          ],
          "heatmapgl": [
           {
            "colorbar": {
             "outlinewidth": 0,
             "ticks": ""
            },
            "colorscale": [
             [
              0,
              "#0d0887"
             ],
             [
              0.1111111111111111,
              "#46039f"
             ],
             [
              0.2222222222222222,
              "#7201a8"
             ],
             [
              0.3333333333333333,
              "#9c179e"
             ],
             [
              0.4444444444444444,
              "#bd3786"
             ],
             [
              0.5555555555555556,
              "#d8576b"
             ],
             [
              0.6666666666666666,
              "#ed7953"
             ],
             [
              0.7777777777777778,
              "#fb9f3a"
             ],
             [
              0.8888888888888888,
              "#fdca26"
             ],
             [
              1,
              "#f0f921"
             ]
            ],
            "type": "heatmapgl"
           }
          ],
          "histogram": [
           {
            "marker": {
             "pattern": {
              "fillmode": "overlay",
              "size": 10,
              "solidity": 0.2
             }
            },
            "type": "histogram"
           }
          ],
          "histogram2d": [
           {
            "colorbar": {
             "outlinewidth": 0,
             "ticks": ""
            },
            "colorscale": [
             [
              0,
              "#0d0887"
             ],
             [
              0.1111111111111111,
              "#46039f"
             ],
             [
              0.2222222222222222,
              "#7201a8"
             ],
             [
              0.3333333333333333,
              "#9c179e"
             ],
             [
              0.4444444444444444,
              "#bd3786"
             ],
             [
              0.5555555555555556,
              "#d8576b"
             ],
             [
              0.6666666666666666,
              "#ed7953"
             ],
             [
              0.7777777777777778,
              "#fb9f3a"
             ],
             [
              0.8888888888888888,
              "#fdca26"
             ],
             [
              1,
              "#f0f921"
             ]
            ],
            "type": "histogram2d"
           }
          ],
          "histogram2dcontour": [
           {
            "colorbar": {
             "outlinewidth": 0,
             "ticks": ""
            },
            "colorscale": [
             [
              0,
              "#0d0887"
             ],
             [
              0.1111111111111111,
              "#46039f"
             ],
             [
              0.2222222222222222,
              "#7201a8"
             ],
             [
              0.3333333333333333,
              "#9c179e"
             ],
             [
              0.4444444444444444,
              "#bd3786"
             ],
             [
              0.5555555555555556,
              "#d8576b"
             ],
             [
              0.6666666666666666,
              "#ed7953"
             ],
             [
              0.7777777777777778,
              "#fb9f3a"
             ],
             [
              0.8888888888888888,
              "#fdca26"
             ],
             [
              1,
              "#f0f921"
             ]
            ],
            "type": "histogram2dcontour"
           }
          ],
          "mesh3d": [
           {
            "colorbar": {
             "outlinewidth": 0,
             "ticks": ""
            },
            "type": "mesh3d"
           }
          ],
          "parcoords": [
           {
            "line": {
             "colorbar": {
              "outlinewidth": 0,
              "ticks": ""
             }
            },
            "type": "parcoords"
           }
          ],
          "pie": [
           {
            "automargin": true,
            "type": "pie"
           }
          ],
          "scatter": [
           {
            "fillpattern": {
             "fillmode": "overlay",
             "size": 10,
             "solidity": 0.2
            },
            "type": "scatter"
           }
          ],
          "scatter3d": [
           {
            "line": {
             "colorbar": {
              "outlinewidth": 0,
              "ticks": ""
             }
            },
            "marker": {
             "colorbar": {
              "outlinewidth": 0,
              "ticks": ""
             }
            },
            "type": "scatter3d"
           }
          ],
          "scattercarpet": [
           {
            "marker": {
             "colorbar": {
              "outlinewidth": 0,
              "ticks": ""
             }
            },
            "type": "scattercarpet"
           }
          ],
          "scattergeo": [
           {
            "marker": {
             "colorbar": {
              "outlinewidth": 0,
              "ticks": ""
             }
            },
            "type": "scattergeo"
           }
          ],
          "scattergl": [
           {
            "marker": {
             "colorbar": {
              "outlinewidth": 0,
              "ticks": ""
             }
            },
            "type": "scattergl"
           }
          ],
          "scattermapbox": [
           {
            "marker": {
             "colorbar": {
              "outlinewidth": 0,
              "ticks": ""
             }
            },
            "type": "scattermapbox"
           }
          ],
          "scatterpolar": [
           {
            "marker": {
             "colorbar": {
              "outlinewidth": 0,
              "ticks": ""
             }
            },
            "type": "scatterpolar"
           }
          ],
          "scatterpolargl": [
           {
            "marker": {
             "colorbar": {
              "outlinewidth": 0,
              "ticks": ""
             }
            },
            "type": "scatterpolargl"
           }
          ],
          "scatterternary": [
           {
            "marker": {
             "colorbar": {
              "outlinewidth": 0,
              "ticks": ""
             }
            },
            "type": "scatterternary"
           }
          ],
          "surface": [
           {
            "colorbar": {
             "outlinewidth": 0,
             "ticks": ""
            },
            "colorscale": [
             [
              0,
              "#0d0887"
             ],
             [
              0.1111111111111111,
              "#46039f"
             ],
             [
              0.2222222222222222,
              "#7201a8"
             ],
             [
              0.3333333333333333,
              "#9c179e"
             ],
             [
              0.4444444444444444,
              "#bd3786"
             ],
             [
              0.5555555555555556,
              "#d8576b"
             ],
             [
              0.6666666666666666,
              "#ed7953"
             ],
             [
              0.7777777777777778,
              "#fb9f3a"
             ],
             [
              0.8888888888888888,
              "#fdca26"
             ],
             [
              1,
              "#f0f921"
             ]
            ],
            "type": "surface"
           }
          ],
          "table": [
           {
            "cells": {
             "fill": {
              "color": "#EBF0F8"
             },
             "line": {
              "color": "white"
             }
            },
            "header": {
             "fill": {
              "color": "#C8D4E3"
             },
             "line": {
              "color": "white"
             }
            },
            "type": "table"
           }
          ]
         },
         "layout": {
          "annotationdefaults": {
           "arrowcolor": "#2a3f5f",
           "arrowhead": 0,
           "arrowwidth": 1
          },
          "autotypenumbers": "strict",
          "coloraxis": {
           "colorbar": {
            "outlinewidth": 0,
            "ticks": ""
           }
          },
          "colorscale": {
           "diverging": [
            [
             0,
             "#8e0152"
            ],
            [
             0.1,
             "#c51b7d"
            ],
            [
             0.2,
             "#de77ae"
            ],
            [
             0.3,
             "#f1b6da"
            ],
            [
             0.4,
             "#fde0ef"
            ],
            [
             0.5,
             "#f7f7f7"
            ],
            [
             0.6,
             "#e6f5d0"
            ],
            [
             0.7,
             "#b8e186"
            ],
            [
             0.8,
             "#7fbc41"
            ],
            [
             0.9,
             "#4d9221"
            ],
            [
             1,
             "#276419"
            ]
           ],
           "sequential": [
            [
             0,
             "#0d0887"
            ],
            [
             0.1111111111111111,
             "#46039f"
            ],
            [
             0.2222222222222222,
             "#7201a8"
            ],
            [
             0.3333333333333333,
             "#9c179e"
            ],
            [
             0.4444444444444444,
             "#bd3786"
            ],
            [
             0.5555555555555556,
             "#d8576b"
            ],
            [
             0.6666666666666666,
             "#ed7953"
            ],
            [
             0.7777777777777778,
             "#fb9f3a"
            ],
            [
             0.8888888888888888,
             "#fdca26"
            ],
            [
             1,
             "#f0f921"
            ]
           ],
           "sequentialminus": [
            [
             0,
             "#0d0887"
            ],
            [
             0.1111111111111111,
             "#46039f"
            ],
            [
             0.2222222222222222,
             "#7201a8"
            ],
            [
             0.3333333333333333,
             "#9c179e"
            ],
            [
             0.4444444444444444,
             "#bd3786"
            ],
            [
             0.5555555555555556,
             "#d8576b"
            ],
            [
             0.6666666666666666,
             "#ed7953"
            ],
            [
             0.7777777777777778,
             "#fb9f3a"
            ],
            [
             0.8888888888888888,
             "#fdca26"
            ],
            [
             1,
             "#f0f921"
            ]
           ]
          },
          "colorway": [
           "#636efa",
           "#EF553B",
           "#00cc96",
           "#ab63fa",
           "#FFA15A",
           "#19d3f3",
           "#FF6692",
           "#B6E880",
           "#FF97FF",
           "#FECB52"
          ],
          "font": {
           "color": "#2a3f5f"
          },
          "geo": {
           "bgcolor": "white",
           "lakecolor": "white",
           "landcolor": "#E5ECF6",
           "showlakes": true,
           "showland": true,
           "subunitcolor": "white"
          },
          "hoverlabel": {
           "align": "left"
          },
          "hovermode": "closest",
          "mapbox": {
           "style": "light"
          },
          "paper_bgcolor": "white",
          "plot_bgcolor": "#E5ECF6",
          "polar": {
           "angularaxis": {
            "gridcolor": "white",
            "linecolor": "white",
            "ticks": ""
           },
           "bgcolor": "#E5ECF6",
           "radialaxis": {
            "gridcolor": "white",
            "linecolor": "white",
            "ticks": ""
           }
          },
          "scene": {
           "xaxis": {
            "backgroundcolor": "#E5ECF6",
            "gridcolor": "white",
            "gridwidth": 2,
            "linecolor": "white",
            "showbackground": true,
            "ticks": "",
            "zerolinecolor": "white"
           },
           "yaxis": {
            "backgroundcolor": "#E5ECF6",
            "gridcolor": "white",
            "gridwidth": 2,
            "linecolor": "white",
            "showbackground": true,
            "ticks": "",
            "zerolinecolor": "white"
           },
           "zaxis": {
            "backgroundcolor": "#E5ECF6",
            "gridcolor": "white",
            "gridwidth": 2,
            "linecolor": "white",
            "showbackground": true,
            "ticks": "",
            "zerolinecolor": "white"
           }
          },
          "shapedefaults": {
           "line": {
            "color": "#2a3f5f"
           }
          },
          "ternary": {
           "aaxis": {
            "gridcolor": "white",
            "linecolor": "white",
            "ticks": ""
           },
           "baxis": {
            "gridcolor": "white",
            "linecolor": "white",
            "ticks": ""
           },
           "bgcolor": "#E5ECF6",
           "caxis": {
            "gridcolor": "white",
            "linecolor": "white",
            "ticks": ""
           }
          },
          "title": {
           "x": 0.05
          },
          "xaxis": {
           "automargin": true,
           "gridcolor": "white",
           "linecolor": "white",
           "ticks": "",
           "title": {
            "standoff": 15
           },
           "zerolinecolor": "white",
           "zerolinewidth": 2
          },
          "yaxis": {
           "automargin": true,
           "gridcolor": "white",
           "linecolor": "white",
           "ticks": "",
           "title": {
            "standoff": 15
           },
           "zerolinecolor": "white",
           "zerolinewidth": 2
          }
         }
        },
        "title": {
         "text": "Precio pescado"
        },
        "xaxis": {
         "tickfont": {
          "size": 22
         },
         "title": {
          "text": "Precio medio por kg"
         }
        }
       }
      }
     },
     "metadata": {},
     "output_type": "display_data"
    }
   ],
   "source": [
    "trace1 = go.Bar(x = pesc.values,\n",
    "               y =pesc.index ,\n",
    "               name = 'Precio pescado2',\n",
    "               orientation = 'h',\n",
    "               marker = dict(color = 'rgba(30,144,255, 0.5)',\n",
    "                line = dict(color='rgb(0,0,0)', width = 1.5)))\n",
    "\n",
    "data = [trace1]\n",
    "\n",
    "layout = go.Layout(barmode = \"group\", title='Precio pescado', xaxis_title=\"Precio medio por kg\",xaxis=dict(tickfont=dict(size=22)))\n",
    "\n",
    "fig = go.Figure(data = data, layout = layout)\n",
    "\n",
    "display(fig)"
   ]
  },
  {
   "cell_type": "markdown",
   "metadata": {},
   "source": [
    "Hago más filtros y me cojo productos específicos para compararlos en la cesta."
   ]
  },
  {
   "cell_type": "code",
   "execution_count": null,
   "metadata": {},
   "outputs": [
    {
     "data": {
      "text/plain": [
       "Unnamed: 0                                                   758\n",
       "supermarket                                         mercadona-es\n",
       "category           aceite_especias_y_salsas_aceite_vinagre_y_sal\n",
       "name                            Aceite de oliva virgen Hacendado\n",
       "description                                              Botella\n",
       "price                                                       3.15\n",
       "reference_price                                             3.15\n",
       "reference_unit                                                 L\n",
       "insert_date                                  2021-01-04 00:00:00\n",
       "Name: 758, dtype: object"
      ]
     },
     "metadata": {},
     "output_type": "display_data"
    }
   ],
   "source": [
    "aceite_merca = aceites[aceites['supermarket'].str.contains('mercadona-es')]\n",
    "aceite_merca.loc[758]\n"
   ]
  },
  {
   "cell_type": "code",
   "execution_count": null,
   "metadata": {},
   "outputs": [
    {
     "data": {
      "text/plain": [
       "Unnamed: 0                                                  28\n",
       "supermarket                                       carrefour-es\n",
       "category           la_despensa_alimentacion_aceites_y_vinagres\n",
       "name               Aceite de oliva virgen extra Carrefour 1 l.\n",
       "description                                                NaN\n",
       "price                                                     3.45\n",
       "reference_price                                           3.45\n",
       "reference_unit                                               l\n",
       "insert_date                                2021-01-08 12:00:00\n",
       "Name: 28, dtype: object"
      ]
     },
     "metadata": {},
     "output_type": "display_data"
    }
   ],
   "source": [
    "aceite_carre = aceites[aceites['supermarket'].str.contains('carrefour-es')]\n",
    "aceite_carre2 = aceite_carre[aceite_carre['name'].str.contains('Carrefour')]\n",
    "aceite_carre2.loc[28]"
   ]
  },
  {
   "cell_type": "markdown",
   "metadata": {},
   "source": [
    "<h1> Carne"
   ]
  },
  {
   "cell_type": "code",
   "execution_count": null,
   "metadata": {},
   "outputs": [
    {
     "data": {
      "text/plain": [
       "array(['el_mercado_la_cocina_de_carrefour_platos_de_carne_y_pescado',\n",
       "       'la_despensa_conservas_sopas_y_precocinados_conservas_de_carne',\n",
       "       'el_mercado_carniceria_preparados_y_arreglos_de_carne',\n",
       "       'el_mercado_carniceria_otras_carnes',\n",
       "       'el_mercado_carniceria_carne_picada'], dtype=object)"
      ]
     },
     "metadata": {},
     "output_type": "display_data"
    }
   ],
   "source": [
    "#me saco toda la carne de carrefour, y veo que se me ha colado el pescado\n",
    "carre = carnes[carnes['supermarket'] == 'carrefour-es']\n",
    "carre.category.unique()"
   ]
  },
  {
   "cell_type": "code",
   "execution_count": null,
   "metadata": {},
   "outputs": [
    {
     "data": {
      "text/plain": [
       "array(['el_mercado_carniceria_preparados_y_arreglos_de_carne',\n",
       "       'el_mercado_carniceria_otras_carnes',\n",
       "       'el_mercado_carniceria_carne_picada'], dtype=object)"
      ]
     },
     "metadata": {},
     "output_type": "display_data"
    }
   ],
   "source": [
    "#me quito el pescado\n",
    "filas_quitar = carre[(carre['category'] == 'el_mercado_la_cocina_de_carrefour_platos_de_carne_y_pescado') | (carre['category'] == 'la_despensa_conservas_sopas_y_precocinados_conservas_de_carne')]\n",
    "carre_2 = carre.drop(filas_quitar.index)\n",
    "carre_2.category.unique()\n"
   ]
  },
  {
   "cell_type": "code",
   "execution_count": null,
   "metadata": {},
   "outputs": [],
   "source": [
    "#quito tooda la carne de carrefour del dataframe\n",
    "carnes_sin = carnes.drop(carre.index)"
   ]
  },
  {
   "cell_type": "code",
   "execution_count": null,
   "metadata": {},
   "outputs": [],
   "source": [
    "#añado la carne de carrefour con las categorias filtradas bien(sin pescado)\n",
    "carnes_b = pd.concat([carnes_sin,carre_2])"
   ]
  },
  {
   "cell_type": "code",
   "execution_count": null,
   "metadata": {},
   "outputs": [],
   "source": [
    "carnes_unidad = carnes_b[(carnes_b['reference_unit'] == 'kg') | (carnes_b['reference_unit'] == '€/Kg.') ]\n"
   ]
  },
  {
   "cell_type": "code",
   "execution_count": null,
   "metadata": {},
   "outputs": [
    {
     "data": {
      "text/plain": [
       "Unnamed: 0                          149429\n",
       "supermarket                   mercadona-es\n",
       "category                       carne_cerdo\n",
       "name               Chuletas aguja de cerdo\n",
       "description                        Bandeja\n",
       "price                                 2.98\n",
       "reference_price                       4.59\n",
       "reference_unit                          kg\n",
       "insert_date            2021-02-06 12:00:00\n",
       "Name: 2113, dtype: object"
      ]
     },
     "metadata": {},
     "output_type": "display_data"
    }
   ],
   "source": [
    "chuleta_merca = carnes_unidad[(carnes_unidad['name'].str.contains('cerdo')) & (carnes_unidad['supermarket'].str.contains('mercadona-es')) ]\n",
    "#jamoncitos_merca.loc[148]\n",
    "chuleta_merca.loc[2113]"
   ]
  },
  {
   "cell_type": "code",
   "execution_count": null,
   "metadata": {},
   "outputs": [
    {
     "data": {
      "text/plain": [
       "Unnamed: 0                                  11501\n",
       "supermarket                          mercadona-es\n",
       "category                    carne_carne_congelada\n",
       "name               Jamoncitos de pollo congelados\n",
       "description                               Paquete\n",
       "price                                        2.35\n",
       "reference_price                              2.35\n",
       "reference_unit                                 kg\n",
       "insert_date                   2020-10-23 12:00:00\n",
       "Name: 172, dtype: object"
      ]
     },
     "metadata": {},
     "output_type": "display_data"
    }
   ],
   "source": [
    "jamoncitos_merca = carnes_unidad[(carnes_unidad['name'].str.contains('Jamoncito')) & (carnes_unidad['supermarket'].str.contains('mercadona-es')) ]\n",
    "#jamoncitos_merca.loc[148]\n",
    "jamoncitos_merca.loc[172]"
   ]
  },
  {
   "cell_type": "code",
   "execution_count": null,
   "metadata": {},
   "outputs": [
    {
     "data": {
      "text/plain": [
       "Unnamed: 0                                                    105850\n",
       "supermarket                                                   dia-es\n",
       "category                                  frescos_carne_y_aves_pollo\n",
       "name               Jamoncitos de pollo familiar bandeja (peso apr...\n",
       "description                                                      NaN\n",
       "price                                                           4.74\n",
       "reference_price                                                 2.35\n",
       "reference_unit                                                 €/Kg.\n",
       "insert_date                                      2020-12-09 00:00:00\n",
       "Name: 1524, dtype: object"
      ]
     },
     "metadata": {},
     "output_type": "display_data"
    }
   ],
   "source": [
    "#precio por 1,2kg\n",
    "jamoncitos_dia = carnes_unidad[(carnes_unidad['name'].str.contains('Jamoncitos')) & (carnes_unidad['supermarket'].str.contains('dia-es')) ]\n",
    "jamoncitos_dia\n",
    "jamoncitos_dia.loc[1524]\n"
   ]
  },
  {
   "cell_type": "code",
   "execution_count": null,
   "metadata": {},
   "outputs": [
    {
     "data": {
      "text/plain": [
       "Unnamed: 0                                       8040\n",
       "supermarket                              carrefour-es\n",
       "category           el_mercado_carniceria_otras_carnes\n",
       "name               Jamoncitos de pollo congelado 1 kg\n",
       "description                                       NaN\n",
       "price                                            2.35\n",
       "reference_price                                  3.95\n",
       "reference_unit                                     kg\n",
       "insert_date                       2021-01-16 12:00:00\n",
       "Name: 121, dtype: object"
      ]
     },
     "metadata": {},
     "output_type": "display_data"
    }
   ],
   "source": [
    "jamoncitos_carre = carnes_unidad[(carnes_unidad['name'].str.contains('Jamoncitos')) & (carnes_unidad['supermarket'].str.contains('carrefour-es')) ]\n",
    "jamoncitos_carre.loc[121]"
   ]
  },
  {
   "cell_type": "markdown",
   "metadata": {},
   "source": [
    "<h1> Fruta"
   ]
  },
  {
   "cell_type": "code",
   "execution_count": null,
   "metadata": {},
   "outputs": [],
   "source": [
    "frutas_unidad = frutas[(frutas['reference_unit'] == 'kg') | (frutas['reference_unit'] == '€/Kg.') ]\n"
   ]
  },
  {
   "cell_type": "code",
   "execution_count": null,
   "metadata": {},
   "outputs": [
    {
     "data": {
      "text/plain": [
       "Unnamed: 0                                              139290\n",
       "supermarket                                       carrefour-es\n",
       "category           el_mercado_frutas_naranjas_y_otros_citricos\n",
       "name                                      Naranja selecta 1 Kg\n",
       "description                                      Bolsa De 1 Kg\n",
       "price                                                     2.99\n",
       "reference_price                                           2.99\n",
       "reference_unit                                              kg\n",
       "insert_date                                2020-09-26 12:04:00\n",
       "Name: 2843, dtype: object"
      ]
     },
     "metadata": {},
     "output_type": "display_data"
    }
   ],
   "source": [
    "naranjas = frutas_unidad[frutas_unidad['name'].str.startswith('Naranja')]\n",
    "nar_carre = naranjas[naranjas['supermarket'] == 'carrefour-es']\n",
    "nar_carre.loc[2843]"
   ]
  },
  {
   "cell_type": "code",
   "execution_count": null,
   "metadata": {},
   "outputs": [
    {
     "data": {
      "text/plain": [
       "Unnamed: 0                             35055\n",
       "supermarket                           dia-es\n",
       "category              frescos_fruta_citricos\n",
       "name               Naranja de zumo malla 3kg\n",
       "description                              NaN\n",
       "price                                   5.69\n",
       "reference_price                          1.9\n",
       "reference_unit                         €/Kg.\n",
       "insert_date              2020-09-08 04:00:00\n",
       "Name: 706, dtype: object"
      ]
     },
     "metadata": {},
     "output_type": "display_data"
    }
   ],
   "source": [
    "naranjas_dia = frutas_unidad[frutas_unidad['name'].str.startswith('Naranja')]\n",
    "naranjas_dia.loc[706]"
   ]
  },
  {
   "cell_type": "code",
   "execution_count": null,
   "metadata": {},
   "outputs": [
    {
     "data": {
      "text/plain": [
       "Unnamed: 0                         23756\n",
       "supermarket                 mercadona-es\n",
       "category           fruta_y_verdura_fruta\n",
       "name                             Naranja\n",
       "description                        Pieza\n",
       "price                               0.61\n",
       "reference_price                     2.09\n",
       "reference_unit                        kg\n",
       "insert_date          2020-11-04 12:00:00\n",
       "Name: 462, dtype: object"
      ]
     },
     "metadata": {},
     "output_type": "display_data"
    }
   ],
   "source": [
    "naranjas_merca = frutas_unidad[frutas_unidad['name'].str.startswith('Naranja')]\n",
    "naranjas_merca.loc[462]"
   ]
  },
  {
   "cell_type": "markdown",
   "metadata": {},
   "source": [
    "<h1> Pescado"
   ]
  },
  {
   "cell_type": "code",
   "execution_count": null,
   "metadata": {},
   "outputs": [],
   "source": [
    "pescados_unidad = pescados[(pescados['reference_unit'] == 'kg') | (pescados['reference_unit'] == '€/Kg.') ]\n"
   ]
  },
  {
   "cell_type": "code",
   "execution_count": null,
   "metadata": {},
   "outputs": [
    {
     "data": {
      "text/plain": [
       "array(['Escalopines de salmón sin espinas',\n",
       "       'Anillas de pota Argentina Hacendado congeladas',\n",
       "       'Lomos de salmón de Noruega sin piel y sin espinas Hacendado congelado',\n",
       "       'Calamar pequeño limpio descongelado sin barquilla y sin tripa',\n",
       "       'Mendo 500 g aprox',\n",
       "       'AGUINAMAR salpicón de marisco bandeja 225 gr',\n",
       "       'MARI MARINERA langostino cocido grande 32/48 piezas caja 800 gr',\n",
       "       'CAMPOS filetes de atún sin piel caja 225 gr', 'Morralla',\n",
       "       'Rodaja de emperador Hacendado congelado',\n",
       "       'Rodajas de emperador pequeñas Hacendado ultracongeladas',\n",
       "       'Gambón crudo bolsa (peso aprox. 500 gr)',\n",
       "       'ROYAL huevas de islandia de lumpus y capelan tarro 50 gr',\n",
       "       'Nigiris langostino',\n",
       "       'Filetes de merluza del cabo sin piel Hacendado ultracongelados',\n",
       "       'Croquetas de merluza y gambas Preli ultracongeladas',\n",
       "       'Filetes de bacalao ultracongelado Pescanova 400 g.',\n",
       "       'Gamba gigante pelada cruda Aligator 1 kg aprox',\n",
       "       'Cola pelada de gambón cocida Pescatrade 300 g',\n",
       "       'DIA colas de langostino cocido pelado 60/120 piezas 200 gr',\n",
       "       'Langostino cocido ecológico congelado Carrefour 600 g',\n",
       "       'Gamba pelada pequeña congelada Pescatrade 400 g',\n",
       "       'Sucedáneo de caviar negro Ubago Caviartic',\n",
       "       'Sepia limpia (peso aprox. 600 gr)',\n",
       "       'Dorada abierta a la espalda con espinas y con cabeza',\n",
       "       'Chipirón puntilla Hacendado congelado',\n",
       "       'Filetes de merluza al huevo Hacendado ultracongelados',\n",
       "       'CLAROS boquerones en vinagre envase 110g',\n",
       "       'DIA SELECCIÓN MUNDIAL salmón ahumado noruego sobre 200 gr',\n",
       "       'Tallarimis Pescanova', 'Boquerón limpio', 'Almeja japonesa',\n",
       "       'ROYAL bacalao ahumado con aceite de oliva envase 110 gr',\n",
       "       'DIA MARI MARINERA gulas clásicas refrigeradas bandeja 200 gr',\n",
       "       'DIA migas de bacalao envase 300 gr',\n",
       "       'Porciones de bacalao ultracongeladas Pescanova 400 g.',\n",
       "       'AGUINAMAR mejillones en salsa de tomate envase 500 gr',\n",
       "       'AGUINAMAR colas de langostino al ajillo envase 105 gr',\n",
       "       'Porciones de merluza del cabo Hacendado ultracongeladas',\n",
       "       'Gambón nº1 Carrefour 1 kg',\n",
       "       'Rabas empanadas Hacendado ultracongeladas',\n",
       "       'Pulpo crudo grande Hacendado congelado',\n",
       "       'AGUINAMAR pintxo a la donostiarra envase 200 gr',\n",
       "       'Navaja cruda Hacendado congelada', 'Sepia limpia congelada',\n",
       "       'Lomo de atún 300 g aprox',\n",
       "       'KRISSIA surimi fresco rallado envase 125 g',\n",
       "       'ROYAL salmón ahumado envase 80 gr',\n",
       "       'Salmón media pieza abierto en libro sin cabeza y sin espina',\n",
       "       'Merluza de lonja 1 kg aprox',\n",
       "       'Filete de merluza con piel ultracongelada 600 g.',\n",
       "       'Gamba cocida gambafresh 750 g.',\n",
       "       'Huevas cocidas de merluzas Embumar',\n",
       "       'Merluza merca en filetes 500 g aprox',\n",
       "       'Gamba pelada grande Pescatrade 400 g',\n",
       "       'Gambón argentino Mares del Sur 2 kg.',\n",
       "       'Calamar extra grande sin limpiar descongelado',\n",
       "       'Solomillos de salmón de Noruega 300 g',\n",
       "       'DIA MARI MARINERA langostino crudo mediano 48/64 piezas caja 800 gr',\n",
       "       'Migas de bacalao Ubago', 'Mix nigiris',\n",
       "       'Trucha abierta en libro sin cabeza y sin espina',\n",
       "       'Mojama de atún superior en lonchas Hacendado',\n",
       "       'Almeja de cultivo (peso aprox. 250 gr)', 'Filete de salmón',\n",
       "       'Fritura de pescado Hacendado ultracongelada',\n",
       "       'Bocas chicas de cangrejos congeladas',\n",
       "       'DIA langostino cocido grande 32/48 caja 800 gr',\n",
       "       'Albóndigas de bacalao Camós congeladas',\n",
       "       'Sepia limipia congelada 480 g',\n",
       "       'DIA colas de gambón peladas crudas envase 200 gr',\n",
       "       'DIA almeja del pacífico envase 450 gr',\n",
       "       'PESCANOVA merluza rebozada al huevo 320 gr',\n",
       "       'Boquerones en vinagre Marvalmar en aceite de girasol',\n",
       "       'LA GULA DEL NORTE con gambas al ajillo envase 125 gr',\n",
       "       'DIA palitos de surimi paquete 300 gr', 'Filetes de trucha',\n",
       "       'Surimi rallado Pescanova',\n",
       "       'Bocas de buey cocidas Carrefour 250 g aprox',\n",
       "       'Langostino cocido bolsa (peso aprox. 500 gr)',\n",
       "       'Bacaladilla en filete 500 g aprox',\n",
       "       'Sepia mediana limpia y entera unidad (peso aprox. 500 gr)',\n",
       "       'DIA MARI MARINERA bacalao desmigado desalado bandeja 250 gr',\n",
       "       'ROYAL salmón ahumado mini lonchas envase 2 x 50 gr',\n",
       "       'Bacalao troceado congelado 400 g',\n",
       "       'Filetes de abadejo de Alaska sin piel Hacendado ultracongelados',\n",
       "       'Anguriñas de surimi Pescanova ultracongeladas',\n",
       "       'PESCANOVA palitos del mar reducido en sal paquete 16 uds 305 gr',\n",
       "       'Pulpo cocido troceado Profand congelado',\n",
       "       'Gambón nº1 congelado Carrefour 1 kg aprox ',\n",
       "       'Langostino vannamei cocido 32/40 Carrefour 800 g.',\n",
       "       'Lomos y centros de merluza del cabo Hacendado ultracongelados',\n",
       "       'Lubina de ración 500 g aprox',\n",
       "       'Langostino caballitos rebozados Hacendado ultracongelados',\n",
       "       'Gambón congelado (20/30 ud) caja 2 Kg',\n",
       "       'NORTINDAL pack tinta de calamar 4 unidades 4 gr',\n",
       "       'AGUINAMAR mejillones cocidos envasado al vació 1 Kg',\n",
       "       'LA GULA DEL NORTE bandeja 220 gr',\n",
       "       'Salmón sin aletas y sin escamas',\n",
       "       'Anchoas del cantábrico Consorcio en aceite de oliva',\n",
       "       'Bacalao seco y salado Ubago',\n",
       "       'Lomos de abadejo de Alaska sin piel congelados 400 g',\n",
       "       'Solomillo de atún congelado Campos 250 g.',\n",
       "       'EMBUMAR huevas cocidas de merluza 120 gr',\n",
       "       'Corazones de filete de merluza ultracongelados Pescanova 500 g.',\n",
       "       'Salmonete pequeño 500 g aprox', 'Rape a rodajas',\n",
       "       'Langostino cocido extra Pescanova 800 g.',\n",
       "       'Langostino Austral cocido Gigante Pescanova 800 g.',\n",
       "       'Ensalada de alga wakame con salmón',\n",
       "       'Carne de Mejillon cocido 80/120 Carrefour 400 g.',\n",
       "       'DIA MARI MARINERA bacalao desmigado desalado bolsa 250 gr',\n",
       "       'Filete de fletán negro Hacendado congelado',\n",
       "       'Rodaja de merluza congelado Carrefour 400 g',\n",
       "       'Carne de almeja Hacendado ultracongelada',\n",
       "       'Gamba blanca cruda Carrefour 400 g.', 'Lenguado sin limpiar',\n",
       "       'Dorada de cultivo limpia y entera unidad (peso aprox. 750 gr)',\n",
       "       'Gambón congelado',\n",
       "       'Migas de bacalao sin espinas y sin piel Hacendado congeladas',\n",
       "       'Dorada de ración 500 g aprox',\n",
       "       'Supremas de salmón sin piel congelado Findus 200 g.',\n",
       "       'LA GULA DEL NORTE al ajillo envase 125 gr',\n",
       "       'Filete de bacalao con piel, limpio y sin espinas unidad (peso aprox. 500 gr)',\n",
       "       'Langostino cocido congelado (30/40 ud) Pescatrade 1 kg aprox',\n",
       "       'MARI MARINERA trucha ahumada envase 100 gr',\n",
       "       'Cigala 17/20 Carrefour 800 gr.', 'Almeja entera Mascato',\n",
       "       'Palitos de surimi Pescanova',\n",
       "       'Filetes de merluza sin piel Pescanova 400 g.',\n",
       "       'Filete de bacalao al punto sal ultracongelado Carrefour 400 g.',\n",
       "       'Boquerones 500 g aprox',\n",
       "       'Rodaballo con piel, sin aletas y sin agallas',\n",
       "       'Surtido sushi salmón sin gluten',\n",
       "       'DIA filetes de bacalao envase 400 gr',\n",
       "       'Lomo de bacalao sin espinas Hacendado congelado',\n",
       "       'Tronquitos de surimi Pescanova ultracongelados',\n",
       "       'Alistado pequeño congelado', 'Langostino Jumbo 0/10 500 g aprox',\n",
       "       'Carne de Vieira Falfish congelada',\n",
       "       'Carne de mejillón de Chile cocido Hacendado ultracongelado',\n",
       "       'Huevas de lumpo Hacendado', 'Filetes de panga ultracongelados',\n",
       "       'Nuggets de merluza Pescanova ultracongelados',\n",
       "       'Anillas de potón (peso aprox. 250 gr)',\n",
       "       'Sepia limpia pequeña Hacendado congelada',\n",
       "       'Lubina limpia con cabeza',\n",
       "       'Filetes de merluza Argentina sin piel Hacendado ultracongelados',\n",
       "       'Salmón rodaja unidad (peso aprox. 400 gr)',\n",
       "       'DIA MARI MARINERA langostino crudo grande 32/48 piezas caja 800 gr',\n",
       "       'Palitos salados de bacalao Ubago',\n",
       "       'DIA MARI MARINERA trucha ahumada envase 100 gr',\n",
       "       'Filete de Merluza del Cabo Carrefour 600 g.',\n",
       "       'Boquerón limpio congelado Delfín 500 g.',\n",
       "       'Mojama de atún superior en taco Ubago',\n",
       "       'Lomos salmón congelados Carrefour 480 g.',\n",
       "       'Anchodinas envase 50 gr',\n",
       "       'Lomos de merluza ultracongelados Pescanova 400 g.',\n",
       "       'Sardina limpia', 'ROYAL lomo de salmón ahumado sobre 100 gr',\n",
       "       'Corvina limpia con cabeza',\n",
       "       'Filetes de fletán congelados Antonio y Ricardo 500 g.',\n",
       "       'DIA rodajas de merluza bolsa 600 gr',\n",
       "       'NÓS filete de merluza sin piel envase 350 gr',\n",
       "       'Pecho crudo congelado 1 kg', 'Langostino cocido', 'Navajas',\n",
       "       'Filete de salmón rosado salvaje con piel Hacendado congelado',\n",
       "       'Langostino crudo ecológico congelado  Pesca Facil 600g ',\n",
       "       'Langostinos crudos 800 g.', 'Rodajas de salmón',\n",
       "       'Lomos de atún aleta amarilla Escuris ultracongelados',\n",
       "       'Preparado paella de marisco Hacendado ultracongelado',\n",
       "       'Gambón nº1 congelado Carrefour 1 kg aprox',\n",
       "       'Langostino en su nido Vdfoodltd congelado',\n",
       "       'Tiras de potón del Pacífico Hacendado congeladas',\n",
       "       'Porciones de bacalao sin espinas y sin piel Hacendado congelado',\n",
       "       'Gamba arrocera congelada',\n",
       "       'DIA salmón ahumado noruego sobre 200 gr',\n",
       "       'Elaborado de salmón y merluza',\n",
       "       'Langostinos cocidos Gambafresh 800 g.',\n",
       "       'Chanquitos enharinados Pescanova ultracongelados',\n",
       "       'Dorada Círculo de Calidad 500 g aprox',\n",
       "       'Rodaja de tintorera con piel Hacendado congelada',\n",
       "       'Filete de abadejo de Alaska sin piel congelado 600 g',\n",
       "       'Solomillo de atún 120 g aprox', 'Salmón marinado Ubago',\n",
       "       'Filetes de anchoa en aceite de girasol Hacendado',\n",
       "       'Gallo ración 500 g aprox',\n",
       "       'Dorada abierta en libro sin cabeza y sin espina',\n",
       "       'Figuritas de merluza empanadas Hacendado ultracongeladas',\n",
       "       'Tubo de pota congelado',\n",
       "       'Mini empanadillas de atún Hacendado ultracongeladas',\n",
       "       'Medallones de merluza del cabo Hacendado ultracongelados',\n",
       "       'Medallones de filete de merluza Pescanova 400 g.',\n",
       "       'Sashimis salmón',\n",
       "       'Langostino extra grande cocido 24/32 Carrefour 800 g.',\n",
       "       'Filetes de anchoa en aceite de oliva Hacendado',\n",
       "       'Rodaballo Círculo de calidad 1,5 kg aprox',\n",
       "       'Gamba pelada cruda congelada Grand Krust 300 g.',\n",
       "       'DIA figuritas de merluza bolsa 400 gr',\n",
       "       'Arreglo para paella de marisco',\n",
       "       'AGUINAMAR pata de pulpo bandeja 200 gr', 'Berberechos',\n",
       "       'Lubina de cultivo limpia y entera unidad (peso aprox. 750 gr)',\n",
       "       'Alistado 10/20 Delfín 300 g.',\n",
       "       'Gambón crudo grande Carrefour 2 kg.',\n",
       "       'Filetes de boquerón en tempura Hacendado ultracongelado',\n",
       "       'Lubina abierta en libro sin cabeza y sin espina',\n",
       "       'Merluza de pincho limpia en filetes (peso aprox. 2.1 Kg)',\n",
       "       'Rodajas de merluza argentina congeladas Carrefour 600 g.',\n",
       "       'Langostino crudo Pescanova ultracongelado',\n",
       "       'California rolls crunch de surimi',\n",
       "       'Langostino crudo Carrefour 800 g.', 'Salpicón de marisco',\n",
       "       'Filete de rosada congelado 540 g',\n",
       "       'Filetes de anchoa en aceite de oliva Hacendado del cantábrico',\n",
       "       'Rape blanco 2 kg aprox',\n",
       "       'SKANDIA surtido de ahumados atún, salmón y bacalao envase 100 gr',\n",
       "       'Corvina a filetes sin cabeza y sin espina',\n",
       "       'Rodajas de rape del cabo sin piel Mascato congeladas',\n",
       "       'Carne de vieira congelada cruda 250 g',\n",
       "       'Filetes de merluza sin piel ultracongelados Pescanova 800 g.',\n",
       "       'Langostino cocido congelado (40/60 ud) Pescatrade 1 kg',\n",
       "       'Filete de merluza sin piel congelado 850 g',\n",
       "       'Filetes de bacalao sin espinas Hacendado congelado',\n",
       "       'Langostino salvaje cocido 24/32 Carrefour 800 g.',\n",
       "       'Calamar patagónico congelado 500 g',\n",
       "       'Nécora cocida Pescanova 800 g.',\n",
       "       'Langostino marfil 16/24 Carrefour 800 g.',\n",
       "       'MARI MARINERA langostino crudo extra 24/32 piezas caja 800 gr',\n",
       "       'Merluza de pincho de lonja 1 kg aprox',\n",
       "       'Rape sin aletas y sin dientes',\n",
       "       'Almejas del Pacífico Marnatura 450 g.',\n",
       "       'Sardina parrocha 500 g aprox',\n",
       "       'DIA carne de mejillón bolsa 250 gr',\n",
       "       'PESCANOVA corazones de merluza caja 500 gr',\n",
       "       'Gambón Carrefour 500 g.', 'Migas de bacalao desaladas Hacendado',\n",
       "       'Mejillón gordo', 'Cola de langosta congelada cruda Delfín 196 g.',\n",
       "       'Langostino Gambón 16/24 Pescanova 800 g.',\n",
       "       'Palometa Pieza 1000 gr aprox',\n",
       "       'Filetes de sardina anchoada Hacendado en aceite de girasol',\n",
       "       'Gambón extra grande crudo 14/21 piezas Carrefour 700 g.',\n",
       "       'Rape sin piel y sin cabeza',\n",
       "       'Pata de pulpo cocida congelada 250 g',\n",
       "       'EMBUMAR huevas cocidas de bacalao 120 gr',\n",
       "       'Cuerpos chicos de cangrejo Dimarosa congelados',\n",
       "       'Sardina 500 g aprox',\n",
       "       'Gamba pelada congelada 90/110 Antonio y Ricardo 375 g.',\n",
       "       'Rape abierto en libro sin espina',\n",
       "       'DIA DELICIOUS salmón ahumado envase 100 gr',\n",
       "       'Langostinos cocidos Costasur 800 g.',\n",
       "       'PESCANOVA redondos de merluza del Cabo bolsa 400 gr',\n",
       "       'Medallones de merluza argentina congelados Carrefour 480 g.',\n",
       "       'Dorada salvaje de mercado 300 g aprox',\n",
       "       'Bacalao en filete 500 gr aprox',\n",
       "       'Boquerones al vinagre Hacendado en aceite de girasol',\n",
       "       'Buey de mar 600/800 Delfín 667 g.',\n",
       "       'Tacos de bacalao sin espinas Hacendado congelado',\n",
       "       'Salmón sashimi 140 g',\n",
       "       'DIA MARI MARINERA navajas crudas bandeja 400 gr',\n",
       "       'Langostino salvaje congelado Carrefour 600 g',\n",
       "       'DIA SELECCIÓN MUNDIAL salmón ahumado sobre 100 gr',\n",
       "       'Gallo mediano limpio y entero unidad (peso aprox. 600 gr)',\n",
       "       'Salmón al curry con arroz', 'Gyozas de langostino',\n",
       "       'Surtido sushi',\n",
       "       'Filetes de sardina marinada Hacendado en aceite de oliva virgen extra',\n",
       "       'MARI MARINERA langostino cocido mediano 48/64 piezas caja 800 gr',\n",
       "       'Palitos de merluza a la romana Hacendado ultracongelados',\n",
       "       'PESCANOVA sepia limpia bandeja 300 gr',\n",
       "       \"Suprema de merluza fresca Olav's 320 g\",\n",
       "       'Merluza media pieza a rodajas', 'Trucha sin aletas',\n",
       "       'Lubina sin limpiar', 'Gamba grande pelada bolsa 400 gr',\n",
       "       'Anguriñas de surimi Pescanova', 'Merluza en filete 500 g aprox',\n",
       "       'Pescadilla de pincho 1,5 kg aprox',\n",
       "       'Calamar grande limpio descongelado sin barquilla y sin tripa',\n",
       "       'Salmón en filete ecológico Carrefour Bio 300 g aprox',\n",
       "       'Rodajas de pez espada bolsa 600 gr',\n",
       "       'ROYAL salmón ahumado marinado sobre 80 gr',\n",
       "       'Chipirones enharinados Hacendado ultracongelado',\n",
       "       'Merluza empanada pan fino Hacendado ultracongelada',\n",
       "       'Caracoles precocidos Hacendado ultracongelados',\n",
       "       'DIA filetes de merluza del cabo sin piel bolsa 600 gr',\n",
       "       'Tronquitos de Merluza del cabo ultracongelados Carrefour 500 g.',\n",
       "       'Salmón al curry Hacendado', 'Salmón media pieza a rodajas',\n",
       "       'Surtido makis veganos',\n",
       "       'Aritos de surimi a la romana Pescanova ultracongelados',\n",
       "       'Dorada limpia con cabeza',\n",
       "       'DIMAR lomos de salmón salvaje envase 360 gr', 'Pulpo cocido',\n",
       "       'Bogavante americano mediano crudo Hacendado congelado',\n",
       "       'Calamar limpio troceado Hacendado congelado',\n",
       "       'DAGUSTIN gamba blanca cocida caja 300 g',\n",
       "       'Anillas de pota a la romana Hacendado ultracongeladas',\n",
       "       'Mejillón vivo y limpio',\n",
       "       'Camarón boreal cocido y pelado Royal Greenland ultracongelado',\n",
       "       'Gamba pelada cruda tamaño grande Hacendado ultracongelada',\n",
       "       'Suprema de atún congelado Findus 250 g.',\n",
       "       'Sepia limpia troceada Hacendado congelada',\n",
       "       'Langostino crudo blanco 40/50 Delfín 600 g.',\n",
       "       'Caracoles en caldo Helifrusa',\n",
       "       'Langostino vannamei entero crudo Pescanova 300 g.',\n",
       "       'Merluza media pieza sin aletas y sin escamas',\n",
       "       'Filete de limada sin piel congelada 600 g',\n",
       "       'Rejo potón pacífico cocido en trozos congelados 400 g',\n",
       "       'AGUINAMAR mejillones en su jugo envase 500 gr',\n",
       "       'Salmón a rodajas',\n",
       "       'Bacalao media pieza abierto en libro sin cabeza y sin espina',\n",
       "       'Rodajas de potón a la gallega Hacendado',\n",
       "       'PESCANOVA filetes de merluza baby bolsa 400 gr',\n",
       "       'PESCANOVA varitas de merluza 450 gr',\n",
       "       'Lubina abierta a la espalda con espinas y con cabeza',\n",
       "       'Langostino cocido blanco 40/50 Delfín 600 g.',\n",
       "       'Merluza a rodajas', 'PESCANOVA filete de bacalao envase 400 gr',\n",
       "       'Gamba salvaje pelada cruda 88/123 piezas Grand Krust 600 g.',\n",
       "       'Mejillón 40/50 piezas malla (peso aprox. 1 Kg)',\n",
       "       'DIA SELECCIÓN MUNDIAL filetón bacalao salado envase 700 gr',\n",
       "       'Puntilla sin pluma congelada 450 g',\n",
       "       'Gambón 30-40 Carrefour 1 kg.',\n",
       "       'Bocados de atún congelados Campos 250 g.',\n",
       "       'Rodaballo a filetes y sin piel',\n",
       "       'Salmón Calidad y Origen Carrefour 1 ud de 3 kg aprox',\n",
       "       'PESCANOVA surfers de merluza rebozada caja 400 gr',\n",
       "       'Filetes de bacalao congelados Dimar 400 g.',\n",
       "       'Cola de rape del cabo Hacendado congelada', 'Makis salmón',\n",
       "       'Buey de mar cocido Globalimar pieza 1 Kg',\n",
       "       'Anguriñas al ajillo Pescanova',\n",
       "       'Langostino vannamei cocido 30/40 piezas Carrefour 400 g.',\n",
       "       'Salmón ahumado Ubago', 'Filetes lomo de merluza',\n",
       "       'Carne de vieira congelada cruda Carrefour 320 g',\n",
       "       'Percebe cocido Delfín 500 g.', 'Alistado mediano congelado',\n",
       "       'Rodaja rejo cocido', 'Solomillo de atún 200 g',\n",
       "       'Filete de merluza con piel congelado 620 g', 'Filete de atún',\n",
       "       'Calamar mediano sin limpiar descongelado',\n",
       "       'Gambón pelado Delfín 200 g.', 'Gamba pelada Pescanova 500 g.',\n",
       "       'Mejillón', 'Lenguado sin cabeza y sin piel',\n",
       "       'Rodaja de pez espada congelada 500 g aprox',\n",
       "       'Boquerones en vinagre Hacendado en aceite de girasol',\n",
       "       'Langostino extra crudo Pescanova 800 g.',\n",
       "       'Gallo mediano sin limpiar',\n",
       "       'Cola de gambón peladas crudas ultracongelada Pescatrade 270 g.',\n",
       "       'Croquetas de bacalao minis Camós congeladas',\n",
       "       'Salmón abierto en libro sin cabeza y sin espina',\n",
       "       'Bacalao al punto de sal',\n",
       "       'Camarón cocido pelado Carrefour 200 g.',\n",
       "       'Almeja rubia cruda congelada 600 g',\n",
       "       'ALIGATOR almeja del pacífico bolsa 450 gr',\n",
       "       'PESCANOVA gambas peladas bolsa 500 gr',\n",
       "       'Lomo de salmón congelado Friusa 300 g',\n",
       "       'Filete de lenguado al vacío congelado Delfín 180 g.',\n",
       "       'Filetes de merluza del cabo grandes sin piel Hacendado ultracongelados',\n",
       "       'Mejillón ultracongelado cocido 500 g',\n",
       "       'Nécora cocida Errigal Bay congelada', 'Lubina 1,5 kg aprox',\n",
       "       'Bento box', 'Gamba blanca cocida Carrefour 500 g.',\n",
       "       'Corvina abierta a la espalda con espinas y con cabeza',\n",
       "       'Bacalao ventrescas congelado Dimar 360 g.',\n",
       "       'Colas de gambón peladas Hacendado ultracongeladas',\n",
       "       'Empanadillas de atún Hacendado ultracongeladas',\n",
       "       'Rodaballo Calidad y Origen Carrefour 1,5 kg aprox',\n",
       "       'DIA merluza rebozada al huevo caja 400 gr',\n",
       "       'Cola de langostino cocido pelado Aligator 300 g',\n",
       "       'Anillas a la romana Hacendado ultracongeladas',\n",
       "       'Gamba cocida congelada Antonio y Ricardo 800 g.',\n",
       "       'Palito de bacalao seco y salado Ubago',\n",
       "       'Pescadilla de merluza del cabo sin cabeza Mascato ultracongelada',\n",
       "       'Tortillitas de camarones Crabss ultracongeladas',\n",
       "       'Lomo de salmón congelado 125 g',\n",
       "       'Langostinos crudos Costasur 800 g.',\n",
       "       'Buey de mar cocido Hacendado congelado',\n",
       "       'Gallo en filete 1 kg aprox', 'Carabineros 5/8 Delfín 360 g.',\n",
       "       'Almeja del pacífico Hacendado congelada',\n",
       "       'DIMAR palitos de bacalado salado envase 300 gr',\n",
       "       'Calamar mediano limpio descongelado sin barquilla y sin tripa',\n",
       "       'Mejillón de Chile entero cocido Hacendado ultracongelado',\n",
       "       'Filetes de pez espada congelados Antonio y Ricardo 500 g.',\n",
       "       'Langostinos crudos Gambafresh 800 g.', 'Pescadilla 1,2 kg aprox',\n",
       "       'Espadín crudo congelado Delfín 500 g.',\n",
       "       'Calamar entero patagónico pequeño Hacendado ultracongelado',\n",
       "       'Lomo extra de salmón noruego sin espinas congelado Royal 500 g',\n",
       "       'Pescadilla de merluza del cabo sin cabeza Hacendado ultracongelada',\n",
       "       'Rodaballo a filetes', 'Atún para sushi Gimar 150 g',\n",
       "       'ALIGATOR vieira 1/2 concha envase 4 uds',\n",
       "       'Merluza del cabo sin cabeza Hacendado congelada',\n",
       "       'Almejas japonesas crudas ultracongeladas Pescatrade 300 g.',\n",
       "       'Langostino cocido congelado (30/40 ud) Pescatrade 900 g',\n",
       "       'Lomos de bacalao ultracongelado Pescanova 300 g.',\n",
       "       'Gambón Tail On marinado Delfin 150 g.',\n",
       "       'Bocas y pechos cocidos Carrefour 540 g.', 'Rodaja de emperador',\n",
       "       'Lenguado entero Hacendado ultracongelado',\n",
       "       'Rodajas de solomillo de bacalao al punto de sal congelado 300 g',\n",
       "       'Muslitos de surimi Pescanova ultracongelados',\n",
       "       'Merluza de pincho Círculo de Calidad 1,5 kg aprox',\n",
       "       'Lomo de salmón ecológico Carrefour Bio 300 g',\n",
       "       'Filetes de dorada', 'Gamba pelada (10/30 ud) Carrefour 700 g',\n",
       "       'Carne de vieira congelada cruda 500 g aprox',\n",
       "       'Langostino cocido congelado 1 kg aprox',\n",
       "       'Dorada a filetes sin cabeza y sin espina',\n",
       "       'Bogavante americano grande crudo Hacendado congelado',\n",
       "       'DIA langostino crudo grande 32/48 caja 800 gr',\n",
       "       'Sardina en filetes 500 g aprox',\n",
       "       'DIA SELECCIÓN MUNDIAL salmón ahumado envase 100 gr',\n",
       "       'DIA MARI MARINERA palitos de surimi paquete 300 gr',\n",
       "       'Nigiris salmón', 'NOS gambón crudo 20/30 piezas caja 800 gr',\n",
       "       'Gamba mediana pelada bolsa 400 gr',\n",
       "       'Varitas de merluza empanadas Hacendado ultracongeladas',\n",
       "       'Calamar pequeño sin limpiar descongelado',\n",
       "       'ART MORHUA bacalao desmigado desalado skrei bandeja 250 gr',\n",
       "       'MARI MARINERA langostino crudo mediano 48/64 piezas caja 800 gr',\n",
       "       'Langostino crudo extra ultracongelado',\n",
       "       'Langostino cocido y pelado Pescanova ultracongelado',\n",
       "       'PESCANOVA calamar limpio bandeja 300 gr',\n",
       "       'Gamba cocida extra 60/70 piezas 500 g',\n",
       "       'Almeja del Pacífico Hacendado congelada',\n",
       "       'Langostino crudo Langostar 1350 g.',\n",
       "       'ALIGATOR vieira 1/2 concha envase 4 uds 200 gr',\n",
       "       'Sardina sin limpiar', 'Alistado congelado Carrefour 500 g',\n",
       "       'Filetes de sardina ahumada Hacendado en aceite de girasol',\n",
       "       'DIA filetes de abadejo de alaska 6/10 piezas bolsa 850 gr',\n",
       "       'Langostino crudo ultracongelado',\n",
       "       'Almeja juliana cruda congelada 500 g',\n",
       "       'Vieira a la gallega Hacendado ultracongelada',\n",
       "       'Clóchina Valenciana', 'Langostino pelado gigante Aligator 180 g',\n",
       "       'Solomillo de vieria del Atlántico congelado 250 g',\n",
       "       'Salmón media pieza sin aletas y sin escamas',\n",
       "       'Lomos merluza con piel ultracongelados Carrefour 400 g.',\n",
       "       'Pulpo entero congelado 1 Kg aprox',\n",
       "       'Filete de merluza argentina sin piel 900 g',\n",
       "       'Langostino cocido pelado grande Pescanova 180 g.',\n",
       "       'Sardinas saladas y prensadas Ubago',\n",
       "       'Rodaja de potón del pacífico cocido Hacendado congelado',\n",
       "       'Filete de pez espada unidad (peso aprox. 180 gr)',\n",
       "       'Pescadilla fina 1 kg aprox',\n",
       "       'Filete de tilapia sin piel congelado 400 g',\n",
       "       'MARI MARINERA bogavante crudo pieza 350 gr',\n",
       "       'Gallo  mediano 500 g aprox', 'Gyozas de pollo Hacendado',\n",
       "       'Bogavante crudo Carrefour 1 ud',\n",
       "       'Langostino banana Pescanova 1 kg.',\n",
       "       'Filete de merluza del Cabo sin piel congelado 510 g',\n",
       "       'Buñuelos de bacalao Fresno ultracongelados',\n",
       "       'Cuerpos grandes de cangrejo Dimarosa congelados',\n",
       "       'Nécoras cocidas Carrefour 500 g.', 'Surtido California rolls',\n",
       "       'Medallones de merluza congelados Antonio y Ricardo 500 g.',\n",
       "       'Anilla de pota argentina congelada 500 g',\n",
       "       'Tubo de pota Hacendado congelado',\n",
       "       'Caracoles en salsa mediterránea',\n",
       "       'Langostino crudo congelado Pescatrade 1 kg',\n",
       "       'Langostino crudo ecológico Carrefour Bio 700 g.',\n",
       "       'Tiras de potón descongeladas',\n",
       "       'DIA langostino crudo mediano 48/64 caja 800 gr',\n",
       "       'Colas de merluza congeladas 600 g',\n",
       "       'DIA calamar troceado bolsa 450 gr', 'Pulpo congelado 1 Kg aprox',\n",
       "       'Langostino crudo congelado (40/60) Pescatrade 1 kg',\n",
       "       'DIA MARI MARINERA langostino cocido 24/32 piezas caja 800 gr',\n",
       "       'Lomo de salmón unidad (peso aprox. 300 gr)',\n",
       "       'Filetes de pez espada congelados 700 g',\n",
       "       'Taco de bacalao extra al punto de sal congelado 400 g',\n",
       "       'Lubina a filetes sin cabeza y sin espina', 'Cañaílla',\n",
       "       'Supremas de atún congeladas 250 g',\n",
       "       'Calamar mediano limpio sin barquilla y sin tripa',\n",
       "       'TERRANOVA medio pulpo cocido (peso aprox. 455 gr)',\n",
       "       'Dorada sin limpiar', 'Boca grande de cangrejo congelada',\n",
       "       'Cangrejo boreal cocido Carrefour 1 kg aprox',\n",
       "       'Carabinero mediano congelado 600 g aprox',\n",
       "       'Bígaro congelado cocido 750 g', 'Gamba blanca congelada',\n",
       "       'Boquerón 700 g',\n",
       "       'Langostinos cocidos con salsa aperitivo Grand Krust 290 g.',\n",
       "       'Alistado pequeño Hacendado congelado',\n",
       "       'Boquerones de lonja congelados Fripozo 600 g.',\n",
       "       'Migas de bacalao dorado con cebolla y patatas paja Hacendado congelado',\n",
       "       'Boquerón sin limpiar', 'Bacalao estilo pil pil',\n",
       "       'Taco salmón keta salvaje congelado 360 g',\n",
       "       'Lubina Círculo de Calidad 500 g aprox',\n",
       "       'Lomos de merluza del cabo crudos ultracongelados Delfin 400 g.',\n",
       "       'Lubina grande ecológica 700 g aprox',\n",
       "       'Gamba cocida congelada Carrefour 600 g',\n",
       "       'Almeja japonesa cruda congelada Pescatrade 400 g',\n",
       "       'MARI MARINERA langostino crudo grande 32/48 piezas caja 800 gr',\n",
       "       'Alistado mediano Hacendado congelado', 'Sepia',\n",
       "       'Filete de salmón salvaje congelado 400 g.',\n",
       "       'Carne de almeja cocida congelada 270 g',\n",
       "       'Langostino extra grandes crudos Carrefour 800 g.',\n",
       "       'Cigala mediana Hacendado ultracongelada',\n",
       "       'Cola de gambón pelado congelado Carrefour 400 g',\n",
       "       'Cola rape 500 g aprox',\n",
       "       'Cigala congelada (5/7 ud) Carrefour 1 kg aprox',\n",
       "       'Plancha de salmón',\n",
       "       'DIA MARI MARINERA bacalao desmigado salado envase 250 gr',\n",
       "       'AGUINAGA pata de pulpo cocida envase 250 gr',\n",
       "       'Escalopines de salmón ecológico Carrefour Bio 270 g',\n",
       "       'Tiras de pota congeladas 500 g',\n",
       "       'California rolls sin pescado crudo',\n",
       "       'Gallo pequeño sin cabeza y sin flecos',\n",
       "       'ROYAL bacalao ahumado con aceite de girasol envase 110 gr',\n",
       "       'Lomo de bacalao Carrefour 300 g.',\n",
       "       'Gambón nº2 congelado Carrefour 1 Kg aprox  ',\n",
       "       'Mejillón bio malla (peso aprox. 1 Kg)',\n",
       "       'Cola de rape (peso aprox. 500 gr)',\n",
       "       'KRISSIA palitos de surimi paquete 16 uds 266 gr',\n",
       "       'Cola camarón cocida y pelada Globalimar 300 g',\n",
       "       'Salmón en filete Calidad y Origen Carrefour 500 g aprox',\n",
       "       'Carne zamburiña 40/60 Delfín 270 g.',\n",
       "       'Nécora cocida 5/8 Delfín 800 g.',\n",
       "       'DIA MARI MARINERA langostino cocido mediano 48/64 piezas caja 800 gr',\n",
       "       'Gallos sin cabeza Hacendado ultracongelado',\n",
       "       'Bacalao abierto en libro sin cabeza y sin espina',\n",
       "       'MARI MARINERA gulas clásicas refrigeradas bandeja 200 gr',\n",
       "       'Bacalao ahumado Ubago en aceite de girasol',\n",
       "       'Pulpo congelado 2,5 Kg aprox',\n",
       "       'Lomo de bacalao al punto de sal congelado 320 g',\n",
       "       'DIMAR filetón de bacalao salado gadus morhua bolsa 800 gr',\n",
       "       'Gallo limpio en filetes (peso aprox. 1 Kg)',\n",
       "       'Langostino vannamei cocido 60/68 800 g.',\n",
       "       'Capellanes bacaladilla seca salada Hacendado',\n",
       "       'Gambón pelado Pescanova 200 g.', 'Chicharro 1 kg aprox',\n",
       "       'Cigala entera cruda ultracongelada 1,25 kg',\n",
       "       'Gyozas de verduras Hacendado',\n",
       "       'DIA MARI MARINERA langostino cocido grande 32/48 piezas caja 800 gr',\n",
       "       'Trucha abierta en libro con cabeza',\n",
       "       'DIA MARI MARINERA langostino crudo extra 24/32 piezas caja 800 gr',\n",
       "       'PESCANOVA anguriñas bandeja 200 gr', 'Buey de mar cocido 600 g ',\n",
       "       'Gamba blanca cocida Hacendado ultracongelada',\n",
       "       'Langostino del Mediterráneo cocido congelado 600 g',\n",
       "       'Lomos de halibut de Alaska sin piel congelados 400 g',\n",
       "       'Viera del Pacífico con media concha congelada 450 g',\n",
       "       'Langostino cocido congelado 15/25 Delfín 400 g.',\n",
       "       'Filete rape sin piel ultracongelado Pescanova 250 g.',\n",
       "       'Bacalao a rodajas',\n",
       "       'Bacalao dorado ultracongelado Armazens Mercearia Marvanejo 240 g.',\n",
       "       'Bacalao media pieza a rodajas', 'Vieira Pescanova 225 g.',\n",
       "       'Zamburiña media concha ultracongelada 250 g',\n",
       "       'Mojama de atún superior en lonchas Ubago',\n",
       "       'Gamba arrocera Hacendado congelada',\n",
       "       'Gamba pelada cruda tamaño mediano Hacendado ultracongelada',\n",
       "       'Filetes de lubina',\n",
       "       'Langostino crudo y pelado Pescanova ultracongelado',\n",
       "       'Cigala cocida congelada Carrefour 600 g',\n",
       "       'Almeja del pacífico entera Hacendado ultracongelada',\n",
       "       'Mejillón media concha Carrefour 400 g.',\n",
       "       'DIA MARI MARINERA filetón bacalao salado envase 700 gr',\n",
       "       'Solomillo de atún congelado Antonio y Ricardo 225 g.',\n",
       "       'DIA MARI MARINERA buey de mar cocido pieza 400 gr',\n",
       "       'Bacaladilla 500 g aprox',\n",
       "       'Langostino cocido ecológico Carrefou Bio 700 g.'], dtype=object)"
      ]
     },
     "metadata": {},
     "output_type": "display_data"
    }
   ],
   "source": [
    "pescados_unidad.name.unique()"
   ]
  },
  {
   "cell_type": "code",
   "execution_count": null,
   "metadata": {},
   "outputs": [
    {
     "data": {
      "text/plain": [
       "Unnamed: 0                                                     71893\n",
       "supermarket                                             carrefour-es\n",
       "category           el_mercado_pescaderia_pescado_y_marisco_congelado\n",
       "name               Filetes de bacalao ultracongelado Pescanova 40...\n",
       "description                                                      NaN\n",
       "price                                                           6.15\n",
       "reference_price                                                15.37\n",
       "reference_unit                                                    kg\n",
       "insert_date                                      2021-02-09 12:00:00\n",
       "Name: 1248, dtype: object"
      ]
     },
     "metadata": {},
     "output_type": "display_data"
    }
   ],
   "source": [
    "pesc_carre = pescados_unidad[(pescados_unidad['name'].str.contains('bacalao')) & (pescados_unidad['supermarket'].str.contains('carrefour-es')) ]\n",
    "pesc_carre.loc[1248]"
   ]
  },
  {
   "cell_type": "code",
   "execution_count": null,
   "metadata": {},
   "outputs": [
    {
     "data": {
      "text/plain": [
       "Unnamed: 0                                                     19557\n",
       "supermarket                                             mercadona-es\n",
       "category                                          congelados_pescado\n",
       "name               Filetes de bacalao sin espinas Hacendado conge...\n",
       "description                                                  Paquete\n",
       "price                                                           4.25\n",
       "reference_price                                                11.33\n",
       "reference_unit                                                    kg\n",
       "insert_date                                      2020-11-16 00:00:00\n",
       "Name: 341, dtype: object"
      ]
     },
     "metadata": {},
     "output_type": "display_data"
    }
   ],
   "source": [
    "pesc_merca = pescados_unidad[(pescados_unidad['name'].str.contains('Filetes de bacalao')) & (pescados_unidad['supermarket'].str.contains('mercadona-es')) ]\n",
    "pesc_merca.loc[341]"
   ]
  },
  {
   "cell_type": "code",
   "execution_count": null,
   "metadata": {},
   "outputs": [
    {
     "data": {
      "text/plain": [
       "Unnamed: 0                                                  71323\n",
       "supermarket                                                dia-es\n",
       "category           congelados_y_helados_pescado_y_marisco_pescado\n",
       "name                    PESCANOVA filete de bacalao envase 400 gr\n",
       "description                                                   NaN\n",
       "price                                                        6.99\n",
       "reference_price                                             17.48\n",
       "reference_unit                                              €/Kg.\n",
       "insert_date                                   2020-11-19 12:00:00\n",
       "Name: 1232, dtype: object"
      ]
     },
     "metadata": {},
     "output_type": "display_data"
    }
   ],
   "source": [
    "pesc_dia= pescados_unidad[(pescados_unidad['name'].str.contains('bacalao')) & (pescados_unidad['supermarket'].str.contains('dia-es')) ]\n",
    "pesc_dia.loc[1232]"
   ]
  },
  {
   "cell_type": "markdown",
   "metadata": {},
   "source": [
    "No saco conclusiones de valor asi que decido sacar los datos de la web donde me resulta más facil filtrar y tengo mas productos"
   ]
  },
  {
   "cell_type": "markdown",
   "metadata": {},
   "source": [
    "<h1> Evolucion precios"
   ]
  },
  {
   "cell_type": "code",
   "execution_count": null,
   "metadata": {},
   "outputs": [],
   "source": [
    "#datos de la web ministerio de agricultura, pesca y alimentacion\n",
    "years = [2018,2019,2020,2021,2022,2023]\n",
    "avg_carne = [6.69, 6.86,7.01, 7.17, 7.77,8.49]\n",
    "avg_pesca = [8.42, 8.66, 8.92, 9.30, 9.99, 10.53]\n",
    "avg_frut = [1.67,1.71, 1.83, 1.83, 2.03, 2.05]\n",
    "avg_ace = [3.81,3.21, 2.95, 3.31, 4.27, 6.54]"
   ]
  },
  {
   "cell_type": "code",
   "execution_count": null,
   "metadata": {},
   "outputs": [
    {
     "data": {
      "text/html": [
       "<div>\n",
       "<style scoped>\n",
       "    .dataframe tbody tr th:only-of-type {\n",
       "        vertical-align: middle;\n",
       "    }\n",
       "\n",
       "    .dataframe tbody tr th {\n",
       "        vertical-align: top;\n",
       "    }\n",
       "\n",
       "    .dataframe thead th {\n",
       "        text-align: right;\n",
       "    }\n",
       "</style>\n",
       "<table border=\"1\" class=\"dataframe\">\n",
       "  <thead>\n",
       "    <tr style=\"text-align: right;\">\n",
       "      <th></th>\n",
       "      <th>año</th>\n",
       "      <th>media carne</th>\n",
       "      <th>media pesca</th>\n",
       "      <th>media fruta</th>\n",
       "      <th>media aceite</th>\n",
       "    </tr>\n",
       "  </thead>\n",
       "  <tbody>\n",
       "    <tr>\n",
       "      <th>0</th>\n",
       "      <td>2018</td>\n",
       "      <td>6.69</td>\n",
       "      <td>8.42</td>\n",
       "      <td>1.67</td>\n",
       "      <td>3.81</td>\n",
       "    </tr>\n",
       "    <tr>\n",
       "      <th>1</th>\n",
       "      <td>2019</td>\n",
       "      <td>6.86</td>\n",
       "      <td>8.66</td>\n",
       "      <td>1.71</td>\n",
       "      <td>3.21</td>\n",
       "    </tr>\n",
       "    <tr>\n",
       "      <th>2</th>\n",
       "      <td>2020</td>\n",
       "      <td>7.01</td>\n",
       "      <td>8.92</td>\n",
       "      <td>1.83</td>\n",
       "      <td>2.95</td>\n",
       "    </tr>\n",
       "    <tr>\n",
       "      <th>3</th>\n",
       "      <td>2021</td>\n",
       "      <td>7.17</td>\n",
       "      <td>9.30</td>\n",
       "      <td>1.83</td>\n",
       "      <td>3.31</td>\n",
       "    </tr>\n",
       "    <tr>\n",
       "      <th>4</th>\n",
       "      <td>2022</td>\n",
       "      <td>7.77</td>\n",
       "      <td>9.99</td>\n",
       "      <td>2.03</td>\n",
       "      <td>4.27</td>\n",
       "    </tr>\n",
       "    <tr>\n",
       "      <th>5</th>\n",
       "      <td>2023</td>\n",
       "      <td>8.49</td>\n",
       "      <td>10.53</td>\n",
       "      <td>2.05</td>\n",
       "      <td>6.54</td>\n",
       "    </tr>\n",
       "  </tbody>\n",
       "</table>\n",
       "</div>"
      ],
      "text/plain": [
       "    año  media carne  media pesca  media fruta  media aceite\n",
       "0  2018         6.69         8.42         1.67          3.81\n",
       "1  2019         6.86         8.66         1.71          3.21\n",
       "2  2020         7.01         8.92         1.83          2.95\n",
       "3  2021         7.17         9.30         1.83          3.31\n",
       "4  2022         7.77         9.99         2.03          4.27\n",
       "5  2023         8.49        10.53         2.05          6.54"
      ]
     },
     "metadata": {},
     "output_type": "display_data"
    }
   ],
   "source": [
    "diccionario = {'año':years,\n",
    "                'media carne': avg_carne,\n",
    "                'media pesca': avg_pesca,\n",
    "                'media fruta': avg_frut,\n",
    "                'media aceite': avg_ace}\n",
    "\n",
    "evol = pd.DataFrame(diccionario)\n",
    "evol"
   ]
  },
  {
   "cell_type": "code",
   "execution_count": null,
   "metadata": {},
   "outputs": [
    {
     "name": "stdout",
     "output_type": "stream",
     "text": [
      "aumento carne 1.7999999999999998\n",
      "aumento pesca 2.1099999999999994\n",
      "aumento fruta 0.3799999999999999\n",
      "aumento aceite 3.59\n"
     ]
    }
   ],
   "source": [
    "print('aumento carne',evol.iloc[:,1].max()-evol.iloc[:,1].min())\n",
    "print('aumento pesca',evol.iloc[:,2].max()-evol.iloc[:,2].min())\n",
    "print('aumento fruta',evol.iloc[:,3].max()-evol.iloc[:,3].min())\n",
    "print('aumento aceite',evol.iloc[:,4].max()-evol.iloc[:,4].min())\n"
   ]
  },
  {
   "cell_type": "code",
   "execution_count": null,
   "metadata": {},
   "outputs": [
    {
     "data": {
      "application/vnd.plotly.v1+json": {
       "config": {
        "plotlyServerURL": "https://plot.ly"
       },
       "data": [
        {
         "marker": {
          "color": "rgba(198, 0, 32, 0.8)"
         },
         "mode": "lines+markers",
         "name": "Carne",
         "text": "Carne",
         "type": "scatter",
         "x": [
          2018,
          2019,
          2020,
          2021,
          2022,
          2023
         ],
         "y": [
          6.69,
          6.86,
          7.01,
          7.17,
          7.77,
          8.49
         ]
        },
        {
         "marker": {
          "color": "rgba(0, 0, 200, 0.8)"
         },
         "mode": "lines+markers",
         "name": "Pescado",
         "text": "Pescado",
         "type": "scatter",
         "x": [
          2018,
          2019,
          2020,
          2021,
          2022,
          2023
         ],
         "y": [
          8.42,
          8.66,
          8.92,
          9.3,
          9.99,
          10.53
         ]
        },
        {
         "marker": {
          "color": "rgba(0, 200, 0, 0.8)"
         },
         "mode": "lines+markers",
         "name": "Fruta y verdura",
         "text": "Fruta",
         "type": "scatter",
         "x": [
          2018,
          2019,
          2020,
          2021,
          2022,
          2023
         ],
         "y": [
          1.67,
          1.71,
          1.83,
          1.83,
          2.03,
          2.05
         ]
        },
        {
         "marker": {
          "color": "rgba(255, 190, 0, 0.8)"
         },
         "mode": "lines+markers",
         "name": "Aceite",
         "text": "Aceite",
         "type": "scatter",
         "x": [
          2018,
          2019,
          2020,
          2021,
          2022,
          2023
         ],
         "y": [
          3.81,
          3.21,
          2.95,
          3.31,
          4.27,
          6.54
         ]
        }
       ],
       "layout": {
        "legend": {
         "font": {
          "size": 20
         }
        },
        "template": {
         "data": {
          "bar": [
           {
            "error_x": {
             "color": "#2a3f5f"
            },
            "error_y": {
             "color": "#2a3f5f"
            },
            "marker": {
             "line": {
              "color": "#E5ECF6",
              "width": 0.5
             },
             "pattern": {
              "fillmode": "overlay",
              "size": 10,
              "solidity": 0.2
             }
            },
            "type": "bar"
           }
          ],
          "barpolar": [
           {
            "marker": {
             "line": {
              "color": "#E5ECF6",
              "width": 0.5
             },
             "pattern": {
              "fillmode": "overlay",
              "size": 10,
              "solidity": 0.2
             }
            },
            "type": "barpolar"
           }
          ],
          "carpet": [
           {
            "aaxis": {
             "endlinecolor": "#2a3f5f",
             "gridcolor": "white",
             "linecolor": "white",
             "minorgridcolor": "white",
             "startlinecolor": "#2a3f5f"
            },
            "baxis": {
             "endlinecolor": "#2a3f5f",
             "gridcolor": "white",
             "linecolor": "white",
             "minorgridcolor": "white",
             "startlinecolor": "#2a3f5f"
            },
            "type": "carpet"
           }
          ],
          "choropleth": [
           {
            "colorbar": {
             "outlinewidth": 0,
             "ticks": ""
            },
            "type": "choropleth"
           }
          ],
          "contour": [
           {
            "colorbar": {
             "outlinewidth": 0,
             "ticks": ""
            },
            "colorscale": [
             [
              0,
              "#0d0887"
             ],
             [
              0.1111111111111111,
              "#46039f"
             ],
             [
              0.2222222222222222,
              "#7201a8"
             ],
             [
              0.3333333333333333,
              "#9c179e"
             ],
             [
              0.4444444444444444,
              "#bd3786"
             ],
             [
              0.5555555555555556,
              "#d8576b"
             ],
             [
              0.6666666666666666,
              "#ed7953"
             ],
             [
              0.7777777777777778,
              "#fb9f3a"
             ],
             [
              0.8888888888888888,
              "#fdca26"
             ],
             [
              1,
              "#f0f921"
             ]
            ],
            "type": "contour"
           }
          ],
          "contourcarpet": [
           {
            "colorbar": {
             "outlinewidth": 0,
             "ticks": ""
            },
            "type": "contourcarpet"
           }
          ],
          "heatmap": [
           {
            "colorbar": {
             "outlinewidth": 0,
             "ticks": ""
            },
            "colorscale": [
             [
              0,
              "#0d0887"
             ],
             [
              0.1111111111111111,
              "#46039f"
             ],
             [
              0.2222222222222222,
              "#7201a8"
             ],
             [
              0.3333333333333333,
              "#9c179e"
             ],
             [
              0.4444444444444444,
              "#bd3786"
             ],
             [
              0.5555555555555556,
              "#d8576b"
             ],
             [
              0.6666666666666666,
              "#ed7953"
             ],
             [
              0.7777777777777778,
              "#fb9f3a"
             ],
             [
              0.8888888888888888,
              "#fdca26"
             ],
             [
              1,
              "#f0f921"
             ]
            ],
            "type": "heatmap"
           }
          ],
          "heatmapgl": [
           {
            "colorbar": {
             "outlinewidth": 0,
             "ticks": ""
            },
            "colorscale": [
             [
              0,
              "#0d0887"
             ],
             [
              0.1111111111111111,
              "#46039f"
             ],
             [
              0.2222222222222222,
              "#7201a8"
             ],
             [
              0.3333333333333333,
              "#9c179e"
             ],
             [
              0.4444444444444444,
              "#bd3786"
             ],
             [
              0.5555555555555556,
              "#d8576b"
             ],
             [
              0.6666666666666666,
              "#ed7953"
             ],
             [
              0.7777777777777778,
              "#fb9f3a"
             ],
             [
              0.8888888888888888,
              "#fdca26"
             ],
             [
              1,
              "#f0f921"
             ]
            ],
            "type": "heatmapgl"
           }
          ],
          "histogram": [
           {
            "marker": {
             "pattern": {
              "fillmode": "overlay",
              "size": 10,
              "solidity": 0.2
             }
            },
            "type": "histogram"
           }
          ],
          "histogram2d": [
           {
            "colorbar": {
             "outlinewidth": 0,
             "ticks": ""
            },
            "colorscale": [
             [
              0,
              "#0d0887"
             ],
             [
              0.1111111111111111,
              "#46039f"
             ],
             [
              0.2222222222222222,
              "#7201a8"
             ],
             [
              0.3333333333333333,
              "#9c179e"
             ],
             [
              0.4444444444444444,
              "#bd3786"
             ],
             [
              0.5555555555555556,
              "#d8576b"
             ],
             [
              0.6666666666666666,
              "#ed7953"
             ],
             [
              0.7777777777777778,
              "#fb9f3a"
             ],
             [
              0.8888888888888888,
              "#fdca26"
             ],
             [
              1,
              "#f0f921"
             ]
            ],
            "type": "histogram2d"
           }
          ],
          "histogram2dcontour": [
           {
            "colorbar": {
             "outlinewidth": 0,
             "ticks": ""
            },
            "colorscale": [
             [
              0,
              "#0d0887"
             ],
             [
              0.1111111111111111,
              "#46039f"
             ],
             [
              0.2222222222222222,
              "#7201a8"
             ],
             [
              0.3333333333333333,
              "#9c179e"
             ],
             [
              0.4444444444444444,
              "#bd3786"
             ],
             [
              0.5555555555555556,
              "#d8576b"
             ],
             [
              0.6666666666666666,
              "#ed7953"
             ],
             [
              0.7777777777777778,
              "#fb9f3a"
             ],
             [
              0.8888888888888888,
              "#fdca26"
             ],
             [
              1,
              "#f0f921"
             ]
            ],
            "type": "histogram2dcontour"
           }
          ],
          "mesh3d": [
           {
            "colorbar": {
             "outlinewidth": 0,
             "ticks": ""
            },
            "type": "mesh3d"
           }
          ],
          "parcoords": [
           {
            "line": {
             "colorbar": {
              "outlinewidth": 0,
              "ticks": ""
             }
            },
            "type": "parcoords"
           }
          ],
          "pie": [
           {
            "automargin": true,
            "type": "pie"
           }
          ],
          "scatter": [
           {
            "fillpattern": {
             "fillmode": "overlay",
             "size": 10,
             "solidity": 0.2
            },
            "type": "scatter"
           }
          ],
          "scatter3d": [
           {
            "line": {
             "colorbar": {
              "outlinewidth": 0,
              "ticks": ""
             }
            },
            "marker": {
             "colorbar": {
              "outlinewidth": 0,
              "ticks": ""
             }
            },
            "type": "scatter3d"
           }
          ],
          "scattercarpet": [
           {
            "marker": {
             "colorbar": {
              "outlinewidth": 0,
              "ticks": ""
             }
            },
            "type": "scattercarpet"
           }
          ],
          "scattergeo": [
           {
            "marker": {
             "colorbar": {
              "outlinewidth": 0,
              "ticks": ""
             }
            },
            "type": "scattergeo"
           }
          ],
          "scattergl": [
           {
            "marker": {
             "colorbar": {
              "outlinewidth": 0,
              "ticks": ""
             }
            },
            "type": "scattergl"
           }
          ],
          "scattermapbox": [
           {
            "marker": {
             "colorbar": {
              "outlinewidth": 0,
              "ticks": ""
             }
            },
            "type": "scattermapbox"
           }
          ],
          "scatterpolar": [
           {
            "marker": {
             "colorbar": {
              "outlinewidth": 0,
              "ticks": ""
             }
            },
            "type": "scatterpolar"
           }
          ],
          "scatterpolargl": [
           {
            "marker": {
             "colorbar": {
              "outlinewidth": 0,
              "ticks": ""
             }
            },
            "type": "scatterpolargl"
           }
          ],
          "scatterternary": [
           {
            "marker": {
             "colorbar": {
              "outlinewidth": 0,
              "ticks": ""
             }
            },
            "type": "scatterternary"
           }
          ],
          "surface": [
           {
            "colorbar": {
             "outlinewidth": 0,
             "ticks": ""
            },
            "colorscale": [
             [
              0,
              "#0d0887"
             ],
             [
              0.1111111111111111,
              "#46039f"
             ],
             [
              0.2222222222222222,
              "#7201a8"
             ],
             [
              0.3333333333333333,
              "#9c179e"
             ],
             [
              0.4444444444444444,
              "#bd3786"
             ],
             [
              0.5555555555555556,
              "#d8576b"
             ],
             [
              0.6666666666666666,
              "#ed7953"
             ],
             [
              0.7777777777777778,
              "#fb9f3a"
             ],
             [
              0.8888888888888888,
              "#fdca26"
             ],
             [
              1,
              "#f0f921"
             ]
            ],
            "type": "surface"
           }
          ],
          "table": [
           {
            "cells": {
             "fill": {
              "color": "#EBF0F8"
             },
             "line": {
              "color": "white"
             }
            },
            "header": {
             "fill": {
              "color": "#C8D4E3"
             },
             "line": {
              "color": "white"
             }
            },
            "type": "table"
           }
          ]
         },
         "layout": {
          "annotationdefaults": {
           "arrowcolor": "#2a3f5f",
           "arrowhead": 0,
           "arrowwidth": 1
          },
          "autotypenumbers": "strict",
          "coloraxis": {
           "colorbar": {
            "outlinewidth": 0,
            "ticks": ""
           }
          },
          "colorscale": {
           "diverging": [
            [
             0,
             "#8e0152"
            ],
            [
             0.1,
             "#c51b7d"
            ],
            [
             0.2,
             "#de77ae"
            ],
            [
             0.3,
             "#f1b6da"
            ],
            [
             0.4,
             "#fde0ef"
            ],
            [
             0.5,
             "#f7f7f7"
            ],
            [
             0.6,
             "#e6f5d0"
            ],
            [
             0.7,
             "#b8e186"
            ],
            [
             0.8,
             "#7fbc41"
            ],
            [
             0.9,
             "#4d9221"
            ],
            [
             1,
             "#276419"
            ]
           ],
           "sequential": [
            [
             0,
             "#0d0887"
            ],
            [
             0.1111111111111111,
             "#46039f"
            ],
            [
             0.2222222222222222,
             "#7201a8"
            ],
            [
             0.3333333333333333,
             "#9c179e"
            ],
            [
             0.4444444444444444,
             "#bd3786"
            ],
            [
             0.5555555555555556,
             "#d8576b"
            ],
            [
             0.6666666666666666,
             "#ed7953"
            ],
            [
             0.7777777777777778,
             "#fb9f3a"
            ],
            [
             0.8888888888888888,
             "#fdca26"
            ],
            [
             1,
             "#f0f921"
            ]
           ],
           "sequentialminus": [
            [
             0,
             "#0d0887"
            ],
            [
             0.1111111111111111,
             "#46039f"
            ],
            [
             0.2222222222222222,
             "#7201a8"
            ],
            [
             0.3333333333333333,
             "#9c179e"
            ],
            [
             0.4444444444444444,
             "#bd3786"
            ],
            [
             0.5555555555555556,
             "#d8576b"
            ],
            [
             0.6666666666666666,
             "#ed7953"
            ],
            [
             0.7777777777777778,
             "#fb9f3a"
            ],
            [
             0.8888888888888888,
             "#fdca26"
            ],
            [
             1,
             "#f0f921"
            ]
           ]
          },
          "colorway": [
           "#636efa",
           "#EF553B",
           "#00cc96",
           "#ab63fa",
           "#FFA15A",
           "#19d3f3",
           "#FF6692",
           "#B6E880",
           "#FF97FF",
           "#FECB52"
          ],
          "font": {
           "color": "#2a3f5f"
          },
          "geo": {
           "bgcolor": "white",
           "lakecolor": "white",
           "landcolor": "#E5ECF6",
           "showlakes": true,
           "showland": true,
           "subunitcolor": "white"
          },
          "hoverlabel": {
           "align": "left"
          },
          "hovermode": "closest",
          "mapbox": {
           "style": "light"
          },
          "paper_bgcolor": "white",
          "plot_bgcolor": "#E5ECF6",
          "polar": {
           "angularaxis": {
            "gridcolor": "white",
            "linecolor": "white",
            "ticks": ""
           },
           "bgcolor": "#E5ECF6",
           "radialaxis": {
            "gridcolor": "white",
            "linecolor": "white",
            "ticks": ""
           }
          },
          "scene": {
           "xaxis": {
            "backgroundcolor": "#E5ECF6",
            "gridcolor": "white",
            "gridwidth": 2,
            "linecolor": "white",
            "showbackground": true,
            "ticks": "",
            "zerolinecolor": "white"
           },
           "yaxis": {
            "backgroundcolor": "#E5ECF6",
            "gridcolor": "white",
            "gridwidth": 2,
            "linecolor": "white",
            "showbackground": true,
            "ticks": "",
            "zerolinecolor": "white"
           },
           "zaxis": {
            "backgroundcolor": "#E5ECF6",
            "gridcolor": "white",
            "gridwidth": 2,
            "linecolor": "white",
            "showbackground": true,
            "ticks": "",
            "zerolinecolor": "white"
           }
          },
          "shapedefaults": {
           "line": {
            "color": "#2a3f5f"
           }
          },
          "ternary": {
           "aaxis": {
            "gridcolor": "white",
            "linecolor": "white",
            "ticks": ""
           },
           "baxis": {
            "gridcolor": "white",
            "linecolor": "white",
            "ticks": ""
           },
           "bgcolor": "#E5ECF6",
           "caxis": {
            "gridcolor": "white",
            "linecolor": "white",
            "ticks": ""
           }
          },
          "title": {
           "x": 0.05
          },
          "xaxis": {
           "automargin": true,
           "gridcolor": "white",
           "linecolor": "white",
           "ticks": "",
           "title": {
            "standoff": 15
           },
           "zerolinecolor": "white",
           "zerolinewidth": 2
          },
          "yaxis": {
           "automargin": true,
           "gridcolor": "white",
           "linecolor": "white",
           "ticks": "",
           "title": {
            "standoff": 15
           },
           "zerolinecolor": "white",
           "zerolinewidth": 2
          }
         }
        },
        "title": {
         "text": "Subida de precios"
        },
        "width": 800,
        "xaxis": {
         "nticks": 6,
         "tickfont": {
          "size": 20
         },
         "title": {
          "text": "Años"
         }
        },
        "yaxis": {
         "nticks": 10,
         "tickfont": {
          "size": 20
         },
         "title": {
          "text": "Precio medio  €/kg"
         }
        }
       }
      }
     },
     "metadata": {},
     "output_type": "display_data"
    }
   ],
   "source": [
    "trace1 = go.Scatter(\n",
    "                    x = years,\n",
    "                    y = avg_carne,\n",
    "                    name = 'Carne',\n",
    "                    mode= 'lines+markers',\n",
    "                    marker = dict(color = 'rgba(198, 0, 32, 0.8)'),\n",
    "                    text = 'Carne')\n",
    "\n",
    "\n",
    "trace2 = go.Scatter(\n",
    "                    x = years,\n",
    "                    y = avg_pesca,\n",
    "                    name = 'Pescado',\n",
    "                    mode= 'lines+markers',\n",
    "                    marker = dict(color = 'rgba(0, 0, 200, 0.8)'),\n",
    "                    text = 'Pescado')\n",
    "\n",
    "\n",
    "trace3 = go.Scatter(\n",
    "                    x = years,\n",
    "                    y = avg_frut,\n",
    "                    name = 'Fruta y verdura',\n",
    "                    mode= 'lines+markers',\n",
    "                    marker = dict(color = 'rgba(0, 200, 0, 0.8)'),\n",
    "                    text = 'Fruta')\n",
    "\n",
    "\n",
    "trace4 = go.Scatter(\n",
    "                    x = years,\n",
    "                    y = avg_ace,\n",
    "                    name = 'Aceite',\n",
    "                    mode= 'lines+markers',\n",
    "                    marker = dict(color = 'rgba(255, 190, 0, 0.8)'),\n",
    "                    text = 'Aceite')\n",
    "\n",
    "\n",
    "data = [trace1, trace2, trace3, trace4]\n",
    "\n",
    "layout = dict(title = 'Subida de precios',\n",
    "             xaxis= dict(title= 'Años', nticks=6, tickfont=dict(size=20)),  \n",
    "             yaxis=dict(title= 'Precio medio  €/kg',nticks=10,tickfont=dict(size=20)),\n",
    "             width=800,\n",
    "             legend=dict(font=dict(size=20))\n",
    "           )\n",
    "\n",
    "fig = go.Figure(data = data, layout=layout)\n",
    "\n",
    "fig"
   ]
  }
 ],
 "metadata": {
  "kernelspec": {
   "display_name": "eda_env",
   "language": "python",
   "name": "python3"
  },
  "language_info": {
   "codemirror_mode": {
    "name": "ipython",
    "version": 3
   },
   "file_extension": ".py",
   "mimetype": "text/x-python",
   "name": "python",
   "nbconvert_exporter": "python",
   "pygments_lexer": "ipython3",
   "version": "3.9.18"
  }
 },
 "nbformat": 4,
 "nbformat_minor": 2
}
